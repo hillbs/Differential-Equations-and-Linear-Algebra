{
 "metadata": {
  "name": "",
  "signature": "sha256:f19e7441537c3a2cc4d47b97a2b9d198de2ef91f4f4490efbde1db33fb4feace"
 },
 "nbformat": 3,
 "nbformat_minor": 0,
 "worksheets": [
  {
   "cells": [
    {
     "cell_type": "heading",
     "level": 1,
     "metadata": {},
     "source": [
      "Laplace's equation in finite elements"
     ]
    },
    {
     "cell_type": "heading",
     "level": 5,
     "metadata": {},
     "source": [
      "credit to Prof G Strang 18.085, Lecture 24"
     ]
    },
    {
     "cell_type": "code",
     "collapsed": false,
     "input": [
      "from sympy import *\n",
      "init_session()\n",
      "x, y = symbols('x y', real=True)\n",
      "Uxx, Uyy, U = symbols('U_xx U_yy U')"
     ],
     "language": "python",
     "metadata": {},
     "outputs": [
      {
       "output_type": "stream",
       "stream": "stdout",
       "text": [
        "IPython console for SymPy 0.7.6 (Python 2.7.6-64-bit) (ground types: python)\n",
        "\n",
        "These commands were executed:\n",
        ">>> from __future__ import division\n",
        ">>> from sympy import *\n",
        ">>> x, y, z, t = symbols('x y z t')\n",
        ">>> k, m, n = symbols('k m n', integer=True)\n",
        ">>> f, g, h = symbols('f g h', cls=Function)\n",
        ">>> init_printing()\n",
        "\n",
        "Documentation can be found at http://www.sympy.org\n"
       ]
      }
     ],
     "prompt_number": 1
    },
    {
     "cell_type": "code",
     "collapsed": false,
     "input": [
      "#Just a notation format.\n",
      "abs(exp(I)).expand(complex=True)"
     ],
     "language": "python",
     "metadata": {},
     "outputs": [
      {
       "latex": [
        "$$\\sqrt{\\cos^{2}{\\left (1 \\right )} + \\sin^{2}{\\left (1 \\right )}}$$"
       ],
       "metadata": {},
       "output_type": "pyout",
       "png": "[encoded data removed]",
       "prompt_number": 2,
       "text": [
        "   ___________________\n",
        "  \u2571    2         2    \n",
        "\u2572\u2571  cos (1) + sin (1) "
       ]
      }
     ],
     "prompt_number": 2
    },
    {
     "cell_type": "code",
     "collapsed": false,
     "input": [
      "#First, create a general U that solves Laplace's equation.\n",
      "#This comes from an expansion using sines and cosines.\n",
      "U = (x+I*y)**n\n",
      "U"
     ],
     "language": "python",
     "metadata": {},
     "outputs": [
      {
       "latex": [
        "$$\\left(x + i y\\right)^{n}$$"
       ],
       "metadata": {},
       "output_type": "pyout",
       "png": "[encoded data removed]",
       "prompt_number": 3,
       "text": [
        "         n\n",
        "(x + \u2148\u22c5y) "
       ]
      }
     ],
     "prompt_number": 3
    },
    {
     "cell_type": "code",
     "collapsed": false,
     "input": [
      "#Take the second derivative to test this solves Laplace's equation for Uxx.\n",
      "Uxx = diff(U,x,2).doit()\n",
      "simplify(Uxx)"
     ],
     "language": "python",
     "metadata": {},
     "outputs": [
      {
       "latex": [
        "$$n \\left(n - 1\\right) \\left(x + i y\\right)^{n - 2}$$"
       ],
       "metadata": {},
       "output_type": "pyout",
       "png": "[encoded data removed]",
       "prompt_number": 4,
       "text": [
        "                   n - 2\n",
        "n\u22c5(n - 1)\u22c5(x + \u2148\u22c5y)     "
       ]
      }
     ],
     "prompt_number": 4
    },
    {
     "cell_type": "code",
     "collapsed": false,
     "input": [
      "#Now do Uyy, noting that the i creats the negative value. \n",
      "Uyy = diff(U,y,2)\n",
      "simplify(Uyy)"
     ],
     "language": "python",
     "metadata": {},
     "outputs": [
      {
       "latex": [
        "$$- n \\left(n - 1\\right) \\left(x + i y\\right)^{n - 2}$$"
       ],
       "metadata": {},
       "output_type": "pyout",
       "png": "[encoded data removed]",
       "prompt_number": 5,
       "text": [
        "                    n - 2\n",
        "-n\u22c5(n - 1)\u22c5(x + \u2148\u22c5y)     "
       ]
      }
     ],
     "prompt_number": 5
    },
    {
     "cell_type": "code",
     "collapsed": false,
     "input": [
      "F = exp(x+I*y)\n",
      "F"
     ],
     "language": "python",
     "metadata": {},
     "outputs": [
      {
       "latex": [
        "$$e^{x + i y}$$"
       ],
       "metadata": {},
       "output_type": "pyout",
       "png": "[encoded data removed]",
       "prompt_number": 6,
       "text": [
        " x + \u2148\u22c5y\n",
        "\u212f       "
       ]
      }
     ],
     "prompt_number": 6
    },
    {
     "cell_type": "code",
     "collapsed": false,
     "input": [
      "x,y,F"
     ],
     "language": "python",
     "metadata": {},
     "outputs": [
      {
       "latex": [
        "$$\\left ( x, \\quad y, \\quad e^{x + i y}\\right )$$"
       ],
       "metadata": {},
       "output_type": "pyout",
       "png": "[encoded data removed]",
       "prompt_number": 7,
       "text": [
        "\u239b       x + \u2148\u22c5y\u239e\n",
        "\u239dx, y, \u212f       \u23a0"
       ]
      }
     ],
     "prompt_number": 7
    },
    {
     "cell_type": "code",
     "collapsed": false,
     "input": [
      "#When this is factored for e**x and expanded as a complex number, it results in the following.\n",
      "ez = F.expand(complex=True).factor()\n",
      "ez"
     ],
     "language": "python",
     "metadata": {},
     "outputs": [
      {
       "latex": [
        "$$\\left(i \\sin{\\left (y \\right )} + \\cos{\\left (y \\right )}\\right) e^{x}$$"
       ],
       "metadata": {},
       "output_type": "pyout",
       "png": "[encoded data removed]",
       "prompt_number": 8,
       "text": [
        "                     x\n",
        "(\u2148\u22c5sin(y) + cos(y))\u22c5\u212f "
       ]
      }
     ],
     "prompt_number": 8
    },
    {
     "cell_type": "code",
     "collapsed": false,
     "input": [
      "series(ez,y)"
     ],
     "language": "python",
     "metadata": {},
     "outputs": [
      {
       "latex": [
        "$$e^{x} + i y e^{x} - \\frac{y^{2} e^{x}}{2} - \\frac{i y^{3}}{6} e^{x} + \\frac{y^{4} e^{x}}{24} + \\frac{i y^{5}}{120} e^{x} + \\mathcal{O}\\left(y^{6}\\right)$$"
       ],
       "metadata": {},
       "output_type": "pyout",
       "png": "[encoded data removed]",
       "prompt_number": 9,
       "text": [
        "               2  x      3  x    4  x      5  x        \n",
        " x        x   y \u22c5\u212f    \u2148\u22c5y \u22c5\u212f    y \u22c5\u212f    \u2148\u22c5y \u22c5\u212f     \u239b 6\u239e\n",
        "\u212f  + \u2148\u22c5y\u22c5\u212f  - \u2500\u2500\u2500\u2500\u2500 - \u2500\u2500\u2500\u2500\u2500\u2500\u2500 + \u2500\u2500\u2500\u2500\u2500 + \u2500\u2500\u2500\u2500\u2500\u2500\u2500 + O\u239dy \u23a0\n",
        "                2        6        24      120          "
       ]
      }
     ],
     "prompt_number": 9
    },
    {
     "cell_type": "markdown",
     "metadata": {},
     "source": [
      "The function e**z is an analytic function; the real and imaginary parts are harmonic functions. "
     ]
    },
    {
     "cell_type": "code",
     "collapsed": false,
     "input": [
      "#Now look at another example, the log of e**z\n",
      "ez2 = log(x+I*y)\n",
      "#Rewrite in a usable product form using polar coordinates\n",
      "r, theta = symbols('r theta', real=True)\n",
      "ez2 = log(r*exp(I*theta))\n",
      "ez2"
     ],
     "language": "python",
     "metadata": {},
     "outputs": [
      {
       "latex": [
        "$$\\log{\\left (r e^{i \\theta} \\right )}$$"
       ],
       "metadata": {},
       "output_type": "pyout",
       "png": "[encoded data removed]",
       "prompt_number": 10,
       "text": [
        "   \u239b   \u2148\u22c5\u03b8\u239e\n",
        "log\u239dr\u22c5\u212f   \u23a0"
       ]
      }
     ],
     "prompt_number": 10
    },
    {
     "cell_type": "code",
     "collapsed": false,
     "input": [
      "ez2 = ez2.expand(complex=True)\n",
      "ez2"
     ],
     "language": "python",
     "metadata": {},
     "outputs": [
      {
       "latex": [
        "$$\\log{\\left (\\sqrt{r^{2} \\sin^{2}{\\left (\\theta \\right )} + r^{2} \\cos^{2}{\\left (\\theta \\right )}} \\right )} + i \\arg{\\left (r \\left(i \\sin{\\left (\\theta \\right )} + \\cos{\\left (\\theta \\right )}\\right) \\right )}$$"
       ],
       "metadata": {},
       "output_type": "pyout",
       "png": "[encoded data removed]",
       "prompt_number": 11,
       "text": [
        "   \u239b   _________________________\u239e                               \n",
        "   \u239c  \u2571  2    2       2    2    \u239f                               \n",
        "log\u239d\u2572\u2571  r \u22c5sin (\u03b8) + r \u22c5cos (\u03b8) \u23a0 + \u2148\u22c5arg(r\u22c5(\u2148\u22c5sin(\u03b8) + cos(\u03b8)))"
       ]
      }
     ],
     "prompt_number": 11
    },
    {
     "cell_type": "markdown",
     "metadata": {},
     "source": [
      "Note that this is the real part, the length and the angle theta. The equipotential lines are circles with radius r. Streamlines are radial lines, theta. There is is a source or sink at (0,0). Using the divergence theorem, this can be shown. "
     ]
    },
    {
     "cell_type": "code",
     "collapsed": false,
     "input": [
      "ez2.simplify()"
     ],
     "language": "python",
     "metadata": {},
     "outputs": [
      {
       "latex": [
        "$$\\log{\\left (\\left\\lvert{r}\\right\\rvert \\right )} + i \\arg{\\left (r e^{i \\theta} \\right )}$$"
       ],
       "metadata": {},
       "output_type": "pyout",
       "png": "[encoded data removed]",
       "prompt_number": 12,
       "text": [
        "                \u239b   \u2148\u22c5\u03b8\u239e\n",
        "log(\u2502r\u2502) + \u2148\u22c5arg\u239dr\u22c5\u212f   \u23a0"
       ]
      }
     ],
     "prompt_number": 12
    },
    {
     "cell_type": "code",
     "collapsed": false,
     "input": [
      "Source = Integral(log(r*exp(I*theta)), (theta, 0, 2*pi), (r, 0, 1)).doit()\n",
      "re(Source),Source"
     ],
     "language": "python",
     "metadata": {},
     "outputs": [
      {
       "latex": [
        "$$\\left ( - 2 \\pi, \\quad - 2 \\pi + 2 i \\pi^{2}\\right )$$"
       ],
       "metadata": {},
       "output_type": "pyout",
       "png": "[encoded data removed]",
       "prompt_number": 13,
       "text": [
        "\u239b                  2\u239e\n",
        "\u239d-2\u22c5\u03c0, -2\u22c5\u03c0 + 2\u22c5\u2148\u22c5\u03c0 \u23a0"
       ]
      }
     ],
     "prompt_number": 13
    },
    {
     "cell_type": "markdown",
     "metadata": {},
     "source": [
      "2*pi is the magnitude of the source function.This is the solution to the Poisson equation when the source is a delta function.\n",
      "It gives Green's function, U=ln(r)/2*pi. "
     ]
    },
    {
     "cell_type": "code",
     "collapsed": false,
     "input": [
      "Green = re(ez2.simplify())/re(Source)\n",
      "Green"
     ],
     "language": "python",
     "metadata": {},
     "outputs": [
      {
       "latex": [
        "$$- \\frac{\\log{\\left (\\left\\lvert{r}\\right\\rvert \\right )}}{2 \\pi}$$"
       ],
       "metadata": {},
       "output_type": "pyout",
       "png": "[encoded data removed]",
       "prompt_number": 14,
       "text": [
        "-log(\u2502r\u2502) \n",
        "\u2500\u2500\u2500\u2500\u2500\u2500\u2500\u2500\u2500\u2500\n",
        "   2\u22c5\u03c0    "
       ]
      }
     ],
     "prompt_number": 14
    },
    {
     "cell_type": "code",
     "collapsed": false,
     "input": [
      "Green.subs(r,10.)"
     ],
     "language": "python",
     "metadata": {},
     "outputs": [
      {
       "latex": [
        "$$- \\frac{1.15129254649702}{\\pi}$$"
       ],
       "metadata": {},
       "output_type": "pyout",
       "png": "[encoded data removed]",
       "prompt_number": 15,
       "text": [
        "-1.15129254649702 \n",
        "\u2500\u2500\u2500\u2500\u2500\u2500\u2500\u2500\u2500\u2500\u2500\u2500\u2500\u2500\u2500\u2500\u2500\u2500\n",
        "        \u03c0         "
       ]
      }
     ],
     "prompt_number": 15
    },
    {
     "cell_type": "code",
     "collapsed": false,
     "input": [
      "#This is the equation written out; not at all easy to solve analytically.\n",
      "P = Eq(diff(f(x,y),x,2)+diff(f(x,y),y,2),DiracDelta(x))\n",
      "P"
     ],
     "language": "python",
     "metadata": {},
     "outputs": [
      {
       "latex": [
        "$$\\frac{\\partial^{2}}{\\partial x^{2}}  f{\\left (x,y \\right )} + \\frac{\\partial^{2}}{\\partial y^{2}}  f{\\left (x,y \\right )} = \\delta\\left(x\\right)$$"
       ],
       "metadata": {},
       "output_type": "pyout",
       "png": "[encoded data removed]",
       "prompt_number": 16,
       "text": [
        "  2              2                         \n",
        " \u2202              \u2202                          \n",
        "\u2500\u2500\u2500(f(x, y)) + \u2500\u2500\u2500(f(x, y)) = DiracDelta(x)\n",
        "  2              2                         \n",
        "\u2202x             \u2202y                          "
       ]
      }
     ],
     "prompt_number": 16
    },
    {
     "cell_type": "code",
     "collapsed": false,
     "input": [
      "from sympy.integrals.deltafunctions import *\n",
      "deltaintegrate(cos(x)*DiracDelta(x ), x)"
     ],
     "language": "python",
     "metadata": {},
     "outputs": [
      {
       "latex": [
        "$$\\theta\\left(x\\right)$$"
       ],
       "metadata": {},
       "output_type": "pyout",
       "png": "[encoded data removed]",
       "prompt_number": 17,
       "text": [
        "Heaviside(x)"
       ]
      }
     ],
     "prompt_number": 17
    },
    {
     "cell_type": "heading",
     "level": 3,
     "metadata": {},
     "source": [
      "Gradient, Divergence, Curl and Laplacian"
     ]
    },
    {
     "cell_type": "markdown",
     "metadata": {},
     "source": [
      "Here is a cool set of code to calculate grad, div, Laplacian and curl. \n",
      "Thanks to https://avigallen.files.wordpress.com/2014/02/vector-calculus1.pdf"
     ]
    },
    {
     "cell_type": "code",
     "collapsed": false,
     "input": [
      "x,y,z,f1,f2,f3 = symbols('x,y,z,f1,f2,f3') \n",
      "X = [x,y,z]\n",
      "def grad(f,n): \n",
      "    a=[]\n",
      "    for x in X: \n",
      "        a.append(f.diff(x,n))\n",
      "    return a \n",
      "def Div(Q):\n",
      "    f1 = Q[0] \n",
      "    f2 = Q[1] \n",
      "    f3 = Q[2]\n",
      "    return f1.diff(x) + f2.diff(y) + f3.diff(z) \n",
      "def Laplacian(f):\n",
      "    return Div(grad(f,1)) \n",
      "def curl(Q):\n",
      "    f1 = Q[0] \n",
      "    f2 = Q[1] \n",
      "    f3 = Q[2]\n",
      "    return [f3.diff(y) - f2.diff(z), f1.diff(z) - f3.diff(x), f2.diff(x) - f1.diff(y)]"
     ],
     "language": "python",
     "metadata": {},
     "outputs": [],
     "prompt_number": 18
    },
    {
     "cell_type": "code",
     "collapsed": false,
     "input": [
      "f = x*y*z #from Example4 p.275 of Strang.\n",
      "gradu = grad(f,1)\n",
      "gradu"
     ],
     "language": "python",
     "metadata": {},
     "outputs": [
      {
       "latex": [
        "$$\\left [ y z, \\quad x z, \\quad x y\\right ]$$"
       ],
       "metadata": {},
       "output_type": "pyout",
       "png": "[encoded data removed]",
       "prompt_number": 19,
       "text": [
        "[y\u22c5z, x\u22c5z, x\u22c5y]"
       ]
      }
     ],
     "prompt_number": 19
    },
    {
     "cell_type": "code",
     "collapsed": false,
     "input": [
      "Div(gradu) # should be 0."
     ],
     "language": "python",
     "metadata": {},
     "outputs": [
      {
       "latex": [
        "$$0$$"
       ],
       "metadata": {},
       "output_type": "pyout",
       "png": "[encoded data removed]",
       "prompt_number": 20,
       "text": [
        "0"
       ]
      }
     ],
     "prompt_number": 20
    },
    {
     "cell_type": "code",
     "collapsed": false,
     "input": [
      "curl(gradu)"
     ],
     "language": "python",
     "metadata": {},
     "outputs": [
      {
       "latex": [
        "$$\\left [ 0, \\quad 0, \\quad 0\\right ]$$"
       ],
       "metadata": {},
       "output_type": "pyout",
       "png": "[encoded data removed]",
       "prompt_number": 21,
       "text": [
        "[0, 0, 0]"
       ]
      }
     ],
     "prompt_number": 21
    },
    {
     "cell_type": "code",
     "collapsed": false,
     "input": [
      "grad(x**2-y**2,1) #Example 1 p.269 of Strang. "
     ],
     "language": "python",
     "metadata": {},
     "outputs": [
      {
       "latex": [
        "$$\\left [ 2 x, \\quad - 2 y, \\quad 0\\right ]$$"
       ],
       "metadata": {},
       "output_type": "pyout",
       "png": "[encoded data removed]",
       "prompt_number": 22,
       "text": [
        "[2\u22c5x, -2\u22c5y, 0]"
       ]
      }
     ],
     "prompt_number": 22
    },
    {
     "cell_type": "markdown",
     "metadata": {},
     "source": [
      "For some beautiful demonstrations of streamlines, this ipynb has simple and superb examples: http://tonysyu.github.io/plotting-streamlines-with-matplotlib-and-sympy.html#.VMg0isYQmWY"
     ]
    },
    {
     "cell_type": "code",
     "collapsed": false,
     "input": [],
     "language": "python",
     "metadata": {},
     "outputs": [],
     "prompt_number": 22
    }
   ],
   "metadata": {}
  }
 ]
}