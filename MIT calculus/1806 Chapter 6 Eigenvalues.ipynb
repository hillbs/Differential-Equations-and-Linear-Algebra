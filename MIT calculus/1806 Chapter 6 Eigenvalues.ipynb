{
 "metadata": {
  "name": "",
  "signature": "sha256:d60c74c32c864d51e4701843f4dbb9e9dd4923a9bdbd92b539183ee0067e99bc"
 },
 "nbformat": 3,
 "nbformat_minor": 0,
 "worksheets": [
  {
   "cells": [
    {
     "cell_type": "heading",
     "level": 1,
     "metadata": {},
     "source": [
      "1806 Chapter 6: Eigenvalues and Eigenvectors"
     ]
    },
    {
     "cell_type": "markdown",
     "metadata": {},
     "source": [
      "This chapter cuts to the heart of a lot of linear algebra and is worth reviewing until the material is fully embedded. As a consequence, it is important to also review the lecture material from Prof Strang. "
     ]
    },
    {
     "cell_type": "code",
     "collapsed": false,
     "input": [
      "from IPython.display import YouTubeVideo\n",
      "# Eigenvectors and eigenvalues"
     ],
     "language": "python",
     "metadata": {},
     "outputs": [],
     "prompt_number": 98
    },
    {
     "cell_type": "code",
     "collapsed": false,
     "input": [
      "#Determinents and their properties L18.\n",
      "YouTubeVideo('srxexLishgY')"
     ],
     "language": "python",
     "metadata": {},
     "outputs": [
      {
       "html": [
        "\n",
        "        <iframe\n",
        "            width=\"400\"\n",
        "            height=300\"\n",
        "            src=\"https://www.youtube.com/embed/srxexLishgY\"\n",
        "            frameborder=\"0\"\n",
        "            allowfullscreen\n",
        "        ></iframe>\n",
        "        "
       ],
       "metadata": {},
       "output_type": "pyout",
       "prompt_number": 99,
       "text": [
        "<IPython.lib.display.YouTubeVideo at 0x10de62b10>"
       ]
      }
     ],
     "prompt_number": 99
    },
    {
     "cell_type": "code",
     "collapsed": false,
     "input": [
      "#Determinents L.19\n",
      "YouTubeVideo('23LLB9mNJvc')"
     ],
     "language": "python",
     "metadata": {},
     "outputs": [
      {
       "html": [
        "\n",
        "        <iframe\n",
        "            width=\"400\"\n",
        "            height=300\"\n",
        "            src=\"https://www.youtube.com/embed/23LLB9mNJvc\"\n",
        "            frameborder=\"0\"\n",
        "            allowfullscreen\n",
        "        ></iframe>\n",
        "        "
       ],
       "metadata": {},
       "output_type": "pyout",
       "prompt_number": 100,
       "text": [
        "<IPython.lib.display.YouTubeVideo at 0x10de62f50>"
       ]
      }
     ],
     "prompt_number": 100
    },
    {
     "cell_type": "code",
     "collapsed": false,
     "input": [
      "#Cramer's rule and using determinants -- nice idea but comutationally impractical. \n",
      "YouTubeVideo('QNpj-gOXW9M')"
     ],
     "language": "python",
     "metadata": {},
     "outputs": [
      {
       "html": [
        "\n",
        "        <iframe\n",
        "            width=\"400\"\n",
        "            height=300\"\n",
        "            src=\"https://www.youtube.com/embed/QNpj-gOXW9M\"\n",
        "            frameborder=\"0\"\n",
        "            allowfullscreen\n",
        "        ></iframe>\n",
        "        "
       ],
       "metadata": {},
       "output_type": "pyout",
       "prompt_number": 101,
       "text": [
        "<IPython.lib.display.YouTubeVideo at 0x10de4f2d0>"
       ]
      }
     ],
     "prompt_number": 101
    },
    {
     "cell_type": "code",
     "collapsed": false,
     "input": [
      "\n",
      "YouTubeVideo('lXNXrLcoerU')"
     ],
     "language": "python",
     "metadata": {},
     "outputs": [
      {
       "html": [
        "\n",
        "        <iframe\n",
        "            width=\"400\"\n",
        "            height=300\"\n",
        "            src=\"https://www.youtube.com/embed/lXNXrLcoerU\"\n",
        "            frameborder=\"0\"\n",
        "            allowfullscreen\n",
        "        ></iframe>\n",
        "        "
       ],
       "metadata": {},
       "output_type": "pyout",
       "prompt_number": 102,
       "text": [
        "<IPython.lib.display.YouTubeVideo at 0x10de4f210>"
       ]
      }
     ],
     "prompt_number": 102
    },
    {
     "cell_type": "code",
     "collapsed": false,
     "input": [
      "#Second lecture on eigenvalues and eigenvectors.\n",
      "#Diagonlisation and e^A\n",
      "YouTubeVideo('13r9QY6cmjc')"
     ],
     "language": "python",
     "metadata": {},
     "outputs": [
      {
       "html": [
        "\n",
        "        <iframe\n",
        "            width=\"400\"\n",
        "            height=300\"\n",
        "            src=\"https://www.youtube.com/embed/13r9QY6cmjc\"\n",
        "            frameborder=\"0\"\n",
        "            allowfullscreen\n",
        "        ></iframe>\n",
        "        "
       ],
       "metadata": {},
       "output_type": "pyout",
       "prompt_number": 103,
       "text": [
        "<IPython.lib.display.YouTubeVideo at 0x10de4f3d0>"
       ]
      }
     ],
     "prompt_number": 103
    },
    {
     "cell_type": "markdown",
     "metadata": {},
     "source": [
      "Strang (2014), p.325 onward gives the fundamentals of how eigenvalues relate to differential equations. So the equations $y_1' = 4y_1 + y_2$ and $y_2 = 3y_1 + 2y_2$ become:\n",
      "\n",
      "$\\begin{bmatrix} y_1 \\\\ y_2 \\end{bmatrix}' = \\begin{bmatrix} 4&1 \\\\3&2 \\end{bmatrix} \\begin{bmatrix} y_1 \\\\ y_2 \\end{bmatrix} = \\begin{bmatrix} 4&1 \\\\3&2 \\end{bmatrix} \\begin{bmatrix} e^{\\lambda t}a \\\\ e^{\\lambda t}b \\end{bmatrix}$ where $\\begin{bmatrix} a\\\\b \\end{bmatrix}$ is the eigenvector matrix.\n",
      "\n",
      "An example:"
     ]
    },
    {
     "cell_type": "code",
     "collapsed": false,
     "input": [
      "from sympy import init_session\n",
      "import numpy as np\n",
      "init_session()\n",
      "A = Matrix([[4,1],[3,2]])\n",
      "A"
     ],
     "language": "python",
     "metadata": {},
     "outputs": [
      {
       "output_type": "stream",
       "stream": "stdout",
       "text": [
        "IPython console for SymPy 0.7.6 (Python 2.7.6-64-bit) (ground types: python)\n",
        "\n",
        "These commands were executed:\n",
        ">>> from __future__ import division\n",
        ">>> from sympy import *\n",
        ">>> x, y, z, t = symbols('x y z t')\n",
        ">>> k, m, n = symbols('k m n', integer=True)\n",
        ">>> f, g, h = symbols('f g h', cls=Function)\n",
        ">>> init_printing()\n",
        "\n",
        "Documentation can be found at http://www.sympy.org\n"
       ]
      },
      {
       "latex": [
        "$$\\left[\\begin{matrix}4 & 1\\\\3 & 2\\end{matrix}\\right]$$"
       ],
       "metadata": {},
       "output_type": "pyout",
       "png": "[encoded data removed]",
       "prompt_number": 104,
       "text": [
        "\u23a14  1\u23a4\n",
        "\u23a2    \u23a5\n",
        "\u23a33  2\u23a6"
       ]
      }
     ],
     "prompt_number": 104
    },
    {
     "cell_type": "code",
     "collapsed": false,
     "input": [
      "EV = A.eigenvects()\n",
      "ev1 =EV[0][0]\n",
      "ev2 = EV[1][0]\n",
      "ab1 = EV[0][2][0]*-3 #*3 to match the example in Strang\n",
      "ab2 = EV[1][2][0]\n",
      "ematrix = Matrix([[ab1[0],ab2[0]],[ab1[1],ab2[1]]])\n",
      "ev1, ev2,ab1, ab2, ematrix"
     ],
     "language": "python",
     "metadata": {},
     "outputs": [
      {
       "latex": [
        "$$\\left ( 1, \\quad 5, \\quad \\left[\\begin{matrix}1\\\\-3\\end{matrix}\\right], \\quad \\left[\\begin{matrix}1\\\\1\\end{matrix}\\right], \\quad \\left[\\begin{matrix}1 & 1\\\\-3 & 1\\end{matrix}\\right]\\right )$$"
       ],
       "metadata": {},
       "output_type": "pyout",
       "png": "[encoded data removed]",
       "prompt_number": 105,
       "text": [
        "\u239b1, 5, \u23a11 \u23a4, \u23a11\u23a4, \u23a11   1\u23a4\u239e\n",
        "\u239c      \u23a2  \u23a5  \u23a2 \u23a5  \u23a2     \u23a5\u239f\n",
        "\u239d      \u23a3-3\u23a6  \u23a31\u23a6  \u23a3-3  1\u23a6\u23a0"
       ]
      }
     ],
     "prompt_number": 105
    },
    {
     "cell_type": "code",
     "collapsed": false,
     "input": [
      "c1,c2 = symbols ('c_1 c_2')\n",
      "y1 = c1*ematrix[:,0]*exp(ev1*t) \n",
      "y2 = c2*ematrix[:,1]*exp(ev2*t)\n",
      "y1,y2 #And the solution y' = Ay = lambda y is found from the derivative sum of y1, y2. "
     ],
     "language": "python",
     "metadata": {},
     "outputs": [
      {
       "latex": [
        "$$\\left ( \\left[\\begin{matrix}c_{1} e^{t}\\\\- 3 c_{1} e^{t}\\end{matrix}\\right], \\quad \\left[\\begin{matrix}c_{2} e^{5 t}\\\\c_{2} e^{5 t}\\end{matrix}\\right]\\right )$$"
       ],
       "metadata": {},
       "output_type": "pyout",
       "png": "[encoded data removed]",
       "prompt_number": 106,
       "text": [
        "\u239b\u23a1     t  \u23a4  \u23a1    5\u22c5t\u23a4\u239e\n",
        "\u239c\u23a2 c\u2081\u22c5\u212f   \u23a5, \u23a2c\u2082\u22c5\u212f   \u23a5\u239f\n",
        "\u239c\u23a2        \u23a5  \u23a2       \u23a5\u239f\n",
        "\u239c\u23a2       t\u23a5  \u23a2    5\u22c5t\u23a5\u239f\n",
        "\u239d\u23a3-3\u22c5c\u2081\u22c5\u212f \u23a6  \u23a3c\u2082\u22c5\u212f   \u23a6\u23a0"
       ]
      }
     ],
     "prompt_number": 106
    },
    {
     "cell_type": "code",
     "collapsed": false,
     "input": [
      "#the solution then is...which is the same as multiplying each element y1 y2 by lambdas!\n",
      "A*soln_matrix"
     ],
     "language": "python",
     "metadata": {},
     "outputs": [
      {
       "latex": [
        "$$\\left[\\begin{matrix}c_{1} e^{t} + 5 c_{2} e^{5 t}\\\\- 3 c_{1} e^{t} + 5 c_{2} e^{5 t}\\end{matrix}\\right]$$"
       ],
       "metadata": {},
       "output_type": "pyout",
       "png": "[encoded data removed]",
       "prompt_number": 107,
       "text": [
        "\u23a1      t         5\u22c5t  \u23a4\n",
        "\u23a2  c\u2081\u22c5\u212f  + 5\u22c5c\u2082\u22c5\u212f     \u23a5\n",
        "\u23a2                     \u23a5\n",
        "\u23a2        t         5\u22c5t\u23a5\n",
        "\u23a3- 3\u22c5c\u2081\u22c5\u212f  + 5\u22c5c\u2082\u22c5\u212f   \u23a6"
       ]
      }
     ],
     "prompt_number": 107
    },
    {
     "cell_type": "code",
     "collapsed": false,
     "input": [
      "#So now to see how this is the sames as the exponential of the matrix A\n",
      "exp(A*t)*Matrix([[1],[0]])*4"
     ],
     "language": "python",
     "metadata": {},
     "outputs": [
      {
       "latex": [
        "$$\\left[\\begin{matrix}3 e^{5 t} + e^{t}\\\\3 e^{5 t} - 3 e^{t}\\end{matrix}\\right]$$"
       ],
       "metadata": {},
       "output_type": "pyout",
       "png": "[encoded data removed]",
       "prompt_number": 108,
       "text": [
        "\u23a1    5\u22c5t    t \u23a4\n",
        "\u23a2 3\u22c5\u212f    + \u212f  \u23a5\n",
        "\u23a2             \u23a5\n",
        "\u23a2   5\u22c5t      t\u23a5\n",
        "\u23a33\u22c5\u212f    - 3\u22c5\u212f \u23a6"
       ]
      }
     ],
     "prompt_number": 108
    },
    {
     "cell_type": "code",
     "collapsed": false,
     "input": [
      "A.diagonalize()"
     ],
     "language": "python",
     "metadata": {},
     "outputs": [
      {
       "latex": [
        "$$\\left ( \\left[\\begin{matrix}-1 & 1\\\\3 & 1\\end{matrix}\\right], \\quad \\left[\\begin{matrix}1 & 0\\\\0 & 5\\end{matrix}\\right]\\right )$$"
       ],
       "metadata": {},
       "output_type": "pyout",
       "png": "[encoded data removed]",
       "prompt_number": 109,
       "text": [
        "\u239b\u23a1-1  1\u23a4, \u23a11  0\u23a4\u239e\n",
        "\u239c\u23a2     \u23a5  \u23a2    \u23a5\u239f\n",
        "\u239d\u23a33   1\u23a6  \u23a30  5\u23a6\u23a0"
       ]
      }
     ],
     "prompt_number": 109
    },
    {
     "cell_type": "code",
     "collapsed": false,
     "input": [
      "#An inbuilt function to solve for y'\n",
      "s1,s2 = A.diagonal_solve(Matrix([[y1],[y2]]))\n",
      "s1,s2"
     ],
     "language": "python",
     "metadata": {},
     "outputs": [
      {
       "latex": [
        "$$\\left ( \\left[\\begin{matrix}\\frac{c_{1} e^{t}}{4}\\\\- \\frac{3 c_{1}}{4} e^{t}\\end{matrix}\\right], \\quad \\left[\\begin{matrix}\\frac{c_{2}}{2} e^{5 t}\\\\\\frac{c_{2}}{2} e^{5 t}\\end{matrix}\\right]\\right )$$"
       ],
       "metadata": {},
       "output_type": "pyout",
       "png": "[encoded data removed]",
       "prompt_number": 119,
       "text": [
        "\u239b\u23a1      t  \u23a4  \u23a1    5\u22c5t\u23a4\u239e\n",
        "\u239c\u23a2  c\u2081\u22c5\u212f   \u23a5  \u23a2c\u2082\u22c5\u212f   \u23a5\u239f\n",
        "\u239c\u23a2  \u2500\u2500\u2500\u2500\u2500  \u23a5, \u23a2\u2500\u2500\u2500\u2500\u2500\u2500\u2500\u23a5\u239f\n",
        "\u239c\u23a2    4    \u23a5  \u23a2   2   \u23a5\u239f\n",
        "\u239c\u23a2         \u23a5  \u23a2       \u23a5\u239f\n",
        "\u239c\u23a2       t \u23a5  \u23a2    5\u22c5t\u23a5\u239f\n",
        "\u239c\u23a2-3\u22c5c\u2081\u22c5\u212f  \u23a5  \u23a2c\u2082\u22c5\u212f   \u23a5\u239f\n",
        "\u239c\u23a2\u2500\u2500\u2500\u2500\u2500\u2500\u2500\u2500\u2500\u23a5  \u23a2\u2500\u2500\u2500\u2500\u2500\u2500\u2500\u23a5\u239f\n",
        "\u239d\u23a3    4    \u23a6  \u23a3   2   \u23a6\u23a0"
       ]
      }
     ],
     "prompt_number": 119
    },
    {
     "cell_type": "heading",
     "level": 2,
     "metadata": {},
     "source": [
      "Fibonacci Series using matrices"
     ]
    },
    {
     "cell_type": "markdown",
     "metadata": {},
     "source": [
      "Page 340 presents an elegant way to use diagonalised matrices to compute the Fibonacci series. It relies on the trivial equation that $F_{k+1} = F_{k+1}$. The second equation in the pair is that $F_{k+2} = F_{k+1} + F_{k}$. This produces a matrix as below for $\\mathbf{u}{_{k+1}} $, which gives an equation matrix of $\\begin{bmatrix} 1&1 \\\\ 1&0 \\end{bmatrix}$."
     ]
    },
    {
     "cell_type": "code",
     "collapsed": false,
     "input": [
      "F = Matrix([[1,1],[1,0]])\n",
      "u0 = symbols('u_0')\n",
      "u0 = Matrix ([1,0])\n",
      "F, u0"
     ],
     "language": "python",
     "metadata": {},
     "outputs": [
      {
       "latex": [
        "$$\\left ( \\left[\\begin{matrix}1 & 1\\\\1 & 0\\end{matrix}\\right], \\quad \\left[\\begin{matrix}1\\\\0\\end{matrix}\\right]\\right )$$"
       ],
       "metadata": {},
       "output_type": "pyout",
       "png": "[encoded data removed]",
       "prompt_number": 123,
       "text": [
        "\u239b\u23a11  1\u23a4, \u23a11\u23a4\u239e\n",
        "\u239c\u23a2    \u23a5  \u23a2 \u23a5\u239f\n",
        "\u239d\u23a31  0\u23a6  \u23a30\u23a6\u23a0"
       ]
      }
     ],
     "prompt_number": 123
    },
    {
     "cell_type": "code",
     "collapsed": false,
     "input": [
      "simplify(F.diagonalize())"
     ],
     "language": "python",
     "metadata": {},
     "outputs": [
      {
       "latex": [
        "$$\\left ( \\left[\\begin{matrix}\\frac{1}{2} + \\frac{\\sqrt{5}}{2} & - \\frac{\\sqrt{5}}{2} + \\frac{1}{2}\\\\1 & 1\\end{matrix}\\right], \\quad \\left[\\begin{matrix}\\frac{1}{2} + \\frac{\\sqrt{5}}{2} & 0\\\\0 & - \\frac{\\sqrt{5}}{2} + \\frac{1}{2}\\end{matrix}\\right]\\right )$$"
       ],
       "metadata": {},
       "output_type": "pyout",
       "png": "[encoded data removed]",
       "prompt_number": 165,
       "text": [
        "\u239b\u23a1      ___      ___    \u23a4  \u23a1      ___             \u23a4\u239e\n",
        "\u239c\u23a21   \u2572\u2571 5     \u2572\u2571 5    1\u23a5  \u23a21   \u2572\u2571 5              \u23a5\u239f\n",
        "\u239c\u23a2\u2500 + \u2500\u2500\u2500\u2500\u2500  - \u2500\u2500\u2500\u2500\u2500 + \u2500\u23a5, \u23a2\u2500 + \u2500\u2500\u2500\u2500\u2500       0     \u23a5\u239f\n",
        "\u239c\u23a22     2        2     2\u23a5  \u23a22     2               \u23a5\u239f\n",
        "\u239c\u23a2                      \u23a5  \u23a2                      \u23a5\u239f\n",
        "\u239c\u23a3    1           1     \u23a6  \u23a2               ___    \u23a5\u239f\n",
        "\u239c                          \u23a2             \u2572\u2571 5    1\u23a5\u239f\n",
        "\u239c                          \u23a2    0      - \u2500\u2500\u2500\u2500\u2500 + \u2500\u23a5\u239f\n",
        "\u239d                          \u23a3               2     2\u23a6\u23a0"
       ]
      }
     ],
     "prompt_number": 165
    },
    {
     "cell_type": "code",
     "collapsed": false,
     "input": [
      "#The long solution is...\n",
      "F**100*u0"
     ],
     "language": "python",
     "metadata": {},
     "outputs": [
      {
       "latex": [
        "$$\\left[\\begin{matrix}573147844013817084101\\\\354224848179261915075\\end{matrix}\\right]$$"
       ],
       "metadata": {},
       "output_type": "pyout",
       "png": "[encoded data removed]",
       "prompt_number": 157,
       "text": [
        "\u23a1573147844013817084101\u23a4\n",
        "\u23a2                     \u23a5\n",
        "\u23a3354224848179261915075\u23a6"
       ]
      }
     ],
     "prompt_number": 157
    },
    {
     "cell_type": "code",
     "collapsed": false,
     "input": [
      "#Using a diagonalised matrix...\n",
      "Fd = F.diagonalize()\n",
      "Fd100 = Fd[1]**100\n",
      "S1 = Fd[0]*Fd100*Fd[0].inv()\n",
      "S1[:,:].evalf()"
     ],
     "language": "python",
     "metadata": {},
     "outputs": [
      {
       "latex": [
        "$$\\left[\\begin{matrix}5.73147844013817 \\cdot 10^{20} & 3.54224848179262 \\cdot 10^{20}\\\\3.54224848179262 \\cdot 10^{20} & 2.18922995834555 \\cdot 10^{20}\\end{matrix}\\right]$$"
       ],
       "metadata": {},
       "output_type": "pyout",
       "png": "[encoded data removed]",
       "prompt_number": 158,
       "text": [
        "\u23a15.73147844013817e+20  3.54224848179262e+20\u23a4\n",
        "\u23a2                                          \u23a5\n",
        "\u23a33.54224848179262e+20  2.18922995834555e+20\u23a6"
       ]
      }
     ],
     "prompt_number": 158
    },
    {
     "cell_type": "markdown",
     "metadata": {},
     "source": [
      "Note that $S[1,1] = F_{k-1}$."
     ]
    },
    {
     "cell_type": "code",
     "collapsed": false,
     "input": [
      "F100 = F**100\n",
      "S2 = 1/(F100.diagonal_solve(Matrix([1,0]))[0])\n",
      "S2"
     ],
     "language": "python",
     "metadata": {},
     "outputs": [
      {
       "latex": [
        "$$573147844013817084101$$"
       ],
       "metadata": {},
       "output_type": "pyout",
       "png": "[encoded data removed]",
       "prompt_number": 164,
       "text": [
        "573147844013817084101"
       ]
      }
     ],
     "prompt_number": 164
    },
    {
     "cell_type": "markdown",
     "metadata": {},
     "source": [
      "Of the three methods above, the first and third take around 570 microseconds, diagonalising takes 104ms."
     ]
    },
    {
     "cell_type": "code",
     "collapsed": false,
     "input": [
      "inv(Fd[0])"
     ],
     "language": "python",
     "metadata": {},
     "outputs": [
      {
       "metadata": {},
       "output_type": "pyout",
       "prompt_number": 167,
       "text": [
        "array([[ 0.4472136,  0.2763932],\n",
        "       [-0.4472136,  0.7236068]])"
       ]
      }
     ],
     "prompt_number": 167
    },
    {
     "cell_type": "heading",
     "level": 1,
     "metadata": {},
     "source": [
      "6.3 Linear systems $\\mathbf {y'} = A \\mathbf {y}$"
     ]
    },
    {
     "cell_type": "markdown",
     "metadata": {},
     "source": [
      "Step 1: The eigenvectors $\\mathbf {x} $ are the basis for expressing $\\mathbf {y}(0) = c_1x_1 + c_2x_2 + ... +c_nx_n$. Find the values of c for each term. \n",
      "\n",
      "Step 2: solves $\\mathbf {y'} = A \\mathbf {y}$ for each eigenvector. \n",
      "\n",
      "Step 3: Add the $n$ separate solutions for the $n$ eigenvectors. "
     ]
    },
    {
     "cell_type": "code",
     "collapsed": false,
     "input": [
      "A3 = Matrix([[-2,1],[1,-2]])\n",
      "y0 = Matrix([6,2])\n",
      "A3,y0"
     ],
     "language": "python",
     "metadata": {},
     "outputs": [
      {
       "latex": [
        "$$\\left ( \\left[\\begin{matrix}-2 & 1\\\\1 & -2\\end{matrix}\\right], \\quad \\left[\\begin{matrix}6\\\\2\\end{matrix}\\right]\\right )$$"
       ],
       "metadata": {},
       "output_type": "pyout",
       "png": "[encoded data removed]",
       "prompt_number": 216,
       "text": [
        "\u239b\u23a1-2  1 \u23a4, \u23a16\u23a4\u239e\n",
        "\u239c\u23a2      \u23a5  \u23a2 \u23a5\u239f\n",
        "\u239d\u23a31   -2\u23a6  \u23a32\u23a6\u23a0"
       ]
      }
     ],
     "prompt_number": 216
    },
    {
     "cell_type": "code",
     "collapsed": false,
     "input": [
      "#Step 1\n",
      "V = A3.diagonalize()\n",
      "C = V[0].LUsolve(y0)\n",
      "V, C\n",
      "#I expected the diagonalize_solve to provide this but it did not. "
     ],
     "language": "python",
     "metadata": {},
     "outputs": [
      {
       "latex": [
        "$$\\left ( \\left ( \\left[\\begin{matrix}-1 & 1\\\\1 & 1\\end{matrix}\\right], \\quad \\left[\\begin{matrix}-3 & 0\\\\0 & -1\\end{matrix}\\right]\\right ), \\quad \\left[\\begin{matrix}-2\\\\4\\end{matrix}\\right]\\right )$$"
       ],
       "metadata": {},
       "output_type": "pyout",
       "png": "[encoded data removed]",
       "prompt_number": 217,
       "text": [
        "\u239b\u239b\u23a1-1  1\u23a4, \u23a1-3  0 \u23a4\u239e, \u23a1-2\u23a4\u239e\n",
        "\u239c\u239c\u23a2     \u23a5  \u23a2      \u23a5\u239f  \u23a2  \u23a5\u239f\n",
        "\u239d\u239d\u23a31   1\u23a6  \u23a30   -1\u23a6\u23a0  \u23a34 \u23a6\u23a0"
       ]
      }
     ],
     "prompt_number": 217
    },
    {
     "cell_type": "code",
     "collapsed": false,
     "input": [
      "#step 2 creating separate solutions and step 3 adding them together.\n",
      "simplify(C[0]*exp(V[1][0,0]*t)*V[0][:,0]+C[1]*exp(V[1][1,1]*t)*V[0][:,1])"
     ],
     "language": "python",
     "metadata": {},
     "outputs": [
      {
       "latex": [
        "$$\\left[\\begin{matrix}4 e^{- t} + 2 e^{- 3 t}\\\\4 e^{- t} - 2 e^{- 3 t}\\end{matrix}\\right]$$"
       ],
       "metadata": {},
       "output_type": "pyout",
       "png": "[encoded data removed]",
       "prompt_number": 218,
       "text": [
        "\u23a1   -t      -3\u22c5t\u23a4\n",
        "\u23a24\u22c5\u212f   + 2\u22c5\u212f    \u23a5\n",
        "\u23a2               \u23a5\n",
        "\u23a2   -t      -3\u22c5t\u23a5\n",
        "\u23a34\u22c5\u212f   - 2\u22c5\u212f    \u23a6"
       ]
      }
     ],
     "prompt_number": 218
    },
    {
     "cell_type": "code",
     "collapsed": false,
     "input": [
      "A3.diagonal_solve(y0)"
     ],
     "language": "python",
     "metadata": {},
     "outputs": [
      {
       "latex": [
        "$$\\left[\\begin{matrix}-3\\\\-1\\end{matrix}\\right]$$"
       ],
       "metadata": {},
       "output_type": "pyout",
       "png": "[encoded data removed]",
       "prompt_number": 219,
       "text": [
        "\u23a1-3\u23a4\n",
        "\u23a2  \u23a5\n",
        "\u23a3-1\u23a6"
       ]
      }
     ],
     "prompt_number": 219
    },
    {
     "cell_type": "code",
     "collapsed": false,
     "input": [
      "if A3.trace() <0 and A3.det()> 0:\n",
      "    print \"Stable\"\n",
      "else:\n",
      "    print \"Unstable\""
     ],
     "language": "python",
     "metadata": {},
     "outputs": [
      {
       "output_type": "stream",
       "stream": "stdout",
       "text": [
        "Stable\n"
       ]
      }
     ],
     "prompt_number": 220
    },
    {
     "cell_type": "heading",
     "level": 2,
     "metadata": {},
     "source": [
      "6.4 The Matrix exponential $\\mathbf {y'} = A \\mathbf {y} \\rightarrow y(t) = e^{At} y(0)$"
     ]
    },
    {
     "cell_type": "code",
     "collapsed": false,
     "input": [
      "At  = symbols('At', Function=True)\n",
      "series(exp(At))"
     ],
     "language": "python",
     "metadata": {},
     "outputs": [
      {
       "latex": [
        "$$1 + At + \\frac{At^{2}}{2} + \\frac{At^{3}}{6} + \\frac{At^{4}}{24} + \\frac{At^{5}}{120} + \\mathcal{O}\\left(At^{6}\\right)$$"
       ],
       "metadata": {},
       "output_type": "pyout",
       "png": "[encoded data removed]",
       "prompt_number": 229,
       "text": [
        "           2     3     4     5         \n",
        "         At    At    At    At     \u239b  6\u239e\n",
        "1 + At + \u2500\u2500\u2500 + \u2500\u2500\u2500 + \u2500\u2500\u2500 + \u2500\u2500\u2500 + O\u239dAt \u23a0\n",
        "          2     6     24   120         "
       ]
      }
     ],
     "prompt_number": 229
    },
    {
     "cell_type": "code",
     "collapsed": false,
     "input": [
      "A4 = Matrix(2,2,[0,1,-1,0])\n",
      "A4"
     ],
     "language": "python",
     "metadata": {},
     "outputs": [
      {
       "latex": [
        "$$\\left[\\begin{matrix}0 & 1\\\\-1 & 0\\end{matrix}\\right]$$"
       ],
       "metadata": {},
       "output_type": "pyout",
       "png": "[encoded data removed]",
       "prompt_number": 264,
       "text": [
        "\u23a10   1\u23a4\n",
        "\u23a2     \u23a5\n",
        "\u23a3-1  0\u23a6"
       ]
      }
     ],
     "prompt_number": 264
    },
    {
     "cell_type": "code",
     "collapsed": false,
     "input": [
      "A4_s = exp(A4)\n",
      "A4_s"
     ],
     "language": "python",
     "metadata": {},
     "outputs": [
      {
       "latex": [
        "$$\\left[\\begin{matrix}\\frac{e^{- i}}{2} + \\frac{e^{i}}{2} & - \\frac{i e^{i}}{2} + \\frac{i}{2} e^{- i}\\\\- \\frac{i}{2} e^{- i} + \\frac{i e^{i}}{2} & \\frac{e^{- i}}{2} + \\frac{e^{i}}{2}\\end{matrix}\\right]$$"
       ],
       "metadata": {},
       "output_type": "pyout",
       "png": "[encoded data removed]",
       "prompt_number": 265,
       "text": [
        "\u23a1    -\u2148    \u2148          \u2148      -\u2148\u23a4\n",
        "\u23a2   \u212f     \u212f        \u2148\u22c5\u212f    \u2148\u22c5\u212f  \u23a5\n",
        "\u23a2   \u2500\u2500\u2500 + \u2500\u2500     - \u2500\u2500\u2500\u2500 + \u2500\u2500\u2500\u2500\u2500\u23a5\n",
        "\u23a2    2    2         2       2  \u23a5\n",
        "\u23a2                              \u23a5\n",
        "\u23a2     -\u2148      \u2148      -\u2148    \u2148   \u23a5\n",
        "\u23a2  \u2148\u22c5\u212f     \u2148\u22c5\u212f      \u212f     \u212f    \u23a5\n",
        "\u23a2- \u2500\u2500\u2500\u2500\u2500 + \u2500\u2500\u2500\u2500     \u2500\u2500\u2500 + \u2500\u2500   \u23a5\n",
        "\u23a3    2      2        2    2    \u23a6"
       ]
      }
     ],
     "prompt_number": 265
    },
    {
     "cell_type": "code",
     "collapsed": false,
     "input": [
      "V2 = A4_s.LUsolve(Matrix([1,0]))\n",
      "simplify(V2)"
     ],
     "language": "python",
     "metadata": {},
     "outputs": [
      {
       "latex": [
        "$$\\left[\\begin{matrix}\\cos{\\left (1 \\right )}\\\\- \\frac{i e^{i}}{2} + \\frac{i}{2} e^{- i}\\end{matrix}\\right]$$"
       ],
       "metadata": {},
       "output_type": "pyout",
       "png": "[encoded data removed]",
       "prompt_number": 266,
       "text": [
        "\u23a1    cos(1)    \u23a4\n",
        "\u23a2              \u23a5\n",
        "\u23a2     \u2148      -\u2148\u23a5\n",
        "\u23a2  \u2148\u22c5\u212f    \u2148\u22c5\u212f  \u23a5\n",
        "\u23a2- \u2500\u2500\u2500\u2500 + \u2500\u2500\u2500\u2500\u2500\u23a5\n",
        "\u23a3   2       2  \u23a6"
       ]
      }
     ],
     "prompt_number": 266
    },
    {
     "cell_type": "code",
     "collapsed": false,
     "input": [
      "A4d =A4.diagonalize()\n",
      "A4d"
     ],
     "language": "python",
     "metadata": {},
     "outputs": [
      {
       "latex": [
        "$$\\left ( \\left[\\begin{matrix}i & - i\\\\1 & 1\\end{matrix}\\right], \\quad \\left[\\begin{matrix}- i & 0\\\\0 & i\\end{matrix}\\right]\\right )$$"
       ],
       "metadata": {},
       "output_type": "pyout",
       "png": "[encoded data removed]",
       "prompt_number": 267,
       "text": [
        "\u239b\u23a1\u2148  -\u2148\u23a4, \u23a1-\u2148  0\u23a4\u239e\n",
        "\u239c\u23a2     \u23a5  \u23a2     \u23a5\u239f\n",
        "\u239d\u23a31  1 \u23a6  \u23a30   \u2148\u23a6\u23a0"
       ]
      }
     ],
     "prompt_number": 267
    },
    {
     "cell_type": "code",
     "collapsed": false,
     "input": [
      "Lam = exp(A4d[1]*t)\n",
      "Lam"
     ],
     "language": "python",
     "metadata": {},
     "outputs": [
      {
       "latex": [
        "$$\\left[\\begin{matrix}e^{- i t} & 0\\\\0 & e^{i t}\\end{matrix}\\right]$$"
       ],
       "metadata": {},
       "output_type": "pyout",
       "png": "[encoded data removed]",
       "prompt_number": 268,
       "text": [
        "\u23a1 -\u2148\u22c5t      \u23a4\n",
        "\u23a2\u212f       0  \u23a5\n",
        "\u23a2           \u23a5\n",
        "\u23a2        \u2148\u22c5t\u23a5\n",
        "\u23a3  0    \u212f   \u23a6"
       ]
      }
     ],
     "prompt_number": 268
    },
    {
     "cell_type": "markdown",
     "metadata": {},
     "source": [
      "We now have $e^{At} = V \\Lambda V^{-1}$. So, this allows use of the $\\Lambda$ term."
     ]
    },
    {
     "cell_type": "code",
     "collapsed": false,
     "input": [
      "Y = A4d[0]*Lam*A4d[0].inv()\n",
      "Y"
     ],
     "language": "python",
     "metadata": {},
     "outputs": [
      {
       "latex": [
        "$$\\left[\\begin{matrix}\\frac{e^{i t}}{2} + \\frac{1}{2} e^{- i t} & - \\frac{i}{2} e^{i t} + \\frac{i}{2} e^{- i t}\\\\\\frac{i}{2} e^{i t} - \\frac{i}{2} e^{- i t} & \\frac{e^{i t}}{2} + \\frac{1}{2} e^{- i t}\\end{matrix}\\right]$$"
       ],
       "metadata": {},
       "output_type": "pyout",
       "png": "[encoded data removed]",
       "prompt_number": 269,
       "text": [
        "\u23a1   \u2148\u22c5t    -\u2148\u22c5t         \u2148\u22c5t      -\u2148\u22c5t\u23a4\n",
        "\u23a2  \u212f      \u212f          \u2148\u22c5\u212f      \u2148\u22c5\u212f    \u23a5\n",
        "\u23a2  \u2500\u2500\u2500\u2500 + \u2500\u2500\u2500\u2500\u2500    - \u2500\u2500\u2500\u2500\u2500\u2500 + \u2500\u2500\u2500\u2500\u2500\u2500\u2500\u23a5\n",
        "\u23a2   2       2          2         2   \u23a5\n",
        "\u23a2                                    \u23a5\n",
        "\u23a2   \u2148\u22c5t      -\u2148\u22c5t      \u2148\u22c5t    -\u2148\u22c5t   \u23a5\n",
        "\u23a2\u2148\u22c5\u212f      \u2148\u22c5\u212f         \u212f      \u212f       \u23a5\n",
        "\u23a2\u2500\u2500\u2500\u2500\u2500\u2500 - \u2500\u2500\u2500\u2500\u2500\u2500\u2500     \u2500\u2500\u2500\u2500 + \u2500\u2500\u2500\u2500\u2500   \u23a5\n",
        "\u23a3  2         2         2       2     \u23a6"
       ]
      }
     ],
     "prompt_number": 269
    },
    {
     "cell_type": "code",
     "collapsed": false,
     "input": [
      "simplify(Y.subs(t,0.5*pi))"
     ],
     "language": "python",
     "metadata": {},
     "outputs": [
      {
       "latex": [
        "$$\\left[\\begin{matrix}0 & 1\\\\-1 & 0\\end{matrix}\\right]$$"
       ],
       "metadata": {},
       "output_type": "pyout",
       "png": "[encoded data removed]",
       "prompt_number": 270,
       "text": [
        "\u23a10   1\u23a4\n",
        "\u23a2     \u23a5\n",
        "\u23a3-1  0\u23a6"
       ]
      }
     ],
     "prompt_number": 270
    },
    {
     "cell_type": "heading",
     "level": 2,
     "metadata": {},
     "source": [
      "6.5 Symmetric Matrices and Second order systems "
     ]
    },
    {
     "cell_type": "markdown",
     "metadata": {},
     "source": [
      "The key ideas, apart from application to second order systems, are about symmetric matrices, S. Real eigenvalues and orthogonal eigenvectors arise from a real symmetric matrix. Diagonalisation $S = V \\Lambda V^{-1}$ becomes, $S = Q \\Lambda Q^{-T}$. Hermitian matrices, $A_{ij} = \\bar {A}_{ij}$, give $S = Q \\Lambda \\bar{Q}^{T}$."
     ]
    },
    {
     "cell_type": "code",
     "collapsed": false,
     "input": [
      "#PSet 6.5 #4\n",
      "S = Matrix(2,2,[-2,6,6,7])\n",
      "Q = S.diagonalize(sort=True,normalize=True)\n",
      "Qt = Q[0].T\n",
      "Lam = Q[1]\n",
      "S,Q, Qt"
     ],
     "language": "python",
     "metadata": {},
     "outputs": [
      {
       "latex": [
        "$$\\left ( \\left[\\begin{matrix}-2 & 6\\\\6 & 7\\end{matrix}\\right], \\quad \\left ( \\left[\\begin{matrix}\\frac{\\sqrt{5}}{5} & - \\frac{2 \\sqrt{5}}{5}\\\\\\frac{2 \\sqrt{5}}{5} & \\frac{\\sqrt{5}}{5}\\end{matrix}\\right], \\quad \\left[\\begin{matrix}10 & 0\\\\0 & -5\\end{matrix}\\right]\\right ), \\quad \\left[\\begin{matrix}\\frac{\\sqrt{5}}{5} & \\frac{2 \\sqrt{5}}{5}\\\\- \\frac{2 \\sqrt{5}}{5} & \\frac{\\sqrt{5}}{5}\\end{matrix}\\right]\\right )$$"
       ],
       "metadata": {},
       "output_type": "pyout",
       "png": "[encoded data removed]",
       "prompt_number": 304,
       "text": [
        "\u239b         \u239b\u23a1   ___        ___ \u23a4          \u239e  \u23a1    ___        ___\u23a4\u239e\n",
        "\u239c         \u239c\u23a2 \u2572\u2571 5    -2\u22c5\u2572\u2571 5  \u23a5          \u239f  \u23a2  \u2572\u2571 5     2\u22c5\u2572\u2571 5 \u23a5\u239f\n",
        "\u239c\u23a1-2  6\u23a4, \u239c\u23a2 \u2500\u2500\u2500\u2500\u2500   \u2500\u2500\u2500\u2500\u2500\u2500\u2500\u2500\u2500\u23a5, \u23a110  0 \u23a4\u239f, \u23a2  \u2500\u2500\u2500\u2500\u2500    \u2500\u2500\u2500\u2500\u2500\u2500\u2500\u23a5\u239f\n",
        "\u239c\u23a2     \u23a5  \u239c\u23a2   5         5    \u23a5  \u23a2      \u23a5\u239f  \u23a2    5         5   \u23a5\u239f\n",
        "\u239c\u23a36   7\u23a6  \u239c\u23a2                  \u23a5  \u23a30   -5\u23a6\u239f  \u23a2                  \u23a5\u239f\n",
        "\u239c         \u239c\u23a2    ___      ___  \u23a5          \u239f  \u23a2     ___      ___ \u23a5\u239f\n",
        "\u239c         \u239c\u23a22\u22c5\u2572\u2571 5     \u2572\u2571 5   \u23a5          \u239f  \u23a2-2\u22c5\u2572\u2571 5     \u2572\u2571 5  \u23a5\u239f\n",
        "\u239c         \u239c\u23a2\u2500\u2500\u2500\u2500\u2500\u2500\u2500    \u2500\u2500\u2500\u2500\u2500  \u23a5          \u239f  \u23a2\u2500\u2500\u2500\u2500\u2500\u2500\u2500\u2500\u2500   \u2500\u2500\u2500\u2500\u2500 \u23a5\u239f\n",
        "\u239d         \u239d\u23a3   5         5    \u23a6          \u23a0  \u23a3    5         5   \u23a6\u23a0"
       ]
      }
     ],
     "prompt_number": 304
    },
    {
     "cell_type": "code",
     "collapsed": false,
     "input": [
      "Q[0]*Lam*Qt"
     ],
     "language": "python",
     "metadata": {},
     "outputs": [
      {
       "latex": [
        "$$\\left[\\begin{matrix}-2 & 6\\\\6 & 7\\end{matrix}\\right]$$"
       ],
       "metadata": {},
       "output_type": "pyout",
       "png": "[encoded data removed]",
       "prompt_number": 305,
       "text": [
        "\u23a1-2  6\u23a4\n",
        "\u23a2     \u23a5\n",
        "\u23a36   7\u23a6"
       ]
      }
     ],
     "prompt_number": 305
    },
    {
     "cell_type": "code",
     "collapsed": false,
     "input": [
      "#PSet 6.5 #5\n",
      "A5 = Matrix(2,2,[I,1,1,-I])\n",
      "Q2 = A5.eigenvects()[0][2][0].normalized()\n",
      "A5conj = A5.conjugate()\n",
      "A5,Q2, A5conj"
     ],
     "language": "python",
     "metadata": {},
     "outputs": [
      {
       "latex": [
        "$$\\left ( \\left[\\begin{matrix}i & 1\\\\1 & - i\\end{matrix}\\right], \\quad \\left[\\begin{matrix}\\frac{\\sqrt{2} i}{2}\\\\\\frac{\\sqrt{2}}{2}\\end{matrix}\\right], \\quad \\left[\\begin{matrix}- i & 1\\\\1 & i\\end{matrix}\\right]\\right )$$"
       ],
       "metadata": {},
       "output_type": "pyout",
       "png": "[encoded data removed]",
       "prompt_number": 319,
       "text": [
        "\u239b         \u23a1  ___  \u23a4         \u239e\n",
        "\u239c         \u23a2\u2572\u2571 2 \u22c5\u2148\u23a5         \u239f\n",
        "\u239c\u23a1\u2148  1 \u23a4, \u23a2\u2500\u2500\u2500\u2500\u2500\u2500\u2500\u23a5, \u23a1-\u2148  1\u23a4\u239f\n",
        "\u239c\u23a2     \u23a5  \u23a2   2   \u23a5  \u23a2     \u23a5\u239f\n",
        "\u239c\u23a31  -\u2148\u23a6  \u23a2       \u23a5  \u23a31   \u2148\u23a6\u239f\n",
        "\u239c         \u23a2   ___ \u23a5         \u239f\n",
        "\u239c         \u23a2 \u2572\u2571 2  \u23a5         \u239f\n",
        "\u239c         \u23a2 \u2500\u2500\u2500\u2500\u2500 \u23a5         \u239f\n",
        "\u239d         \u23a3   2   \u23a6         \u23a0"
       ]
      }
     ],
     "prompt_number": 319
    },
    {
     "cell_type": "code",
     "collapsed": false,
     "input": [
      "Soln5 = A5*A5conj\n",
      "Soln5/2"
     ],
     "language": "python",
     "metadata": {},
     "outputs": [
      {
       "latex": [
        "$$\\left[\\begin{matrix}1 & i\\\\- i & 1\\end{matrix}\\right]$$"
       ],
       "metadata": {},
       "output_type": "pyout",
       "png": "[encoded data removed]",
       "prompt_number": 324,
       "text": [
        "\u23a11   \u2148\u23a4\n",
        "\u23a2     \u23a5\n",
        "\u23a3-\u2148  1\u23a6"
       ]
      }
     ],
     "prompt_number": 324
    },
    {
     "cell_type": "heading",
     "level": 3,
     "metadata": {},
     "source": [
      "Jordan form p.383."
     ]
    },
    {
     "cell_type": "markdown",
     "metadata": {},
     "source": [
      "The essential idea is that there exists a matrix $J = VAV^{-1}$ that has a 1 in each block for missing eigenvectors. "
     ]
    },
    {
     "cell_type": "code",
     "collapsed": false,
     "input": [
      "P, J = S.jordan_form()\n",
      "S, P,J"
     ],
     "language": "python",
     "metadata": {},
     "outputs": [
      {
       "latex": [
        "$$\\left ( \\left[\\begin{matrix}-2 & \\frac{1}{2}\\\\1 & 1\\end{matrix}\\right], \\quad \\left[\\begin{matrix}-5 & 0\\\\0 & 10\\end{matrix}\\right]\\right )$$"
       ],
       "metadata": {},
       "output_type": "pyout",
       "png": "[encoded data removed]",
       "prompt_number": 328,
       "text": [
        "\u239b\u23a1-2  1/2\u23a4, \u23a1-5  0 \u23a4\u239e\n",
        "\u239c\u23a2       \u23a5  \u23a2      \u23a5\u239f\n",
        "\u239d\u23a31    1 \u23a6  \u23a30   10\u23a6\u23a0"
       ]
      }
     ],
     "prompt_number": 328
    },
    {
     "cell_type": "code",
     "collapsed": false,
     "input": [
      "P*J*P.inv()"
     ],
     "language": "python",
     "metadata": {},
     "outputs": [
      {
       "latex": [
        "$$\\left[\\begin{matrix}-2 & 6\\\\6 & 7\\end{matrix}\\right]$$"
       ],
       "metadata": {},
       "output_type": "pyout",
       "png": "[encoded data removed]",
       "prompt_number": 333,
       "text": [
        "\u23a1-2  6\u23a4\n",
        "\u23a2     \u23a5\n",
        "\u23a36   7\u23a6"
       ]
      }
     ],
     "prompt_number": 333
    },
    {
     "cell_type": "code",
     "collapsed": false,
     "input": [
      "P1, J1 = A5.jordan_form()\n",
      "P1, J1"
     ],
     "language": "python",
     "metadata": {},
     "outputs": [
      {
       "latex": [
        "$$\\left ( \\left[\\begin{matrix}0 & i\\\\0 & 1\\end{matrix}\\right], \\quad \\left[\\begin{matrix}0 & 1 & 0\\\\0 & 0 & 0\\\\0 & 0 & 0\\end{matrix}\\right]\\right )$$"
       ],
       "metadata": {},
       "output_type": "pyout",
       "png": "[encoded data removed]",
       "prompt_number": 335,
       "text": [
        "\u239b\u23a10  \u2148\u23a4, \u23a10  1  0\u23a4\u239e\n",
        "\u239c\u23a2    \u23a5  \u23a2       \u23a5\u239f\n",
        "\u239c\u23a30  1\u23a6  \u23a20  0  0\u23a5\u239f\n",
        "\u239c        \u23a2       \u23a5\u239f\n",
        "\u239d        \u23a30  0  0\u23a6\u23a0"
       ]
      }
     ],
     "prompt_number": 335
    }
   ],
   "metadata": {}
  }
 ]
}