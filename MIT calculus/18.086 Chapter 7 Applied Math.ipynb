{
 "metadata": {
  "name": "",
  "signature": "sha256:2441114e433ee00a995aa6bd6922cddd48259ce96d0393e2249987ab906319c5"
 },
 "nbformat": 3,
 "nbformat_minor": 0,
 "worksheets": [
  {
   "cells": [
    {
     "cell_type": "heading",
     "level": 1,
     "metadata": {},
     "source": [
      "18.06 Chapter 7 $A^TA$ and applied mathematics"
     ]
    },
    {
     "cell_type": "heading",
     "level": 2,
     "metadata": {},
     "source": [
      "Least Squares"
     ]
    },
    {
     "cell_type": "code",
     "collapsed": false,
     "input": [
      "from sympy import init_session\n",
      "import numpy as np\n",
      "init_session()"
     ],
     "language": "python",
     "metadata": {},
     "outputs": [
      {
       "output_type": "stream",
       "stream": "stdout",
       "text": [
        "IPython console for SymPy 0.7.6 (Python 2.7.6-64-bit) (ground types: python)\n",
        "\n",
        "These commands were executed:\n",
        ">>> from __future__ import division\n",
        ">>> from sympy import *\n",
        ">>> x, y, z, t = symbols('x y z t')\n",
        ">>> k, m, n = symbols('k m n', integer=True)\n",
        ">>> f, g, h = symbols('f g h', cls=Function)\n",
        ">>> init_printing()\n",
        "\n",
        "Documentation can be found at http://www.sympy.org\n"
       ]
      }
     ],
     "prompt_number": 4
    },
    {
     "cell_type": "heading",
     "level": 2,
     "metadata": {},
     "source": [
      "7.2 Positive Definite Matrices and the SVD"
     ]
    },
    {
     "cell_type": "markdown",
     "metadata": {},
     "source": [
      "There are some useful geometric and applied examples that illustrate this important process. \n",
      "\n",
      "http://www.ams.org/samplings/feature-column/fcarc-svd"
     ]
    },
    {
     "cell_type": "code",
     "collapsed": false,
     "input": [
      "A = Matrix([[2,0],[0,1]])\n",
      "#S = Symmetric matrix made from A^TA\n",
      "S = A.T*A\n",
      "A,S"
     ],
     "language": "python",
     "metadata": {},
     "outputs": [
      {
       "latex": [
        "$$\\left ( \\left[\\begin{matrix}2 & 0\\\\0 & 1\\end{matrix}\\right], \\quad \\left[\\begin{matrix}4 & 0\\\\0 & 1\\end{matrix}\\right]\\right )$$"
       ],
       "metadata": {},
       "output_type": "pyout",
       "png": "[encoded data removed]",
       "prompt_number": 113,
       "text": [
        "\u239b\u23a12  0\u23a4, \u23a14  0\u23a4\u239e\n",
        "\u239c\u23a2    \u23a5  \u23a2    \u23a5\u239f\n",
        "\u239d\u23a30  1\u23a6  \u23a30  1\u23a6\u23a0"
       ]
      }
     ],
     "prompt_number": 113
    },
    {
     "cell_type": "code",
     "collapsed": false,
     "input": [
      "#A.T*A = A**2\n",
      "A**2"
     ],
     "language": "python",
     "metadata": {},
     "outputs": [
      {
       "latex": [
        "$$\\left[\\begin{matrix}4 & 0\\\\0 & 1\\end{matrix}\\right]$$"
       ],
       "metadata": {},
       "output_type": "pyout",
       "png": "[encoded data removed]",
       "prompt_number": 114,
       "text": [
        "\u23a14  0\u23a4\n",
        "\u23a2    \u23a5\n",
        "\u23a30  1\u23a6"
       ]
      }
     ],
     "prompt_number": 114
    },
    {
     "cell_type": "code",
     "collapsed": false,
     "input": [
      "S.eigenvects()"
     ],
     "language": "python",
     "metadata": {},
     "outputs": [
      {
       "latex": [
        "$$\\left [ \\left ( 1, \\quad 1, \\quad \\left [ \\left[\\begin{matrix}0\\\\1\\end{matrix}\\right]\\right ]\\right ), \\quad \\left ( 4, \\quad 1, \\quad \\left [ \\left[\\begin{matrix}1\\\\0\\end{matrix}\\right]\\right ]\\right )\\right ]$$"
       ],
       "metadata": {},
       "output_type": "pyout",
       "png": "[encoded data removed]",
       "prompt_number": 115,
       "text": [
        "\u23a1\u239b1, 1, \u23a1\u23a10\u23a4\u23a4\u239e, \u239b4, 1, \u23a1\u23a11\u23a4\u23a4\u239e\u23a4\n",
        "\u23a2\u239c      \u23a2\u23a2 \u23a5\u23a5\u239f  \u239c      \u23a2\u23a2 \u23a5\u23a5\u239f\u23a5\n",
        "\u23a3\u239d      \u23a3\u23a31\u23a6\u23a6\u23a0  \u239d      \u23a3\u23a30\u23a6\u23a6\u23a0\u23a6"
       ]
      }
     ],
     "prompt_number": 115
    },
    {
     "cell_type": "code",
     "collapsed": false,
     "input": [
      "S.det()"
     ],
     "language": "python",
     "metadata": {},
     "outputs": [
      {
       "latex": [
        "$$4$$"
       ],
       "metadata": {},
       "output_type": "pyout",
       "png": "[encoded data removed]",
       "prompt_number": 116,
       "text": [
        "4"
       ]
      }
     ],
     "prompt_number": 116
    },
    {
     "cell_type": "code",
     "collapsed": false,
     "input": [
      "Q = S.diagonalize(sort=True,normalize=True)\n",
      "Qt = Q[0].T\n",
      "Lam = Q[1]\n",
      "S,Q, Qt"
     ],
     "language": "python",
     "metadata": {},
     "outputs": [
      {
       "latex": [
        "$$\\left ( \\left[\\begin{matrix}4 & 0\\\\0 & 1\\end{matrix}\\right], \\quad \\left ( \\left[\\begin{matrix}1 & 0\\\\0 & 1\\end{matrix}\\right], \\quad \\left[\\begin{matrix}4 & 0\\\\0 & 1\\end{matrix}\\right]\\right ), \\quad \\left[\\begin{matrix}1 & 0\\\\0 & 1\\end{matrix}\\right]\\right )$$"
       ],
       "metadata": {},
       "output_type": "pyout",
       "png": "[encoded data removed]",
       "prompt_number": 117,
       "text": [
        "\u239b\u23a14  0\u23a4, \u239b\u23a11  0\u23a4, \u23a14  0\u23a4\u239e, \u23a11  0\u23a4\u239e\n",
        "\u239c\u23a2    \u23a5  \u239c\u23a2    \u23a5  \u23a2    \u23a5\u239f  \u23a2    \u23a5\u239f\n",
        "\u239d\u23a30  1\u23a6  \u239d\u23a30  1\u23a6  \u23a30  1\u23a6\u23a0  \u23a30  1\u23a6\u23a0"
       ]
      }
     ],
     "prompt_number": 117
    },
    {
     "cell_type": "code",
     "collapsed": false,
     "input": [
      "#And the final process is to compute the energy x.T*S*x\n",
      "x1,x2 = symbols('x_1:3')\n",
      "X = Matrix([[x1,x2]])\n",
      "X.T.dot(S.dot(X))"
     ],
     "language": "python",
     "metadata": {},
     "outputs": [
      {
       "latex": [
        "$$4 x_{1}^{2} + x_{2}^{2}$$"
       ],
       "metadata": {},
       "output_type": "pyout",
       "png": "[encoded data removed]",
       "prompt_number": 118,
       "text": [
        "    2     2\n",
        "4\u22c5x\u2081  + x\u2082 "
       ]
      }
     ],
     "prompt_number": 118
    },
    {
     "cell_type": "code",
     "collapsed": false,
     "input": [
      "#SVD example from Lecture 29 MIT 18.06\n",
      "A2 = Matrix([[4,4],[-3,3]])\n",
      "A2, A2.T"
     ],
     "language": "python",
     "metadata": {},
     "outputs": [
      {
       "latex": [
        "$$\\left ( \\left[\\begin{matrix}4 & 4\\\\-3 & 3\\end{matrix}\\right], \\quad \\left[\\begin{matrix}4 & -3\\\\4 & 3\\end{matrix}\\right]\\right )$$"
       ],
       "metadata": {},
       "output_type": "pyout",
       "png": "[encoded data removed]",
       "prompt_number": 119,
       "text": [
        "\u239b\u23a14   4\u23a4, \u23a14  -3\u23a4\u239e\n",
        "\u239c\u23a2     \u23a5  \u23a2     \u23a5\u239f\n",
        "\u239d\u23a3-3  3\u23a6  \u23a34  3 \u23a6\u23a0"
       ]
      }
     ],
     "prompt_number": 119
    },
    {
     "cell_type": "code",
     "collapsed": false,
     "input": [
      "#compute the eigenvectors of A^TA, the basis of U\n",
      "u = (A2.T*A2).eigenvects()\n",
      "u,u[0][2][0].norm()"
     ],
     "language": "python",
     "metadata": {},
     "outputs": [
      {
       "latex": [
        "$$\\left ( \\left [ \\left ( 18, \\quad 1, \\quad \\left [ \\left[\\begin{matrix}-1\\\\1\\end{matrix}\\right]\\right ]\\right ), \\quad \\left ( 32, \\quad 1, \\quad \\left [ \\left[\\begin{matrix}1\\\\1\\end{matrix}\\right]\\right ]\\right )\\right ], \\quad \\sqrt{2}\\right )$$"
       ],
       "metadata": {},
       "output_type": "pyout",
       "png": "[encoded data removed]",
       "prompt_number": 120,
       "text": [
        "\u239b                                     ___\u239e\n",
        "\u239c\u23a1\u239b18, 1, \u23a1\u23a1-1\u23a4\u23a4\u239e, \u239b32, 1, \u23a1\u23a11\u23a4\u23a4\u239e\u23a4, \u2572\u2571 2 \u239f\n",
        "\u239c\u23a2\u239c       \u23a2\u23a2  \u23a5\u23a5\u239f  \u239c       \u23a2\u23a2 \u23a5\u23a5\u239f\u23a5       \u239f\n",
        "\u239d\u23a3\u239d       \u23a3\u23a31 \u23a6\u23a6\u23a0  \u239d       \u23a3\u23a31\u23a6\u23a6\u23a0\u23a6       \u23a0"
       ]
      }
     ],
     "prompt_number": 120
    },
    {
     "cell_type": "code",
     "collapsed": false,
     "input": [
      "v = (A2*A2.T).eigenvects()\n",
      "v, v[0][2][0].norm()#.normalized()"
     ],
     "language": "python",
     "metadata": {},
     "outputs": [
      {
       "latex": [
        "$$\\left ( \\left [ \\left ( 18, \\quad 1, \\quad \\left [ \\left[\\begin{matrix}0\\\\1\\end{matrix}\\right]\\right ]\\right ), \\quad \\left ( 32, \\quad 1, \\quad \\left [ \\left[\\begin{matrix}1\\\\0\\end{matrix}\\right]\\right ]\\right )\\right ], \\quad 1\\right )$$"
       ],
       "metadata": {},
       "output_type": "pyout",
       "png": "[encoded data removed]",
       "prompt_number": 121,
       "text": [
        "\u239b\u23a1\u239b18, 1, \u23a1\u23a10\u23a4\u23a4\u239e, \u239b32, 1, \u23a1\u23a11\u23a4\u23a4\u239e\u23a4, 1\u239e\n",
        "\u239c\u23a2\u239c       \u23a2\u23a2 \u23a5\u23a5\u239f  \u239c       \u23a2\u23a2 \u23a5\u23a5\u239f\u23a5   \u239f\n",
        "\u239d\u23a3\u239d       \u23a3\u23a31\u23a6\u23a6\u23a0  \u239d       \u23a3\u23a30\u23a6\u23a6\u23a0\u23a6   \u23a0"
       ]
      }
     ],
     "prompt_number": 121
    },
    {
     "cell_type": "code",
     "collapsed": false,
     "input": [
      "U = Matrix([ [u[0][2][0][0]/u[0][2][0].norm(),u[0][2][0][1]/u[0][2][0].norm() ], [ u[1][2][0][0]/u[1][2][0].norm(),u[1][2][0][1]/u[1][2][0].norm()] ]) #needs to be divided by the norm\n",
      "V = Matrix([ [v[0][2][0][0]/v[0][2][0].norm(),v[0][2][0][1]/v[0][2][0].norm() ], [ v[1][2][0][0]/v[1][2][0].norm(),v[1][2][0][1]/v[1][2][0].norm()] ])\n",
      "D = Matrix ([[sqrt(v[0][0]),0],[0,sqrt(v[1][0])]])\n",
      "U, V, D"
     ],
     "language": "python",
     "metadata": {},
     "outputs": [
      {
       "latex": [
        "$$\\left ( \\left[\\begin{matrix}- \\frac{\\sqrt{2}}{2} & \\frac{\\sqrt{2}}{2}\\\\\\frac{\\sqrt{2}}{2} & \\frac{\\sqrt{2}}{2}\\end{matrix}\\right], \\quad \\left[\\begin{matrix}0 & 1\\\\1 & 0\\end{matrix}\\right], \\quad \\left[\\begin{matrix}3 \\sqrt{2} & 0\\\\0 & 4 \\sqrt{2}\\end{matrix}\\right]\\right )$$"
       ],
       "metadata": {},
       "output_type": "pyout",
       "png": "[encoded data removed]",
       "prompt_number": 122,
       "text": [
        "\u239b\u23a1   ___     ___\u23a4                            \u239e\n",
        "\u239c\u23a2-\u2572\u2571 2    \u2572\u2571 2 \u23a5          \u23a1    ___         \u23a4\u239f\n",
        "\u239c\u23a2\u2500\u2500\u2500\u2500\u2500\u2500\u2500  \u2500\u2500\u2500\u2500\u2500\u23a5, \u23a10  1\u23a4, \u23a23\u22c5\u2572\u2571 2      0   \u23a5\u239f\n",
        "\u239c\u23a2   2       2  \u23a5  \u23a2    \u23a5  \u23a2                \u23a5\u239f\n",
        "\u239c\u23a2              \u23a5  \u23a31  0\u23a6  \u23a2             ___\u23a5\u239f\n",
        "\u239c\u23a2   ___     ___\u23a5          \u23a3   0     4\u22c5\u2572\u2571 2 \u23a6\u239f\n",
        "\u239c\u23a2 \u2572\u2571 2    \u2572\u2571 2 \u23a5                            \u239f\n",
        "\u239c\u23a2 \u2500\u2500\u2500\u2500\u2500   \u2500\u2500\u2500\u2500\u2500\u23a5                            \u239f\n",
        "\u239d\u23a3   2       2  \u23a6                            \u23a0"
       ]
      }
     ],
     "prompt_number": 122
    },
    {
     "cell_type": "code",
     "collapsed": false,
     "input": [
      "U*D*V.T\n",
      "shape(S)"
     ],
     "language": "python",
     "metadata": {},
     "outputs": [
      {
       "latex": [
        "$$\\left ( 2, \\quad 2\\right )$$"
       ],
       "metadata": {},
       "output_type": "pyout",
       "png": "[encoded data removed]",
       "prompt_number": 133,
       "text": [
        "(2, 2)"
       ]
      }
     ],
     "prompt_number": 133
    },
    {
     "cell_type": "code",
     "collapsed": false,
     "input": [
      "Acheck = np.array(A2)\n",
      "np.linalg.svd(Acheck)"
     ],
     "language": "python",
     "metadata": {},
     "outputs": [
      {
       "metadata": {},
       "output_type": "pyout",
       "prompt_number": 124,
       "text": [
        "(array([[-1.,  0.],\n",
        "        [ 0.,  1.]]),\n",
        " array([ 5.65685425,  4.24264069]),\n",
        " array([[-0.70710678, -0.70710678],\n",
        "        [-0.70710678,  0.70710678]]))"
       ]
      }
     ],
     "prompt_number": 124
    },
    {
     "cell_type": "code",
     "collapsed": false,
     "input": [
      "#A function to do much the examination of S and/or A. \n",
      "#Designed to illustrate the type of questions to ask and answer. \n",
      "def SVD_func(A):\n",
      "    '''This function produces the information for a matrix\n",
      "    Enter a matrix A (2x2)\n",
      "    Returns the SVD U,V and D as matrices.'''\n",
      "    from numpy import matrix\n",
      "    from numpy.linalg import svd\n",
      "    init_printing()\n",
      "    S = A.T*A\n",
      "    \n",
      "    try:\n",
      "        Q = S.diagonalize(sort=True,normalize=True)\n",
      "        Qt = Q[0].T\n",
      "        Lam = Q[1]\n",
      "        print'The symmetric matrix is:',' \\n', S\n",
      "        print\n",
      "        print 'Q is: \\n',Q[0]\n",
      "        print\n",
      "        print 'Q transpose is: \\n',Qt\n",
      "    except MatrixError:\n",
      "        print\"Matrix is not diagonalizable\"\n",
      "    #And the final process is to compute the energy x.T*S*x\n",
      "    E = S.eigenvects()\n",
      "    print'The eigenvalues of S are : ' , E[0][0],' and ',E[1][0]\n",
      "    print\n",
      "    print 'The eigenvectors of S are: \\n ', E[0][2][0],' and ', E[1][2][0]\n",
      "    print\n",
      "    print 'The norms for each eigenvector are: ', E[0][2][0].norm(),' and ', E[1][2][0].norm()\n",
      "    print\n",
      "    print 'The determinant of S is: ', S.det()\n",
      "    print\n",
      "    if shape(S) == (2,2):\n",
      "        x1,x2 = symbols('x_1:3')\n",
      "        X = Matrix([[x1,x2]])\n",
      "        print 'The \"energy\" function is: y = ', X.T.dot(S.dot(X))\n",
      "        print\n",
      "    S = np.matrix(S)\n",
      "    U,D,V = svd(S)\n",
      "    print \"SVD decomposition\"\n",
      "    print '='*60\n",
      "    print 'U is :\\n', U\n",
      "    print\n",
      "    print 'D is: \\n', np.diag(D)\n",
      "    print\n",
      "    print 'V is: \\n', V\n",
      "    print '='*60\n",
      "    \n",
      "    return  U,V,D"
     ],
     "language": "python",
     "metadata": {},
     "outputs": [],
     "prompt_number": 179
    },
    {
     "cell_type": "code",
     "collapsed": false,
     "input": [
      "SVD_func(A)"
     ],
     "language": "python",
     "metadata": {},
     "outputs": [
      {
       "output_type": "stream",
       "stream": "stdout",
       "text": [
        "The symmetric matrix is:  \n",
        "Matrix([[4, 0], [0, 1]])\n",
        "\n",
        "Q is: \n",
        "Matrix([[1, 0], [0, 1]])\n",
        "\n",
        "Q transpose is: \n",
        "Matrix([[1, 0], [0, 1]])\n",
        "The eigenvalues of S are :  1  and  4\n",
        "\n",
        "The eigenvectors of S are: \n",
        "  Matrix([[0], [1]])  and  Matrix([[1], [0]])\n",
        "\n",
        "The norms for each eigenvector are:  1  and  1\n",
        "\n",
        "The determinant of S is:  4\n",
        "\n",
        "The \"energy\" function is: y =  4*x_1**2 + x_2**2\n",
        "\n",
        "SVD decomposition\n",
        "============================================================\n",
        "U is :\n",
        "[[ 1.  0.]\n",
        " [ 0.  1.]]\n",
        "\n",
        "D is: \n",
        "[[ 4.  0.]\n",
        " [ 0.  1.]]\n",
        "\n",
        "V is: \n",
        "[[ 1.  0.]\n",
        " [ 0.  1.]]\n",
        "============================================================\n"
       ]
      },
      {
       "metadata": {},
       "output_type": "pyout",
       "prompt_number": 161,
       "text": [
        "(matrix([[ 1.,  0.],\n",
        "         [ 0.,  1.]]), matrix([[ 1.,  0.],\n",
        "         [ 0.,  1.]]), array([ 4.,  1.]))"
       ]
      }
     ],
     "prompt_number": 161
    },
    {
     "cell_type": "code",
     "collapsed": false,
     "input": [
      "U*D*V"
     ],
     "language": "python",
     "metadata": {},
     "outputs": [
      {
       "latex": [
        "$$\\left[\\begin{matrix}4 & -3\\\\4 & 3\\end{matrix}\\right]$$"
       ],
       "metadata": {},
       "output_type": "pyout",
       "png": "[encoded data removed]",
       "prompt_number": 162,
       "text": [
        "\u23a14  -3\u23a4\n",
        "\u23a2     \u23a5\n",
        "\u23a34  3 \u23a6"
       ]
      }
     ],
     "prompt_number": 162
    },
    {
     "cell_type": "heading",
     "level": 2,
     "metadata": {},
     "source": [
      "Section 7.3: Boundary Conditions replace Initial conditions"
     ]
    },
    {
     "cell_type": "markdown",
     "metadata": {},
     "source": [
      "Probably the heart of this material is that differential functions can also be represented by matrices. This opens up the world of calculus to a more meaningful computational science analysis. \n",
      "\n",
      "Previously, it was shown that a matrix $A$ could be combined with a vector $\\overrightarrow{v}$ to approximate the vector \"function\" $f$, giving $Af = \\frac{df}{dx}$. This is an antisymmetric matrix. \n",
      "\n",
      "Multiplying $A^TA = S$ makes the matrix positive, positive definite typically. \n",
      "\n",
      "This leads to the conclusion that $A^TA = \\int^1_0{f(x)g(x)dx} = f(x)g(x) = (\\frac{-df}{dx})(\\frac{df}{dx}) = -\\frac{df^2}{dx^2} = S$.\n",
      "\n",
      "From this integration, one arrives at a second difference matrix, $K = \\begin{bmatrix}2&-1\\\\-1&2&-1\\\\ &-1&.&.\\\\ & &.&.&-1\\\\ & & &-1&2 \\end{bmatrix}$"
     ]
    },
    {
     "cell_type": "code",
     "collapsed": false,
     "input": [
      "hpad = ones(1,0)\n",
      "vpad = ones(0,1)\n",
      "A = diag(hpad, eye(4)*-1,vpad)+eye(5)\n",
      "A.col_del(-1)\n",
      "A"
     ],
     "language": "python",
     "metadata": {},
     "outputs": [
      {
       "latex": [
        "$$\\left[\\begin{matrix}1 & 0 & 0 & 0\\\\-1 & 1 & 0 & 0\\\\0 & -1 & 1 & 0\\\\0 & 0 & -1 & 1\\\\0 & 0 & 0 & -1\\end{matrix}\\right]$$"
       ],
       "metadata": {},
       "output_type": "pyout",
       "png": "[encoded data removed]",
       "prompt_number": 255,
       "text": [
        "\u23a11   0   0   0 \u23a4\n",
        "\u23a2              \u23a5\n",
        "\u23a2-1  1   0   0 \u23a5\n",
        "\u23a2              \u23a5\n",
        "\u23a20   -1  1   0 \u23a5\n",
        "\u23a2              \u23a5\n",
        "\u23a20   0   -1  1 \u23a5\n",
        "\u23a2              \u23a5\n",
        "\u23a30   0   0   -1\u23a6"
       ]
      }
     ],
     "prompt_number": 255
    },
    {
     "cell_type": "code",
     "collapsed": false,
     "input": [
      "K = A.T*A\n",
      "K"
     ],
     "language": "python",
     "metadata": {},
     "outputs": [
      {
       "latex": [
        "$$\\left[\\begin{matrix}2 & -1 & 0 & 0\\\\-1 & 2 & -1 & 0\\\\0 & -1 & 2 & -1\\\\0 & 0 & -1 & 2\\end{matrix}\\right]$$"
       ],
       "metadata": {},
       "output_type": "pyout",
       "png": "[encoded data removed]",
       "prompt_number": 256,
       "text": [
        "\u23a12   -1  0   0 \u23a4\n",
        "\u23a2              \u23a5\n",
        "\u23a2-1  2   -1  0 \u23a5\n",
        "\u23a2              \u23a5\n",
        "\u23a20   -1  2   -1\u23a5\n",
        "\u23a2              \u23a5\n",
        "\u23a30   0   -1  2 \u23a6"
       ]
      }
     ],
     "prompt_number": 256
    },
    {
     "cell_type": "code",
     "collapsed": false,
     "input": [
      "K.LUsolve(zeros(4,1))"
     ],
     "language": "python",
     "metadata": {},
     "outputs": [
      {
       "latex": [
        "$$\\left[\\begin{matrix}0\\\\0\\\\0\\\\0\\end{matrix}\\right]$$"
       ],
       "metadata": {},
       "output_type": "pyout",
       "png": "[encoded data removed]",
       "prompt_number": 257,
       "text": [
        "\u23a10\u23a4\n",
        "\u23a2 \u23a5\n",
        "\u23a20\u23a5\n",
        "\u23a2 \u23a5\n",
        "\u23a20\u23a5\n",
        "\u23a2 \u23a5\n",
        "\u23a30\u23a6"
       ]
      }
     ],
     "prompt_number": 257
    },
    {
     "cell_type": "code",
     "collapsed": false,
     "input": [
      "B = K.copy()\n",
      "B[0,0] = 1\n",
      "B[3,3] = 1\n",
      "B"
     ],
     "language": "python",
     "metadata": {},
     "outputs": [
      {
       "latex": [
        "$$\\left[\\begin{matrix}1 & -1 & 0 & 0\\\\-1 & 2 & -1 & 0\\\\0 & -1 & 2 & -1\\\\0 & 0 & -1 & 1\\end{matrix}\\right]$$"
       ],
       "metadata": {},
       "output_type": "pyout",
       "png": "[encoded data removed]",
       "prompt_number": 258,
       "text": [
        "\u23a11   -1  0   0 \u23a4\n",
        "\u23a2              \u23a5\n",
        "\u23a2-1  2   -1  0 \u23a5\n",
        "\u23a2              \u23a5\n",
        "\u23a20   -1  2   -1\u23a5\n",
        "\u23a2              \u23a5\n",
        "\u23a30   0   -1  1 \u23a6"
       ]
      }
     ],
     "prompt_number": 258
    },
    {
     "cell_type": "code",
     "collapsed": false,
     "input": [
      "B.LDLsolve(zeros(5,1))"
     ],
     "language": "python",
     "metadata": {},
     "outputs": [
      {
       "latex": [
        "$$\\left[\\begin{matrix}\\mathrm{NaN}\\\\\\mathrm{NaN}\\\\\\mathrm{NaN}\\\\\\mathrm{NaN}\\end{matrix}\\right]$$"
       ],
       "metadata": {},
       "output_type": "pyout",
       "png": "[encoded data removed]",
       "prompt_number": 259,
       "text": [
        "\u23a1nan\u23a4\n",
        "\u23a2   \u23a5\n",
        "\u23a2nan\u23a5\n",
        "\u23a2   \u23a5\n",
        "\u23a2nan\u23a5\n",
        "\u23a2   \u23a5\n",
        "\u23a3nan\u23a6"
       ]
      }
     ],
     "prompt_number": 259
    },
    {
     "cell_type": "code",
     "collapsed": false,
     "input": [
      "#Strang (2014) p.415, Problem 10 Kv = 5*delta(x)\n",
      "K.inv()*K.det(), K.LUsolve(K.col(1))"
     ],
     "language": "python",
     "metadata": {},
     "outputs": [
      {
       "latex": [
        "$$\\left ( \\left[\\begin{matrix}4 & 3 & 2 & 1\\\\3 & 6 & 4 & 2\\\\2 & 4 & 6 & 3\\\\1 & 2 & 3 & 4\\end{matrix}\\right], \\quad \\left[\\begin{matrix}0\\\\1\\\\0\\\\0\\end{matrix}\\right]\\right )$$"
       ],
       "metadata": {},
       "output_type": "pyout",
       "png": "[encoded data removed]",
       "prompt_number": 260,
       "text": [
        "\u239b\u23a14  3  2  1\u23a4, \u23a10\u23a4\u239e\n",
        "\u239c\u23a2          \u23a5  \u23a2 \u23a5\u239f\n",
        "\u239c\u23a23  6  4  2\u23a5  \u23a21\u23a5\u239f\n",
        "\u239c\u23a2          \u23a5  \u23a2 \u23a5\u239f\n",
        "\u239c\u23a22  4  6  3\u23a5  \u23a20\u23a5\u239f\n",
        "\u239c\u23a2          \u23a5  \u23a2 \u23a5\u239f\n",
        "\u239d\u23a31  2  3  4\u23a6  \u23a30\u23a6\u23a0"
       ]
      }
     ],
     "prompt_number": 260
    },
    {
     "cell_type": "code",
     "collapsed": false,
     "input": [
      "K"
     ],
     "language": "python",
     "metadata": {},
     "outputs": [
      {
       "latex": [
        "$$\\left[\\begin{matrix}2 & -1 & 0 & 0\\\\-1 & 2 & -1 & 0\\\\0 & -1 & 2 & -1\\\\0 & 0 & -1 & 2\\end{matrix}\\right]$$"
       ],
       "metadata": {},
       "output_type": "pyout",
       "png": "[encoded data removed]",
       "prompt_number": 261,
       "text": [
        "\u23a12   -1  0   0 \u23a4\n",
        "\u23a2              \u23a5\n",
        "\u23a2-1  2   -1  0 \u23a5\n",
        "\u23a2              \u23a5\n",
        "\u23a20   -1  2   -1\u23a5\n",
        "\u23a2              \u23a5\n",
        "\u23a30   0   -1  2 \u23a6"
       ]
      }
     ],
     "prompt_number": 261
    },
    {
     "cell_type": "code",
     "collapsed": false,
     "input": [
      "#Strang, p.415, Problem 15.\n",
      "K*Matrix([1,8,27,64])\n",
      "#Notice that the result is the second derivative of the cubic function (apart from the last)"
     ],
     "language": "python",
     "metadata": {},
     "outputs": [
      {
       "latex": [
        "$$\\left[\\begin{matrix}-6\\\\-12\\\\-18\\\\101\\end{matrix}\\right]$$"
       ],
       "metadata": {},
       "output_type": "pyout",
       "png": "[encoded data removed]",
       "prompt_number": 262,
       "text": [
        "\u23a1-6 \u23a4\n",
        "\u23a2   \u23a5\n",
        "\u23a2-12\u23a5\n",
        "\u23a2   \u23a5\n",
        "\u23a2-18\u23a5\n",
        "\u23a2   \u23a5\n",
        "\u23a3101\u23a6"
       ]
      }
     ],
     "prompt_number": 262
    },
    {
     "cell_type": "heading",
     "level": 2,
     "metadata": {},
     "source": [
      "7.4: Laplace's Equation and $A^TA$"
     ]
    },
    {
     "cell_type": "markdown",
     "metadata": {},
     "source": [
      "Laplace's Equation for $u(x,y) = - \\frac{\\partial^2 u}{\\partial x^2} - \\frac{\\partial^2 u}{\\partial y^2} = 0$"
     ]
    },
    {
     "cell_type": "code",
     "collapsed": false,
     "input": [
      "#Gradient (2D\n",
      "def sympy_gradient(func, x,y):\n",
      "    '''func must be a Function class'''\n",
      "    return Matrix([diff(func,x),diff(func,y)])\n",
      "def sympy_div(func,x,y):\n",
      "    '''func must be of Function class'''\n",
      "    return Matrix([[-(diff(func,x)),-(diff(func,y))]])\n",
      "#Not completely sure about the div implementation -- the functions should be f1 and f2. \n",
      "\n",
      "sympy_gradient(f(x,y),x,y), sympy_div(f(x,y),x,y)"
     ],
     "language": "python",
     "metadata": {},
     "outputs": [
      {
       "latex": [
        "$$\\left ( \\left[\\begin{matrix}\\frac{\\partial}{\\partial x} f{\\left (x,y \\right )}\\\\\\frac{\\partial}{\\partial y} f{\\left (x,y \\right )}\\end{matrix}\\right], \\quad \\left[\\begin{matrix}- \\frac{\\partial}{\\partial x} f{\\left (x,y \\right )} & - \\frac{\\partial}{\\partial y} f{\\left (x,y \\right )}\\end{matrix}\\right]\\right )$$"
       ],
       "metadata": {},
       "output_type": "pyout",
       "png": "[encoded data removed]",
       "prompt_number": 294,
       "text": [
        "\u239b\u23a1\u2202          \u23a4  \u23a1 \u2202             \u2202          \u23a4\u239e\n",
        "\u239c\u23a2\u2500\u2500(f(x, y))\u23a5, \u23a2-\u2500\u2500(f(x, y))  -\u2500\u2500(f(x, y))\u23a5\u239f\n",
        "\u239c\u23a2\u2202x         \u23a5  \u23a3 \u2202x            \u2202y         \u23a6\u239f\n",
        "\u239c\u23a2           \u23a5                              \u239f\n",
        "\u239c\u23a2\u2202          \u23a5                              \u239f\n",
        "\u239c\u23a2\u2500\u2500(f(x, y))\u23a5                              \u239f\n",
        "\u239d\u23a3\u2202y         \u23a6                              \u23a0"
       ]
      }
     ],
     "prompt_number": 294
    },
    {
     "cell_type": "code",
     "collapsed": false,
     "input": [
      "#%%timeit\n",
      "def ATA(func1,x,y,func2=0):\n",
      "    # = sympy_div(sympy_gradient(func1,x,y)[0],x,y)[0]+sympy_div(sympy_gradient(func1,x,y)[1],x,y)[1]\n",
      "    return Eq(-diff(func1,x,2)-diff(f(x,y),y,2),func2)#Eq(Atrans,func2)\n",
      "ATA(f(x,y),x,y,g(x,y))"
     ],
     "language": "python",
     "metadata": {},
     "outputs": [
      {
       "latex": [
        "$$- \\frac{\\partial^{2}}{\\partial x^{2}}  f{\\left (x,y \\right )} - \\frac{\\partial^{2}}{\\partial y^{2}}  f{\\left (x,y \\right )} = g{\\left (x,y \\right )}$$"
       ],
       "metadata": {},
       "output_type": "pyout",
       "png": "[encoded data removed]",
       "prompt_number": 316,
       "text": [
        "    2              2                   \n",
        "   \u2202              \u2202                    \n",
        "- \u2500\u2500\u2500(f(x, y)) - \u2500\u2500\u2500(f(x, y)) = g(x, y)\n",
        "    2              2                   \n",
        "  \u2202x             \u2202y                    "
       ]
      }
     ],
     "prompt_number": 316
    },
    {
     "cell_type": "code",
     "collapsed": false,
     "input": [
      "#The solutions of f(x,y) = 1,x,y,x**2-y**2, and below, all evaluate to True as the Eq = 0 at these values. \n",
      "ATA(f(x,y),x,y).subs({f(x,y):k*cos(t)}).doit()"
     ],
     "language": "python",
     "metadata": {},
     "outputs": [
      {
       "latex": [
        "$$\\mathrm{True}$$"
       ],
       "metadata": {},
       "output_type": "pyout",
       "png": "[encoded data removed]",
       "prompt_number": 324,
       "text": [
        "True"
       ]
      }
     ],
     "prompt_number": 324
    },
    {
     "cell_type": "markdown",
     "metadata": {},
     "source": [
      "Any $(x + iy)^n = (re^{i\\theta})^n = r^ne^{i\\theta}$"
     ]
    },
    {
     "cell_type": "code",
     "collapsed": false,
     "input": [
      "Lap = Eq((x+I*y)**k)\n",
      "expand(Lap.subs(k,3))"
     ],
     "language": "python",
     "metadata": {},
     "outputs": [
      {
       "latex": [
        "$$x^{3} + 3 i x^{2} y - 3 x y^{2} - i y^{3} = 0$$"
       ],
       "metadata": {},
       "output_type": "pyout",
       "png": "[encoded data removed]",
       "prompt_number": 328,
       "text": [
        " 3        2          2      3    \n",
        "x  + 3\u22c5\u2148\u22c5x \u22c5y - 3\u22c5x\u22c5y  - \u2148\u22c5y  = 0"
       ]
      }
     ],
     "prompt_number": 328
    },
    {
     "cell_type": "code",
     "collapsed": false,
     "input": [
      "#To create the finite difference matrix the MATLAB equivalent is teh TesnorProduct function. \n",
      "from sympy.physics.quantum import TensorProduct\n",
      "Kinterim = Matrix([[-1,2,-1]])\n",
      "K2D = TensorProduct(eye(3),K)+TensorProduct(K, eye(3))\n",
      "K2D\n",
      "#Not completely a correct solution"
     ],
     "language": "python",
     "metadata": {},
     "outputs": [
      {
       "latex": [
        "$$\\left[\\begin{array}{cccccccccccc}4 & -1 & 0 & -1 & 0 & 0 & 0 & 0 & 0 & 0 & 0 & 0\\\\-1 & 4 & -1 & 0 & -1 & 0 & 0 & 0 & 0 & 0 & 0 & 0\\\\0 & -1 & 4 & -1 & 0 & -1 & 0 & 0 & 0 & 0 & 0 & 0\\\\-1 & 0 & -1 & 4 & 0 & 0 & -1 & 0 & 0 & 0 & 0 & 0\\\\0 & -1 & 0 & 0 & 4 & -1 & 0 & -1 & 0 & 0 & 0 & 0\\\\0 & 0 & -1 & 0 & -1 & 4 & -1 & 0 & -1 & 0 & 0 & 0\\\\0 & 0 & 0 & -1 & 0 & -1 & 4 & -1 & 0 & -1 & 0 & 0\\\\0 & 0 & 0 & 0 & -1 & 0 & -1 & 4 & 0 & 0 & -1 & 0\\\\0 & 0 & 0 & 0 & 0 & -1 & 0 & 0 & 4 & -1 & 0 & -1\\\\0 & 0 & 0 & 0 & 0 & 0 & -1 & 0 & -1 & 4 & -1 & 0\\\\0 & 0 & 0 & 0 & 0 & 0 & 0 & -1 & 0 & -1 & 4 & -1\\\\0 & 0 & 0 & 0 & 0 & 0 & 0 & 0 & -1 & 0 & -1 & 4\\end{array}\\right]$$"
       ],
       "metadata": {},
       "output_type": "pyout",
       "png": "[encoded data removed]",
       "prompt_number": 349,
       "text": [
        "\u23a14   -1  0   -1  0   0   0   0   0   0   0   0 \u23a4\n",
        "\u23a2                                              \u23a5\n",
        "\u23a2-1  4   -1  0   -1  0   0   0   0   0   0   0 \u23a5\n",
        "\u23a2                                              \u23a5\n",
        "\u23a20   -1  4   -1  0   -1  0   0   0   0   0   0 \u23a5\n",
        "\u23a2                                              \u23a5\n",
        "\u23a2-1  0   -1  4   0   0   -1  0   0   0   0   0 \u23a5\n",
        "\u23a2                                              \u23a5\n",
        "\u23a20   -1  0   0   4   -1  0   -1  0   0   0   0 \u23a5\n",
        "\u23a2                                              \u23a5\n",
        "\u23a20   0   -1  0   -1  4   -1  0   -1  0   0   0 \u23a5\n",
        "\u23a2                                              \u23a5\n",
        "\u23a20   0   0   -1  0   -1  4   -1  0   -1  0   0 \u23a5\n",
        "\u23a2                                              \u23a5\n",
        "\u23a20   0   0   0   -1  0   -1  4   0   0   -1  0 \u23a5\n",
        "\u23a2                                              \u23a5\n",
        "\u23a20   0   0   0   0   -1  0   0   4   -1  0   -1\u23a5\n",
        "\u23a2                                              \u23a5\n",
        "\u23a20   0   0   0   0   0   -1  0   -1  4   -1  0 \u23a5\n",
        "\u23a2                                              \u23a5\n",
        "\u23a20   0   0   0   0   0   0   -1  0   -1  4   -1\u23a5\n",
        "\u23a2                                              \u23a5\n",
        "\u23a30   0   0   0   0   0   0   0   -1  0   -1  4 \u23a6"
       ]
      }
     ],
     "prompt_number": 349
    },
    {
     "cell_type": "code",
     "collapsed": false,
     "input": [
      "from scipy.linalg import toeplitz\n",
      "from scipy import sparse\n",
      "def finite_difference(size):\n",
      "    \"\"\" returns a toeplitz matrix\n",
      "    for finite differences\n",
      "    \"\"\"\n",
      "    r = zeros(size)\n",
      "    c = zeros(size)\n",
      "    r[0] = 4\n",
      "    r[1] = -1\n",
      "    r[3] = -1\n",
      "    c[3] = -1\n",
      "    c[1] = -1\n",
      "    return toeplitz(r,c)\n",
      "K2D2 = finite_difference(4)\n",
      "K2D2, shape(K2D2),sparse.diags([-1, -1, 4, -1, -1], [-3, -1, 0, 1, 3], shape=(16, 16)).toarray()"
     ],
     "language": "python",
     "metadata": {},
     "outputs": [
      {
       "metadata": {},
       "output_type": "pyout",
       "prompt_number": 404,
       "text": [
        "(array([[4, -1, 0, -1, 0, 0, 0, 0, 0, 0, 0, 0, 0, 0, 0, 0],\n",
        "        [-1, 4, -1, 0, -1, 0, 0, 0, 0, 0, 0, 0, 0, 0, 0, 0],\n",
        "        [0, -1, 4, -1, 0, -1, 0, 0, 0, 0, 0, 0, 0, 0, 0, 0],\n",
        "        [-1, 0, -1, 4, -1, 0, -1, 0, 0, 0, 0, 0, 0, 0, 0, 0],\n",
        "        [0, -1, 0, -1, 4, -1, 0, -1, 0, 0, 0, 0, 0, 0, 0, 0],\n",
        "        [0, 0, -1, 0, -1, 4, -1, 0, -1, 0, 0, 0, 0, 0, 0, 0],\n",
        "        [0, 0, 0, -1, 0, -1, 4, -1, 0, -1, 0, 0, 0, 0, 0, 0],\n",
        "        [0, 0, 0, 0, -1, 0, -1, 4, -1, 0, -1, 0, 0, 0, 0, 0],\n",
        "        [0, 0, 0, 0, 0, -1, 0, -1, 4, -1, 0, -1, 0, 0, 0, 0],\n",
        "        [0, 0, 0, 0, 0, 0, -1, 0, -1, 4, -1, 0, -1, 0, 0, 0],\n",
        "        [0, 0, 0, 0, 0, 0, 0, -1, 0, -1, 4, -1, 0, -1, 0, 0],\n",
        "        [0, 0, 0, 0, 0, 0, 0, 0, -1, 0, -1, 4, -1, 0, -1, 0],\n",
        "        [0, 0, 0, 0, 0, 0, 0, 0, 0, -1, 0, -1, 4, -1, 0, -1],\n",
        "        [0, 0, 0, 0, 0, 0, 0, 0, 0, 0, -1, 0, -1, 4, -1, 0],\n",
        "        [0, 0, 0, 0, 0, 0, 0, 0, 0, 0, 0, -1, 0, -1, 4, -1],\n",
        "        [0, 0, 0, 0, 0, 0, 0, 0, 0, 0, 0, 0, -1, 0, -1, 4]], dtype=object),\n",
        " (16, 16),\n",
        " array([[ 4., -1.,  0., -1.,  0.,  0.,  0.,  0.,  0.,  0.,  0.,  0.,  0.,\n",
        "          0.,  0.,  0.],\n",
        "        [-1.,  4., -1.,  0., -1.,  0.,  0.,  0.,  0.,  0.,  0.,  0.,  0.,\n",
        "          0.,  0.,  0.],\n",
        "        [ 0., -1.,  4., -1.,  0., -1.,  0.,  0.,  0.,  0.,  0.,  0.,  0.,\n",
        "          0.,  0.,  0.],\n",
        "        [-1.,  0., -1.,  4., -1.,  0., -1.,  0.,  0.,  0.,  0.,  0.,  0.,\n",
        "          0.,  0.,  0.],\n",
        "        [ 0., -1.,  0., -1.,  4., -1.,  0., -1.,  0.,  0.,  0.,  0.,  0.,\n",
        "          0.,  0.,  0.],\n",
        "        [ 0.,  0., -1.,  0., -1.,  4., -1.,  0., -1.,  0.,  0.,  0.,  0.,\n",
        "          0.,  0.,  0.],\n",
        "        [ 0.,  0.,  0., -1.,  0., -1.,  4., -1.,  0., -1.,  0.,  0.,  0.,\n",
        "          0.,  0.,  0.],\n",
        "        [ 0.,  0.,  0.,  0., -1.,  0., -1.,  4., -1.,  0., -1.,  0.,  0.,\n",
        "          0.,  0.,  0.],\n",
        "        [ 0.,  0.,  0.,  0.,  0., -1.,  0., -1.,  4., -1.,  0., -1.,  0.,\n",
        "          0.,  0.,  0.],\n",
        "        [ 0.,  0.,  0.,  0.,  0.,  0., -1.,  0., -1.,  4., -1.,  0., -1.,\n",
        "          0.,  0.,  0.],\n",
        "        [ 0.,  0.,  0.,  0.,  0.,  0.,  0., -1.,  0., -1.,  4., -1.,  0.,\n",
        "         -1.,  0.,  0.],\n",
        "        [ 0.,  0.,  0.,  0.,  0.,  0.,  0.,  0., -1.,  0., -1.,  4., -1.,\n",
        "          0., -1.,  0.],\n",
        "        [ 0.,  0.,  0.,  0.,  0.,  0.,  0.,  0.,  0., -1.,  0., -1.,  4.,\n",
        "         -1.,  0., -1.],\n",
        "        [ 0.,  0.,  0.,  0.,  0.,  0.,  0.,  0.,  0.,  0., -1.,  0., -1.,\n",
        "          4., -1.,  0.],\n",
        "        [ 0.,  0.,  0.,  0.,  0.,  0.,  0.,  0.,  0.,  0.,  0., -1.,  0.,\n",
        "         -1.,  4., -1.],\n",
        "        [ 0.,  0.,  0.,  0.,  0.,  0.,  0.,  0.,  0.,  0.,  0.,  0., -1.,\n",
        "          0., -1.,  4.]]))"
       ]
      }
     ],
     "prompt_number": 404
    },
    {
     "cell_type": "code",
     "collapsed": false,
     "input": [
      "%%timeit\n",
      "sparse.diags([-1, -1, 4, -1, -1], [-3, -1, 0, 1, 3], shape=(10000, 10000))"
     ],
     "language": "python",
     "metadata": {},
     "outputs": [
      {
       "output_type": "stream",
       "stream": "stdout",
       "text": [
        "10000 loops, best of 3: 136 \u00b5s per loop\n"
       ]
      }
     ],
     "prompt_number": 414
    },
    {
     "cell_type": "code",
     "collapsed": false,
     "input": [
      "%%timeit\n",
      "finite_difference(100)"
     ],
     "language": "python",
     "metadata": {},
     "outputs": [
      {
       "output_type": "stream",
       "stream": "stdout",
       "text": [
        "1 loops, best of 3: 1.38 s per loop\n"
       ]
      }
     ],
     "prompt_number": 406
    },
    {
     "cell_type": "markdown",
     "metadata": {},
     "source": [
      "Oddly enough, the function above seems as fast as the sparse matrix for small matrices. For a 10000 x 10000 matrix, the difference is 16ms for sparse compared to 1.4s for the function.When the function is not returned as an array, the time lowers to 126 microsecs."
     ]
    },
    {
     "cell_type": "code",
     "collapsed": false,
     "input": [
      "w,v = linalg.eig(sparse.diags([-1, -1, 4, -1, -1], [-3, -1, 0, 1, 3], shape=(16, 16)).toarray())\n",
      "w[0], v[0]"
     ],
     "language": "python",
     "metadata": {},
     "outputs": [
      {
       "metadata": {},
       "output_type": "pyout",
       "prompt_number": 417,
       "text": [
        "(7.7117808948322137,\n",
        " array([-0.10521129,  0.10521129,  0.20859121, -0.20859121, -0.31102535,\n",
        "        -0.31102535, -0.31589023, -0.12711864, -0.25225903, -0.34529083,\n",
        "         0.2233324 , -0.31589023,  0.12711864,  0.25225903,  0.2233324 ,\n",
        "         0.34529083]))"
       ]
      }
     ],
     "prompt_number": 417
    },
    {
     "cell_type": "code",
     "collapsed": false,
     "input": [
      "T = toeplitz([4,-1,0,-1, ],[4,-1,0,-1])\n",
      "w1,v1 = linalg.eig(T)\n",
      "w1,v1"
     ],
     "language": "python",
     "metadata": {},
     "outputs": [
      {
       "metadata": {},
       "output_type": "pyout",
       "prompt_number": 437,
       "text": [
        "(array([ 2.,  4.,  6.,  4.]),\n",
        " array([[  5.00000000e-01,   7.07106781e-01,  -5.00000000e-01,\n",
        "           1.11022302e-16],\n",
        "        [  5.00000000e-01,  -5.55111512e-17,   5.00000000e-01,\n",
        "          -7.07106781e-01],\n",
        "        [  5.00000000e-01,  -7.07106781e-01,  -5.00000000e-01,\n",
        "           5.17014681e-16],\n",
        "        [  5.00000000e-01,   5.64652491e-16,   5.00000000e-01,\n",
        "           7.07106781e-01]]))"
       ]
      }
     ],
     "prompt_number": 437
    },
    {
     "cell_type": "heading",
     "level": 2,
     "metadata": {},
     "source": [
      "7.5: Networks and the Graph Laplacian"
     ]
    },
    {
     "cell_type": "markdown",
     "metadata": {},
     "source": [
      "This section is about how the Laplacian matrix  $A^TA$ relates to the graph incidence matrix. It is a primer for the CSE text by Strang. "
     ]
    },
    {
     "cell_type": "code",
     "collapsed": false,
     "input": [
      "#Create the incidence matrix A.\n",
      "A = Matrix([[1,-1,0,0],[-1,0,1,0],[0,-1,1,0],[-1,0,0,1],[0,-1,0,1]])\n",
      "A"
     ],
     "language": "python",
     "metadata": {},
     "outputs": [
      {
       "latex": [
        "$$\\left[\\begin{matrix}1 & -1 & 0 & 0\\\\-1 & 0 & 1 & 0\\\\0 & -1 & 1 & 0\\\\-1 & 0 & 0 & 1\\\\0 & -1 & 0 & 1\\end{matrix}\\right]$$"
       ],
       "metadata": {},
       "output_type": "pyout",
       "png": "[encoded data removed]",
       "prompt_number": 448,
       "text": [
        "\u23a11   -1  0  0\u23a4\n",
        "\u23a2            \u23a5\n",
        "\u23a2-1  0   1  0\u23a5\n",
        "\u23a2            \u23a5\n",
        "\u23a20   -1  1  0\u23a5\n",
        "\u23a2            \u23a5\n",
        "\u23a2-1  0   0  1\u23a5\n",
        "\u23a2            \u23a5\n",
        "\u23a30   -1  0  1\u23a6"
       ]
      }
     ],
     "prompt_number": 448
    },
    {
     "cell_type": "code",
     "collapsed": false,
     "input": [
      "L = A.T*A\n",
      "L, L.eigenvects(), L.det()"
     ],
     "language": "python",
     "metadata": {},
     "outputs": [
      {
       "latex": [
        "$$\\left ( \\left[\\begin{matrix}3 & -1 & -1 & -1\\\\-1 & 3 & -1 & -1\\\\-1 & -1 & 2 & 0\\\\-1 & -1 & 0 & 2\\end{matrix}\\right], \\quad \\left [ \\left ( 0, \\quad 1, \\quad \\left [ \\left[\\begin{matrix}1\\\\1\\\\1\\\\1\\end{matrix}\\right]\\right ]\\right ), \\quad \\left ( 2, \\quad 1, \\quad \\left [ \\left[\\begin{matrix}0\\\\0\\\\-1\\\\1\\end{matrix}\\right]\\right ]\\right ), \\quad \\left ( 4, \\quad 2, \\quad \\left [ \\left[\\begin{matrix}-1\\\\1\\\\0\\\\0\\end{matrix}\\right], \\quad \\left[\\begin{matrix}-2\\\\0\\\\1\\\\1\\end{matrix}\\right]\\right ]\\right )\\right ], \\quad 0\\right )$$"
       ],
       "metadata": {},
       "output_type": "pyout",
       "png": "[encoded data removed]",
       "prompt_number": 451,
       "text": [
        "\u239b\u23a13   -1  -1  -1\u23a4, \u23a1\u239b0, 1, \u23a1\u23a11\u23a4\u23a4\u239e, \u239b2, 1, \u23a1\u23a10 \u23a4\u23a4\u239e, \u239b4, 2, \u23a1\u23a1-1\u23a4, \u23a1-2\u23a4\u23a4\u239e\u23a4, 0\u239e\n",
        "\u239c\u23a2              \u23a5  \u23a2\u239c      \u23a2\u23a2 \u23a5\u23a5\u239f  \u239c      \u23a2\u23a2  \u23a5\u23a5\u239f  \u239c      \u23a2\u23a2  \u23a5  \u23a2  \u23a5\u23a5\u239f\u23a5   \u239f\n",
        "\u239c\u23a2-1  3   -1  -1\u23a5  \u23a2\u239c      \u23a2\u23a21\u23a5\u23a5\u239f  \u239c      \u23a2\u23a20 \u23a5\u23a5\u239f  \u239c      \u23a2\u23a21 \u23a5  \u23a20 \u23a5\u23a5\u239f\u23a5   \u239f\n",
        "\u239c\u23a2              \u23a5  \u23a2\u239c      \u23a2\u23a2 \u23a5\u23a5\u239f  \u239c      \u23a2\u23a2  \u23a5\u23a5\u239f  \u239c      \u23a2\u23a2  \u23a5  \u23a2  \u23a5\u23a5\u239f\u23a5   \u239f\n",
        "\u239c\u23a2-1  -1  2   0 \u23a5  \u23a2\u239c      \u23a2\u23a21\u23a5\u23a5\u239f  \u239c      \u23a2\u23a2-1\u23a5\u23a5\u239f  \u239c      \u23a2\u23a20 \u23a5  \u23a21 \u23a5\u23a5\u239f\u23a5   \u239f\n",
        "\u239c\u23a2              \u23a5  \u23a2\u239c      \u23a2\u23a2 \u23a5\u23a5\u239f  \u239c      \u23a2\u23a2  \u23a5\u23a5\u239f  \u239c      \u23a2\u23a2  \u23a5  \u23a2  \u23a5\u23a5\u239f\u23a5   \u239f\n",
        "\u239d\u23a3-1  -1  0   2 \u23a6  \u23a3\u239d      \u23a3\u23a31\u23a6\u23a6\u23a0  \u239d      \u23a3\u23a31 \u23a6\u23a6\u23a0  \u239d      \u23a3\u23a30 \u23a6  \u23a31 \u23a6\u23a6\u23a0\u23a6   \u23a0"
       ]
      }
     ],
     "prompt_number": 451
    },
    {
     "cell_type": "code",
     "collapsed": false,
     "input": [
      "v1,v2,v3,v4,v5 = symbols('v_1:6')\n",
      "V = Matrix([v1,v2,v3,v4])\n",
      "A*V"
     ],
     "language": "python",
     "metadata": {},
     "outputs": [
      {
       "latex": [
        "$$\\left[\\begin{matrix}v_{1} - v_{2}\\\\- v_{1} + v_{3}\\\\- v_{2} + v_{3}\\\\- v_{1} + v_{4}\\\\- v_{2} + v_{4}\\end{matrix}\\right]$$"
       ],
       "metadata": {},
       "output_type": "pyout",
       "png": "[encoded data removed]",
       "prompt_number": 459,
       "text": [
        "\u23a1v\u2081 - v\u2082 \u23a4\n",
        "\u23a2        \u23a5\n",
        "\u23a2-v\u2081 + v\u2083\u23a5\n",
        "\u23a2        \u23a5\n",
        "\u23a2-v\u2082 + v\u2083\u23a5\n",
        "\u23a2        \u23a5\n",
        "\u23a2-v\u2081 + v\u2084\u23a5\n",
        "\u23a2        \u23a5\n",
        "\u23a3-v\u2082 + v\u2084\u23a6"
       ]
      }
     ],
     "prompt_number": 459
    },
    {
     "cell_type": "code",
     "collapsed": false,
     "input": [
      "#Energy\n",
      "V.T*(A.T*A)*V "
     ],
     "language": "python",
     "metadata": {},
     "outputs": [
      {
       "latex": [
        "$$\\left[\\begin{matrix}v_{1} \\left(3 v_{1} - v_{2} - v_{3} - v_{4}\\right) + v_{2} \\left(- v_{1} + 3 v_{2} - v_{3} - v_{4}\\right) + v_{3} \\left(- v_{1} - v_{2} + 2 v_{3}\\right) + v_{4} \\left(- v_{1} - v_{2} + 2 v_{4}\\right)\\end{matrix}\\right]$$"
       ],
       "metadata": {},
       "output_type": "pyout",
       "png": "[encoded data removed]",
       "prompt_number": 484,
       "text": [
        "[v\u2081\u22c5(3\u22c5v\u2081 - v\u2082 - v\u2083 - v\u2084) + v\u2082\u22c5(-v\u2081 + 3\u22c5v\u2082 - v\u2083 - v\u2084) + v\u2083\u22c5(-v\u2081 - v\u2082 + 2\u22c5v\u2083) +\n",
        " v\u2084\u22c5(-v\u2081 - v\u2082 + 2\u22c5v\u2084)]"
       ]
      }
     ],
     "prompt_number": 484
    },
    {
     "cell_type": "code",
     "collapsed": false,
     "input": [
      "#This method produces a more useful result. \n",
      "(A*V).T*(A*V)"
     ],
     "language": "python",
     "metadata": {},
     "outputs": [
      {
       "latex": [
        "$$\\left[\\begin{matrix}\\left(- v_{1} + v_{3}\\right)^{2} + \\left(- v_{1} + v_{4}\\right)^{2} + \\left(v_{1} - v_{2}\\right)^{2} + \\left(- v_{2} + v_{3}\\right)^{2} + \\left(- v_{2} + v_{4}\\right)^{2}\\end{matrix}\\right]$$"
       ],
       "metadata": {},
       "output_type": "pyout",
       "png": "[encoded data removed]",
       "prompt_number": 485,
       "text": [
        "\u23a1          2             2            2             2             2\u23a4\n",
        "\u23a3(-v\u2081 + v\u2083)  + (-v\u2081 + v\u2084)  + (v\u2081 - v\u2082)  + (-v\u2082 + v\u2083)  + (-v\u2082 + v\u2084) \u23a6"
       ]
      }
     ],
     "prompt_number": 485
    },
    {
     "cell_type": "code",
     "collapsed": false,
     "input": [
      "#Are they the same?\n",
      "expand((A*V).T*(A*V)) == expand(V.T*(A.T*A)*V)"
     ],
     "language": "python",
     "metadata": {},
     "outputs": [
      {
       "metadata": {},
       "output_type": "pyout",
       "prompt_number": 486,
       "text": [
        "True"
       ]
      }
     ],
     "prompt_number": 486
    },
    {
     "cell_type": "code",
     "collapsed": false,
     "input": [
      "#Sometimes there is weighting that needs to occur, using the matrix C. E.g., voltage \n",
      "c1,c2,c3,c4,c5 = symbols('c_1:6')\n",
      "C = Matrix([[c1,0,0,0,0],[0,c2,0,0,0],[0,0,c3,0,0],[0,0,0,c4,0],[0,0,0,0,c5]])\n",
      "C, A.T*C*A"
     ],
     "language": "python",
     "metadata": {},
     "outputs": [
      {
       "latex": [
        "$$\\left ( \\left[\\begin{matrix}c_{1} & 0 & 0 & 0 & 0\\\\0 & c_{2} & 0 & 0 & 0\\\\0 & 0 & c_{3} & 0 & 0\\\\0 & 0 & 0 & c_{4} & 0\\\\0 & 0 & 0 & 0 & c_{5}\\end{matrix}\\right], \\quad \\left[\\begin{matrix}c_{1} + c_{2} + c_{4} & - c_{1} & - c_{2} & - c_{4}\\\\- c_{1} & c_{1} + c_{3} + c_{5} & - c_{3} & - c_{5}\\\\- c_{2} & - c_{3} & c_{2} + c_{3} & 0\\\\- c_{4} & - c_{5} & 0 & c_{4} + c_{5}\\end{matrix}\\right]\\right )$$"
       ],
       "metadata": {},
       "output_type": "pyout",
       "png": "[encoded data removed]",
       "prompt_number": 498,
       "text": [
        "\u239b\u23a1c\u2081  0   0   0   0 \u23a4, \u23a1c\u2081 + c\u2082 + c\u2084      -c\u2081         -c\u2082      -c\u2084  \u23a4\u239e\n",
        "\u239c\u23a2                  \u23a5  \u23a2                                            \u23a5\u239f\n",
        "\u239c\u23a20   c\u2082  0   0   0 \u23a5  \u23a2    -c\u2081       c\u2081 + c\u2083 + c\u2085    -c\u2083      -c\u2085  \u23a5\u239f\n",
        "\u239c\u23a2                  \u23a5  \u23a2                                            \u23a5\u239f\n",
        "\u239c\u23a20   0   c\u2083  0   0 \u23a5  \u23a2    -c\u2082           -c\u2083       c\u2082 + c\u2083     0   \u23a5\u239f\n",
        "\u239c\u23a2                  \u23a5  \u23a2                                            \u23a5\u239f\n",
        "\u239c\u23a20   0   0   c\u2084  0 \u23a5  \u23a3    -c\u2084           -c\u2085          0     c\u2084 + c\u2085\u23a6\u239f\n",
        "\u239c\u23a2                  \u23a5                                                \u239f\n",
        "\u239d\u23a30   0   0   0   c\u2085\u23a6                                                \u23a0"
       ]
      }
     ],
     "prompt_number": 498
    },
    {
     "cell_type": "code",
     "collapsed": false,
     "input": [
      "#page 425, Not sure how this becomes immediately useful.\n",
      "Cinv, AT, Asym,W,V = symbols('C^-1, A^T A w v')\n",
      "Cinv, AT, Asym,W,V\n",
      "Matrix([[Cinv, Asym],[AT,0]]),Matrix([W,V])"
     ],
     "language": "python",
     "metadata": {},
     "outputs": [
      {
       "latex": [
        "$$\\left ( \\left[\\begin{matrix}C^{-1} & A\\\\A^{T} & 0\\end{matrix}\\right], \\quad \\left[\\begin{matrix}w\\\\v\\end{matrix}\\right]\\right )$$"
       ],
       "metadata": {},
       "output_type": "pyout",
       "png": "[encoded data removed]",
       "prompt_number": 506,
       "text": [
        "\u239b\u23a1C\u207b\u00b9   A\u23a4, \u23a1w\u23a4\u239e\n",
        "\u239c\u23a2       \u23a5  \u23a2 \u23a5\u239f\n",
        "\u239d\u23a3A__T  0\u23a6  \u23a3v\u23a6\u23a0"
       ]
      }
     ],
     "prompt_number": 506
    },
    {
     "cell_type": "code",
     "collapsed": false,
     "input": [],
     "language": "python",
     "metadata": {},
     "outputs": []
    }
   ],
   "metadata": {}
  }
 ]
}