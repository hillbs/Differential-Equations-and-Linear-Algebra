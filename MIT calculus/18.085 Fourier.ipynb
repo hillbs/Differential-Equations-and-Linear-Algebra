{
 "metadata": {
  "name": "",
  "signature": "sha256:0ffcada3e9333aebd2001f4f273236786804c27c6f819bb335e311b708567c6f"
 },
 "nbformat": 3,
 "nbformat_minor": 0,
 "worksheets": [
  {
   "cells": [
    {
     "cell_type": "heading",
     "level": 1,
     "metadata": {},
     "source": [
      "Fourier Series, function and transforms"
     ]
    },
    {
     "cell_type": "code",
     "collapsed": false,
     "input": [
      "from sympy import *\n",
      "init_session()\n",
      "L = symbols('L', real=True) #Period of a function\n",
      "S,C = symbols('S C', cls=Function)\n",
      "c0, cn,a0,bk = symbols('c_0 c_n a_0 b_k',real=True)"
     ],
     "language": "python",
     "metadata": {},
     "outputs": [
      {
       "output_type": "stream",
       "stream": "stdout",
       "text": [
        "IPython console for SymPy 0.7.6.1 (Python 2.7.9-64-bit) (ground types: python)\n",
        "\n",
        "These commands were executed:\n",
        ">>> from __future__ import division\n",
        ">>> from sympy import *\n",
        ">>> x, y, z, t = symbols('x y z t')\n",
        ">>> k, m, n = symbols('k m n', integer=True)\n",
        ">>> f, g, h = symbols('f g h', cls=Function)\n",
        ">>> init_printing()\n",
        "\n",
        "Documentation can be found at http://www.sympy.org\n"
       ]
      }
     ],
     "prompt_number": 1
    },
    {
     "cell_type": "heading",
     "level": 2,
     "metadata": {},
     "source": [
      "Principle 1: Orthogonality"
     ]
    },
    {
     "cell_type": "code",
     "collapsed": false,
     "input": [
      "Eq(Eq(S(x),(Integral(sin((n*pi*x)/L)*sin((m*pi*x)/L),(x,-L,L)))),0)"
     ],
     "language": "python",
     "metadata": {},
     "outputs": [
      {
       "latex": [
        "$$S{\\left (x \\right )} = \\int_{- L}^{L} \\sin{\\left (\\frac{\\pi x}{L} m \\right )} \\sin{\\left (\\frac{\\pi x}{L} n \\right )}\\, dx = 0$$"
       ],
       "metadata": {},
       "output_type": "pyout",
       "png": "[encoded data removed]",
       "prompt_number": 2,
       "text": [
        "       L                              \n",
        "       \u2320                              \n",
        "       \u23ae     \u239b\u03c0\u22c5m\u22c5x\u239e    \u239b\u03c0\u22c5n\u22c5x\u239e       \n",
        "S(x) = \u23ae  sin\u239c\u2500\u2500\u2500\u2500\u2500\u239f\u22c5sin\u239c\u2500\u2500\u2500\u2500\u2500\u239f dx = 0\n",
        "       \u23ae     \u239d  L  \u23a0    \u239d  L  \u23a0       \n",
        "       \u2321                              \n",
        "       -L                             "
       ]
      }
     ],
     "prompt_number": 2
    },
    {
     "cell_type": "code",
     "collapsed": false,
     "input": [
      "#Most important, consider the complex series\n",
      "Eq(Eq(S(x),(Integral(exp((I*n*pi*x)/L)*exp((-I*m*pi*x)/L),(x,-L,L)))),0)"
     ],
     "language": "python",
     "metadata": {},
     "outputs": [
      {
       "latex": [
        "$$S{\\left (x \\right )} = \\int_{- L}^{L} e^{- \\frac{i \\pi}{L} m x} e^{\\frac{i \\pi}{L} n x}\\, dx = 0$$"
       ],
       "metadata": {},
       "output_type": "pyout",
       "png": "[encoded data removed]",
       "prompt_number": 3,
       "text": [
        "       L                            \n",
        "       \u2320                            \n",
        "       \u23ae   -\u2148\u22c5\u03c0\u22c5m\u22c5x   \u2148\u22c5\u03c0\u22c5n\u22c5x       \n",
        "       \u23ae   \u2500\u2500\u2500\u2500\u2500\u2500\u2500\u2500\u2500  \u2500\u2500\u2500\u2500\u2500\u2500\u2500       \n",
        "       \u23ae       L         L          \n",
        "S(x) = \u23ae  \u212f         \u22c5\u212f        dx = 0\n",
        "       \u2321                            \n",
        "       -L                           "
       ]
      }
     ],
     "prompt_number": 3
    },
    {
     "cell_type": "heading",
     "level": 2,
     "metadata": {},
     "source": [
      "Principle 2: Domain sets cn"
     ]
    },
    {
     "cell_type": "code",
     "collapsed": false,
     "input": [
      "Eq(f(x),summation(cn*exp((I*pi*x*n)/L),(n,-oo,oo)))"
     ],
     "language": "python",
     "metadata": {},
     "outputs": [
      {
       "latex": [
        "$$f{\\left (x \\right )} = \\sum_{n=-\\infty}^{\\infty} c_{n} e^{\\frac{i \\pi}{L} n x}$$"
       ],
       "metadata": {},
       "output_type": "pyout",
       "png": "[encoded data removed]",
       "prompt_number": 4,
       "text": [
        "         \u221e                \n",
        "        ____              \n",
        "        \u2572                 \n",
        "         \u2572         \u2148\u22c5\u03c0\u22c5n\u22c5x\n",
        "          \u2572        \u2500\u2500\u2500\u2500\u2500\u2500\u2500\n",
        "f(x) =    \u2571           L   \n",
        "         \u2571    c_n\u22c5\u212f       \n",
        "        \u2571                 \n",
        "        \u203e\u203e\u203e\u203e              \n",
        "       n = -\u221e             "
       ]
      }
     ],
     "prompt_number": 4
    },
    {
     "cell_type": "code",
     "collapsed": false,
     "input": [
      "Eq(Integral(f(x)*exp((-I*pi*x*n)/L),(x,-L,L)),integrate(summation(cn*exp((I*pi*x*n)/L)*exp((-I*pi*x*n)/L),(n,-L,L)),(x,-L,L)))"
     ],
     "language": "python",
     "metadata": {},
     "outputs": [
      {
       "latex": [
        "$$\\int_{- L}^{L} f{\\left (x \\right )} e^{- \\frac{i \\pi}{L} n x}\\, dx = 2 L c_{n} \\left(2 L + 1\\right)$$"
       ],
       "metadata": {},
       "output_type": "pyout",
       "png": "[encoded data removed]",
       "prompt_number": 5,
       "text": [
        "L                                        \n",
        "\u2320                                        \n",
        "\u23ae        -\u2148\u22c5\u03c0\u22c5n\u22c5x                        \n",
        "\u23ae        \u2500\u2500\u2500\u2500\u2500\u2500\u2500\u2500\u2500                       \n",
        "\u23ae            L                           \n",
        "\u23ae  f(x)\u22c5\u212f          dx = 2\u22c5L\u22c5c_n\u22c5(2\u22c5L + 1)\n",
        "\u2321                                        \n",
        "-L                                       "
       ]
      }
     ],
     "prompt_number": 5
    },
    {
     "cell_type": "code",
     "collapsed": false,
     "input": [
      "#Set equal to an interval of 2*pi\n",
      "Eq(Integral(f(x)*exp((-I*pi*x*n)/pi),(x,-pi,pi)),integrate(cn*exp((I*pi*x*k)/pi)*exp((-I*pi*x*n)/pi),(x,-pi,pi)))"
     ],
     "language": "python",
     "metadata": {},
     "outputs": [
      {
       "latex": [
        "$$\\int_{- \\pi}^{\\pi} f{\\left (x \\right )} e^{- i n x}\\, dx = - c_{n} \\begin{cases} - \\pi & \\text{for}\\: k = n \\\\- \\frac{i e^{- i \\pi k}}{k e^{- i \\pi n} - n e^{- i \\pi n}} & \\text{otherwise} \\end{cases} + c_{n} \\begin{cases} \\pi & \\text{for}\\: k = n \\\\- \\frac{i e^{i \\pi k}}{k e^{i \\pi n} - n e^{i \\pi n}} & \\text{otherwise} \\end{cases}$$"
       ],
       "metadata": {},
       "output_type": "pyout",
       "png": "[encoded data removed]",
       "prompt_number": 6,
       "text": [
        "\u03c0                          \u239b\u23a7         -\u03c0            for k = n\u239e       \u239b\u23a7       \n",
        "\u2320                          \u239c\u23aa                                \u239f       \u239c\u23aa       \n",
        "\u23ae        -\u2148\u22c5n\u22c5x            \u239c\u23aa         -\u2148\u22c5\u03c0\u22c5k                 \u239f       \u239c\u23aa       \n",
        "\u23ae  f(x)\u22c5\u212f       dx = - c_n\u22c5\u239c\u23a8     -\u2148\u22c5\u212f                       \u239f + c_n\u22c5\u239c\u23a8     -\u2148\n",
        "\u2321                          \u239c\u23aa\u2500\u2500\u2500\u2500\u2500\u2500\u2500\u2500\u2500\u2500\u2500\u2500\u2500\u2500\u2500\u2500\u2500\u2500\u2500\u2500\u2500  otherwise\u239f       \u239c\u23aa\u2500\u2500\u2500\u2500\u2500\u2500\u2500\n",
        "-\u03c0                         \u239c\u23aa   -\u2148\u22c5\u03c0\u22c5n      -\u2148\u22c5\u03c0\u22c5n           \u239f       \u239c\u23aa   \u2148\u22c5\u03c0\u22c5\n",
        "                           \u239d\u23a9k\u22c5\u212f       - n\u22c5\u212f                 \u23a0       \u239d\u23a9k\u22c5\u212f    \n",
        "\n",
        "  \u03c0           for k = n\u239e\n",
        "                       \u239f\n",
        "  \u2148\u22c5\u03c0\u22c5k                \u239f\n",
        "\u22c5\u212f                     \u239f\n",
        "\u2500\u2500\u2500\u2500\u2500\u2500\u2500\u2500\u2500\u2500\u2500\u2500  otherwise\u239f\n",
        "n      \u2148\u22c5\u03c0\u22c5n           \u239f\n",
        "  - n\u22c5\u212f                \u23a0"
       ]
      }
     ],
     "prompt_number": 6
    },
    {
     "cell_type": "code",
     "collapsed": false,
     "input": [
      "#SWhen n = k is set explicitly...\n",
      "F = Eq(Integral(f(x)*exp((-I*pi*x*n)/pi),(x,-pi,pi)),integrate(cn*exp((I*pi*x*n)/pi)*exp((-I*pi*x*n)/pi),(x,-pi,pi)))\n",
      "F"
     ],
     "language": "python",
     "metadata": {},
     "outputs": [
      {
       "latex": [
        "$$\\int_{- \\pi}^{\\pi} f{\\left (x \\right )} e^{- i n x}\\, dx = 2 \\pi c_{n}$$"
       ],
       "metadata": {},
       "output_type": "pyout",
       "png": "[encoded data removed]",
       "prompt_number": 7,
       "text": [
        "\u03c0                           \n",
        "\u2320                           \n",
        "\u23ae        -\u2148\u22c5n\u22c5x             \n",
        "\u23ae  f(x)\u22c5\u212f       dx = 2\u22c5\u03c0\u22c5c_n\n",
        "\u2321                           \n",
        "-\u03c0                          "
       ]
      }
     ],
     "prompt_number": 7
    },
    {
     "cell_type": "code",
     "collapsed": false,
     "input": [
      "#therefore, ck = \n",
      "Eq(F.lhs/(2*pi),F.rhs/(2*pi))"
     ],
     "language": "python",
     "metadata": {},
     "outputs": [
      {
       "latex": [
        "$$\\frac{1}{2 \\pi} \\int_{- \\pi}^{\\pi} f{\\left (x \\right )} e^{- i n x}\\, dx = c_{n}$$"
       ],
       "metadata": {},
       "output_type": "pyout",
       "png": "[encoded data removed]",
       "prompt_number": 8,
       "text": [
        "\u03c0                       \n",
        "\u2320                       \n",
        "\u23ae        -\u2148\u22c5n\u22c5x         \n",
        "\u23ae  f(x)\u22c5\u212f       dx      \n",
        "\u2321                       \n",
        "-\u03c0                      \n",
        "\u2500\u2500\u2500\u2500\u2500\u2500\u2500\u2500\u2500\u2500\u2500\u2500\u2500\u2500\u2500\u2500\u2500\u2500 = c_n\n",
        "       2\u22c5\u03c0              "
       ]
      }
     ],
     "prompt_number": 8
    },
    {
     "cell_type": "heading",
     "level": 2,
     "metadata": {},
     "source": [
      "Principle 3: The S(x) sine component and the square wave"
     ]
    },
    {
     "cell_type": "code",
     "collapsed": false,
     "input": [
      "S = Eq(bk, 2/pi*integrate(sin(k*x),(x,0,pi)))\n",
      "S"
     ],
     "language": "python",
     "metadata": {},
     "outputs": [
      {
       "latex": [
        "$$b_{k} = \\frac{2}{\\pi} \\begin{cases} 0 & \\text{for}\\: k = 0 \\\\- \\frac{\\left(-1\\right)^{k}}{k} + \\frac{1}{k} & \\text{otherwise} \\end{cases}$$"
       ],
       "metadata": {},
       "output_type": "pyout",
       "png": "[encoded data removed]",
       "prompt_number": 9,
       "text": [
        "        \u239b\u23a7     0       for k = 0\u239e\n",
        "        \u239c\u23aa                      \u239f\n",
        "        \u239c\u23aa      k               \u239f\n",
        "      2\u22c5\u239c\u23a8  (-1)    1           \u239f\n",
        "        \u239c\u23aa- \u2500\u2500\u2500\u2500\u2500 + \u2500  otherwise\u239f\n",
        "        \u239c\u23aa    k     k           \u239f\n",
        "        \u239d\u23a9                      \u23a0\n",
        "b_k = \u2500\u2500\u2500\u2500\u2500\u2500\u2500\u2500\u2500\u2500\u2500\u2500\u2500\u2500\u2500\u2500\u2500\u2500\u2500\u2500\u2500\u2500\u2500\u2500\u2500\u2500\u2500\n",
        "                   \u03c0             "
       ]
      }
     ],
     "prompt_number": 9
    },
    {
     "cell_type": "code",
     "collapsed": false,
     "input": [
      "series(S.rhs,(k,0,oo))"
     ],
     "language": "python",
     "metadata": {},
     "outputs": [
      {
       "latex": [
        "$$\\frac{2}{\\pi} \\begin{cases} 0 & \\text{for}\\: k = 0 \\\\- \\frac{\\left(-1\\right)^{k}}{k} + \\frac{1}{k} & \\text{otherwise} \\end{cases}$$"
       ],
       "metadata": {},
       "output_type": "pyout",
       "png": "[encoded data removed]",
       "prompt_number": 10,
       "text": [
        "  \u239b\u23a7     0       for k = 0\u239e\n",
        "  \u239c\u23aa                      \u239f\n",
        "  \u239c\u23aa      k               \u239f\n",
        "2\u22c5\u239c\u23a8  (-1)    1           \u239f\n",
        "  \u239c\u23aa- \u2500\u2500\u2500\u2500\u2500 + \u2500  otherwise\u239f\n",
        "  \u239c\u23aa    k     k           \u239f\n",
        "  \u239d\u23a9                      \u23a0\n",
        "\u2500\u2500\u2500\u2500\u2500\u2500\u2500\u2500\u2500\u2500\u2500\u2500\u2500\u2500\u2500\u2500\u2500\u2500\u2500\u2500\u2500\u2500\u2500\u2500\u2500\u2500\u2500\n",
        "             \u03c0             "
       ]
      }
     ],
     "prompt_number": 10
    },
    {
     "cell_type": "code",
     "collapsed": false,
     "input": [
      "#Using this series, one can calculate pi by setting x = pi/2 andassuming the limit is 1 of the summation, which it is!\n",
      "import numpy as np\n",
      "a = 0\n",
      "for i in range(1,200,2):\n",
      "    a += (np.sin(i*np.pi/2))/i\n",
      "    #print a\n",
      "print 'Estimate of pi: ', 4*a, 'Actual value: ', np.pi\n",
      "print 'Difference = ', np.pi-4*a"
     ],
     "language": "python",
     "metadata": {},
     "outputs": [
      {
       "output_type": "stream",
       "stream": "stdout",
       "text": [
        "Estimate of pi:  3.13159290356 Actual value:  3.14159265359\n",
        "Difference =  0.00999975003124\n"
       ]
      }
     ],
     "prompt_number": 11
    },
    {
     "cell_type": "heading",
     "level": 2,
     "metadata": {},
     "source": [
      "Principle 4: The C(x) cosine component and the ramp function"
     ]
    },
    {
     "cell_type": "code",
     "collapsed": false,
     "input": [
      "a = series(integrate(cos(k*x)**2, (x,-pi,pi)),k,30) #because only for the last term is the series integral not = 0\n",
      "Eq(integrate(C(x),(x,-pi,pi))/a,a0)"
     ],
     "language": "python",
     "metadata": {},
     "outputs": [
      {
       "latex": [
        "$$\\frac{1}{\\pi} \\int_{- \\pi}^{\\pi} C{\\left (x \\right )}\\, dx = a_{0}$$"
       ],
       "metadata": {},
       "output_type": "pyout",
       "png": "[encoded data removed]",
       "prompt_number": 12,
       "text": [
        "\u03c0              \n",
        "\u2320              \n",
        "\u23ae  C(x) dx     \n",
        "\u2321              \n",
        "-\u03c0             \n",
        "\u2500\u2500\u2500\u2500\u2500\u2500\u2500\u2500\u2500\u2500 = a\u2080\n",
        "    \u03c0          "
       ]
      }
     ],
     "prompt_number": 12
    },
    {
     "cell_type": "code",
     "collapsed": false,
     "input": [
      "#When  there is a single point, inner product, @ a, the result is as follows:\n",
      "Eq(integrate(cos(x)*DiracDelta(x-0),(x,-pi,pi))/a,a0)"
     ],
     "language": "python",
     "metadata": {},
     "outputs": [
      {
       "latex": [
        "$$\\frac{1}{\\pi} = a_{0}$$"
       ],
       "metadata": {},
       "output_type": "pyout",
       "png": "[encoded data removed]",
       "prompt_number": 13,
       "text": [
        "1     \n",
        "\u2500 = a\u2080\n",
        "\u03c0     "
       ]
      }
     ],
     "prompt_number": 13
    },
    {
     "cell_type": "code",
     "collapsed": false,
     "input": [
      "series(integrate(cos(k*x)**2, (x,-pi,pi)),k,30)"
     ],
     "language": "python",
     "metadata": {},
     "outputs": [
      {
       "latex": [
        "$$\\pi$$"
       ],
       "metadata": {},
       "output_type": "pyout",
       "png": "[encoded data removed]",
       "prompt_number": 14,
       "text": [
        "\u03c0"
       ]
      }
     ],
     "prompt_number": 14
    },
    {
     "cell_type": "code",
     "collapsed": false,
     "input": [
      "#The following two function also equates to the C(x)\n",
      "integrate(Heaviside(x),(x,-pi,pi))"
     ],
     "language": "python",
     "metadata": {},
     "outputs": [
      {
       "latex": [
        "$$\\pi$$"
       ],
       "metadata": {},
       "output_type": "pyout",
       "png": "[encoded data removed]",
       "prompt_number": 15,
       "text": [
        "\u03c0"
       ]
      }
     ],
     "prompt_number": 15
    },
    {
     "cell_type": "code",
     "collapsed": false,
     "input": [
      "limit(cos(k*x)*cos(x),x,0)"
     ],
     "language": "python",
     "metadata": {},
     "outputs": [
      {
       "latex": [
        "$$1$$"
       ],
       "metadata": {},
       "output_type": "pyout",
       "png": "[encoded data removed]",
       "prompt_number": 16,
       "text": [
        "1"
       ]
      }
     ],
     "prompt_number": 16
    },
    {
     "cell_type": "heading",
     "level": 2,
     "metadata": {},
     "source": [
      "Two Fourier expansions from https://groups.google.com/forum/#!topic/sympy/ucO_TkxzN_4"
     ]
    },
    {
     "cell_type": "code",
     "collapsed": false,
     "input": [
      "from __future__ import print_function, division\n",
      "\n",
      "from sympy.core.add import Add\n",
      "from sympy.integrals import integrate\n",
      "from sympy.core.singleton import S\n",
      "from sympy.core.compatibility import xrange\n",
      "from sympy.functions.elementary.trigonometric import cos, sin\n",
      "from sympy.core.symbol import Symbol\n",
      "from sympy.concrete.summations import Sum\n",
      "\n",
      "\n",
      "def series_fourier_expansion(expr, x, n, interval_inf, interval_sup):\n",
      "    \"\"\" Returns a truncated Fourier sine and cosine series expansion\n",
      "    up to n+1 terms (sin(nx)/cos(nx)) over the indicated interval\n",
      "    \"\"\"\n",
      "    # http://mathworld.wolfram.com/FourierSeries.html\n",
      "    if interval_sup < interval_inf:\n",
      "        raise Exception('interval_sup cannot be less than interval_inf')\n",
      "    L = interval_sup - interval_inf\n",
      "    l = list()\n",
      "    integrate_tuple = (x, interval_inf, interval_sup)\n",
      "    l.append(integrate(expr, integrate_tuple)/L)  # A0/2\n",
      "    for m in xrange(1, n+1):\n",
      "        cos_expr = cos(2*m*S.Pi*x/L)\n",
      "        sin_expr = sin(2*m*S.Pi*x/L)\n",
      "        An = 2*integrate(expr*cos_expr, integrate_tuple)/L\n",
      "        Bn = 2*integrate(expr*sin_expr, integrate_tuple)/L\n",
      "        l.append(An*cos_expr)\n",
      "        l.append(Bn*sin_expr)\n",
      "    return Add(*l)\n",
      "\n",
      "\n",
      "def series_fourier(expr, x, interval_inf, interval_sup):\n",
      "    \"\"\" Returns the unevaluated Fourier sine and cosine series calculated\n",
      "    over the indicated interval. Returns also An and Bn. \n",
      "    \"\"\"\n",
      "    # http://mathworld.wolfram.com/FourierSeries.html\n",
      "    if interval_sup < interval_inf:\n",
      "        raise Exception('interval_sup cannot be less than interval_inf')\n",
      "    n = Symbol('n', integer=True, positive=True)\n",
      "    L = interval_sup - interval_inf\n",
      "    integrate_tuple = (x, interval_inf, interval_sup)\n",
      "    result = integrate(expr, integrate_tuple)/L  # A0/2\n",
      "    cos_expr = cos(2*n*S.Pi*x/L)\n",
      "    sin_expr = sin(2*n*S.Pi*x/L)\n",
      "    An = (2*integrate(expr*cos_expr, integrate_tuple)/L).simplify()\n",
      "    Bn = (2*integrate(expr*sin_expr, integrate_tuple)/L).simplify()\n",
      "    if An != S.Zero:\n",
      "        result += Sum(An*cos_expr, (n, 1, S.Infinity))\n",
      "    if Bn != S.Zero:\n",
      "        result += Sum(Bn*sin_expr, (n, 1, S.Infinity))\n",
      "    return result, An, Bn"
     ],
     "language": "python",
     "metadata": {},
     "outputs": [],
     "prompt_number": 17
    },
    {
     "cell_type": "code",
     "collapsed": false,
     "input": [
      "series_fourier_expansion(DiracDelta(x),x,10,-pi,pi)"
     ],
     "language": "python",
     "metadata": {},
     "outputs": [
      {
       "latex": [
        "$$\\frac{1}{\\pi} \\cos{\\left (x \\right )} + \\frac{1}{\\pi} \\cos{\\left (2 x \\right )} + \\frac{1}{\\pi} \\cos{\\left (3 x \\right )} + \\frac{1}{\\pi} \\cos{\\left (4 x \\right )} + \\frac{1}{\\pi} \\cos{\\left (5 x \\right )} + \\frac{1}{\\pi} \\cos{\\left (6 x \\right )} + \\frac{1}{\\pi} \\cos{\\left (7 x \\right )} + \\frac{1}{\\pi} \\cos{\\left (8 x \\right )} + \\frac{1}{\\pi} \\cos{\\left (9 x \\right )} + \\frac{1}{\\pi} \\cos{\\left (10 x \\right )} + \\frac{1}{2 \\pi}$$"
       ],
       "metadata": {},
       "output_type": "pyout",
       "png": "[encoded data removed]",
       "prompt_number": 18,
       "text": [
        "cos(x)   cos(2\u22c5x)   cos(3\u22c5x)   cos(4\u22c5x)   cos(5\u22c5x)   cos(6\u22c5x)   cos(7\u22c5x)   cos\n",
        "\u2500\u2500\u2500\u2500\u2500\u2500 + \u2500\u2500\u2500\u2500\u2500\u2500\u2500\u2500 + \u2500\u2500\u2500\u2500\u2500\u2500\u2500\u2500 + \u2500\u2500\u2500\u2500\u2500\u2500\u2500\u2500 + \u2500\u2500\u2500\u2500\u2500\u2500\u2500\u2500 + \u2500\u2500\u2500\u2500\u2500\u2500\u2500\u2500 + \u2500\u2500\u2500\u2500\u2500\u2500\u2500\u2500 + \u2500\u2500\u2500\n",
        "  \u03c0         \u03c0          \u03c0          \u03c0          \u03c0          \u03c0          \u03c0          \n",
        "\n",
        "(8\u22c5x)   cos(9\u22c5x)   cos(10\u22c5x)    1 \n",
        "\u2500\u2500\u2500\u2500\u2500 + \u2500\u2500\u2500\u2500\u2500\u2500\u2500\u2500 + \u2500\u2500\u2500\u2500\u2500\u2500\u2500\u2500\u2500 + \u2500\u2500\u2500\n",
        "\u03c0          \u03c0           \u03c0       2\u22c5\u03c0"
       ]
      }
     ],
     "prompt_number": 18
    },
    {
     "cell_type": "code",
     "collapsed": false,
     "input": [
      "series_fourier(exp(x),x,-pi,pi)"
     ],
     "language": "python",
     "metadata": {},
     "outputs": [
      {
       "latex": [
        "$$\\left ( \\sum_{n=1}^{\\infty} \\frac{2 \\left(-1\\right)^{n} \\cos{\\left (n x \\right )}}{\\pi \\left(n^{2} + 1\\right)} \\sinh{\\left (\\pi \\right )} + \\sum_{n=1}^{\\infty} \\frac{\\left(-1\\right)^{n} n \\sin{\\left (n x \\right )}}{\\pi \\left(n^{2} + 1\\right) e^{\\pi}} \\left(- e^{2 \\pi} + 1\\right) + \\frac{- \\frac{1}{e^{\\pi}} + e^{\\pi}}{2 \\pi}, \\quad \\frac{2 \\left(-1\\right)^{n} \\sinh{\\left (\\pi \\right )}}{\\pi \\left(n^{2} + 1\\right)}, \\quad \\frac{\\left(-1\\right)^{n} n \\left(- e^{2 \\pi} + 1\\right)}{\\pi \\left(n^{2} + 1\\right) e^{\\pi}}\\right )$$"
       ],
       "metadata": {},
       "output_type": "pyout",
       "png": "[encoded data removed]",
       "prompt_number": 19,
       "text": [
        "\u239b  \u221e                                \u221e                                         \n",
        "\u239c_____                            _____                                       \n",
        "\u239c\u2572                                \u2572                                           \n",
        "\u239c \u2572          n                     \u2572        n   \u239b   2\u22c5\u03c0    \u239e  -\u03c0              \n",
        "\u239c  \u2572   2\u22c5(-1) \u22c5cos(n\u22c5x)\u22c5sinh(\u03c0)     \u2572   (-1) \u22c5n\u22c5\u239d- \u212f    + 1\u23a0\u22c5\u212f  \u22c5sin(n\u22c5x)     \n",
        "\u239c   \u2572  \u2500\u2500\u2500\u2500\u2500\u2500\u2500\u2500\u2500\u2500\u2500\u2500\u2500\u2500\u2500\u2500\u2500\u2500\u2500\u2500\u2500\u2500\u2500\u2500      \u2572  \u2500\u2500\u2500\u2500\u2500\u2500\u2500\u2500\u2500\u2500\u2500\u2500\u2500\u2500\u2500\u2500\u2500\u2500\u2500\u2500\u2500\u2500\u2500\u2500\u2500\u2500\u2500\u2500\u2500\u2500\u2500\u2500\u2500   - \n",
        "\u239c   \u2571           \u239b 2    \u239e        +    \u2571                \u239b 2    \u239e            + \u2500\u2500\n",
        "\u239c  \u2571          \u03c0\u22c5\u239dn  + 1\u23a0            \u2571               \u03c0\u22c5\u239dn  + 1\u23a0                \n",
        "\u239c \u2571                                \u2571                                          \n",
        "\u239c\u2571                                \u2571                                           \n",
        "\u239c\u203e\u203e\u203e\u203e\u203e                            \u203e\u203e\u203e\u203e\u203e                                       \n",
        "\u239dn = 1                            n = 1                                       \n",
        "\n",
        "                                                   \u239e\n",
        "                                                   \u239f\n",
        "                                                   \u239f\n",
        "                                                   \u239f\n",
        " -\u03c0    \u03c0        n              n   \u239b   2\u22c5\u03c0    \u239e  -\u03c0\u239f\n",
        "\u212f   + \u212f   2\u22c5(-1) \u22c5sinh(\u03c0)  (-1) \u22c5n\u22c5\u239d- \u212f    + 1\u23a0\u22c5\u212f  \u239f\n",
        "\u2500\u2500\u2500\u2500\u2500\u2500\u2500\u2500, \u2500\u2500\u2500\u2500\u2500\u2500\u2500\u2500\u2500\u2500\u2500\u2500\u2500\u2500\u2500, \u2500\u2500\u2500\u2500\u2500\u2500\u2500\u2500\u2500\u2500\u2500\u2500\u2500\u2500\u2500\u2500\u2500\u2500\u2500\u2500\u2500\u2500\u2500\u2500\u239f\n",
        " 2\u22c5\u03c0           \u239b 2    \u239e             \u239b 2    \u239e       \u239f\n",
        "             \u03c0\u22c5\u239dn  + 1\u23a0           \u03c0\u22c5\u239dn  + 1\u23a0       \u239f\n",
        "                                                   \u239f\n",
        "                                                   \u239f\n",
        "                                                   \u23a0"
       ]
      }
     ],
     "prompt_number": 19
    },
    {
     "cell_type": "code",
     "collapsed": false,
     "input": [
      "series_fourier(exp(I*k*x),x,-pi,pi)"
     ],
     "language": "python",
     "metadata": {},
     "outputs": [
      {
       "latex": [
        "$$\\left ( \\frac{1}{2 \\pi} \\begin{cases} 2 \\pi & \\text{for}\\: k = 0 \\\\- \\frac{i}{k} e^{i \\pi k} + \\frac{i}{k} e^{- i \\pi k} & \\text{otherwise} \\end{cases} + \\sum_{n=1}^{\\infty} \\begin{cases} \\cos{\\left (n x \\right )} & \\text{for}\\: k = - n \\vee k = n \\\\0 & \\text{otherwise} \\end{cases} + \\sum_{n=1}^{\\infty} \\begin{cases} - i \\sin{\\left (n x \\right )} & \\text{for}\\: k = - n \\\\i \\sin{\\left (n x \\right )} & \\text{for}\\: k = n \\\\0 & \\text{otherwise} \\end{cases}, \\quad \\begin{cases} 1 & \\text{for}\\: k = - n \\vee k = n \\\\0 & \\text{otherwise} \\end{cases}, \\quad \\begin{cases} - i & \\text{for}\\: k = - n \\\\i & \\text{for}\\: k = n \\\\0 & \\text{otherwise} \\end{cases}\\right )$$"
       ],
       "metadata": {},
       "output_type": "pyout",
       "png": "[encoded data removed]",
       "prompt_number": 20,
       "text": [
        "\u239b\u23a7         2\u22c5\u03c0            for k = 0                                           \n",
        "\u239c\u23aa                                                                            \n",
        "\u239c\u23aa     \u2148\u22c5\u03c0\u22c5k      -\u2148\u22c5\u03c0\u22c5k                \u221e                                   __\n",
        "\u239c\u23a8  \u2148\u22c5\u212f        \u2148\u22c5\u212f                     ____                                 \u2572 \n",
        "\u239c\u23aa- \u2500\u2500\u2500\u2500\u2500\u2500\u2500\u2500 + \u2500\u2500\u2500\u2500\u2500\u2500\u2500\u2500\u2500  otherwise    \u2572                                     \u2572\n",
        "\u239c\u23aa     k           k                    \u2572   \u23a7cos(n\u22c5x)  for k = -n \u2228 k = n     \n",
        "\u239c\u23a9                                       \u2572  \u23a8                                 \n",
        "\u239c\u2500\u2500\u2500\u2500\u2500\u2500\u2500\u2500\u2500\u2500\u2500\u2500\u2500\u2500\u2500\u2500\u2500\u2500\u2500\u2500\u2500\u2500\u2500\u2500\u2500\u2500\u2500\u2500\u2500\u2500\u2500\u2500\u2500\u2500 +    \u2571  \u23a9   0          otherwise      +   \n",
        "\u239c               2\u22c5\u03c0                     \u2571                                     \n",
        "\u239c                                      \u2571                                     \u2571\n",
        "\u239c                                      \u203e\u203e\u203e\u203e                                 \u2571 \n",
        "\u239c                                     n = 1                                 \u203e\u203e\n",
        "\u239d                                                                           n \n",
        "\n",
        "                                                                     \u239e\n",
        "\u221e                                                                    \u239f\n",
        "___                                                                  \u239f\n",
        "                                                                     \u239f\n",
        "    \u23a7-\u2148\u22c5sin(n\u22c5x)  for k = -n                                         \u239f\n",
        "\u2572   \u23aa                                                 \u23a7-\u2148  for k = -n\u239f\n",
        " \u2572  \u23a8\u2148\u22c5sin(n\u22c5x)   for k = n   \u23a71  for k = -n \u2228 k = n  \u23aa              \u239f\n",
        " \u2571  \u23aa                       , \u23a8                     , \u23a8\u2148   for k = n \u239f\n",
        "\u2571   \u23a9     0       otherwise   \u23a90      otherwise       \u23aa              \u239f\n",
        "                                                      \u23a90   otherwise \u239f\n",
        "                                                                     \u239f\n",
        "\u203e\u203e\u203e                                                                  \u239f\n",
        "= 1                                                                  \u23a0"
       ]
      }
     ],
     "prompt_number": 20
    },
    {
     "cell_type": "code",
     "collapsed": false,
     "input": [
      "#This function has not been robustly checked. \n",
      "def series_fourier_complex(expr, x, interval_inf, interval_sup):\n",
      "    \"\"\" Returns the unevaluated Fourier sine and cosine series calculated\n",
      "    over the indicated interval. Returns also An and Bn. \n",
      "    \"\"\"\n",
      "    # http://mathworld.wolfram.com/FourierSeries.html\n",
      "    if interval_sup < interval_inf:\n",
      "        raise Exception('interval_sup cannot be less than interval_inf')\n",
      "    k = Symbol('k', integer=True,)\n",
      "    L = interval_sup - interval_inf\n",
      "    integrate_tuple = (x, interval_inf, interval_sup)\n",
      "    result = 0#integrate(expr, integrate_tuple)/L  # A0/2\n",
      "    Ck_conjugate = exp(-I*k*2*S.Pi*x/L)\n",
      "    Ck_expr = exp(I*k*2*S.Pi*x/L)\n",
      "    Ck = 1/L*(integrate(expr*Ck_conjugate, integrate_tuple)).simplify()\n",
      "    if Ck != S.Zero:\n",
      "        result = Sum(Ck*Ck_expr, (k, -S.Infinity, S.Infinity))\n",
      "    return result, Ck"
     ],
     "language": "python",
     "metadata": {},
     "outputs": [],
     "prompt_number": 21
    },
    {
     "cell_type": "code",
     "collapsed": false,
     "input": [
      "#This works for DFT, one needs to use a direct integral for the Integral Transform\n",
      "z, ck =series_fourier_complex(exp(-x),x,0,2*pi)\n",
      "z, ck\n",
      "simplify(factor(ck))"
     ],
     "language": "python",
     "metadata": {},
     "outputs": [
      {
       "latex": [
        "$$\\frac{-1 + e^{2 \\pi}}{2 \\pi \\left(i k + 1\\right) e^{2 \\pi}}$$"
       ],
       "metadata": {},
       "output_type": "pyout",
       "png": "[encoded data removed]",
       "prompt_number": 22,
       "text": [
        "\u239b      2\u22c5\u03c0\u239e  -2\u22c5\u03c0\n",
        "\u239d-1 + \u212f   \u23a0\u22c5\u212f    \n",
        "\u2500\u2500\u2500\u2500\u2500\u2500\u2500\u2500\u2500\u2500\u2500\u2500\u2500\u2500\u2500\u2500\u2500\n",
        "  2\u22c5\u03c0\u22c5(\u2148\u22c5k + 1)  "
       ]
      }
     ],
     "prompt_number": 22
    },
    {
     "cell_type": "code",
     "collapsed": false,
     "input": [
      "#Integral Transform for e^ax\n",
      "l = symbols('l', real=True)\n",
      "W = integrate(exp(-a*x)*exp(-I*l*x),(x,0,oo))+ integrate(exp(a*x)*exp(-I*l*x),(x,-oo,0))\n",
      "W.subs({l:Dummy('l',positive=True), a:Dummy('a')})"
     ],
     "language": "python",
     "metadata": {},
     "outputs": [
      {
       "latex": [
        "$$\\begin{cases} \\frac{1}{a \\left(1 - \\frac{l i}{a}\\right)} & \\text{for}\\: \\frac{\\left\\lvert{\\Re{a}}\\right\\rvert}{2} \\leq \\frac{a}{2} \\\\\\int_{-\\infty}^{0} e^{a x} e^{- l i x}\\, dx & \\text{otherwise} \\end{cases} + \\begin{cases} \\frac{1}{a \\left(1 + \\frac{l i}{a}\\right)} & \\text{for}\\: \\frac{\\left\\lvert{\\Re{a}}\\right\\rvert}{2} \\leq \\frac{a}{2} \\\\\\int_{0}^{\\infty} e^{- a x} e^{- l i x}\\, dx & \\text{otherwise} \\end{cases}$$"
       ],
       "metadata": {},
       "output_type": "pyout",
       "png": "[encoded data removed]",
       "prompt_number": 23,
       "text": [
        "\u239b\u23a7        1               \u2502re(a)\u2502   a\u239e   \u239b\u23a7        1               \u2502re(a)\u2502   a\n",
        "\u239c\u23aa   \u2500\u2500\u2500\u2500\u2500\u2500\u2500\u2500\u2500\u2500\u2500      for \u2500\u2500\u2500\u2500\u2500\u2500\u2500 \u2264 \u2500\u239f   \u239c\u23aa   \u2500\u2500\u2500\u2500\u2500\u2500\u2500\u2500\u2500\u2500\u2500      for \u2500\u2500\u2500\u2500\u2500\u2500\u2500 \u2264 \u2500\n",
        "\u239c\u23aa     \u239b    l\u22c5\u2148\u239e             2      2\u239f   \u239c\u23aa     \u239b    l\u22c5\u2148\u239e             2      2\n",
        "\u239c\u23aa   a\u22c5\u239c1 - \u2500\u2500\u2500\u239f                     \u239f   \u239c\u23aa   a\u22c5\u239c1 + \u2500\u2500\u2500\u239f                     \n",
        "\u239c\u23aa     \u239d     a \u23a0                     \u239f   \u239c\u23aa     \u239d     a \u23a0                     \n",
        "\u239c\u23aa                                   \u239f   \u239c\u23aa                                   \n",
        "\u239c\u23a80                                  \u239f + \u239c\u23a8\u221e                                  \n",
        "\u239c\u23aa\u2320                                  \u239f   \u239c\u23aa\u2320                                  \n",
        "\u239c\u23aa\u23ae   a\u22c5x  -l\u22c5\u2148\u22c5x                    \u239f   \u239c\u23aa\u23ae  -a\u22c5x  -l\u22c5\u2148\u22c5x                    \n",
        "\u239c\u23aa\u23ae  \u212f   \u22c5\u212f       dx     otherwise   \u239f   \u239c\u23aa\u23ae \u212f    \u22c5\u212f       dx     otherwise   \n",
        "\u239c\u23aa\u2321                                  \u239f   \u239c\u23aa\u2321                                  \n",
        "\u239c\u23aa-\u221e                                 \u239f   \u239c\u23aa0                                  \n",
        "\u239d\u23a9                                   \u23a0   \u239d\u23a9                                   \n",
        "\n",
        "\u239e\n",
        "\u239f\n",
        "\u239f\n",
        "\u239f\n",
        "\u239f\n",
        "\u239f\n",
        "\u239f\n",
        "\u239f\n",
        "\u239f\n",
        "\u239f\n",
        "\u239f\n",
        "\u239f\n",
        "\u23a0"
       ]
      }
     ],
     "prompt_number": 23
    },
    {
     "cell_type": "code",
     "collapsed": false,
     "input": [
      "W1 = simplify(fourier_transform(exp(-x**2/2),x,k))\n",
      "W2 = simplify(integrate(exp(-x**2/2)*exp(-I*k*x), (x,-oo,oo)))\n",
      "W1, W2#, W1 == W2"
     ],
     "language": "python",
     "metadata": {},
     "outputs": [
      {
       "latex": [
        "$$\\left ( \\sqrt{2} \\sqrt{\\pi} e^{- 2 \\pi^{2} k^{2}}, \\quad \\sqrt{2} \\sqrt{\\pi} e^{- \\frac{k^{2}}{2}}\\right )$$"
       ],
       "metadata": {},
       "output_type": "pyout",
       "png": "[encoded data removed]",
       "prompt_number": 24,
       "text": [
        "\u239b                                      2 \u239e\n",
        "\u239c                                    -k  \u239f\n",
        "\u239c                 2  2               \u2500\u2500\u2500\u2500\u239f\n",
        "\u239c  ___   ___  -2\u22c5\u03c0 \u22c5k     ___   ___   2  \u239f\n",
        "\u239d\u2572\u2571 2 \u22c5\u2572\u2571 \u03c0 \u22c5\u212f        , \u2572\u2571 2 \u22c5\u2572\u2571 \u03c0 \u22c5\u212f    \u23a0"
       ]
      }
     ],
     "prompt_number": 24
    },
    {
     "cell_type": "code",
     "collapsed": false,
     "input": [
      "W1 = simplify(fourier_transform(exp(-a*x),x,k)).subs({k:Dummy('k',positive=True), a:Dummy('a')})\n",
      "W2 = simplify(integrate(exp(-a*x)*exp(-I*k*x), (x,0,oo))).subs({k:Dummy('k',positive=True), a:Dummy('a')})\n",
      "W1, W2"
     ],
     "language": "python",
     "metadata": {},
     "outputs": [
      {
       "latex": [
        "$$\\left ( 0, \\quad \\begin{cases} \\frac{1}{a + k i} & \\text{for}\\: \\frac{\\left\\lvert{\\Re{a}}\\right\\rvert}{2} \\leq \\frac{a}{2} \\\\\\int_{0}^{\\infty} e^{x \\left(- a - k i\\right)}\\, dx & \\text{otherwise} \\end{cases}\\right )$$"
       ],
       "metadata": {},
       "output_type": "pyout",
       "png": "[encoded data removed]",
       "prompt_number": 25,
       "text": [
        "\u239b   \u23a7        1               \u2502re(a)\u2502   a\u239e\n",
        "\u239c   \u23aa     \u2500\u2500\u2500\u2500\u2500\u2500\u2500        for \u2500\u2500\u2500\u2500\u2500\u2500\u2500 \u2264 \u2500\u239f\n",
        "\u239c   \u23aa     a + k\u22c5\u2148               2      2\u239f\n",
        "\u239c   \u23aa                                   \u239f\n",
        "\u239c   \u23aa\u221e                                  \u239f\n",
        "\u239c0, \u23a8\u2320                                  \u239f\n",
        "\u239c   \u23aa\u23ae  x\u22c5(-a - k\u22c5\u2148)                    \u239f\n",
        "\u239c   \u23aa\u23ae \u212f             dx     otherwise   \u239f\n",
        "\u239c   \u23aa\u2321                                  \u239f\n",
        "\u239c   \u23aa0                                  \u239f\n",
        "\u239d   \u23a9                                   \u23a0"
       ]
      }
     ],
     "prompt_number": 25
    },
    {
     "cell_type": "code",
     "collapsed": false,
     "input": [
      "Wrhs = simplify(integrate(exp(-a*x)*exp(-I*k*x), (x,0,oo))).subs({k:Dummy('k',positive=True), a:Dummy('a')})\n",
      "Wlhs = simplify(integrate(exp(a*x)*exp(-I*k*x), (x,-oo,0))).subs({k:Dummy('k',positive=True), a:Dummy('a')})\n",
      "Wrhs + Wlhs"
     ],
     "language": "python",
     "metadata": {},
     "outputs": [
      {
       "latex": [
        "$$\\begin{cases} - \\frac{1}{- a + k i} & \\text{for}\\: \\frac{\\left\\lvert{\\Re{a}}\\right\\rvert}{2} \\leq \\frac{a}{2} \\\\\\int_{-\\infty}^{0} e^{x \\left(a - k i\\right)}\\, dx & \\text{otherwise} \\end{cases} + \\begin{cases} \\frac{1}{a + k i} & \\text{for}\\: \\frac{\\left\\lvert{\\Re{a}}\\right\\rvert}{2} \\leq \\frac{a}{2} \\\\\\int_{0}^{\\infty} e^{x \\left(- a - k i\\right)}\\, dx & \\text{otherwise} \\end{cases}$$"
       ],
       "metadata": {},
       "output_type": "pyout",
       "png": "[encoded data removed]",
       "prompt_number": 26,
       "text": [
        "\u239b\u23a7       -1               \u2502re(a)\u2502   a\u239e   \u239b\u23a7        1               \u2502re(a)\u2502   a\n",
        "\u239c\u23aa     \u2500\u2500\u2500\u2500\u2500\u2500\u2500\u2500       for \u2500\u2500\u2500\u2500\u2500\u2500\u2500 \u2264 \u2500\u239f   \u239c\u23aa     \u2500\u2500\u2500\u2500\u2500\u2500\u2500        for \u2500\u2500\u2500\u2500\u2500\u2500\u2500 \u2264 \u2500\n",
        "\u239c\u23aa     -a + k\u22c5\u2148              2      2\u239f   \u239c\u23aa     a + k\u22c5\u2148               2      2\n",
        "\u239c\u23aa                                   \u239f   \u239c\u23aa                                   \n",
        "\u239c\u23aa0                                  \u239f   \u239c\u23aa\u221e                                  \n",
        "\u239c\u23a8\u2320                                  \u239f + \u239c\u23a8\u2320                                  \n",
        "\u239c\u23aa\u23ae   x\u22c5(a - k\u22c5\u2148)                    \u239f   \u239c\u23aa\u23ae  x\u22c5(-a - k\u22c5\u2148)                    \n",
        "\u239c\u23aa\u23ae  \u212f            dx     otherwise   \u239f   \u239c\u23aa\u23ae \u212f             dx     otherwise   \n",
        "\u239c\u23aa\u2321                                  \u239f   \u239c\u23aa\u2321                                  \n",
        "\u239c\u23aa-\u221e                                 \u239f   \u239c\u23aa0                                  \n",
        "\u239d\u23a9                                   \u23a0   \u239d\u23a9                                   \n",
        "\n",
        "\u239e\n",
        "\u239f\n",
        "\u239f\n",
        "\u239f\n",
        "\u239f\n",
        "\u239f\n",
        "\u239f\n",
        "\u239f\n",
        "\u239f\n",
        "\u239f\n",
        "\u23a0"
       ]
      }
     ],
     "prompt_number": 26
    },
    {
     "cell_type": "code",
     "collapsed": false,
     "input": [
      "Soln =-1/(-a+k*I)+1/(a+k*I)\n",
      "Soln.factor()"
     ],
     "language": "python",
     "metadata": {},
     "outputs": [
      {
       "latex": [
        "$$- \\frac{2 \\pi}{\\left(i k - \\pi\\right) \\left(i k + \\pi\\right)}$$"
       ],
       "metadata": {},
       "output_type": "pyout",
       "png": "[encoded data removed]",
       "prompt_number": 27,
       "text": [
        "       -2\u22c5\u03c0        \n",
        "\u2500\u2500\u2500\u2500\u2500\u2500\u2500\u2500\u2500\u2500\u2500\u2500\u2500\u2500\u2500\u2500\u2500\u2500\u2500\n",
        "(\u2148\u22c5k - \u03c0)\u22c5(\u2148\u22c5k + \u03c0)"
       ]
      }
     ],
     "prompt_number": 27
    },
    {
     "cell_type": "markdown",
     "metadata": {},
     "source": [
      "So from all of this, it is important to frame all calculations appropriately and to note that not all sympy functions return a useful result. "
     ]
    },
    {
     "cell_type": "code",
     "collapsed": false,
     "input": [],
     "language": "python",
     "metadata": {},
     "outputs": [],
     "prompt_number": 27
    }
   ],
   "metadata": {}
  }
 ]
}