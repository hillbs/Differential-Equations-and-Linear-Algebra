{
 "metadata": {
  "name": "",
  "signature": "sha256:98a82760a136fb50e2fb13178c4fc4dc7e75c66652b8f83cbf2343b1de01320e"
 },
 "nbformat": 3,
 "nbformat_minor": 0,
 "worksheets": [
  {
   "cells": [
    {
     "cell_type": "heading",
     "level": 1,
     "metadata": {},
     "source": [
      "D003x.2 Linear Algebra "
     ]
    },
    {
     "cell_type": "code",
     "collapsed": false,
     "input": [
      "from sympy import *\n",
      "import numpy as np\n",
      "init_session()"
     ],
     "language": "python",
     "metadata": {},
     "outputs": [
      {
       "output_type": "stream",
       "stream": "stdout",
       "text": [
        "IPython console for SymPy 0.7.6 (Python 2.7.6-64-bit) (ground types: python)\n",
        "\n",
        "These commands were executed:\n",
        ">>> from __future__ import division\n",
        ">>> from sympy import *\n",
        ">>> x, y, z, t = symbols('x y z t')\n",
        ">>> k, m, n = symbols('k m n', integer=True)\n",
        ">>> f, g, h = symbols('f g h', cls=Function)\n",
        ">>> init_printing()\n",
        "\n",
        "Documentation can be found at http://www.sympy.org\n"
       ]
      }
     ],
     "prompt_number": 2
    },
    {
     "cell_type": "code",
     "collapsed": false,
     "input": [
      "olympicData = Matrix([[1928,\t12.2],[1932,11.9],[1936,\t11.5],[1948,\t12.2],[1952\t,11.67],[1956,\t11.82],[1960,\t11.18],[1964,\t11.49],[1968,\t11.08],[1972\t,11.07],[1976\t,11.08],[1980,\t11.06],[1984,\t10.97],[1988\t,10.54],[1992,\t10.82],[1996,\t10.94],[2004\t,10.93],[2008\t,10.78],[2012,\t10.75]])\n",
      "A = olympicData[:,0].col_insert(1,Matrix(ones(shape(olympicData)[0],1)))\n",
      "#Using M^T*Mx = M^Tb\n",
      "b = olympicData[:,1]\n",
      "#Solve using sympy function\n",
      "S = A.solve_least_squares(b)\n",
      "#Solve using 'raw' matrices -- way cooler!\n",
      "V = (A.T*A).inv()*A.T*b\n",
      "y = V[0]*x+V[1]\n",
      "E = A*V-b\n",
      "A,b,S,V,y,E.norm()"
     ],
     "language": "python",
     "metadata": {},
     "outputs": [
      {
       "latex": [
        "$$\\left ( \\left[\\begin{matrix}1928 & 1\\\\1932 & 1\\\\1936 & 1\\\\1948 & 1\\\\1952 & 1\\\\1956 & 1\\\\1960 & 1\\\\1964 & 1\\\\1968 & 1\\\\1972 & 1\\\\1976 & 1\\\\1980 & 1\\\\1984 & 1\\\\1988 & 1\\\\1992 & 1\\\\1996 & 1\\\\2004 & 1\\\\2008 & 1\\\\2012 & 1\\end{matrix}\\right], \\quad \\left[\\begin{matrix}12.2\\\\11.9\\\\11.5\\\\12.2\\\\11.67\\\\11.82\\\\11.18\\\\11.49\\\\11.08\\\\11.07\\\\11.08\\\\11.06\\\\10.97\\\\10.54\\\\10.82\\\\10.94\\\\10.93\\\\10.78\\\\10.75\\end{matrix}\\right], \\quad \\left[\\begin{matrix}-0.0169429995665354\\\\44.6629995665341\\end{matrix}\\right], \\quad \\left[\\begin{matrix}-0.0169429995665367\\\\44.6629995665367\\end{matrix}\\right], \\quad - 0.0169429995665367 x + 44.6629995665367, \\quad 1.03342273478215\\right )$$"
       ],
       "metadata": {},
       "output_type": "pyout",
       "png": "[encoded data removed]",
       "prompt_number": 4,
       "text": [
        "\u239b\u23a11928  1\u23a4, \u23a112.2 \u23a4, \u23a1-0.0169429995665354\u23a4, \u23a1-0.0169429995665367\u23a4, -- -0.01694\n",
        "\u239c\u23a2       \u23a5  \u23a2     \u23a5  \u23a2                   \u23a5  \u23a2                   \u23a5             \n",
        "\u239c\u23a21932  1\u23a5  \u23a211.9 \u23a5  \u23a3 44.6629995665341  \u23a6  \u23a3 44.6629995665367  \u23a6             \n",
        "\u239c\u23a2       \u23a5  \u23a2     \u23a5                                                           \n",
        "\u239c\u23a21936  1\u23a5  \u23a211.5 \u23a5                                                           \n",
        "\u239c\u23a2       \u23a5  \u23a2     \u23a5                                                           \n",
        "\u239c\u23a21948  1\u23a5  \u23a212.2 \u23a5                                                           \n",
        "\u239c\u23a2       \u23a5  \u23a2     \u23a5                                                           \n",
        "\u239c\u23a21952  1\u23a5  \u23a211.67\u23a5                                                           \n",
        "\u239c\u23a2       \u23a5  \u23a2     \u23a5                                                           \n",
        "\u239c\u23a21956  1\u23a5  \u23a211.82\u23a5                                                           \n",
        "\u239c\u23a2       \u23a5  \u23a2     \u23a5                                                           \n",
        "\u239c\u23a21960  1\u23a5  \u23a211.18\u23a5                                                           \n",
        "\u239c\u23a2       \u23a5  \u23a2     \u23a5                                                           \n",
        "\u239c\u23a21964  1\u23a5  \u23a211.49\u23a5                                                           \n",
        "\u239c\u23a2       \u23a5  \u23a2     \u23a5                                                           \n",
        "\u239c\u23a21968  1\u23a5  \u23a211.08\u23a5                                                           \n",
        "\u239c\u23a2       \u23a5  \u23a2     \u23a5                                                           \n",
        "\u239c\u23a21972  1\u23a5  \u23a211.07\u23a5                                                           \n",
        "\u239c\u23a2       \u23a5  \u23a2     \u23a5                                                           \n",
        "\u239c\u23a21976  1\u23a5  \u23a211.08\u23a5                                                           \n",
        "\u239c\u23a2       \u23a5  \u23a2     \u23a5                                                           \n",
        "\u239c\u23a21980  1\u23a5  \u23a211.06\u23a5                                                           \n",
        "\u239c\u23a2       \u23a5  \u23a2     \u23a5                                                           \n",
        "\u239c\u23a21984  1\u23a5  \u23a210.97\u23a5                                                           \n",
        "\u239c\u23a2       \u23a5  \u23a2     \u23a5                                                           \n",
        "\u239c\u23a21988  1\u23a5  \u23a210.54\u23a5                                                           \n",
        "\u239c\u23a2       \u23a5  \u23a2     \u23a5                                                           \n",
        "\u239c\u23a21992  1\u23a5  \u23a210.82\u23a5                                                           \n",
        "\u239c\u23a2       \u23a5  \u23a2     \u23a5                                                           \n",
        "\u239c\u23a21996  1\u23a5  \u23a210.94\u23a5                                                           \n",
        "\u239c\u23a2       \u23a5  \u23a2     \u23a5                                                           \n",
        "\u239c\u23a22004  1\u23a5  \u23a210.93\u23a5                                                           \n",
        "\u239c\u23a2       \u23a5  \u23a2     \u23a5                                                           \n",
        "\u239c\u23a22008  1\u23a5  \u23a210.78\u23a5                                                           \n",
        "\u239c\u23a2       \u23a5  \u23a2     \u23a5                                                           \n",
        "\u239d\u23a32012  1\u23a6  \u23a310.75\u23a6                                                           \n",
        "\n",
        "29995665367\u22c5x + 44.6629995665367, 1.03342273478215\u239e\n",
        "                                                  \u239f\n",
        "                                                  \u239f\n",
        "                                                  \u239f\n",
        "                                                  \u239f\n",
        "                                                  \u239f\n",
        "                                                  \u239f\n",
        "                                                  \u239f\n",
        "                                                  \u239f\n",
        "                                                  \u239f\n",
        "                                                  \u239f\n",
        "                                                  \u239f\n",
        "                                                  \u239f\n",
        "                                                  \u239f\n",
        "                                                  \u239f\n",
        "                                                  \u239f\n",
        "                                                  \u239f\n",
        "                                                  \u239f\n",
        "                                                  \u239f\n",
        "                                                  \u239f\n",
        "                                                  \u239f\n",
        "                                                  \u239f\n",
        "                                                  \u239f\n",
        "                                                  \u239f\n",
        "                                                  \u239f\n",
        "                                                  \u239f\n",
        "                                                  \u239f\n",
        "                                                  \u239f\n",
        "                                                  \u239f\n",
        "                                                  \u239f\n",
        "                                                  \u239f\n",
        "                                                  \u239f\n",
        "                                                  \u239f\n",
        "                                                  \u239f\n",
        "                                                  \u239f\n",
        "                                                  \u239f\n",
        "                                                  \u23a0"
       ]
      }
     ],
     "prompt_number": 4
    },
    {
     "cell_type": "code",
     "collapsed": false,
     "input": [
      "%%timeit\n",
      "S = A.solve_least_squares(b)"
     ],
     "language": "python",
     "metadata": {},
     "outputs": [
      {
       "output_type": "stream",
       "stream": "stdout",
       "text": [
        "1000 loops, best of 3: 1.3 ms per loop\n"
       ]
      }
     ],
     "prompt_number": 5
    },
    {
     "cell_type": "code",
     "collapsed": false,
     "input": [
      "%%timeit\n",
      "V = (A.T*A).inv()*A.T*b"
     ],
     "language": "python",
     "metadata": {},
     "outputs": [
      {
       "output_type": "stream",
       "stream": "stdout",
       "text": [
        "100 loops, best of 3: 2.33 ms per loop\n"
       ]
      }
     ],
     "prompt_number": 6
    },
    {
     "cell_type": "code",
     "collapsed": true,
     "input": [
      "solve(V[0]*x+V[1]-9.44)"
     ],
     "language": "python",
     "metadata": {},
     "outputs": [
      {
       "latex": [
        "$$\\left [ 2078.91167252958\\right ]$$"
       ],
       "metadata": {},
       "output_type": "pyout",
       "png": "[encoded data removed]",
       "prompt_number": 7,
       "text": [
        "[2078.91167252958]"
       ]
      }
     ],
     "prompt_number": 7
    },
    {
     "cell_type": "code",
     "collapsed": false,
     "input": [
      "A*V==b+E"
     ],
     "language": "python",
     "metadata": {},
     "outputs": [
      {
       "metadata": {},
       "output_type": "pyout",
       "prompt_number": 8,
       "text": [
        "True"
       ]
      }
     ],
     "prompt_number": 8
    },
    {
     "cell_type": "heading",
     "level": 3,
     "metadata": {},
     "source": [
      "1.2 Presidential images"
     ]
    },
    {
     "cell_type": "code",
     "collapsed": false,
     "input": [
      "#Create the training matrix.\n",
      "import matplotlib.pyplot as plt\n",
      "import matplotlib.image as mpimg\n",
      "import fnmatch\n",
      "import os\n",
      "#Set the cwd.\n",
      "os.chdir('/Users/LlewelynRW/Downloads/1.2 - ls - pres/Presidents/')\n",
      "#read in the files and flatten the matrices to vectors.\n",
      "\n",
      "I = mpimg.imread('02ike.png').flatten() #This is a bit ugly :(\n",
      "for file in os.listdir('.'):\n",
      "    if fnmatch.fnmatch(file, '*.png'):\n",
      "        img=mpimg.imread(file)\n",
      "        if len(shape(img)) != 2: #Some of the images have three axes so need reduction.\n",
      "            img = img[:,:,0:3].mean(axis=2) # rgb --> greyscale\n",
      "        img = img.flatten()\n",
      "        I = np.c_[I,img]\n",
      "        print  file, shape(img), shape(I)\n",
      "I = I[:,1:] #Peel the doubled image off.\n",
      "shape(I)"
     ],
     "language": "python",
     "metadata": {},
     "outputs": [
      {
       "output_type": "stream",
       "stream": "stdout",
       "text": [
        "02ike.png (50000,) (50000, 2)\n",
        "03jfk.png (50000,) (50000, 3)\n",
        "04Lyndon_Johnson.png (50000,) (50000, 4)\n",
        "05richardNixon.png (50000,) (50000, 5)\n",
        "06geraldFord.png (50000,) (50000, 6)\n",
        "07jimmyCarter.png (50000,) (50000, 7)\n",
        "08ronaldReagan.png (50000,) (50000, 8)\n",
        "09georgeBush.png (50000,) (50000, 9)\n",
        "10billClinton.png (50000,) (50000, 10)\n",
        "11georgeWBush.png (50000,) (50000, 11)\n",
        "12obama.png (50000,) (50000, 12)\n",
        "1harryTruman.png (50000,) (50000, 13)\n"
       ]
      },
      {
       "latex": [
        "$$\\left ( 50000, \\quad 12\\right )$$"
       ],
       "metadata": {},
       "output_type": "pyout",
       "png": "[encoded data removed]",
       "prompt_number": 9,
       "text": [
        "(50000, 12)"
       ]
      }
     ],
     "prompt_number": 9
    },
    {
     "cell_type": "code",
     "collapsed": false,
     "input": [
      "#Get the target image.\n",
      "os.chdir('/Users/LlewelynRW/Downloads/1.2 - ls - pres/')\n",
      "T = mpimg.imread('timChartier.png')\n",
      "T = T[:,:,1].flatten() \n",
      "#Do the least squares -- the linalg package just rocks for speed, Cythonised!\n",
      "lsSolution = np.linalg.lstsq(I,T)[0]\n",
      "T = np.reshape(T,(250,200))\n",
      "lsImage = np.reshape(I.dot(lsSolution),(250,200))\n",
      "lsSolution, shape(T)"
     ],
     "language": "python",
     "metadata": {},
     "outputs": [
      {
       "metadata": {},
       "output_type": "pyout",
       "prompt_number": 10,
       "text": [
        "(array([-0.20807324,  0.00301246,  0.22604722,  0.19600272,  0.02514846,\n",
        "         0.13113756, -0.03961952,  0.05753319,  0.28222948,  0.18020779,\n",
        "        -0.13033968,  0.15041727], dtype=float32), (250, 200))"
       ]
      }
     ],
     "prompt_number": 10
    },
    {
     "cell_type": "code",
     "collapsed": false,
     "input": [
      "%matplotlib inline\n",
      "plt.imshow(lsImage)"
     ],
     "language": "python",
     "metadata": {},
     "outputs": [
      {
       "metadata": {},
       "output_type": "pyout",
       "prompt_number": 11,
       "text": [
        "<matplotlib.image.AxesImage at 0x10eb65f50>"
       ]
      },
      {
       "metadata": {},
       "output_type": "display_data",
       "png": "[encoded data removed]",
       "text": [
        "<matplotlib.figure.Figure at 0x10d9b4650>"
       ]
      }
     ],
     "prompt_number": 11
    },
    {
     "cell_type": "code",
     "collapsed": false,
     "input": [
      "T"
     ],
     "language": "python",
     "metadata": {},
     "outputs": [
      {
       "metadata": {},
       "output_type": "pyout",
       "prompt_number": 12,
       "text": [
        "array([[ 1.        ,  1.        ,  1.        , ...,  1.        ,\n",
        "         1.        ,  1.        ],\n",
        "       [ 1.        ,  1.        ,  1.        , ...,  1.        ,\n",
        "         1.        ,  1.        ],\n",
        "       [ 1.        ,  1.        ,  1.        , ...,  1.        ,\n",
        "         1.        ,  1.        ],\n",
        "       ..., \n",
        "       [ 0.09019608,  0.02745098,  0.07058824, ...,  0.        ,\n",
        "         0.        ,  0.00392157],\n",
        "       [ 0.11372549,  0.03529412,  0.04705882, ...,  0.        ,\n",
        "         0.        ,  0.        ],\n",
        "       [ 0.10980392,  0.02352941,  0.05490196, ...,  0.        ,\n",
        "         0.        ,  0.00392157]], dtype=float32)"
       ]
      }
     ],
     "prompt_number": 12
    },
    {
     "cell_type": "code",
     "collapsed": false,
     "input": [
      "lsImage"
     ],
     "language": "python",
     "metadata": {},
     "outputs": [
      {
       "metadata": {},
       "output_type": "pyout",
       "prompt_number": 13,
       "text": [
        "array([[ 0.87370372,  0.87370372,  0.87370372, ...,  0.87370372,\n",
        "         0.87370372,  0.87370372],\n",
        "       [ 0.87370372,  0.87370372,  0.87370372, ...,  0.87370372,\n",
        "         0.87370372,  0.87370372],\n",
        "       [ 0.87370372,  0.87370372,  0.87370372, ...,  0.87370372,\n",
        "         0.87370372,  0.87370372],\n",
        "       ..., \n",
        "       [ 0.34928501,  0.3459014 ,  0.33989394, ...,  0.0645688 ,\n",
        "         0.05237886,  0.05466919],\n",
        "       [ 0.349563  ,  0.34729427,  0.34360605, ...,  0.06576308,\n",
        "         0.06277219,  0.05388919],\n",
        "       [ 0.34810114,  0.32343167,  0.30819333, ...,  0.07215504,\n",
        "         0.06363045,  0.05371668]], dtype=float32)"
       ]
      }
     ],
     "prompt_number": 13
    },
    {
     "cell_type": "heading",
     "level": 2,
     "metadata": {},
     "source": [
      "1.3 Correlation"
     ]
    },
    {
     "cell_type": "code",
     "collapsed": false,
     "input": [
      "Alcohol_per_head = Matrix(31,2,[1984,8.224,\n",
      "1985,\t8.139,\n",
      "1986,\t8.213,\n",
      "1987,\t8.298,\n",
      "1988,\t7.683,\n",
      "1989,\t7.819,\n",
      "1990,\t7.751,\n",
      "1991,\t7.901,\n",
      "1992,\t7.451,\n",
      "1993,\t7.397,\n",
      "1994,\t7.299,\n",
      "1995,\t7.216,\n",
      "1996,\t7.1,\n",
      "1997,\t6.502,\n",
      "1998,\t6.775,\n",
      "1999,\t6.604,\n",
      "2000,\t6.889,\n",
      "2001,\t6.868,\n",
      "2002,\t6.837,\n",
      "2003,\t7.082,\n",
      "2004,\t7.057,\n",
      "2005,\t7.301,\n",
      "2006,\t7.211,\n",
      "2007,\t7.451,\n",
      "2008,\t7.428,\n",
      "2009,\t7.297,\n",
      "2010,\t7.526,\n",
      "2011,\t7.709,\n",
      "2012,\t7.442,\n",
      "2013,\t7.448,\n",
      "2014,\t7.164])\n",
      "Number_of_sheep = Matrix(31,2,[1984,\t51181869,\n",
      "1985,\t50187481,\n",
      "1986,\t47490623,\n",
      "1987,\t45381635,\n",
      "1988,\t44040587,\n",
      "1989,\t41414031,\n",
      "1990,\t40453499,\n",
      "1991,\t36631076,\n",
      "1992,\t36684469,\n",
      "1993,\t35374952,\n",
      "1994,\t34437986,\n",
      "1995,\t33692996,\n",
      "1996,\t33446796,\n",
      "1997,\t33446796,\n",
      "1998,\t33446796,\n",
      "1999,\t30364254,\n",
      "2000,\t30364254,\n",
      "2001,\t30364254,\n",
      "2002,\t26784582,\n",
      "2003,\t27086569,\n",
      "2004,\t26742440,\n",
      "2005,\t26418797,\n",
      "2006,\t26904995,\n",
      "2007,\t26063325,\n",
      "2008,\t23485548,\n",
      "2009,\t22214044,\n",
      "2010,\t21793694,\n",
      "2011,\t20484792,\n",
      "2012,\t20411382,\n",
      "2013,\t20232933,\n",
      "2014,\t19710383])"
     ],
     "language": "python",
     "metadata": {},
     "outputs": [],
     "prompt_number": 14
    },
    {
     "cell_type": "code",
     "collapsed": false,
     "input": [
      "from scipy.stats import linregress\n",
      "#From http://www.stats.govt.nz/infoshare/Default.aspx\n",
      "a = np.array(Alcohol_per_head[:,1][:])\n",
      "b = np.array(Number_of_sheep[:,1][:])\n",
      "slope, intercept, r_value, p_value, std_err = linregress(a,b)\n",
      "print 'Slope: ',slope\n",
      "print 'Intercept: ',intercept\n",
      "print 'Correlation coefficient: ',r_value\n",
      "print 'P value: ',p_value"
     ],
     "language": "python",
     "metadata": {},
     "outputs": [
      {
       "output_type": "stream",
       "stream": "stdout",
       "text": [
        "Slope:  10895359.3996\n",
        "Intercept:  -48361060.7735369\n",
        "Correlation coefficient:  0.559664923946\n",
        "P value:  0.00106193427359\n"
       ]
      }
     ],
     "prompt_number": 15
    },
    {
     "cell_type": "code",
     "collapsed": false,
     "input": [
      "plt.scatter(a,b)"
     ],
     "language": "python",
     "metadata": {},
     "outputs": [
      {
       "metadata": {},
       "output_type": "pyout",
       "prompt_number": 16,
       "text": [
        "<matplotlib.collections.PathCollection at 0x113d92310>"
       ]
      },
      {
       "metadata": {},
       "output_type": "display_data",
       "png": "[encoded data removed]",
       "text": [
        "<matplotlib.figure.Figure at 0x10ebfead0>"
       ]
      }
     ],
     "prompt_number": 16
    },
    {
     "cell_type": "heading",
     "level": 3,
     "metadata": {},
     "source": [
      "2.3 Clustering"
     ]
    },
    {
     "cell_type": "code",
     "collapsed": false,
     "input": [
      "A = np.array([[0,0,0,1,0,1,0],[0,0,0,1,1,0,0],[0,0,0,0,1,0,1,],[1,1,0,0,0,1,0],[0,1,1,0,0,0,1],[1,0,0,1,0,0,0],[0,1,1,0,1,0,0]])\n",
      "A"
     ],
     "language": "python",
     "metadata": {},
     "outputs": [
      {
       "metadata": {},
       "output_type": "pyout",
       "prompt_number": 19,
       "text": [
        "array([[0, 0, 0, 1, 0, 1, 0],\n",
        "       [0, 0, 0, 1, 1, 0, 0],\n",
        "       [0, 0, 0, 0, 1, 0, 1],\n",
        "       [1, 1, 0, 0, 0, 1, 0],\n",
        "       [0, 1, 1, 0, 0, 0, 1],\n",
        "       [1, 0, 0, 1, 0, 0, 0],\n",
        "       [0, 1, 1, 0, 1, 0, 0]])"
       ]
      }
     ],
     "prompt_number": 19
    },
    {
     "cell_type": "code",
     "collapsed": false,
     "input": [
      "from scipy.sparse.csgraph import laplacian\n",
      "from scipy.linalg import *\n",
      "L = laplacian(A, normed=False, return_diag=True)\n",
      "L"
     ],
     "language": "python",
     "metadata": {},
     "outputs": [
      {
       "metadata": {},
       "output_type": "pyout",
       "prompt_number": 22,
       "text": [
        "(array([[ 2,  0,  0, -1,  0, -1,  0],\n",
        "        [ 0,  3,  0, -1, -1,  0,  0],\n",
        "        [ 0,  0,  2,  0, -1,  0, -1],\n",
        "        [-1, -1,  0,  3,  0, -1,  0],\n",
        "        [ 0, -1, -1,  0,  3,  0, -1],\n",
        "        [-1,  0,  0, -1,  0,  2,  0],\n",
        "        [ 0, -1, -1,  0, -1,  0,  2]]), array([2, 3, 2, 3, 3, 2, 2]))"
       ]
      }
     ],
     "prompt_number": 22
    },
    {
     "cell_type": "code",
     "collapsed": false,
     "input": [
      "eig(L[0])"
     ],
     "language": "python",
     "metadata": {},
     "outputs": [
      {
       "metadata": {},
       "output_type": "pyout",
       "prompt_number": 24,
       "text": [
        "(array([  2.22044605e-16+0.j,   2.67949192e-01+0.j,   4.61803399e+00+0.j,\n",
        "          2.38196601e+00+0.j,   3.00000000e+00+0.j,   3.73205081e+00+0.j,\n",
        "          3.00000000e+00+0.j]),\n",
        " array([[ -2.20564387e-01,   4.44036917e-01,  -1.58693770e-01,\n",
        "           1.95024814e-01,   6.70820393e-01,  -2.29850422e-01,\n",
        "          -3.69374314e-01],\n",
        "        [ -2.20564387e-01,  -1.16257816e-16,  -6.11621972e-01,\n",
        "          -5.56620705e-01,   3.52394814e-16,   1.49715098e-16,\n",
        "           3.70310336e-16],\n",
        "        [ -5.14650235e-01,  -4.44036917e-01,  -2.19309397e-01,\n",
        "           7.05606406e-01,  -2.23606798e-01,   2.29850422e-01,\n",
        "          -6.02961538e-01],\n",
        "        [ -2.20564387e-01,   3.25057584e-01,   5.74159454e-01,\n",
        "          -2.69517664e-01,  -1.69420584e-16,   6.27963030e-01,\n",
        "           2.82141208e-16],\n",
        "        [ -4.41128773e-01,  -3.25057584e-01,   4.15465684e-01,\n",
        "          -7.44928503e-02,  -3.04957050e-17,  -6.27963030e-01,\n",
        "           4.23211813e-16],\n",
        "        [ -2.20564387e-01,   4.44036917e-01,  -1.58693770e-01,\n",
        "           1.95024814e-01,  -6.70820393e-01,  -2.29850422e-01,\n",
        "           3.69374314e-01],\n",
        "        [ -5.88171698e-01,  -4.44036917e-01,   1.58693770e-01,\n",
        "          -1.95024814e-01,   2.23606798e-01,   2.29850422e-01,\n",
        "           6.02961538e-01]]))"
       ]
      }
     ],
     "prompt_number": 24
    },
    {
     "cell_type": "code",
     "collapsed": false,
     "input": [
      "import networkx as nx\n",
      "A = np.array([[0,0,0,1,0,1,0],\n",
      "              [0,0,0,1,1,0,0],\n",
      "              [0,0,0,0,1,0,1,],\n",
      "              [1,1,0,0,0,1,0],\n",
      "              [0,1,1,0,0,0,1],\n",
      "              [1,0,0,1,0,0,0],\n",
      "              [0,1,1,0,1,0,0]])\n",
      "N = nx.MultiGraph(A)\n",
      "L2 = nx.laplacian_matrix(N)\n",
      "F = nx.fiedler_vector(N)\n",
      "print F"
     ],
     "language": "python",
     "metadata": {},
     "outputs": [
      {
       "output_type": "stream",
       "stream": "stdout",
       "text": [
        "[-0.47019047  0.10021895  0.43264666 -0.31473961  0.34205179 -0.47019047\n",
        "  0.38020314]\n"
       ]
      }
     ],
     "prompt_number": 40
    },
    {
     "cell_type": "heading",
     "level": 2,
     "metadata": {},
     "source": [
      "Unit 3: SVD and beyond"
     ]
    },
    {
     "cell_type": "code",
     "collapsed": false,
     "input": [
      "from scipy import linalg\n",
      "A3 = Matrix([[78,92,59,26],[166,206,26,48],[74,138,165,3],[66,151,250,214]])\n",
      "U,Sig,V = svd(A3)\n",
      "A3, U"
     ],
     "language": "python",
     "metadata": {},
     "outputs": [
      {
       "metadata": {},
       "output_type": "pyout",
       "prompt_number": 17,
       "text": [
        "(Matrix([\n",
        " [ 78,  92,  59,  26],\n",
        " [166, 206,  26,  48],\n",
        " [ 74, 138, 165,   3],\n",
        " [ 66, 151, 250, 214]]),\n",
        " array([[-0.27071569, -0.21229512, -0.06634247, -0.93661223],\n",
        "        [-0.46073933, -0.7600818 ,  0.36295773,  0.27974385],\n",
        "        [-0.43749619, -0.07569421, -0.87217164,  0.20538768],\n",
        "        [-0.72320769,  0.60948899,  0.32121176,  0.04813321]]))"
       ]
      }
     ],
     "prompt_number": 17
    },
    {
     "cell_type": "code",
     "collapsed": false,
     "input": [
      "#This SVD gives Sigma as \n",
      "np.dot(U,np.dot(Sig,V))"
     ],
     "language": "python",
     "metadata": {},
     "outputs": [
      {
       "metadata": {},
       "output_type": "pyout",
       "prompt_number": 18,
       "text": [
        "array([ 186.85510847,  329.93038777,  352.79978343, -103.18633859])"
       ]
      }
     ],
     "prompt_number": 18
    },
    {
     "cell_type": "code",
     "collapsed": false,
     "input": [
      "np.dot(U,np.dot(linalg.diagsvd(Sig, 4, 4),V))"
     ],
     "language": "python",
     "metadata": {},
     "outputs": [
      {
       "metadata": {},
       "output_type": "pyout",
       "prompt_number": 19,
       "text": [
        "array([[  78.,   92.,   59.,   26.],\n",
        "       [ 166.,  206.,   26.,   48.],\n",
        "       [  74.,  138.,  165.,    3.],\n",
        "       [  66.,  151.,  250.,  214.]])"
       ]
      }
     ],
     "prompt_number": 19
    },
    {
     "cell_type": "code",
     "collapsed": false,
     "input": [],
     "language": "python",
     "metadata": {},
     "outputs": [
      {
       "ename": "NameError",
       "evalue": "name 'diagsvd' is not defined",
       "output_type": "pyerr",
       "traceback": [
        "\u001b[0;31m---------------------------------------------------------------------------\u001b[0m\n\u001b[0;31mNameError\u001b[0m                                 Traceback (most recent call last)",
        "\u001b[0;32m<ipython-input-20-c1a5ef6ce2da>\u001b[0m in \u001b[0;36m<module>\u001b[0;34m()\u001b[0m\n\u001b[0;32m----> 1\u001b[0;31m \u001b[0mdiagsvd\u001b[0m\u001b[0;34m(\u001b[0m\u001b[0mSig\u001b[0m\u001b[0;34m,\u001b[0m \u001b[0;36m4\u001b[0m\u001b[0;34m,\u001b[0m \u001b[0;36m4\u001b[0m\u001b[0;34m)\u001b[0m\u001b[0;34m\u001b[0m\u001b[0m\n\u001b[0m",
        "\u001b[0;31mNameError\u001b[0m: name 'diagsvd' is not defined"
       ]
      }
     ],
     "prompt_number": 20
    },
    {
     "cell_type": "code",
     "collapsed": false,
     "input": [],
     "language": "python",
     "metadata": {},
     "outputs": []
    }
   ],
   "metadata": {}
  }
 ]
}