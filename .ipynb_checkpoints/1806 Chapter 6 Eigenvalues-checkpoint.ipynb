{
 "metadata": {
  "name": "",
  "signature": "sha256:0868fa4bbb859f53e494e560f3b553e98029b96a702cc04af18d43d176e52bba"
 },
 "nbformat": 3,
 "nbformat_minor": 0,
 "worksheets": []
}