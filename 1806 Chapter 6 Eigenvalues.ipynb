{
 "metadata": {
  "name": "",
  "signature": "sha256:c77f3e6e1a59f9ea9079a3e159b6cca953554cd705680bbc2fb1d51e571bf34d"
 },
 "nbformat": 3,
 "nbformat_minor": 0,
 "worksheets": [
  {
   "cells": [
    {
     "cell_type": "heading",
     "level": 1,
     "metadata": {},
     "source": [
      "1806 Chapter 6: Eigenvalues and Eigenvectors"
     ]
    },
    {
     "cell_type": "markdown",
     "metadata": {},
     "source": [
      "This chapter cuts to the heart of a lot of linear algebra and is worth reviewing until the material is fully embedded. As a consequence, it is important to also review the lecture material from Prof Strang. "
     ]
    },
    {
     "cell_type": "code",
     "collapsed": false,
     "input": [
      "from IPython.display import YouTubeVideo\n",
      "# Eigenvectors and eigenvalues"
     ],
     "language": "python",
     "metadata": {},
     "outputs": [],
     "prompt_number": 98
    },
    {
     "cell_type": "code",
     "collapsed": false,
     "input": [
      "#Determinents and their properties L18.\n",
      "YouTubeVideo('srxexLishgY')"
     ],
     "language": "python",
     "metadata": {},
     "outputs": [
      {
       "html": [
        "\n",
        "        <iframe\n",
        "            width=\"400\"\n",
        "            height=300\"\n",
        "            src=\"https://www.youtube.com/embed/srxexLishgY\"\n",
        "            frameborder=\"0\"\n",
        "            allowfullscreen\n",
        "        ></iframe>\n",
        "        "
       ],
       "metadata": {},
       "output_type": "pyout",
       "prompt_number": 99,
       "text": [
        "<IPython.lib.display.YouTubeVideo at 0x10de62b10>"
       ]
      }
     ],
     "prompt_number": 99
    },
    {
     "cell_type": "code",
     "collapsed": false,
     "input": [
      "#Determinents L.19\n",
      "YouTubeVideo('23LLB9mNJvc')"
     ],
     "language": "python",
     "metadata": {},
     "outputs": [
      {
       "html": [
        "\n",
        "        <iframe\n",
        "            width=\"400\"\n",
        "            height=300\"\n",
        "            src=\"https://www.youtube.com/embed/23LLB9mNJvc\"\n",
        "            frameborder=\"0\"\n",
        "            allowfullscreen\n",
        "        ></iframe>\n",
        "        "
       ],
       "metadata": {},
       "output_type": "pyout",
       "prompt_number": 100,
       "text": [
        "<IPython.lib.display.YouTubeVideo at 0x10de62f50>"
       ]
      }
     ],
     "prompt_number": 100
    },
    {
     "cell_type": "code",
     "collapsed": false,
     "input": [
      "#Cramer's rule and using determinants -- nice idea but comutationally impractical. \n",
      "YouTubeVideo('QNpj-gOXW9M')"
     ],
     "language": "python",
     "metadata": {},
     "outputs": [
      {
       "html": [
        "\n",
        "        <iframe\n",
        "            width=\"400\"\n",
        "            height=300\"\n",
        "            src=\"https://www.youtube.com/embed/QNpj-gOXW9M\"\n",
        "            frameborder=\"0\"\n",
        "            allowfullscreen\n",
        "        ></iframe>\n",
        "        "
       ],
       "metadata": {},
       "output_type": "pyout",
       "prompt_number": 101,
       "text": [
        "<IPython.lib.display.YouTubeVideo at 0x10de4f2d0>"
       ]
      }
     ],
     "prompt_number": 101
    },
    {
     "cell_type": "code",
     "collapsed": false,
     "input": [
      "\n",
      "YouTubeVideo('lXNXrLcoerU')"
     ],
     "language": "python",
     "metadata": {},
     "outputs": [
      {
       "html": [
        "\n",
        "        <iframe\n",
        "            width=\"400\"\n",
        "            height=300\"\n",
        "            src=\"https://www.youtube.com/embed/lXNXrLcoerU\"\n",
        "            frameborder=\"0\"\n",
        "            allowfullscreen\n",
        "        ></iframe>\n",
        "        "
       ],
       "metadata": {},
       "output_type": "pyout",
       "prompt_number": 102,
       "text": [
        "<IPython.lib.display.YouTubeVideo at 0x10de4f210>"
       ]
      }
     ],
     "prompt_number": 102
    },
    {
     "cell_type": "code",
     "collapsed": false,
     "input": [
      "#Second lecture on eigenvalues and eigenvectors.\n",
      "#Diagonlisation and e^A\n",
      "YouTubeVideo('13r9QY6cmjc')"
     ],
     "language": "python",
     "metadata": {},
     "outputs": [
      {
       "html": [
        "\n",
        "        <iframe\n",
        "            width=\"400\"\n",
        "            height=300\"\n",
        "            src=\"https://www.youtube.com/embed/13r9QY6cmjc\"\n",
        "            frameborder=\"0\"\n",
        "            allowfullscreen\n",
        "        ></iframe>\n",
        "        "
       ],
       "metadata": {},
       "output_type": "pyout",
       "prompt_number": 103,
       "text": [
        "<IPython.lib.display.YouTubeVideo at 0x10de4f3d0>"
       ]
      }
     ],
     "prompt_number": 103
    },
    {
     "cell_type": "markdown",
     "metadata": {},
     "source": [
      "Strang (2014), p.325 onward gives the fundamentals of how eigenvalues relate to differential equations. So the equations $y_1' = 4y_1 + y_2$ and $y_2 = 3y_1 + 2y_2$ become:\n",
      "\n",
      "$\\begin{bmatrix} y_1 \\\\ y_2 \\end{bmatrix}' = \\begin{bmatrix} 4&1 \\\\3&2 \\end{bmatrix} \\begin{bmatrix} y_1 \\\\ y_2 \\end{bmatrix} = \\begin{bmatrix} 4&1 \\\\3&2 \\end{bmatrix} \\begin{bmatrix} e^{\\lambda t}a \\\\ e^{\\lambda t}b \\end{bmatrix}$ where $\\begin{bmatrix} a\\\\b \\end{bmatrix}$ is the eigenvector matrix.\n",
      "\n",
      "An example:"
     ]
    },
    {
     "cell_type": "code",
     "collapsed": false,
     "input": [
      "from sympy import init_session\n",
      "import numpy as np\n",
      "init_session()\n",
      "A = Matrix([[4,1],[3,2]])\n",
      "A"
     ],
     "language": "python",
     "metadata": {},
     "outputs": [
      {
       "output_type": "stream",
       "stream": "stdout",
       "text": [
        "IPython console for SymPy 0.7.6 (Python 2.7.6-64-bit) (ground types: python)\n",
        "\n",
        "These commands were executed:\n",
        ">>> from __future__ import division\n",
        ">>> from sympy import *\n",
        ">>> x, y, z, t = symbols('x y z t')\n",
        ">>> k, m, n = symbols('k m n', integer=True)\n",
        ">>> f, g, h = symbols('f g h', cls=Function)\n",
        ">>> init_printing()\n",
        "\n",
        "Documentation can be found at http://www.sympy.org\n"
       ]
      },
      {
       "latex": [
        "$$\\left[\\begin{matrix}4 & 1\\\\3 & 2\\end{matrix}\\right]$$"
       ],
       "metadata": {},
       "output_type": "pyout",
       "png": "[encoded data removed]",
       "prompt_number": 104,
       "text": [
        "\u23a14  1\u23a4\n",
        "\u23a2    \u23a5\n",
        "\u23a33  2\u23a6"
       ]
      }
     ],
     "prompt_number": 104
    },
    {
     "cell_type": "code",
     "collapsed": false,
     "input": [
      "EV = A.eigenvects()\n",
      "ev1 =EV[0][0]\n",
      "ev2 = EV[1][0]\n",
      "ab1 = EV[0][2][0]*-3 #*3 to match the example in Strang\n",
      "ab2 = EV[1][2][0]\n",
      "ematrix = Matrix([[ab1[0],ab2[0]],[ab1[1],ab2[1]]])\n",
      "ev1, ev2,ab1, ab2, ematrix"
     ],
     "language": "python",
     "metadata": {},
     "outputs": [
      {
       "latex": [
        "$$\\left ( 1, \\quad 5, \\quad \\left[\\begin{matrix}1\\\\-3\\end{matrix}\\right], \\quad \\left[\\begin{matrix}1\\\\1\\end{matrix}\\right], \\quad \\left[\\begin{matrix}1 & 1\\\\-3 & 1\\end{matrix}\\right]\\right )$$"
       ],
       "metadata": {},
       "output_type": "pyout",
       "png": "[encoded data removed]",
       "prompt_number": 105,
       "text": [
        "\u239b1, 5, \u23a11 \u23a4, \u23a11\u23a4, \u23a11   1\u23a4\u239e\n",
        "\u239c      \u23a2  \u23a5  \u23a2 \u23a5  \u23a2     \u23a5\u239f\n",
        "\u239d      \u23a3-3\u23a6  \u23a31\u23a6  \u23a3-3  1\u23a6\u23a0"
       ]
      }
     ],
     "prompt_number": 105
    },
    {
     "cell_type": "code",
     "collapsed": false,
     "input": [
      "c1,c2 = symbols ('c_1 c_2')\n",
      "y1 = c1*ematrix[:,0]*exp(ev1*t) \n",
      "y2 = c2*ematrix[:,1]*exp(ev2*t)\n",
      "y1,y2 #And the solution y' = Ay = lambda y is found from the derivative sum of y1, y2. "
     ],
     "language": "python",
     "metadata": {},
     "outputs": [
      {
       "latex": [
        "$$\\left ( \\left[\\begin{matrix}c_{1} e^{t}\\\\- 3 c_{1} e^{t}\\end{matrix}\\right], \\quad \\left[\\begin{matrix}c_{2} e^{5 t}\\\\c_{2} e^{5 t}\\end{matrix}\\right]\\right )$$"
       ],
       "metadata": {},
       "output_type": "pyout",
       "png": "[encoded data removed]",
       "prompt_number": 106,
       "text": [
        "\u239b\u23a1     t  \u23a4  \u23a1    5\u22c5t\u23a4\u239e\n",
        "\u239c\u23a2 c\u2081\u22c5\u212f   \u23a5, \u23a2c\u2082\u22c5\u212f   \u23a5\u239f\n",
        "\u239c\u23a2        \u23a5  \u23a2       \u23a5\u239f\n",
        "\u239c\u23a2       t\u23a5  \u23a2    5\u22c5t\u23a5\u239f\n",
        "\u239d\u23a3-3\u22c5c\u2081\u22c5\u212f \u23a6  \u23a3c\u2082\u22c5\u212f   \u23a6\u23a0"
       ]
      }
     ],
     "prompt_number": 106
    },
    {
     "cell_type": "code",
     "collapsed": false,
     "input": [
      "#the solution then is...which is the same as multiplying each element y1 y2 by lambdas!\n",
      "A*soln_matrix"
     ],
     "language": "python",
     "metadata": {},
     "outputs": [
      {
       "latex": [
        "$$\\left[\\begin{matrix}c_{1} e^{t} + 5 c_{2} e^{5 t}\\\\- 3 c_{1} e^{t} + 5 c_{2} e^{5 t}\\end{matrix}\\right]$$"
       ],
       "metadata": {},
       "output_type": "pyout",
       "png": "[encoded data removed]",
       "prompt_number": 107,
       "text": [
        "\u23a1      t         5\u22c5t  \u23a4\n",
        "\u23a2  c\u2081\u22c5\u212f  + 5\u22c5c\u2082\u22c5\u212f     \u23a5\n",
        "\u23a2                     \u23a5\n",
        "\u23a2        t         5\u22c5t\u23a5\n",
        "\u23a3- 3\u22c5c\u2081\u22c5\u212f  + 5\u22c5c\u2082\u22c5\u212f   \u23a6"
       ]
      }
     ],
     "prompt_number": 107
    },
    {
     "cell_type": "code",
     "collapsed": false,
     "input": [
      "#So now to see how this is the sames as the exponential of the matrix A\n",
      "exp(A*t)*Matrix([[1],[0]])*4"
     ],
     "language": "python",
     "metadata": {},
     "outputs": [
      {
       "latex": [
        "$$\\left[\\begin{matrix}3 e^{5 t} + e^{t}\\\\3 e^{5 t} - 3 e^{t}\\end{matrix}\\right]$$"
       ],
       "metadata": {},
       "output_type": "pyout",
       "png": "[encoded data removed]",
       "prompt_number": 108,
       "text": [
        "\u23a1    5\u22c5t    t \u23a4\n",
        "\u23a2 3\u22c5\u212f    + \u212f  \u23a5\n",
        "\u23a2             \u23a5\n",
        "\u23a2   5\u22c5t      t\u23a5\n",
        "\u23a33\u22c5\u212f    - 3\u22c5\u212f \u23a6"
       ]
      }
     ],
     "prompt_number": 108
    },
    {
     "cell_type": "code",
     "collapsed": false,
     "input": [
      "A.diagonalize()"
     ],
     "language": "python",
     "metadata": {},
     "outputs": [
      {
       "latex": [
        "$$\\left ( \\left[\\begin{matrix}-1 & 1\\\\3 & 1\\end{matrix}\\right], \\quad \\left[\\begin{matrix}1 & 0\\\\0 & 5\\end{matrix}\\right]\\right )$$"
       ],
       "metadata": {},
       "output_type": "pyout",
       "png": "[encoded data removed]",
       "prompt_number": 109,
       "text": [
        "\u239b\u23a1-1  1\u23a4, \u23a11  0\u23a4\u239e\n",
        "\u239c\u23a2     \u23a5  \u23a2    \u23a5\u239f\n",
        "\u239d\u23a33   1\u23a6  \u23a30  5\u23a6\u23a0"
       ]
      }
     ],
     "prompt_number": 109
    },
    {
     "cell_type": "code",
     "collapsed": false,
     "input": [
      "#An inbuilt function to solve for y'\n",
      "s1,s2 = A.diagonal_solve(Matrix([[y1],[y2]]))\n",
      "s1,s2"
     ],
     "language": "python",
     "metadata": {},
     "outputs": [
      {
       "latex": [
        "$$\\left ( \\left[\\begin{matrix}\\frac{c_{1} e^{t}}{4}\\\\- \\frac{3 c_{1}}{4} e^{t}\\end{matrix}\\right], \\quad \\left[\\begin{matrix}\\frac{c_{2}}{2} e^{5 t}\\\\\\frac{c_{2}}{2} e^{5 t}\\end{matrix}\\right]\\right )$$"
       ],
       "metadata": {},
       "output_type": "pyout",
       "png": "[encoded data removed]",
       "prompt_number": 119,
       "text": [
        "\u239b\u23a1      t  \u23a4  \u23a1    5\u22c5t\u23a4\u239e\n",
        "\u239c\u23a2  c\u2081\u22c5\u212f   \u23a5  \u23a2c\u2082\u22c5\u212f   \u23a5\u239f\n",
        "\u239c\u23a2  \u2500\u2500\u2500\u2500\u2500  \u23a5, \u23a2\u2500\u2500\u2500\u2500\u2500\u2500\u2500\u23a5\u239f\n",
        "\u239c\u23a2    4    \u23a5  \u23a2   2   \u23a5\u239f\n",
        "\u239c\u23a2         \u23a5  \u23a2       \u23a5\u239f\n",
        "\u239c\u23a2       t \u23a5  \u23a2    5\u22c5t\u23a5\u239f\n",
        "\u239c\u23a2-3\u22c5c\u2081\u22c5\u212f  \u23a5  \u23a2c\u2082\u22c5\u212f   \u23a5\u239f\n",
        "\u239c\u23a2\u2500\u2500\u2500\u2500\u2500\u2500\u2500\u2500\u2500\u23a5  \u23a2\u2500\u2500\u2500\u2500\u2500\u2500\u2500\u23a5\u239f\n",
        "\u239d\u23a3    4    \u23a6  \u23a3   2   \u23a6\u23a0"
       ]
      }
     ],
     "prompt_number": 119
    },
    {
     "cell_type": "heading",
     "level": 2,
     "metadata": {},
     "source": [
      "Fibonacci Series using matrices"
     ]
    },
    {
     "cell_type": "markdown",
     "metadata": {},
     "source": [
      "Page 340 presents an elegant way to use diagonalised matrices to compute the Fibonacci series. It relies on the trivial equation that $F_{k+1} = F_{k+1}$. The second equation in the pair is that $F_{k+2} = F_{k+1} + F_{k}$. This produces a matrix as below for $\\mathbf{u}{_{k+1}} $, which gives an equation matrix of $\\begin{bmatrix} 1&1 \\\\ 1&0 \\end{bmatrix}$."
     ]
    },
    {
     "cell_type": "code",
     "collapsed": false,
     "input": [
      "F = Matrix([[1,1],[1,0]])\n",
      "u0 = symbols('u_0')\n",
      "u0 = Matrix ([1,0])\n",
      "F, u0"
     ],
     "language": "python",
     "metadata": {},
     "outputs": [
      {
       "latex": [
        "$$\\left ( \\left[\\begin{matrix}1 & 1\\\\1 & 0\\end{matrix}\\right], \\quad \\left[\\begin{matrix}1\\\\0\\end{matrix}\\right]\\right )$$"
       ],
       "metadata": {},
       "output_type": "pyout",
       "png": "[encoded data removed]",
       "prompt_number": 123,
       "text": [
        "\u239b\u23a11  1\u23a4, \u23a11\u23a4\u239e\n",
        "\u239c\u23a2    \u23a5  \u23a2 \u23a5\u239f\n",
        "\u239d\u23a31  0\u23a6  \u23a30\u23a6\u23a0"
       ]
      }
     ],
     "prompt_number": 123
    },
    {
     "cell_type": "code",
     "collapsed": false,
     "input": [
      "simplify(F.diagonalize())"
     ],
     "language": "python",
     "metadata": {},
     "outputs": [
      {
       "latex": [
        "$$\\left ( \\left[\\begin{matrix}\\frac{1}{2} + \\frac{\\sqrt{5}}{2} & - \\frac{\\sqrt{5}}{2} + \\frac{1}{2}\\\\1 & 1\\end{matrix}\\right], \\quad \\left[\\begin{matrix}\\frac{1}{2} + \\frac{\\sqrt{5}}{2} & 0\\\\0 & - \\frac{\\sqrt{5}}{2} + \\frac{1}{2}\\end{matrix}\\right]\\right )$$"
       ],
       "metadata": {},
       "output_type": "pyout",
       "png": "[encoded data removed]",
       "prompt_number": 165,
       "text": [
        "\u239b\u23a1      ___      ___    \u23a4  \u23a1      ___             \u23a4\u239e\n",
        "\u239c\u23a21   \u2572\u2571 5     \u2572\u2571 5    1\u23a5  \u23a21   \u2572\u2571 5              \u23a5\u239f\n",
        "\u239c\u23a2\u2500 + \u2500\u2500\u2500\u2500\u2500  - \u2500\u2500\u2500\u2500\u2500 + \u2500\u23a5, \u23a2\u2500 + \u2500\u2500\u2500\u2500\u2500       0     \u23a5\u239f\n",
        "\u239c\u23a22     2        2     2\u23a5  \u23a22     2               \u23a5\u239f\n",
        "\u239c\u23a2                      \u23a5  \u23a2                      \u23a5\u239f\n",
        "\u239c\u23a3    1           1     \u23a6  \u23a2               ___    \u23a5\u239f\n",
        "\u239c                          \u23a2             \u2572\u2571 5    1\u23a5\u239f\n",
        "\u239c                          \u23a2    0      - \u2500\u2500\u2500\u2500\u2500 + \u2500\u23a5\u239f\n",
        "\u239d                          \u23a3               2     2\u23a6\u23a0"
       ]
      }
     ],
     "prompt_number": 165
    },
    {
     "cell_type": "code",
     "collapsed": false,
     "input": [
      "#The long solution is...\n",
      "F**100*u0"
     ],
     "language": "python",
     "metadata": {},
     "outputs": [
      {
       "latex": [
        "$$\\left[\\begin{matrix}573147844013817084101\\\\354224848179261915075\\end{matrix}\\right]$$"
       ],
       "metadata": {},
       "output_type": "pyout",
       "png": "[encoded data removed]",
       "prompt_number": 157,
       "text": [
        "\u23a1573147844013817084101\u23a4\n",
        "\u23a2                     \u23a5\n",
        "\u23a3354224848179261915075\u23a6"
       ]
      }
     ],
     "prompt_number": 157
    },
    {
     "cell_type": "code",
     "collapsed": false,
     "input": [
      "#Using a diagonalised matrix...\n",
      "Fd = F.diagonalize()\n",
      "Fd100 = Fd[1]**100\n",
      "S1 = Fd[0]*Fd100*Fd[0].inv()\n",
      "S1[:,:].evalf()"
     ],
     "language": "python",
     "metadata": {},
     "outputs": [
      {
       "latex": [
        "$$\\left[\\begin{matrix}5.73147844013817 \\cdot 10^{20} & 3.54224848179262 \\cdot 10^{20}\\\\3.54224848179262 \\cdot 10^{20} & 2.18922995834555 \\cdot 10^{20}\\end{matrix}\\right]$$"
       ],
       "metadata": {},
       "output_type": "pyout",
       "png": "[encoded data removed]",
       "prompt_number": 158,
       "text": [
        "\u23a15.73147844013817e+20  3.54224848179262e+20\u23a4\n",
        "\u23a2                                          \u23a5\n",
        "\u23a33.54224848179262e+20  2.18922995834555e+20\u23a6"
       ]
      }
     ],
     "prompt_number": 158
    },
    {
     "cell_type": "markdown",
     "metadata": {},
     "source": [
      "Note that $S[1,1] = F_{k-1}$."
     ]
    },
    {
     "cell_type": "code",
     "collapsed": false,
     "input": [
      "F100 = F**100\n",
      "S2 = 1/(F100.diagonal_solve(Matrix([1,0]))[0])\n",
      "S2"
     ],
     "language": "python",
     "metadata": {},
     "outputs": [
      {
       "latex": [
        "$$573147844013817084101$$"
       ],
       "metadata": {},
       "output_type": "pyout",
       "png": "[encoded data removed]",
       "prompt_number": 164,
       "text": [
        "573147844013817084101"
       ]
      }
     ],
     "prompt_number": 164
    },
    {
     "cell_type": "markdown",
     "metadata": {},
     "source": [
      "Of the three methods above, the first and third take around 570 microseconds, diagonalising takes 104ms."
     ]
    },
    {
     "cell_type": "code",
     "collapsed": false,
     "input": [],
     "language": "python",
     "metadata": {},
     "outputs": []
    }
   ],
   "metadata": {}
  }
 ]
}