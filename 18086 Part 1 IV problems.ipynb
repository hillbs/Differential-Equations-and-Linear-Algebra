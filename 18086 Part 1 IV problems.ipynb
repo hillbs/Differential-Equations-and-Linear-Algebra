{
 "metadata": {
  "name": "",
  "signature": "sha256:ea8ac544e105b0e88d525112722bbdfd3c1b051c9510397e6d35f8801409dd87"
 },
 "nbformat": 3,
 "nbformat_minor": 0,
 "worksheets": [
  {
   "cells": [
    {
     "cell_type": "heading",
     "level": 1,
     "metadata": {},
     "source": [
      "18.086 Mathematical Methods for Engineers"
     ]
    },
    {
     "cell_type": "markdown",
     "metadata": {},
     "source": [
      "http://ocw.mit.edu/courses/mathematics/18-086-mathematical-methods-for-engineers-ii-spring-2006/index.htm"
     ]
    },
    {
     "cell_type": "heading",
     "level": 4,
     "metadata": {},
     "source": [
      "\ufffc\ufffcPart1: Initial Value Problems"
     ]
    },
    {
     "cell_type": "markdown",
     "metadata": {},
     "source": [
      "A key element is being able to use components of symbolic libraries across languages. Matlab has ODE45, ODE15 and so forth. Sympy has similar approaches using both quarature and integrators. A key feature of this second part of Strang's course and book is the transition to directly numerical methods, which, in programming terms, means also moving more to scipy than sympy, at times. "
     ]
    },
    {
     "cell_type": "markdown",
     "metadata": {},
     "source": [
      "http://docs.scipy.org/doc/scipy/reference/tutorial/integrate.html and, more specifically http://docs.scipy.org/doc/scipy/reference/integrate.html#module-scipy.integrate"
     ]
    },
    {
     "cell_type": "markdown",
     "metadata": {},
     "source": [
      "Also, in sympy it is useful to have comparison with Matlab commands. Two common commands are noted below:"
     ]
    },
    {
     "cell_type": "raw",
     "metadata": {},
     "source": [
      "#Matlab's ODE45, for Runga-Kutta 4 is, in sympy:\n",
      "scipy.integrate.ode(f).set_integrator('dopri5')\n",
      "#ODE15s , for BDF is:\n",
      "scipy.integrate.ode(f).set_integrator('vode', method='bdf', order=15)"
     ]
    },
    {
     "cell_type": "markdown",
     "metadata": {},
     "source": [
      "Some other options include installing modules such as:\n",
      "    http://numerics.kaust.edu.sa/nodepy/index.html"
     ]
    },
    {
     "cell_type": "code",
     "collapsed": false,
     "input": [],
     "language": "python",
     "metadata": {},
     "outputs": []
    }
   ],
   "metadata": {}
  }
 ]
}