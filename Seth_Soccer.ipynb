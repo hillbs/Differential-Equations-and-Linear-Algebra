{
 "metadata": {
  "name": "",
  "signature": "sha256:4755fb62b6f452913d30fe1b3046f51ba0a1f5e1a3bc9a368c5553c7d4772776"
 },
 "nbformat": 3,
 "nbformat_minor": 0,
 "worksheets": [
  {
   "cells": [
    {
     "cell_type": "heading",
     "level": 1,
     "metadata": {},
     "source": [
      "2015 Soccer season"
     ]
    },
    {
     "cell_type": "code",
     "collapsed": false,
     "input": [
      "import numpy as np\n",
      "import scipy.linalg as la\n",
      "import matplotlib as plt\n",
      "from sympy import init_session\n",
      "init_session()"
     ],
     "language": "python",
     "metadata": {},
     "outputs": [
      {
       "output_type": "stream",
       "stream": "stdout",
       "text": [
        "IPython console for SymPy 0.7.6 (Python 2.7.6-64-bit) (ground types: python)\n",
        "\n",
        "These commands were executed:\n",
        ">>> from __future__ import division\n",
        ">>> from sympy import *\n",
        ">>> x, y, z, t = symbols('x y z t')\n",
        ">>> k, m, n = symbols('k m n', integer=True)\n",
        ">>> f, g, h = symbols('f g h', cls=Function)\n",
        ">>> init_printing()\n",
        "\n",
        "Documentation can be found at http://www.sympy.org\n"
       ]
      }
     ],
     "prompt_number": 15
    },
    {
     "cell_type": "code",
     "collapsed": false,
     "input": [
      "%matplotlib inline\n",
      "d1=d2=d3 =1/3\n",
      "T = np.matrix([[d1,d2,d3,0,0,0,0,0,0],\n",
      "               [0,d1+d3,d2,0,0,0,0,0,0],\n",
      "               [0,d2,d1,0,d3,0,0,0,0],\n",
      "               [0,0,0,0,0,0,0,0,0],\n",
      "               [0,0,0,0,d1,0,d3,d2,0],\n",
      "               [0,0,0,0,0,0,0,0,0],\n",
      "               [0,0,0,0,0,0,d1,d2,d3],\n",
      "               [0,0,0,0,0,0,0,d1,d2+d3],\n",
      "               [0,0,0,0,0,0,0,0,1]])\n",
      "V = np.matrix([1,0,0,0,0,0,0,0,0])\n",
      "Vold = G = V\n",
      "for i in range(16):\n",
      "    Vnew = Vold*T\n",
      "    Vold = Vnew\n",
      "    G = np.row_stack((G,Vnew))\n",
      "plt.rcParams['figure.figsize'] = [8, 12]\n",
      "plt.imshow(G, cmap =  cm.Blues, interpolation = 'nearest')"
     ],
     "language": "python",
     "metadata": {},
     "outputs": [
      {
       "metadata": {},
       "output_type": "pyout",
       "prompt_number": 16,
       "text": [
        "<matplotlib.image.AxesImage at 0x114562790>"
       ]
      },
      {
       "metadata": {},
       "output_type": "display_data",
       "png": "[encoded data removed]",
       "text": [
        "<matplotlib.figure.Figure at 0x114585590>"
       ]
      }
     ],
     "prompt_number": 16
    },
    {
     "cell_type": "heading",
     "level": 4,
     "metadata": {},
     "source": [
      "The Massey system"
     ]
    },
    {
     "cell_type": "code",
     "collapsed": false,
     "input": [
      "#Team x played Team y winning by 1, Team y played TEam  winning by 15, Team x played Team z losing by 10.\n",
      "A = Matrix([[1,-1,0],[0,1,-1],[-1,0,1]])\n",
      "Teams = Matrix([x,y,z])\n",
      "Results = Matrix([1,15,10])\n",
      "A,Teams, A*Teams, Results"
     ],
     "language": "python",
     "metadata": {},
     "outputs": [
      {
       "latex": [
        "$$\\left ( \\left[\\begin{matrix}1 & -1 & 0\\\\0 & 1 & -1\\\\-1 & 0 & 1\\end{matrix}\\right], \\quad \\left[\\begin{matrix}x\\\\y\\\\z\\end{matrix}\\right], \\quad \\left[\\begin{matrix}x - y\\\\y - z\\\\- x + z\\end{matrix}\\right], \\quad \\left[\\begin{matrix}1\\\\15\\\\10\\end{matrix}\\right]\\right )$$"
       ],
       "metadata": {},
       "output_type": "pyout",
       "png": "[encoded data removed]",
       "prompt_number": 17,
       "text": [
        "\u239b\u23a11   -1  0 \u23a4, \u23a1x\u23a4, \u23a1x - y \u23a4, \u23a11 \u23a4\u239e\n",
        "\u239c\u23a2          \u23a5  \u23a2 \u23a5  \u23a2      \u23a5  \u23a2  \u23a5\u239f\n",
        "\u239c\u23a20   1   -1\u23a5  \u23a2y\u23a5  \u23a2y - z \u23a5  \u23a215\u23a5\u239f\n",
        "\u239c\u23a2          \u23a5  \u23a2 \u23a5  \u23a2      \u23a5  \u23a2  \u23a5\u239f\n",
        "\u239d\u23a3-1  0   1 \u23a6  \u23a3z\u23a6  \u23a3-x + z\u23a6  \u23a310\u23a6\u23a0"
       ]
      }
     ],
     "prompt_number": 17
    },
    {
     "cell_type": "code",
     "collapsed": false,
     "input": [
      "\n",
      "def Massey_Rank(A, Results):\n",
      "    ''' A is the game matrix with diagonals = 1, Results is the \n",
      "    score difference for each game'''\n",
      "    #Now multiply both sides by A.T\n",
      "    M = A.T*A\n",
      "    R = A.T*Results\n",
      "    #Replace Row m with ones and row m in Results with 0\n",
      "    m = M.cols\n",
      "    M[-1*m] = ones(1, m); R[-1] = 0\n",
      "    #lstsq returns the solution, rank and singular values\n",
      "    Solution = la.lstsq(M,R)\n",
      "    return M, R, Solution[0]\n",
      "Massey_Rank(A,Results)"
     ],
     "language": "python",
     "metadata": {},
     "outputs": [
      {
       "metadata": {},
       "output_type": "pyout",
       "prompt_number": 18,
       "text": [
        "(Matrix([\n",
        " [ 2, -1, -1],\n",
        " [-1,  2, -1],\n",
        " [ 1,  1,  1]]), Matrix([\n",
        " [-9],\n",
        " [14],\n",
        " [ 0]]), array([[-3.        ],\n",
        "        [ 4.66666667],\n",
        "        [-1.66666667]]))"
       ]
      }
     ],
     "prompt_number": 18
    },
    {
     "cell_type": "markdown",
     "metadata": {},
     "source": [
      "The Matrix $A$ also can be arrived at directly. This is done by placing the number of games each team (row) played, then $-1 * \\ number \\ of \\ games$ for each Team col."
     ]
    },
    {
     "cell_type": "heading",
     "level": 4,
     "metadata": {},
     "source": [
      "The Colley Method"
     ]
    },
    {
     "cell_type": "markdown",
     "metadata": {},
     "source": [
      "http://www.colleyrankings.com/matrate.pdf; http://www.mathaware.org/mam/2010/essays/PasteurPredictive.pdf"
     ]
    },
    {
     "cell_type": "code",
     "collapsed": false,
     "input": [
      "#Colley Method\n",
      "nw = 1.\n",
      "ntot = 2.\n",
      "nl = ntot - nw\n",
      "rating_j = 1/2.\n",
      "rating_i = (1+nw)/(2+ntot)\n",
      "rating_i\n",
      "#But when group pools or conferences are used, there is no certainty that the ratings between each group compare. \n",
      "#Colley uses a scheme whereb the actual (not 1/2) rating of the other team is added to the index team rating. \n",
      "effective_rating = (nw - (ntot-nw)/2.) + rating_j "
     ],
     "language": "python",
     "metadata": {},
     "outputs": [],
     "prompt_number": 19
    },
    {
     "cell_type": "markdown",
     "metadata": {},
     "source": [
      "This can all be rewritten as a matrix $C \\vec{r} = \\vec{b}$. The vector $\\vec{r}$ is the rating for each team, which could be $1/2$, or a calculated rating from another pool. The vector $\\vec{b_i} = \\frac{1 + (n_{w,i} \u2212 n_{l,i})}{2}$\n",
      "\n",
      "$C = \\begin{bmatrix}2+n_{tot}&-1\\\\-1&2 + n_{tot}&-1\\\\ &-1&.&.\\\\ & &.&.&-1\\\\ & & &-1&2 + n_{tot} \\end{bmatrix}$  $r = \\begin{bmatrix}r_1\\\\r_2\\\\.\\\\.\\\\r_n \\end{bmatrix}$"
     ]
    },
    {
     "cell_type": "code",
     "collapsed": false,
     "input": [
      "C = eye(5)*(2+ntot)\n",
      "#b = 1 + (nw-nl)/2\n",
      "C[0,2] = C[0,3] =C[0,4] = C[1,2] = C[1,4] = C[2,0] = C[2,1] =  C[2,3] = C[2,4] = C[3,0] = C[3,2] = C[4,0] = C[4,1] = C[4,2] = -1\n",
      "C[0,0] = C[4,4] = 5\n",
      "C[3,3] = 6\n",
      "b = Matrix([1/2.,1,1,1,3/2.])\n",
      "C, b"
     ],
     "language": "python",
     "metadata": {},
     "outputs": [
      {
       "latex": [
        "$$\\left ( \\left[\\begin{matrix}5 & 0 & -1 & -1 & -1\\\\0 & 4.0 & -1 & 0 & -1\\\\-1 & -1 & 4.0 & -1 & -1\\\\-1 & 0 & -1 & 6 & 0\\\\-1 & -1 & -1 & 0 & 5\\end{matrix}\\right], \\quad \\left[\\begin{matrix}0.5\\\\1\\\\1\\\\1\\\\1.5\\end{matrix}\\right]\\right )$$"
       ],
       "metadata": {},
       "output_type": "pyout",
       "png": "[encoded data removed]",
       "prompt_number": 20,
       "text": [
        "\u239b\u23a15    0   -1   -1  -1\u23a4, \u23a10.5\u23a4\u239e\n",
        "\u239c\u23a2                    \u23a5  \u23a2   \u23a5\u239f\n",
        "\u239c\u23a20   4.0  -1   0   -1\u23a5  \u23a2 1 \u23a5\u239f\n",
        "\u239c\u23a2                    \u23a5  \u23a2   \u23a5\u239f\n",
        "\u239c\u23a2-1  -1   4.0  -1  -1\u23a5  \u23a2 1 \u23a5\u239f\n",
        "\u239c\u23a2                    \u23a5  \u23a2   \u23a5\u239f\n",
        "\u239c\u23a2-1   0   -1   6   0 \u23a5  \u23a2 1 \u23a5\u239f\n",
        "\u239c\u23a2                    \u23a5  \u23a2   \u23a5\u239f\n",
        "\u239d\u23a3-1  -1   -1   0   5 \u23a6  \u23a31.5\u23a6\u23a0"
       ]
      }
     ],
     "prompt_number": 20
    },
    {
     "cell_type": "code",
     "collapsed": false,
     "input": [
      "r_vec = la.solve(C,b)\n",
      "r_vec"
     ],
     "language": "python",
     "metadata": {},
     "outputs": [
      {
       "metadata": {},
       "output_type": "pyout",
       "prompt_number": 21,
       "text": [
        "array([[ 0.46558704],\n",
        "       [ 0.61336032],\n",
        "       [ 0.78137652],\n",
        "       [ 0.37449393],\n",
        "       [ 0.67206478]])"
       ]
      }
     ],
     "prompt_number": 21
    },
    {
     "cell_type": "heading",
     "level": 2,
     "metadata": {},
     "source": [
      "2015 Rankings"
     ]
    },
    {
     "cell_type": "markdown",
     "metadata": {},
     "source": [
      "#ELO system\n",
      "Rn = Ro + K \u00d7 (W - We)\n",
      "\n",
      "Rn is the new rating, Ro is the old (pre-match) rating.\n",
      "\n",
      "K is the weight constant for the tournament played:\n",
      "\n",
      "60 for World Cup finals;\n",
      "50 for continental championship finals and major intercontinental tournaments;\n",
      "40 for World Cup and continental qualifiers and major tournaments;\n",
      "30 for all other tournaments;\n",
      "20 for friendly matches.\n",
      "K is then adjusted for the goal difference in the game. It is increased by half if a game is won by two goals, by 3/4 if a game is won by three goals, and by 3/4 + (N-3)/8 if the game is won by four or more goals, where N is the goal difference.\n",
      "\n",
      "W is the result of the game (1 for a win, 0.5 for a draw, and 0 for a loss).\n",
      "\n",
      "We is the expected result (win expectancy), either from the chart or the following formula:\n",
      "\n",
      "We = 1 / (10(-dr/400) + 1)\n",
      "\n",
      "dr equals the difference in ratings plus 100 points for a team playing at home.\n"
     ]
    },
    {
     "cell_type": "code",
     "collapsed": false,
     "input": [
      "Pa,Le,Be,Bo,St,Wo,Cr,Sp,Wa,Mo = symbols('Panthers Leopard Bears Bobcats Strikers Wolverines Crusaders Sparks Wasps Moas')\n",
      "S15_names = Matrix([Pa,Le,Be,Bo,St,Wo,Cr,Sp,Wa,Mo])\n",
      "\n",
      "def E_win(R_old_A,R_old_B):\n",
      "    We =  1./(1+10.0**((R_old_B-R_old_A)/400.))\n",
      "    return We\n",
      "\n",
      "def ELO(R_old_A,R_old_B,Score_A,Score_B):\n",
      "    '''W is the result of the game (1 for a win, 0.5 for a draw, and 0 for a loss)\n",
      "    We = 1 / (10(-dr/400) + 1)'''\n",
      "    Goal_difference  = Score_A-Score_B #Calculate goal difference\n",
      "    #Points for the result\n",
      "    if Goal_difference >0:\n",
      "        Wa = 1\n",
      "        Wb = 0\n",
      "    elif Goal_difference <0:\n",
      "        Wa = 0\n",
      "        Wb = 1\n",
      "    else:\n",
      "        Wa = Wb = 0.5\n",
      "    #Adjust the weight constant    \n",
      "    K = 30\n",
      "    if Goal_difference ==2:\n",
      "        K = K*1.5\n",
      "    elif Goal_difference ==3:\n",
      "        K += K*3/4.\n",
      "    elif Goal_difference >3:\n",
      "        K += 3/4. + (Goal_difference-3)/8.\n",
      "    else: \n",
      "        K = 32\n",
      "    #Derive win expectancies and new ratings\n",
      "    We_A = E_win(R_old_A,R_old_B)\n",
      "    We_B = E_win(R_old_B,R_old_A)\n",
      "    R_new_A = R_old_A + K*(Wa-We_A)\n",
      "    R_new_B = R_old_B + K*(Wb-We_B)\n",
      "    print'It was expected that Team A, with {:.0f} points, had a {:.0f} % chance of winning'.format(R_old_A,We_A*100)\n",
      "    print'It was expected that Team B, with {:.0f} points, had a {:.0f} % chance of winning'.format(R_old_B,We_B*100)\n",
      "    print 'From the result of {:.0f} to {:.0f}, Team A has a rank of {:.0f} and Team B of {:.0f}'.format(Score_A,Score_B,R_new_A, R_new_B)\n",
      "    \n",
      "    return R_new_A, R_new_B\n",
      "\n",
      "ELO(1426.25,1373.75,2,0)\n",
      "#W1: Bears 1439.85052065, #Panthers 1445.37573216 #Moas 1354.62426784"
     ],
     "language": "python",
     "metadata": {},
     "outputs": [
      {
       "output_type": "stream",
       "stream": "stdout",
       "text": [
        "It was expected that Team A, with 1426 points, had a 57 % chance of winning\n",
        "It was expected that Team B, with 1374 points, had a 43 % chance of winning\n",
        "From the result of 2 to 0, Team A has a rank of 1445 and Team B of 1355\n"
       ]
      },
      {
       "latex": [
        "$$\\left ( 1445.37573216, \\quad 1354.62426784\\right )$$"
       ],
       "metadata": {},
       "output_type": "pyout",
       "png": "[encoded data removed]",
       "prompt_number": 57,
       "text": [
        "(1445.37573216, 1354.62426784)"
       ]
      }
     ],
     "prompt_number": 57
    },
    {
     "cell_type": "code",
     "collapsed": false,
     "input": [
      "#Calculate the win probability of the next game using ranks\n",
      "My_team_rank = 1439.85052065\n",
      "Their_rank = 1439.85052065\n",
      "print 'Given these ratings, your team has a {:.2f}% probability of winning'.format(E_win(My_team_rank,Their_rank)*100)"
     ],
     "language": "python",
     "metadata": {},
     "outputs": [
      {
       "output_type": "stream",
       "stream": "stdout",
       "text": [
        "Given these ratings, your team has a 50.00% probability of winning\n"
       ]
      }
     ],
     "prompt_number": 51
    },
    {
     "cell_type": "code",
     "collapsed": false,
     "input": [],
     "language": "python",
     "metadata": {},
     "outputs": []
    },
    {
     "cell_type": "markdown",
     "metadata": {},
     "source": [
      "Reference to the actual Massey system http://www.masseyratings.com/rate.php?s=sr2015"
     ]
    },
    {
     "cell_type": "heading",
     "level": 4,
     "metadata": {},
     "source": [
      "Massey System"
     ]
    },
    {
     "cell_type": "code",
     "collapsed": false,
     "input": [
      "#Adding a logistic function as per  http://www.mathaware.org/mam/2010/essays/PasteurPredictive.pdf\n",
      "#Weight function for time is noted as 0.95^n\n",
      "Week = 1\n",
      "Weight_by_round = 0.95**(Week)\n",
      "#They also add a logistic function with a cap at 21 and 0 in the middle.\n",
      "#Pasteur 'forgot' to provide the function but here it is -- near enough. \n",
      "@vectorize()\n",
      "def Logistic_func(X,L=28,x0=0,k=.3):\n",
      "    #L = 1 #Maximum value\n",
      "    #x0 = 0 #midpoint value\n",
      "    #k = .2 #steepness\n",
      "    r = L/(1+exp(-k*(X-x0)))\n",
      "    return r -14\n",
      "\n",
      "x1 = np.linspace(-40,40,100)\n",
      "plt.grid()\n",
      "plt.plot(x1,Logistic_func(x1))"
     ],
     "language": "python",
     "metadata": {},
     "outputs": [
      {
       "metadata": {},
       "output_type": "pyout",
       "prompt_number": 24,
       "text": [
        "[<matplotlib.lines.Line2D at 0x114537210>]"
       ]
      },
      {
       "metadata": {},
       "output_type": "display_data",
       "png": "[encoded data removed]",
       "text": [
        "<matplotlib.figure.Figure at 0x114537350>"
       ]
      }
     ],
     "prompt_number": 24
    },
    {
     "cell_type": "code",
     "collapsed": false,
     "input": [
      "S15 = Matrix([[2,0,0,0,0,0,0,0,0,-2],#Panthers\n",
      "              [0,2,-2,0,0,0,0,0,0,0],#Leopards\n",
      "              [0,-2,2,0,0,0,0,0,0,0],#Bears\n",
      "              [0,0,0,2,-2,0,0,0,0,0],#Bobcats\n",
      "              [0,0,0,-2,2,0,0,0,0,0],#Strikers\n",
      "              [0,0,0,0,0,2,-2,0,0,0],#Wolverines\n",
      "              [0,0,0,0,0,-2,2,0,0,0],#Crusaders\n",
      "              [0,0,0,0,0,0,0,2,-2,0],#Sparks\n",
      "              [0,0,0,0,0,0,0,-2,2,0],#Wasps\n",
      "              [-2,0,0,0,0,0,0,0,0,2],#Moas\n",
      "              ])\n",
      "\n",
      "#Create base matrix of score differentials across Teams (row) x Round (col)\n",
      "S15_Base = np.matrix([[3,2],#Panthers\n",
      "              [-3,-1],#Leopards\n",
      "              [3,1],#Bears\n",
      "              [-7,-3],#Bobcats\n",
      "              [7,3],#Strikers\n",
      "              [1,0],#Wolverines\n",
      "              [-1,0],#Crusaders\n",
      "              [3,5],#Sparks\n",
      "              [-3,-5],#Wasps\n",
      "              [-3,-2],#Moas\n",
      "              ])\n",
      "\n",
      "# #Apply time correction\n",
      "# x2 = [0.95**(shape(S15_Base)[1]-1-i) for i in range(shape(S15_Base)[1])]\n",
      "# Timebase = np.multiply(S15_Base,x2)\n",
      "\n",
      "# #Apply Logistic function to matrix\n",
      "# Log_array = np.frompyfunc(Logistic_func,1,1)\n",
      "# S15Results = Log_array(Timebase)\n",
      "\n",
      "#Sum the Columns of Scores x Week\n",
      "S15Results= S15_Base.sum(axis=1)\n",
      " \n",
      "#Massey_Rank(S15,S15Results)\n",
      "S15_M = S15.copy()\n",
      "m = S15_M.cols\n",
      "S15_M[-1*m] = ones(1, m); S15Results[-1] = 0\n",
      "    #lstsq returns the solution, rank and singular values\n",
      "la.lstsq(S15_M,S15Results)"
     ],
     "language": "python",
     "metadata": {},
     "outputs": [
      {
       "metadata": {},
       "output_type": "pyout",
       "prompt_number": 28,
       "text": [
        "(array([[ 1.25],\n",
        "        [-1.  ],\n",
        "        [ 1.  ],\n",
        "        [-2.5 ],\n",
        "        [ 2.5 ],\n",
        "        [ 0.25],\n",
        "        [-0.25],\n",
        "        [ 2.  ],\n",
        "        [-2.  ],\n",
        "        [-1.25]]),\n",
        " array([], dtype=float64),\n",
        " 6,\n",
        " array([  4.00000000e+00,   4.00000000e+00,   4.00000000e+00,\n",
        "          4.00000000e+00,   3.16227766e+00,   2.82842712e+00,\n",
        "          2.74279522e-16,   1.65680637e-16,   6.82161305e-17,\n",
        "          1.12180362e-17]))"
       ]
      }
     ],
     "prompt_number": 28
    },
    {
     "cell_type": "code",
     "collapsed": false,
     "input": [
      "S15_rank = Matrix([S15_names.T,la.lstsq(S15_M,S15Results)[0]])\n",
      "Week_rank = list(np.array(S15_rank.T))\n",
      "Week_rank.sort(key=lambda row: row[1:], reverse=True)\n",
      "import pprint\n",
      "pprint.pprint(Week_rank[:])"
     ],
     "language": "python",
     "metadata": {},
     "outputs": [
      {
       "output_type": "stream",
       "stream": "stdout",
       "text": [
        "[array([Strikers, 2.50000000000000], dtype=object),\n",
        " array([Sparks, 2.00000000000000], dtype=object),\n",
        " array([Panthers, 1.25000000000000], dtype=object),\n",
        " array([Bears, 0.999999999999999], dtype=object),\n",
        " array([Wolverines, 0.249999999999998], dtype=object),\n",
        " array([Crusaders, -0.250000000000001], dtype=object),\n",
        " array([Leopard, -1.00000000000000], dtype=object),\n",
        " array([Moas, -1.25000000000000], dtype=object),\n",
        " array([Wasps, -2.00000000000000], dtype=object),\n",
        " array([Bobcats, -2.50000000000000], dtype=object)]\n"
       ]
      }
     ],
     "prompt_number": 29
    },
    {
     "cell_type": "heading",
     "level": 4,
     "metadata": {},
     "source": [
      "Colley System"
     ]
    },
    {
     "cell_type": "code",
     "collapsed": false,
     "input": [
      "Results_C = ((S15_Base.clip(-1,1)).sum(axis=1)/2.)+1\n",
      "S15_Colley = S15.copy()+eye(10)*2\n",
      "Matrix(S15_Colley),Matrix(Results_C)"
     ],
     "language": "python",
     "metadata": {},
     "outputs": [
      {
       "latex": [
        "$$\\left ( \\left[\\begin{matrix}4 & 0 & 0 & 0 & 0 & 0 & 0 & 0 & 0 & -2\\\\0 & 4 & -2 & 0 & 0 & 0 & 0 & 0 & 0 & 0\\\\0 & -2 & 4 & 0 & 0 & 0 & 0 & 0 & 0 & 0\\\\0 & 0 & 0 & 4 & -2 & 0 & 0 & 0 & 0 & 0\\\\0 & 0 & 0 & -2 & 4 & 0 & 0 & 0 & 0 & 0\\\\0 & 0 & 0 & 0 & 0 & 4 & -2 & 0 & 0 & 0\\\\0 & 0 & 0 & 0 & 0 & -2 & 4 & 0 & 0 & 0\\\\0 & 0 & 0 & 0 & 0 & 0 & 0 & 4 & -2 & 0\\\\0 & 0 & 0 & 0 & 0 & 0 & 0 & -2 & 4 & 0\\\\-2 & 0 & 0 & 0 & 0 & 0 & 0 & 0 & 0 & 4\\end{matrix}\\right], \\quad \\left[\\begin{matrix}2.0\\\\0.0\\\\2.0\\\\0.0\\\\2.0\\\\1.5\\\\0.5\\\\2.0\\\\0.0\\\\0.0\\end{matrix}\\right]\\right )$$"
       ],
       "metadata": {},
       "output_type": "pyout",
       "png": "[encoded data removed]",
       "prompt_number": 34,
       "text": [
        "\u239b\u23a14   0   0   0   0   0   0   0   0   -2\u23a4, \u23a12.0\u23a4\u239e\n",
        "\u239c\u23a2                                      \u23a5  \u23a2   \u23a5\u239f\n",
        "\u239c\u23a20   4   -2  0   0   0   0   0   0   0 \u23a5  \u23a20.0\u23a5\u239f\n",
        "\u239c\u23a2                                      \u23a5  \u23a2   \u23a5\u239f\n",
        "\u239c\u23a20   -2  4   0   0   0   0   0   0   0 \u23a5  \u23a22.0\u23a5\u239f\n",
        "\u239c\u23a2                                      \u23a5  \u23a2   \u23a5\u239f\n",
        "\u239c\u23a20   0   0   4   -2  0   0   0   0   0 \u23a5  \u23a20.0\u23a5\u239f\n",
        "\u239c\u23a2                                      \u23a5  \u23a2   \u23a5\u239f\n",
        "\u239c\u23a20   0   0   -2  4   0   0   0   0   0 \u23a5  \u23a22.0\u23a5\u239f\n",
        "\u239c\u23a2                                      \u23a5  \u23a2   \u23a5\u239f\n",
        "\u239c\u23a20   0   0   0   0   4   -2  0   0   0 \u23a5  \u23a21.5\u23a5\u239f\n",
        "\u239c\u23a2                                      \u23a5  \u23a2   \u23a5\u239f\n",
        "\u239c\u23a20   0   0   0   0   -2  4   0   0   0 \u23a5  \u23a20.5\u23a5\u239f\n",
        "\u239c\u23a2                                      \u23a5  \u23a2   \u23a5\u239f\n",
        "\u239c\u23a20   0   0   0   0   0   0   4   -2  0 \u23a5  \u23a22.0\u23a5\u239f\n",
        "\u239c\u23a2                                      \u23a5  \u23a2   \u23a5\u239f\n",
        "\u239c\u23a20   0   0   0   0   0   0   -2  4   0 \u23a5  \u23a20.0\u23a5\u239f\n",
        "\u239c\u23a2                                      \u23a5  \u23a2   \u23a5\u239f\n",
        "\u239d\u23a3-2  0   0   0   0   0   0   0   0   4 \u23a6  \u23a30.0\u23a6\u23a0"
       ]
      }
     ],
     "prompt_number": 34
    },
    {
     "cell_type": "code",
     "collapsed": false,
     "input": [
      "S15_Colley.T-S15_Colley"
     ],
     "language": "python",
     "metadata": {},
     "outputs": [
      {
       "latex": [
        "$$\\left[\\begin{matrix}0 & 0 & 0 & 0 & 0 & 0 & 0 & 0 & 0 & 0\\\\0 & 0 & 0 & 0 & 0 & 0 & 0 & 0 & 0 & 0\\\\0 & 0 & 0 & 0 & 0 & 0 & 0 & 0 & 0 & 0\\\\0 & 0 & 0 & 0 & 0 & 0 & 0 & 0 & 0 & 0\\\\0 & 0 & 0 & 0 & 0 & 0 & 0 & 0 & 0 & 0\\\\0 & 0 & 0 & 0 & 0 & 0 & 0 & 0 & 0 & 0\\\\0 & 0 & 0 & 0 & 0 & 0 & 0 & 0 & 0 & 0\\\\0 & 0 & 0 & 0 & 0 & 0 & 0 & 0 & 0 & 0\\\\0 & 0 & 0 & 0 & 0 & 0 & 0 & 0 & 0 & 0\\\\0 & 0 & 0 & 0 & 0 & 0 & 0 & 0 & 0 & 0\\end{matrix}\\right]$$"
       ],
       "metadata": {},
       "output_type": "pyout",
       "png": "[encoded data removed]",
       "prompt_number": 35,
       "text": [
        "\u23a10  0  0  0  0  0  0  0  0  0\u23a4\n",
        "\u23a2                            \u23a5\n",
        "\u23a20  0  0  0  0  0  0  0  0  0\u23a5\n",
        "\u23a2                            \u23a5\n",
        "\u23a20  0  0  0  0  0  0  0  0  0\u23a5\n",
        "\u23a2                            \u23a5\n",
        "\u23a20  0  0  0  0  0  0  0  0  0\u23a5\n",
        "\u23a2                            \u23a5\n",
        "\u23a20  0  0  0  0  0  0  0  0  0\u23a5\n",
        "\u23a2                            \u23a5\n",
        "\u23a20  0  0  0  0  0  0  0  0  0\u23a5\n",
        "\u23a2                            \u23a5\n",
        "\u23a20  0  0  0  0  0  0  0  0  0\u23a5\n",
        "\u23a2                            \u23a5\n",
        "\u23a20  0  0  0  0  0  0  0  0  0\u23a5\n",
        "\u23a2                            \u23a5\n",
        "\u23a20  0  0  0  0  0  0  0  0  0\u23a5\n",
        "\u23a2                            \u23a5\n",
        "\u23a30  0  0  0  0  0  0  0  0  0\u23a6"
       ]
      }
     ],
     "prompt_number": 35
    },
    {
     "cell_type": "code",
     "collapsed": false,
     "input": [
      "la.lstsq(S15_Colley,Results_C)\n",
      "S15_rank_Colley = Matrix([S15_names.T,la.lstsq(S15_Colley,Results_C)[0]])\n",
      "Week_rank_C = list(np.array(S15_rank_Colley.T))\n",
      "Week_rank_C.sort(key=lambda row: row[1:], reverse=True)\n",
      "import pprint\n",
      "pprint.pprint(Week_rank_C)"
     ],
     "language": "python",
     "metadata": {},
     "outputs": [
      {
       "output_type": "stream",
       "stream": "stdout",
       "text": [
        "[array([Panthers, 0.666666666666667], dtype=object),\n",
        " array([Bears, 0.666666666666667], dtype=object),\n",
        " array([Strikers, 0.666666666666667], dtype=object),\n",
        " array([Sparks, 0.666666666666667], dtype=object),\n",
        " array([Wolverines, 0.583333333333333], dtype=object),\n",
        " array([Crusaders, 0.416666666666666], dtype=object),\n",
        " array([Leopard, 0.333333333333333], dtype=object),\n",
        " array([Bobcats, 0.333333333333333], dtype=object),\n",
        " array([Moas, 0.333333333333333], dtype=object),\n",
        " array([Wasps, 0.333333333333333], dtype=object)]\n"
       ]
      }
     ],
     "prompt_number": 36
    },
    {
     "cell_type": "code",
     "collapsed": false,
     "input": [
      "#A key issue is that the mean of the ratings remains at 1/2. Not sure whether rounding error in the calculations occurs....\n",
      "la.lstsq(S15_Colley,Results_C)[0].mean()"
     ],
     "language": "python",
     "metadata": {},
     "outputs": [
      {
       "latex": [
        "$$0.5$$"
       ],
       "metadata": {},
       "output_type": "pyout",
       "png": "[encoded data removed]",
       "prompt_number": 37,
       "text": [
        "0.5"
       ]
      }
     ],
     "prompt_number": 37
    },
    {
     "cell_type": "code",
     "collapsed": false,
     "input": [
      "WC = Matrix(Week_rank_C)\n",
      "WM = Matrix(Week_rank)\n",
      "WC[:,0]-WM[:,0]"
     ],
     "language": "python",
     "metadata": {},
     "outputs": [
      {
       "latex": [
        "$$\\left[\\begin{matrix}Panthers - Strikers\\\\Bears - Sparks\\\\- Panthers + Strikers\\\\- Bears + Sparks\\\\0\\\\0\\\\0\\\\Bobcats - Moas\\\\Moas - Wasps\\\\- Bobcats + Wasps\\end{matrix}\\right]$$"
       ],
       "metadata": {},
       "output_type": "pyout",
       "png": "[encoded data removed]",
       "prompt_number": 39,
       "text": [
        "\u23a1Panthers - Strikers \u23a4\n",
        "\u23a2                    \u23a5\n",
        "\u23a2   Bears - Sparks   \u23a5\n",
        "\u23a2                    \u23a5\n",
        "\u23a2-Panthers + Strikers\u23a5\n",
        "\u23a2                    \u23a5\n",
        "\u23a2  -Bears + Sparks   \u23a5\n",
        "\u23a2                    \u23a5\n",
        "\u23a2         0          \u23a5\n",
        "\u23a2                    \u23a5\n",
        "\u23a2         0          \u23a5\n",
        "\u23a2                    \u23a5\n",
        "\u23a2         0          \u23a5\n",
        "\u23a2                    \u23a5\n",
        "\u23a2   Bobcats - Moas   \u23a5\n",
        "\u23a2                    \u23a5\n",
        "\u23a2    Moas - Wasps    \u23a5\n",
        "\u23a2                    \u23a5\n",
        "\u23a3  -Bobcats + Wasps  \u23a6"
       ]
      }
     ],
     "prompt_number": 39
    },
    {
     "cell_type": "code",
     "collapsed": false,
     "input": [
      "#Convert rank to a dictionary to query\n",
      "b = {Week_rank[i][0]:Week_rank[i][1] for i in range(len(Week_rank))}\n",
      "r = {Week_rank_C[i][0]:Week_rank_C[i][1] for i in range(len(Week_rank_C))}\n",
      "\n",
      "#Key:Pa,Le,Be,Bo,St,Wo,Cr,Sp,Wa,Mo\n",
      "draw = [Pa,Wa,Le,Cr,St]\n",
      "draw2 = [Be,Wo,Sp,Bo,Mo]\n",
      "#Print draw and winning margin prediction\n",
      "print 'Grade 10 predictions for Round 2 Massey'\n",
      "print '=' * 75\n",
      "for i in range(len(draw)):\n",
      "    print draw[i],'-v-',draw2[i], ': ',\n",
      "    if (b[draw[i]]-b[draw2[i]]) < 0:\n",
      "        print draw2[i], 'to win by ', abs(b[draw[i]]-b[draw2[i]]).round(0)\n",
      "    else:\n",
      "        print draw[i], 'to win by ', abs(b[draw[i]]-b[draw2[i]]).round(0)\n",
      "print '=' * 75\n",
      "print\n",
      "print 'Grade 10 predictions for Round 2 Colley'\n",
      "print '=' * 75\n",
      "for i in range(len(draw)):\n",
      "    print draw[i],'-v-',draw2[i], ': ',\n",
      "    if (r[draw[i]]-r[draw2[i]]) < 0:\n",
      "        print draw2[i], 'to win with p =', ((r[draw2[i]]*(1-r[draw[i]])) / (r[draw2[i]]*(1-r[draw[i]])+(1-r[draw2[i]])*r[draw[i]])).round(2)\n",
      "    else:\n",
      "        print draw[i], 'to win with p =', ((r[draw[i]]*(1-r[draw2[i]])) / (r[draw[i]]*(1-r[draw2[i]])+(1-r[draw[i]])*r[draw2[i]])).round(2)\n",
      "print '=' * 75"
     ],
     "language": "python",
     "metadata": {},
     "outputs": [
      {
       "output_type": "stream",
       "stream": "stdout",
       "text": [
        "Grade 10 predictions for Round 2 Massey\n",
        "===========================================================================\n",
        "Panthers -v- Bears :  Panthers to win by  0.\n",
        "Wasps -v- Wolverines :  Wolverines to win by  2.\n",
        "Leopard -v- Sparks :  Sparks to win by  3.\n",
        "Crusaders -v- Bobcats :  Crusaders to win by  2.\n",
        "Strikers -v- Moas :  Strikers to win by  4.\n",
        "===========================================================================\n",
        "\n",
        "Grade 10 predictions for Round 2 Colley\n",
        "===========================================================================\n",
        "Panthers -v- Bears :  Panthers to win with p = 0.50\n",
        "Wasps -v- Wolverines :  Wolverines to win with p = 0.74\n",
        "Leopard -v- Sparks :  Sparks to win with p = 0.80\n",
        "Crusaders -v- Bobcats :  Crusaders to win with p = 0.59\n",
        "Strikers -v- Moas :  Strikers to win with p = 0.80\n",
        "===========================================================================\n"
       ]
      }
     ],
     "prompt_number": 44
    },
    {
     "cell_type": "raw",
     "metadata": {},
     "source": [
      "Grade 10 predictions for Round 2 Massey\n",
      "===========================================================================\n",
      "Panthers -v- Bears :  Panthers to win by  0.\n",
      "Wasps -v- Wolverines :  Wolverines to win by  2.\n",
      "Leopard -v- Sparks :  Sparks to win by  3.\n",
      "Crusaders -v- Bobcats :  Crusaders to win by  2.\n",
      "Strikers -v- Moas :  Strikers to win by  4.\n",
      "===========================================================================\n",
      "\n",
      "Grade 10 predictions for Round 2 Colley\n",
      "===========================================================================\n",
      "Panthers -v- Bears :  Panthers to win with p = 0.50\n",
      "Wasps -v- Wolverines :  Wolverines to win with p = 0.74\n",
      "Leopard -v- Sparks :  Sparks to win with p = 0.80\n",
      "Crusaders -v- Bobcats :  Crusaders to win with p = 0.59\n",
      "Strikers -v- Moas :  Strikers to win with p = 0.80\n",
      "==========================================================================="
     ]
    },
    {
     "cell_type": "code",
     "collapsed": false,
     "input": [],
     "language": "python",
     "metadata": {},
     "outputs": []
    }
   ],
   "metadata": {}
  }
 ]
}