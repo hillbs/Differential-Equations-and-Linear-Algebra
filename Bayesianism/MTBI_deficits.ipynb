{
 "metadata": {
  "name": "",
  "signature": "sha256:ae051e744a9d6d1d79688c9d1210123ad7babccc260ff7607f3bddeaf891a8b4"
 },
 "nbformat": 3,
 "nbformat_minor": 0,
 "worksheets": [
  {
   "cells": [
    {
     "cell_type": "code",
     "collapsed": false,
     "input": [
      "import numpy as np\n",
      "from scipy.stats import poisson, binom\n",
      "import matplotlib.pyplot as plt\n",
      "import seaborn as sns\n",
      "sns.set(color_codes=True)"
     ],
     "language": "python",
     "metadata": {},
     "outputs": [],
     "prompt_number": 1
    },
    {
     "cell_type": "heading",
     "level": 1,
     "metadata": {},
     "source": [
      "MTBI Deficit distributions"
     ]
    },
    {
     "cell_type": "markdown",
     "metadata": {},
     "source": [
      "http://www.ncbi.nlm.nih.gov/pmc/articles/PMC2327235/"
     ]
    },
    {
     "cell_type": "heading",
     "level": 2,
     "metadata": {},
     "source": [
      "Cognitive Decline."
     ]
    },
    {
     "cell_type": "markdown",
     "metadata": {},
     "source": [
      "This needs to consider both Bernoulli frequency plus range of deficits."
     ]
    },
    {
     "cell_type": "markdown",
     "metadata": {},
     "source": [
      "VA screens every veteran who served in Operation Enduring Freedom (OEF) and Operation Iraqi Freedom (OIF) for common symptoms associated with TBI. Through February 2009, VA screened 281,607 OEF/OIF veterans. Of these, 56,231 screened positive for TBI symptoms and were referred for comprehensive neuropsychological evaluation. Of the 35,231 veterans who completed comprehensive evaluations, 16,508 veterans were confirmed with a diagnosis of mild TBI, 13,323 were determined not to have mild TBI, and 5,293 are pending further evaluation. The estimated prevalence of TBI is approximately 11.4% based on screening data through February 28, 2009.http://www.asha.org/aud/articles/CurrentTBI/"
     ]
    },
    {
     "cell_type": "code",
     "collapsed": false,
     "input": [
      "Prev = 16508/(35231-5293.)\n",
      "print 'The prevalence of TBI in this group is {:.2f}%'.format(Prev*100)"
     ],
     "language": "python",
     "metadata": {},
     "outputs": [
      {
       "output_type": "stream",
       "stream": "stdout",
       "text": [
        "The prevalence of TBI in this group is 55.14%\n"
       ]
      }
     ],
     "prompt_number": 2
    },
    {
     "cell_type": "heading",
     "level": 2,
     "metadata": {},
     "source": [
      "Personality changes: Impulsivity, Affective instability, Irritability, Diminished insight, Apathy."
     ]
    },
    {
     "cell_type": "code",
     "collapsed": false,
     "input": [],
     "language": "python",
     "metadata": {},
     "outputs": [],
     "prompt_number": 2
    },
    {
     "cell_type": "code",
     "collapsed": false,
     "input": [
      "#Apathy: \n",
      ".1084*83 #n=83, http://www.ncbi.nlm.nih.gov/pubmed/9483342/"
     ],
     "language": "python",
     "metadata": {},
     "outputs": [
      {
       "metadata": {},
       "output_type": "pyout",
       "prompt_number": 3,
       "text": [
        "8.9972"
       ]
      }
     ],
     "prompt_number": 3
    },
    {
     "cell_type": "heading",
     "level": 2,
     "metadata": {},
     "source": [
      "Psychiatric emergent conditions: Mood and other disorders. "
     ]
    },
    {
     "cell_type": "code",
     "collapsed": false,
     "input": [
      "rv.mean()"
     ],
     "language": "python",
     "metadata": {},
     "outputs": [
      {
       "metadata": {},
       "output_type": "pyout",
       "prompt_number": 42,
       "text": [
        "2.2999999999999998"
       ]
      }
     ],
     "prompt_number": 42
    },
    {
     "cell_type": "code",
     "collapsed": false,
     "input": [],
     "language": "python",
     "metadata": {},
     "outputs": []
    }
   ],
   "metadata": {}
  }
 ]
}