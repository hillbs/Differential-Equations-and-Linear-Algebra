{
 "metadata": {
  "name": "",
  "signature": "sha256:75d0b11b0ab3ff6cb9563c37f59258b837a243eb1af56ec80c053ec5cf3f6a44"
 },
 "nbformat": 3,
 "nbformat_minor": 0,
 "worksheets": [
  {
   "cells": [
    {
     "cell_type": "heading",
     "level": 1,
     "metadata": {},
     "source": [
      "Markov Chains and MCMC"
     ]
    },
    {
     "cell_type": "code",
     "collapsed": false,
     "input": [
      "from  scipy import stats, integrate\n",
      "import numpy as np\n",
      "import pandas as pd\n",
      "import matplotlib.pyplot as plt\n",
      "import scipy.linalg as la\n",
      "import seaborn as sns\n",
      "sns.set(color_codes=True)\n",
      "#Set a color map, cmap, object. \n",
      "cmap = sns.cubehelix_palette(n_colors=12, as_cmap=True, dark=0, light=1, reverse=True)"
     ],
     "language": "python",
     "metadata": {},
     "outputs": [],
     "prompt_number": 69
    },
    {
     "cell_type": "markdown",
     "metadata": {},
     "source": [
      "Example from STAT110 Markov Handout"
     ]
    },
    {
     "cell_type": "code",
     "collapsed": false,
     "input": [
      "Q = np.matrix([[1./3,1./3,1./3,0],[0,0,1./2,1./2],[0,1,0,0],[1./2,0,0,1./2]])\n",
      "Q, Q**20"
     ],
     "language": "python",
     "metadata": {},
     "outputs": [
      {
       "metadata": {},
       "output_type": "pyout",
       "prompt_number": 70,
       "text": [
        "(matrix([[ 0.33333333,  0.33333333,  0.33333333,  0.        ],\n",
        "         [ 0.        ,  0.        ,  0.5       ,  0.5       ],\n",
        "         [ 0.        ,  1.        ,  0.        ,  0.        ],\n",
        "         [ 0.5       ,  0.        ,  0.        ,  0.5       ]]),\n",
        " matrix([[ 0.21430168,  0.28579473,  0.2142225 ,  0.28568109],\n",
        "         [ 0.21441278,  0.2863681 ,  0.21377279,  0.28544633],\n",
        "         [ 0.21410886,  0.28480635,  0.21499848,  0.28608631],\n",
        "         [ 0.21427932,  0.28568109,  0.21431147,  0.28572812]]))"
       ]
      }
     ],
     "prompt_number": 70
    },
    {
     "cell_type": "code",
     "collapsed": false,
     "input": [
      "#Now visualise the data after a few steps...\n",
      "v = np.matrix([[0, 0, 1, 0]])\n",
      "\n",
      "# Get the data\n",
      "plot_data = []\n",
      "for step in range(20):\n",
      "    result = v * Q**step\n",
      "    plot_data.append(np.array(result).flatten())\n",
      "\n",
      "# Convert the data format\n",
      "plot_data = np.array(plot_data)\n",
      "\n",
      "# Create the plot\n",
      "plt.figure(1,figsize=(12,8))\n",
      "plt.xlabel('Steps')\n",
      "plt.ylabel('Probability')\n",
      "lines = []\n",
      "for i, shape in zip(range(4), ['^', 'h', 'H', 's']):\n",
      "    line, = plt.plot(plot_data[:, i], shape, label=\"S%i\" % (i+1))\n",
      "    lines.append(line)\n",
      "plt.legend(handles=lines, loc=1)\n",
      "plt.show()"
     ],
     "language": "python",
     "metadata": {},
     "outputs": [
      {
       "metadata": {},
       "output_type": "display_data",
       "png": "[encoded data removed]",
       "text": [
        "<matplotlib.figure.Figure at 0x110e89750>"
       ]
      }
     ],
     "prompt_number": 98
    },
    {
     "cell_type": "code",
     "collapsed": false,
     "input": [
      "#Finding the stationary distribution, the left eigenvector.\n",
      "#Inspect the array, one wants the eigenvalue = 1. That is the eigenvector to use. \n",
      "v = la.eig(Q,left=True,right=False)#[1][:,1]\n",
      "v,v[1][:,3]*Q"
     ],
     "language": "python",
     "metadata": {},
     "outputs": [
      {
       "metadata": {},
       "output_type": "pyout",
       "prompt_number": 72,
       "text": [
        "((array([-0.71984207+0.j        ,  0.27658770+0.39374041j,\n",
        "          0.27658770-0.39374041j,  1.00000000+0.j        ]),\n",
        "  array([[-0.14417967+0.j        , -0.64924616+0.j        ,\n",
        "          -0.64924616-0.j        , -0.42426407+0.j        ],\n",
        "         [-0.74091493+0.j        ,  0.36969073-0.28647207j,\n",
        "           0.36969073+0.28647207j, -0.56568542+0.j        ],\n",
        "         [ 0.58140163+0.j        ,  0.20587167-0.22479683j,\n",
        "           0.20587167+0.22479683j, -0.42426407+0.j        ],\n",
        "         [ 0.30369297+0.j        ,  0.07368376+0.5112689j ,\n",
        "           0.07368376-0.5112689j , -0.56568542+0.j        ]])),\n",
        " matrix([[-0.42426407+0.j, -0.56568542+0.j, -0.42426407+0.j, -0.56568542+0.j]]))"
       ]
      }
     ],
     "prompt_number": 72
    },
    {
     "cell_type": "code",
     "collapsed": false,
     "input": [
      "Q2 = np.matrix([[1./3,2./3],[1./2,1./2]]) #Transitition matrix\n",
      "s = la.eig(Q2,left=True, right=False)[1][:,1]\n",
      "s #Stationary matrix"
     ],
     "language": "python",
     "metadata": {},
     "outputs": [
      {
       "metadata": {},
       "output_type": "pyout",
       "prompt_number": 73,
       "text": [
        "array([-0.6, -0.8])"
       ]
      }
     ],
     "prompt_number": 73
    },
    {
     "cell_type": "code",
     "collapsed": false,
     "input": [
      "s*Q2"
     ],
     "language": "python",
     "metadata": {},
     "outputs": [
      {
       "metadata": {},
       "output_type": "pyout",
       "prompt_number": 74,
       "text": [
        "matrix([[-0.6, -0.8]])"
       ]
      }
     ],
     "prompt_number": 74
    },
    {
     "cell_type": "code",
     "collapsed": false,
     "input": [
      "from IPython.lib.display import YouTubeVideo\n",
      "vid = YouTubeVideo('https://www.youtube.com/watch?v=aBGOyZv2pZE&index=32&list=PL2SOU6wwxB0uwwH80KTQ6ht66KWxbzTIo')\n",
      "display(vid)"
     ],
     "language": "python",
     "metadata": {},
     "outputs": [
      {
       "html": [
        "\n",
        "        <iframe\n",
        "            width=\"400\"\n",
        "            height=300\"\n",
        "            src=\"https://www.youtube.com/embed/https://www.youtube.com/watch?v=aBGOyZv2pZE&index=32&list=PL2SOU6wwxB0uwwH80KTQ6ht66KWxbzTIo\"\n",
        "            frameborder=\"0\"\n",
        "            allowfullscreen\n",
        "        ></iframe>\n",
        "        "
       ],
       "metadata": {},
       "output_type": "display_data",
       "text": [
        "<IPython.lib.display.YouTubeVideo at 0x111871e10>"
       ]
      }
     ],
     "prompt_number": 84
    },
    {
     "cell_type": "code",
     "collapsed": false,
     "input": [],
     "language": "python",
     "metadata": {},
     "outputs": []
    }
   ],
   "metadata": {}
  }
 ]
}