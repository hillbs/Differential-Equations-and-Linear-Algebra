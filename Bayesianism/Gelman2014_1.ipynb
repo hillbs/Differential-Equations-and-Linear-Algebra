{
 "metadata": {
  "name": "",
  "signature": "sha256:ef83e839ca42f9f80cd469cf0fbbf39efc519b56c80f785595298dcaa1807ce0"
 },
 "nbformat": 3,
 "nbformat_minor": 0,
 "worksheets": [
  {
   "cells": [
    {
     "cell_type": "heading",
     "level": 1,
     "metadata": {},
     "source": [
      "Gelman et al. (2014) Bayesian Data Analysis examples and workspace"
     ]
    },
    {
     "cell_type": "code",
     "collapsed": false,
     "input": [
      "#As there are some overlapping functions, will keep namespaces separate.\n",
      "import numpy as np\n",
      "from scipy.stats import gamma\n",
      "import sympy as sy\n",
      "import matplotlib.pyplot as plt\n",
      "plt.rcParams.update({'figure.figsize': (8, 6)})"
     ],
     "language": "python",
     "metadata": {},
     "outputs": [],
     "prompt_number": 1
    },
    {
     "cell_type": "heading",
     "level": 3,
     "metadata": {},
     "source": [
      "Estimating a rate from Poisson Data (p.45). "
     ]
    },
    {
     "cell_type": "code",
     "collapsed": false,
     "input": [
      "fig,(ax1,ax2) = plt.subplots(2,sharex=True,sharey=True)\n",
      "x = np.linspace(0,3)\n",
      "y = 3 #rate per 10^5\n",
      "theta = .6 #expected value of asthma rate\n",
      "scale = 1./(y/theta)\n",
      "a = y\n",
      "prior = gamma.rvs(a,scale=scale,size=1000)\n",
      "y_post = 6 #alpha + y\n",
      "#beta + x (not sure where x comes from; seems to be due to Poisson 2 * theta,\n",
      "#where the x=2 is the multiplier of poisson rate)\n",
      "pois_multiplier = 2\n",
      "theta_post = (y+y)/((y/theta)+pois_multiplier)\n",
      "scale_post = 1./(y_post/theta_post)\n",
      "post = gamma.rvs(y_post,scale=scale_post,size=1000)\n",
      "\n",
      "ax1.hist(prior,bins=20,color='g',rwidth=.5, alpha=.5, label='Prior',normed=True)\n",
      "ax1.legend()\n",
      "ax1.grid(True)\n",
      "ax2.hist(post,bins=20,color='r',rwidth=.5, alpha=.5, label='Posterior',normed=True)\n",
      "plt.suptitle('Asthma rates locally-v-worldwide',fontsize=16)\n",
      "ax2.legend()\n",
      "ax2.grid(True)"
     ],
     "language": "python",
     "metadata": {},
     "outputs": [
      {
       "metadata": {},
       "output_type": "display_data",
       "png": "[encoded data removed]",
       "text": [
        "<matplotlib.figure.Figure at 0x10f7d1850>"
       ]
      }
     ],
     "prompt_number": 2
    },
    {
     "cell_type": "code",
     "collapsed": false,
     "input": [
      "print 'The prior mean was {:.2f}, with standard deviation of {:.2f}.'.format(prior.mean(),prior.std())\n",
      "print 'The posterior mean was {:.2f}, with standard deviation of {:.2f}.'.format(post.mean(),post.std())"
     ],
     "language": "python",
     "metadata": {},
     "outputs": [
      {
       "output_type": "stream",
       "stream": "stdout",
       "text": [
        "The prior mean was 0.61, with standard deviation of 0.35.\n",
        "The posterior mean was 0.86, with standard deviation of 0.36.\n"
       ]
      }
     ],
     "prompt_number": 3
    },
    {
     "cell_type": "code",
     "collapsed": false,
     "input": [
      "from scipy.integrate import quad\n",
      "rv = gamma(a,scale=scale)\n",
      "print 'The integral of the frozen rv function is {:.2f} and the second moment is {:.2f}'.format(quad(rv.pdf, 0, 3)[0],rv.moment(2))\n",
      "print 'which equals approx. the mean/var of {:.2f}'.format(rv.mean()/rv.var())"
     ],
     "language": "python",
     "metadata": {},
     "outputs": [
      {
       "output_type": "stream",
       "stream": "stdout",
       "text": [
        "The integral of the frozen rv function is 1.00 and the second moment is 0.48\n",
        "which equals approx. the mean/var of 5.00\n"
       ]
      }
     ],
     "prompt_number": 4
    },
    {
     "cell_type": "code",
     "collapsed": false,
     "input": [],
     "language": "python",
     "metadata": {},
     "outputs": [],
     "prompt_number": 4
    }
   ],
   "metadata": {}
  }
 ]
}