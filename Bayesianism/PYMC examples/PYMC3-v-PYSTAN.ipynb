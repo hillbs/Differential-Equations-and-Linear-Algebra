{
 "metadata": {
  "name": "",
  "signature": "sha256:ef46a8efe8219584acbaf15ce40cd638985e041ebd7fb36cdae219e5692b8916"
 },
 "nbformat": 3,
 "nbformat_minor": 0,
 "worksheets": [
  {
   "cells": [
    {
     "cell_type": "heading",
     "level": 1,
     "metadata": {},
     "source": [
      "Bayesian MCMC: PyStan -v- PyMC3"
     ]
    },
    {
     "cell_type": "heading",
     "level": 2,
     "metadata": {},
     "source": [
      "$P(PyStan|PyMC3) \\propto P(PyMC3|PyStan)$"
     ]
    },
    {
     "cell_type": "markdown",
     "metadata": {},
     "source": [
      "How does one choose between PyStan and PyMC3? Part of the answer to this question involves knowing what questions to ask as much as finding the answers to one's questions. For example, how does each handle Dirichlet processes? And what even are Dirichlet processes and why should I care? Actually, because non-parametric Bayes is useful.  "
     ]
    },
    {
     "cell_type": "markdown",
     "metadata": {},
     "source": [
      "$ \\textbf{Bob Carpenter responded:}$\n",
      "\n",
      "http://stackoverflow.com/questions/26367114/pymc3-dirichlet-distribution \n",
      "\n",
      "No, not the Dirichlet distribution.  Everyone supports that.  I'm\n",
      "talking about Dirichlet processes, like supported in languages like\n",
      "Church and Venture and Anglican and HBC.\n",
      "\n",
      " https://en.wikipedia.org/wiki/Dirichlet_process\n",
      "\n",
      "with a really nice summary in practical modeling terms and inference\n",
      "by Yee-Whye Teh:\n",
      "\n",
      " http://www.gatsby.ucl.ac.uk/~ywteh/research/npbayes/Teh2010a.pdf  \n",
      "\n",
      "Think Dirichlet distribution with an unknown K number of outputs (or\n",
      "alternatively, K -> infinity).  Many MCMC techniques require a fixed\n",
      "number of parameters."
     ]
    },
    {
     "cell_type": "heading",
     "level": 5,
     "metadata": {},
     "source": [
      "What are the future implementations planned for each?"
     ]
    },
    {
     "cell_type": "code",
     "collapsed": false,
     "input": [],
     "language": "python",
     "metadata": {},
     "outputs": [],
     "prompt_number": 0
    },
    {
     "cell_type": "heading",
     "level": 5,
     "metadata": {},
     "source": [
      "How does each handle a complex problem?"
     ]
    },
    {
     "cell_type": "markdown",
     "metadata": {},
     "source": [
      "While it is nice to have comparisons made between packages on simple problems that allow illustration of basic optimisation, by definition, optimisation and computational complexity are better tested on complex problems. \"Toy\" problems are not a test of packages such as these. Having said that, PyStan can handle problems that PyMC3 cannot. It therefore informs choice of package whether these are problem classes that do or will be relevant for the user. For example, ...."
     ]
    },
    {
     "cell_type": "markdown",
     "metadata": {},
     "source": [
      "I wonder Bob or Allen if there is a PyStan analysis that you consider worthwhile comparing, which I would try and redo in pymc2 and pymc3? \n",
      "\n",
      "We could pick one they couldn't implement, but something reasonable would be a simple hierarchical IRT 2PL model or other hierarchical logistic regression.\n",
      "\n",
      "One of the major issues is vectorization of derivatives in Stan. I'm not sure that'll be an issue for PyMC if they depend on Theano."
     ]
    },
    {
     "cell_type": "code",
     "collapsed": false,
     "input": [],
     "language": "python",
     "metadata": {},
     "outputs": []
    }
   ],
   "metadata": {}
  }
 ]
}