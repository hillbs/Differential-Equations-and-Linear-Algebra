{
 "metadata": {
  "name": "BloodPressure.ipynb"
 },
 "nbformat": 3,
 "nbformat_minor": 0,
 "worksheets": [
  {
   "cells": [
    {
     "cell_type": "code",
     "collapsed": false,
     "input": [
      "import pandas\n",
      "df = pandas.read_csv(\"/Users/Llewelyn/Dropbox/Python code/Output/BP.csv\", usecols= [1,2,3,4], index_col=0)\n",
      "print df.head()"
     ],
     "language": "python",
     "metadata": {},
     "outputs": [
      {
       "output_type": "stream",
       "stream": "stdout",
       "text": [
        "          Sys  Dia  Time\n",
        "Date                    \n",
        "7/12/10   153  103   NaN\n",
        "16/12/10  153   90  1618\n",
        "30/12/10  130   78   830\n",
        "31/12/10  133   74   850\n",
        "2/01/11   129   73   950\n"
       ]
      }
     ],
     "prompt_number": 58
    },
    {
     "cell_type": "code",
     "collapsed": false,
     "input": [
      "df.describe()"
     ],
     "language": "python",
     "metadata": {},
     "outputs": [
      {
       "html": [
        "<div style=\"max-height:1000px;max-width:1500px;overflow:auto;\">\n",
        "<table border=\"1\" class=\"dataframe\">\n",
        "  <thead>\n",
        "    <tr style=\"text-align: right;\">\n",
        "      <th></th>\n",
        "      <th>Sys</th>\n",
        "      <th>Dia</th>\n",
        "      <th>Time</th>\n",
        "    </tr>\n",
        "  </thead>\n",
        "  <tbody>\n",
        "    <tr>\n",
        "      <th>count</th>\n",
        "      <td>  50.000000</td>\n",
        "      <td>  50.000000</td>\n",
        "      <td>   41.000000</td>\n",
        "    </tr>\n",
        "    <tr>\n",
        "      <th>mean</th>\n",
        "      <td> 125.780000</td>\n",
        "      <td>  73.600000</td>\n",
        "      <td> 1203.243902</td>\n",
        "    </tr>\n",
        "    <tr>\n",
        "      <th>std</th>\n",
        "      <td>  10.562332</td>\n",
        "      <td>   8.189092</td>\n",
        "      <td>  392.989999</td>\n",
        "    </tr>\n",
        "    <tr>\n",
        "      <th>min</th>\n",
        "      <td>  99.000000</td>\n",
        "      <td>  56.000000</td>\n",
        "      <td>  700.000000</td>\n",
        "    </tr>\n",
        "    <tr>\n",
        "      <th>25%</th>\n",
        "      <td> 118.000000</td>\n",
        "      <td>  68.250000</td>\n",
        "      <td>  850.000000</td>\n",
        "    </tr>\n",
        "    <tr>\n",
        "      <th>50%</th>\n",
        "      <td> 124.500000</td>\n",
        "      <td>  72.500000</td>\n",
        "      <td> 1100.000000</td>\n",
        "    </tr>\n",
        "    <tr>\n",
        "      <th>75%</th>\n",
        "      <td> 131.500000</td>\n",
        "      <td>  77.750000</td>\n",
        "      <td> 1600.000000</td>\n",
        "    </tr>\n",
        "    <tr>\n",
        "      <th>max</th>\n",
        "      <td> 153.000000</td>\n",
        "      <td> 103.000000</td>\n",
        "      <td> 1922.000000</td>\n",
        "    </tr>\n",
        "  </tbody>\n",
        "</table>\n",
        "</div>"
       ],
       "metadata": {},
       "output_type": "pyout",
       "prompt_number": 59,
       "text": [
        "              Sys         Dia         Time\n",
        "count   50.000000   50.000000    41.000000\n",
        "mean   125.780000   73.600000  1203.243902\n",
        "std     10.562332    8.189092   392.989999\n",
        "min     99.000000   56.000000   700.000000\n",
        "25%    118.000000   68.250000   850.000000\n",
        "50%    124.500000   72.500000  1100.000000\n",
        "75%    131.500000   77.750000  1600.000000\n",
        "max    153.000000  103.000000  1922.000000"
       ]
      }
     ],
     "prompt_number": 59
    },
    {
     "cell_type": "code",
     "collapsed": false,
     "input": [
      "df.index[:]"
     ],
     "language": "python",
     "metadata": {},
     "outputs": [
      {
       "metadata": {},
       "output_type": "pyout",
       "prompt_number": 61,
       "text": [
        "Index([u'7/12/10', u'16/12/10', u'30/12/10', u'31/12/10', u'2/01/11', u'3/01/11', u'6/01/11', u'10/01/11', u'11/01/11', u'12/01/11', u'15/01/11', u'19/01/11', u'24/01/11', u'30/01/11', u'4/02/11', u'18/02/11', u'3/03/11', u'4/03/11', u'11/03/11', u'15/03/11', u'22/03/11', u'29/03/11', u'30/03/11', u'3/04/11', u'12/04/11', u'14/04/11', u'15/04/11', u'4/05/11', u'6/05/11', u'14/05/11', u'28/05/11', u'11/06/11', u'11/07/11', u'24/07/11', u'22/10/11', u'23/10/11', u'3/11/11', u'4/11/11', u'23/11/11', u'19/12/11', u'6/02/12', u'7/02/12', u'12/05/12', u'8/07/12', u'17/11/12', u'4/12/12', u'12/09/13', u'13/09/13', u'25/09/14', u'26/09/14'], dtype='object')"
       ]
      }
     ],
     "prompt_number": 61
    },
    {
     "cell_type": "code",
     "collapsed": false,
     "input": [
      "df['6/02/12'::].describe()"
     ],
     "language": "python",
     "metadata": {},
     "outputs": [
      {
       "html": [
        "<div style=\"max-height:1000px;max-width:1500px;overflow:auto;\">\n",
        "<table border=\"1\" class=\"dataframe\">\n",
        "  <thead>\n",
        "    <tr style=\"text-align: right;\">\n",
        "      <th></th>\n",
        "      <th>Sys</th>\n",
        "      <th>Dia</th>\n",
        "      <th>Time</th>\n",
        "    </tr>\n",
        "  </thead>\n",
        "  <tbody>\n",
        "    <tr>\n",
        "      <th>count</th>\n",
        "      <td>  10.000000</td>\n",
        "      <td> 10.000000</td>\n",
        "      <td>    4.000000</td>\n",
        "    </tr>\n",
        "    <tr>\n",
        "      <th>mean</th>\n",
        "      <td> 126.500000</td>\n",
        "      <td> 77.400000</td>\n",
        "      <td> 1162.750000</td>\n",
        "    </tr>\n",
        "    <tr>\n",
        "      <th>std</th>\n",
        "      <td>  13.607596</td>\n",
        "      <td>  8.422193</td>\n",
        "      <td>  354.894703</td>\n",
        "    </tr>\n",
        "    <tr>\n",
        "      <th>min</th>\n",
        "      <td>  99.000000</td>\n",
        "      <td> 65.000000</td>\n",
        "      <td>  900.000000</td>\n",
        "    </tr>\n",
        "    <tr>\n",
        "      <th>25%</th>\n",
        "      <td> 119.250000</td>\n",
        "      <td> 72.250000</td>\n",
        "      <td>  900.000000</td>\n",
        "    </tr>\n",
        "    <tr>\n",
        "      <th>50%</th>\n",
        "      <td> 128.000000</td>\n",
        "      <td> 75.500000</td>\n",
        "      <td> 1050.000000</td>\n",
        "    </tr>\n",
        "    <tr>\n",
        "      <th>75%</th>\n",
        "      <td> 133.750000</td>\n",
        "      <td> 82.250000</td>\n",
        "      <td> 1312.750000</td>\n",
        "    </tr>\n",
        "    <tr>\n",
        "      <th>max</th>\n",
        "      <td> 149.000000</td>\n",
        "      <td> 93.000000</td>\n",
        "      <td> 1651.000000</td>\n",
        "    </tr>\n",
        "  </tbody>\n",
        "</table>\n",
        "</div>"
       ],
       "metadata": {},
       "output_type": "pyout",
       "prompt_number": 75,
       "text": [
        "              Sys        Dia         Time\n",
        "count   10.000000  10.000000     4.000000\n",
        "mean   126.500000  77.400000  1162.750000\n",
        "std     13.607596   8.422193   354.894703\n",
        "min     99.000000  65.000000   900.000000\n",
        "25%    119.250000  72.250000   900.000000\n",
        "50%    128.000000  75.500000  1050.000000\n",
        "75%    133.750000  82.250000  1312.750000\n",
        "max    149.000000  93.000000  1651.000000"
       ]
      }
     ],
     "prompt_number": 75
    },
    {
     "cell_type": "code",
     "collapsed": false,
     "input": [],
     "language": "python",
     "metadata": {},
     "outputs": []
    }
   ],
   "metadata": {}
  }
 ]
}