{
 "metadata": {
  "name": "",
  "signature": "sha256:28ab553b013c2fb53dac458b3a84678b4e58f79639b91b2751f3e199b409cd58"
 },
 "nbformat": 3,
 "nbformat_minor": 0,
 "worksheets": [
  {
   "cells": [
    {
     "cell_type": "heading",
     "level": 1,
     "metadata": {},
     "source": [
      "Regression examples for PyStan"
     ]
    },
    {
     "cell_type": "code",
     "collapsed": false,
     "input": [
      "import pystan as ps\n",
      "import matplotlib.pyplot as plt\n",
      "import numpy as np"
     ],
     "language": "python",
     "metadata": {},
     "outputs": [],
     "prompt_number": 1
    },
    {
     "cell_type": "markdown",
     "metadata": {},
     "source": [
      "**Refresher:** Recall that $A^T A\\vec{x} = A^T \\vec{ b}.$\n",
      "http://ocw.mit.edu/courses/mathematics/18-06sc-linear-algebra-fall-2011/least-squares-determinants-and-eigenvalues/projections-onto-subspaces/MIT18_06SCF11_Ses2.2sum.pdf"
     ]
    },
    {
     "cell_type": "heading",
     "level": 3,
     "metadata": {},
     "source": [
      "Chapter 5. Regression models (page 41). "
     ]
    },
    {
     "cell_type": "markdown",
     "metadata": {},
     "source": [
      "This first example illustrates using the simple regression form of $y_n \\sim \\alpha + \\beta x_n + \\epsilon :    \\epsilon \\sim Norm(0,\\sigma)$"
     ]
    },
    {
     "cell_type": "code",
     "collapsed": false,
     "input": [
      "data_reg = {'N':5,\n",
      "            'x':[0,1,2,3,4] ,\n",
      "            'y':[2,4.2,5.8,6.,10.3],\n",
      "            'x_new':[4,5,6,7,8]}\n",
      "code_reg = '''\n",
      "data {\n",
      "      int<lower=0> N;// Number of pairs\n",
      "      vector[N] x; // x-values\n",
      "      vector[N] y; //y-values from data\n",
      "      vector[N] x_new;\n",
      "    }\n",
      "parameters {\n",
      "      real alpha;\n",
      "      real beta;\n",
      "      real<lower=0> sigma;\n",
      "} \n",
      "model {\n",
      "      y ~ normal(alpha + beta * x, sigma); \n",
      "}\n",
      "generated quantities {\n",
      "      vector[N] y_new;\n",
      "      //vector[N] x_new;\n",
      "      for (n in 1:N)\n",
      "        y_new[n] <- normal_rng(x_new[n] * beta, sigma);\n",
      "    }\n",
      "    '''\n",
      "regression_model = ps.stan(model_code=code_reg, data=data_reg,\n",
      "                  iter=1000, chains=4)"
     ],
     "language": "python",
     "metadata": {},
     "outputs": [
      {
       "output_type": "stream",
       "stream": "stderr",
       "text": [
        "/Applications/Canopy.app/appdata/canopy-1.5.5.3123.macosx-x86_64/Canopy.app/Contents/lib/python2.7/multiprocessing/queues.py:390: UserWarning: Pickling fit objects is an experimental feature!\n",
        "The relevant StanModel instance must be pickled along with this fit object.\n",
        "When unpickling the StanModel must be unpickled first.\n",
        "  return send(obj)\n",
        "/Applications/Canopy.app/appdata/canopy-1.5.5.3123.macosx-x86_64/Canopy.app/Contents/lib/python2.7/multiprocessing/queues.py:390: UserWarning: Pickling fit objects is an experimental feature!\n",
        "The relevant StanModel instance must be pickled along with this fit object.\n",
        "When unpickling the StanModel must be unpickled first.\n",
        "  return send(obj)\n",
        "/Applications/Canopy.app/appdata/canopy-1.5.5.3123.macosx-x86_64/Canopy.app/Contents/lib/python2.7/multiprocessing/queues.py:390: UserWarning: Pickling fit objects is an experimental feature!\n",
        "The relevant StanModel instance must be pickled along with this fit object.\n",
        "When unpickling the StanModel must be unpickled first.\n",
        "  return send(obj)\n",
        "/Applications/Canopy.app/appdata/canopy-1.5.5.3123.macosx-x86_64/Canopy.app/Contents/lib/python2.7/multiprocessing/queues.py:390: UserWarning: Pickling fit objects is an experimental feature!\n",
        "The relevant StanModel instance must be pickled along with this fit object.\n",
        "When unpickling the StanModel must be unpickled first.\n",
        "  return send(obj)\n"
       ]
      }
     ],
     "prompt_number": 2
    },
    {
     "cell_type": "code",
     "collapsed": false,
     "input": [
      "regression_model"
     ],
     "language": "python",
     "metadata": {},
     "outputs": [
      {
       "metadata": {},
       "output_type": "pyout",
       "prompt_number": 3,
       "text": [
        "Inference for Stan model: anon_model_0c92a9487cbc9bc4cc69379b37f10b38.\n",
        "4 chains, each with iter=1000; warmup=500; thin=1; \n",
        "post-warmup draws per chain=500, total post-warmup draws=2000.\n",
        "\n",
        "           mean se_mean     sd   2.5%    25%    50%    75%  97.5%  n_eff   Rhat\n",
        "alpha       2.0    0.03   1.56  -0.99   1.25    2.0   2.68   5.15 2000.0   1.01\n",
        "beta       1.82    0.01   0.64   0.51   1.56   1.83   2.13    3.0 2000.0   1.01\n",
        "sigma       1.8    0.03   1.28   0.65   1.02   1.41   2.15   5.35 2000.0   1.01\n",
        "y_new[0]   7.27    0.07   3.31   0.27   5.82   7.32   8.86   14.0 2000.0    1.0\n",
        "y_new[1]   9.09    0.09   3.92   1.65   7.45   9.13  10.92   16.6 2000.0    1.0\n",
        "y_new[2]  10.85     0.1   4.36   1.36   9.01  10.91  12.95  19.05 2000.0    1.0\n",
        "y_new[3]   12.7    0.11   4.91   2.22   10.6  12.86  15.05  21.74 2000.0   1.01\n",
        "y_new[4]  14.58    0.12   5.43   3.06  12.34  14.71  17.09  24.98 2000.0    1.0\n",
        "lp__      -3.81    0.04   1.71  -8.25   -4.7  -3.39  -2.46   -1.8 2000.0   1.01\n",
        "\n",
        "Samples were drawn using NUTS(diag_e) at Fri Nov  6 14:48:01 2015.\n",
        "For each parameter, n_eff is a crude measure of effective sample size,\n",
        "and Rhat is the potential scale reduction factor on split chains (at \n",
        "convergence, Rhat=1)."
       ]
      }
     ],
     "prompt_number": 3
    },
    {
     "cell_type": "code",
     "collapsed": false,
     "input": [
      "plt.hist(regression_model.extract()['lp__'],normed=True)"
     ],
     "language": "python",
     "metadata": {},
     "outputs": [
      {
       "metadata": {},
       "output_type": "pyout",
       "prompt_number": 4,
       "text": [
        "(array([ 0.00095758,  0.00383031,  0.01005456,  0.01771518,  0.03112127,\n",
        "         0.05075161,  0.11107899,  0.18433367,  0.24561863,  0.3021157 ]),\n",
        " array([-12.08701229, -11.04271041,  -9.99840852,  -8.95410663,\n",
        "         -7.90980474,  -6.86550285,  -5.82120096,  -4.77689907,\n",
        "         -3.73259718,  -2.68829529,  -1.64399341]),\n",
        " <a list of 10 Patch objects>)"
       ]
      },
      {
       "metadata": {},
       "output_type": "display_data",
       "png": "[encoded data removed]",
       "text": [
        "<matplotlib.figure.Figure at 0x117d1c550>"
       ]
      }
     ],
     "prompt_number": 4
    },
    {
     "cell_type": "markdown",
     "metadata": {},
     "source": [
      "Regression problems, however, often come with multiple data with multiple predictors. Stan uses M x N matrices to represent this. The example below, from p.43, outlines how this operates. However, whether as a matrix or as a pair of beta values, the solution doesn't seem to come very close to the values of beta1 = 2 and beta2=1. I suspect that there are simply too few data points to allow convergence. Some useful corrections were made using the code from https://github.com/mclark--/Miscellaneous-R-Code/blob/master/ModelFitting/Bayesian/rstan_linregwithprior.R"
     ]
    },
    {
     "cell_type": "code",
     "collapsed": false,
     "input": [
      "data_reg2 = {'N':5,\n",
      "             'K':2,\n",
      "            'x': np.matrix([[1.1,1.2],\n",
      "                           [2.0,1.0],\n",
      "                           [3.2,1.1],\n",
      "                           [4.1,1.0],\n",
      "                           [5.1,1.1]]),\n",
      "            'y':[2.3,2.9,4.2,5.5,6.0] }\n",
      "code_reg2 = '''\n",
      "data{\n",
      "    int<lower=0> N;// number of data items\n",
      "    int<lower=0> K;// number of predictors\n",
      "    matrix[N,K] x ;// predictor matrix\n",
      "    vector[N]   y ;// data, y, as a vector\n",
      "}\n",
      "parameters{\n",
      "    real alpha; //intercept\n",
      "    vector[K] beta; // predictors\n",
      "    real<lower=0> sigma; //error term\n",
      "}\n",
      "model{\n",
      "    vector[N] mu;\n",
      "    mu <- x * beta;           // creation of linear predictor\n",
      "    // priors\n",
      "    beta ~ normal(0, 10);\n",
      "    sigma ~ cauchy(0, 5);   // With sigma bounded at 0, this is half-cauchy \n",
      "    // likelihood\n",
      "    y ~ normal(mu, sigma);\n",
      "}\n",
      "generated quantities {     // Generated quantities block; declarations and statements.\n",
      "  real rss;                \n",
      "  real totalss;\n",
      "  real R2;                 // Calculate Rsq as a demonstration\n",
      "  vector[N] mu;\n",
      "  \n",
      "  mu <- x * beta;\n",
      "  rss <- dot_self(mu-y);\n",
      "  totalss <- dot_self(y-mean(y));\n",
      "  R2 <- 1 - rss/totalss;\n",
      "}\n",
      "'''\n",
      "matrix_reg = ps.stan(model_code=code_reg2, data=data_reg2)"
     ],
     "language": "python",
     "metadata": {},
     "outputs": [
      {
       "output_type": "stream",
       "stream": "stderr",
       "text": [
        "/Applications/Canopy.app/appdata/canopy-1.5.5.3123.macosx-x86_64/Canopy.app/Contents/lib/python2.7/multiprocessing/queues.py:390: UserWarning: Pickling fit objects is an experimental feature!\n",
        "The relevant StanModel instance must be pickled along with this fit object.\n",
        "When unpickling the StanModel must be unpickled first.\n",
        "  return send(obj)\n",
        "/Applications/Canopy.app/appdata/canopy-1.5.5.3123.macosx-x86_64/Canopy.app/Contents/lib/python2.7/multiprocessing/queues.py:390: UserWarning: Pickling fit objects is an experimental feature!\n",
        "The relevant StanModel instance must be pickled along with this fit object.\n",
        "When unpickling the StanModel must be unpickled first.\n",
        "  return send(obj)\n",
        "/Applications/Canopy.app/appdata/canopy-1.5.5.3123.macosx-x86_64/Canopy.app/Contents/lib/python2.7/multiprocessing/queues.py:390: UserWarning: Pickling fit objects is an experimental feature!\n",
        "The relevant StanModel instance must be pickled along with this fit object.\n",
        "When unpickling the StanModel must be unpickled first.\n",
        "  return send(obj)\n",
        "/Applications/Canopy.app/appdata/canopy-1.5.5.3123.macosx-x86_64/Canopy.app/Contents/lib/python2.7/multiprocessing/queues.py:390: UserWarning: Pickling fit objects is an experimental feature!\n",
        "The relevant StanModel instance must be pickled along with this fit object.\n",
        "When unpickling the StanModel must be unpickled first.\n",
        "  return send(obj)\n"
       ]
      }
     ],
     "prompt_number": 5
    },
    {
     "cell_type": "code",
     "collapsed": false,
     "input": [
      "matrix_reg"
     ],
     "language": "python",
     "metadata": {},
     "outputs": [
      {
       "metadata": {},
       "output_type": "pyout",
       "prompt_number": 6,
       "text": [
        "Inference for Stan model: anon_model_29e8e5c3ac238c151564b166b3210da6.\n",
        "4 chains, each with iter=2000; warmup=1000; thin=1; \n",
        "post-warmup draws per chain=1000, total post-warmup draws=4000.\n",
        "\n",
        "          mean se_mean     sd   2.5%    25%    50%    75%  97.5%  n_eff   Rhat\n",
        "alpha  -4.0e15  1.2e14 7.8e15-2.4e16-2.5e13 2.5e12 2.2e13 3.7e14 4000.0   3.59\n",
        "beta[0]   1.01  3.0e-3   0.19   0.65   0.93   1.01   1.09   1.39 4000.0    1.0\n",
        "beta[1]   0.98  9.0e-3   0.57  -0.18   0.73   0.96   1.21   2.19 4000.0    1.0\n",
        "sigma     0.53  7.0e-3   0.45   0.17   0.28   0.39   0.61   1.74 4000.0   1.01\n",
        "rss       1.08    0.04   2.53   0.22   0.29   0.43   0.82   6.47 4000.0   1.01\n",
        "totalss  10.23 2.8e-171.8e-15  10.23  10.23  10.23  10.23  10.23 4000.0    nan\n",
        "R2        0.89  3.9e-3   0.25   0.37   0.92   0.96   0.97   0.98 4000.0   1.01\n",
        "mu[0]     2.28  8.1e-3   0.51   1.21   2.05   2.27   2.49   3.41 4000.0    1.0\n",
        "mu[1]      3.0  4.8e-3    0.3   2.37   2.86   2.99   3.11   3.69 4000.0    1.0\n",
        "mu[2]     4.31  4.9e-3   0.31   3.68   4.18    4.3   4.42   4.96 4000.0    1.0\n",
        "mu[3]     5.12  6.1e-3   0.39   4.34   4.96   5.12   5.26   5.92 4000.0    1.0\n",
        "mu[4]     6.23  8.1e-3   0.51    5.2   6.02   6.22   6.42   7.29 4000.0    1.0\n",
        "lp__      1.34    0.03    2.0  -3.89   0.41    1.9   2.82   3.66 4000.0   1.01\n",
        "\n",
        "Samples were drawn using NUTS(diag_e) at Fri Nov  6 14:48:26 2015.\n",
        "For each parameter, n_eff is a crude measure of effective sample size,\n",
        "and Rhat is the potential scale reduction factor on split chains (at \n",
        "convergence, Rhat=1)."
       ]
      }
     ],
     "prompt_number": 6
    },
    {
     "cell_type": "code",
     "collapsed": false,
     "input": [
      "#plt.hist(matrix_reg.extract()['beta'])\n",
      "data = matrix_reg.extract()['beta']\n",
      "fig, ax = plt.subplots(1,1)\n",
      "bins = np.round(np.linspace(0,4,40),2)\n",
      "ax.hist(data, \n",
      "        bins=bins,\n",
      "        rwidth=.8,\n",
      "        color=['blue','purple'],\n",
      "        alpha=.4,\n",
      "        align='left',\n",
      "        normed=True\n",
      "        )\n",
      "ax.set_xticks(bins[:-1:2])\n",
      "ax.set_xticklabels(bins,rotation=90)\n",
      "plt.grid(True)"
     ],
     "language": "python",
     "metadata": {},
     "outputs": [
      {
       "metadata": {},
       "output_type": "display_data",
       "png": "[encoded data removed]",
       "text": [
        "<matplotlib.figure.Figure at 0x118e2b3d0>"
       ]
      }
     ],
     "prompt_number": 7
    },
    {
     "cell_type": "markdown",
     "metadata": {},
     "source": [
      "This variant directly declares each beta value. At the end, it is much less accurate and doesn't enable things like RSS etc to be generated. "
     ]
    },
    {
     "cell_type": "code",
     "collapsed": false,
     "input": [
      "data_reg2 = {'N':5,\n",
      "             'x1':[1.1,2.0,3.2,4.4,5.1],\n",
      "             'x2':[1.2,1.2,1.1,1.3,1.1],\n",
      "            'y':[2.3,2.9,4.2,5.5,6.0] }\n",
      "code_reg2 = '''\n",
      "\n",
      "data{\n",
      "    int<lower=0> N;// number of data items\n",
      "    vector[N] x1;\n",
      "    vector[N] x2;\n",
      "    vector[N]   y ;// data, y, as a vector\n",
      "}\n",
      "parameters{// which parameters will be estimated?\n",
      "    real alpha; //intercept\n",
      "    real beta1; // predictors\n",
      "    real beta2;//\n",
      "    real<lower=0> sigma; //error term\n",
      "}\n",
      "model{                     // Model setup of priors and likelihood\n",
      "    //priors\n",
      "    alpha ~ normal(0, 10);    // note that in Stan, normal(0,2) means distributed as mean 0 and standard deviation 2           \n",
      "    beta1 ~ normal(0, 10);\n",
      "    beta2 ~ normal(0, 10);\n",
      "    sigma ~ cauchy(0, 2.5);   // see Gelman 2006 or 2013 for example\n",
      "  \n",
      "    //likelihood\n",
      "    y ~ normal(alpha + x1*beta1 + x2*beta2, sigma);\n",
      "}\n",
      "'''\n",
      "matrix_reg2 = ps.stan(model_code=code_reg2, data=data_reg2)"
     ],
     "language": "python",
     "metadata": {},
     "outputs": [
      {
       "output_type": "stream",
       "stream": "stderr",
       "text": [
        "/Applications/Canopy.app/appdata/canopy-1.5.5.3123.macosx-x86_64/Canopy.app/Contents/lib/python2.7/multiprocessing/queues.py:390: UserWarning: Pickling fit objects is an experimental feature!\n",
        "The relevant StanModel instance must be pickled along with this fit object.\n",
        "When unpickling the StanModel must be unpickled first.\n",
        "  return send(obj)\n",
        "/Applications/Canopy.app/appdata/canopy-1.5.5.3123.macosx-x86_64/Canopy.app/Contents/lib/python2.7/multiprocessing/queues.py:390: UserWarning: Pickling fit objects is an experimental feature!\n",
        "The relevant StanModel instance must be pickled along with this fit object.\n",
        "When unpickling the StanModel must be unpickled first.\n",
        "  return send(obj)\n",
        "/Applications/Canopy.app/appdata/canopy-1.5.5.3123.macosx-x86_64/Canopy.app/Contents/lib/python2.7/multiprocessing/queues.py:390: UserWarning: Pickling fit objects is an experimental feature!\n",
        "The relevant StanModel instance must be pickled along with this fit object.\n",
        "When unpickling the StanModel must be unpickled first.\n",
        "  return send(obj)\n",
        "/Applications/Canopy.app/appdata/canopy-1.5.5.3123.macosx-x86_64/Canopy.app/Contents/lib/python2.7/multiprocessing/queues.py:390: UserWarning: Pickling fit objects is an experimental feature!\n",
        "The relevant StanModel instance must be pickled along with this fit object.\n",
        "When unpickling the StanModel must be unpickled first.\n",
        "  return send(obj)\n"
       ]
      }
     ],
     "prompt_number": 8
    },
    {
     "cell_type": "code",
     "collapsed": false,
     "input": [
      "matrix_reg2"
     ],
     "language": "python",
     "metadata": {},
     "outputs": [
      {
       "metadata": {},
       "output_type": "pyout",
       "prompt_number": 9,
       "text": [
        "Inference for Stan model: anon_model_7f79d68cbd800ff96551ac65ff3671f3.\n",
        "4 chains, each with iter=2000; warmup=1000; thin=1; \n",
        "post-warmup draws per chain=1000, total post-warmup draws=4000.\n",
        "\n",
        "        mean se_mean     sd   2.5%    25%    50%    75%  97.5%  n_eff   Rhat\n",
        "alpha   0.51    0.05    3.4  -7.15  -1.27   0.85   2.15   7.69 4000.0   1.03\n",
        "beta1   0.97  3.4e-3   0.21   0.56    0.9   0.96   1.04   1.38 4000.0    1.0\n",
        "beta2   0.53    0.04   2.79  -5.34  -0.82   0.24   1.95    6.8 4000.0   1.03\n",
        "sigma   0.51  9.1e-3   0.57   0.18   0.25   0.35   0.56   1.82 4000.0   1.03\n",
        "lp__    1.77    0.04   2.77  -4.55   0.19    2.4   3.89   5.33 4000.0   1.05\n",
        "\n",
        "Samples were drawn using NUTS(diag_e) at Fri Nov  6 14:48:38 2015.\n",
        "For each parameter, n_eff is a crude measure of effective sample size,\n",
        "and Rhat is the potential scale reduction factor on split chains (at \n",
        "convergence, Rhat=1)."
       ]
      }
     ],
     "prompt_number": 9
    },
    {
     "cell_type": "markdown",
     "metadata": {},
     "source": [
      "MARS example (py-earth) https://en.wikipedia.org/wiki/Multivariate_adaptive_regression_splines AND https://github.com/jcrudy/py-earth"
     ]
    },
    {
     "cell_type": "code",
     "collapsed": false,
     "input": [
      "from pyearth import Earth\n",
      "import matplotlib.pylab as plt\n",
      "\n",
      "#Create some fake data\n",
      "numpy.random.seed(0)\n",
      "m = 1000\n",
      "n = 10\n",
      "X = 80*numpy.random.uniform(size=(m,n)) - 40\n",
      "y = numpy.abs(X[:,6] - 4.0) + 1*numpy.random.normal(size=m)\n",
      "\n",
      "#Fit an Earth model\n",
      "model = Earth()\n",
      "model.fit(X,y)\n",
      "\n",
      "#Print the model\n",
      "print model.trace()\n",
      "print model.summary()\n",
      "\n",
      "#Plot the model\n",
      "y_hat = model.predict(X)\n",
      "plt.figure()\n",
      "plt.plot(X[:,6],y,'r.')\n",
      "plt.plot(X[:,6],y_hat,'b.')\n",
      "plt.xlabel('x_6')\n",
      "plt.ylabel('y')\n",
      "plt.title('Simple Earth Example')"
     ],
     "language": "python",
     "metadata": {},
     "outputs": [
      {
       "ename": "ImportError",
       "evalue": "No module named pyearth",
       "output_type": "pyerr",
       "traceback": [
        "\u001b[0;31m---------------------------------------------------------------------------\u001b[0m\n\u001b[0;31mImportError\u001b[0m                               Traceback (most recent call last)",
        "\u001b[0;32m<ipython-input-14-700bdc3fb34c>\u001b[0m in \u001b[0;36m<module>\u001b[0;34m()\u001b[0m\n\u001b[0;32m----> 1\u001b[0;31m \u001b[0;32mfrom\u001b[0m \u001b[0mpyearth\u001b[0m \u001b[0;32mimport\u001b[0m \u001b[0mEarth\u001b[0m\u001b[0;34m\u001b[0m\u001b[0m\n\u001b[0m\u001b[1;32m      2\u001b[0m \u001b[0;32mimport\u001b[0m \u001b[0mmatplotlib\u001b[0m\u001b[0;34m.\u001b[0m\u001b[0mpylab\u001b[0m \u001b[0;32mas\u001b[0m \u001b[0mplt\u001b[0m\u001b[0;34m\u001b[0m\u001b[0m\n\u001b[1;32m      3\u001b[0m \u001b[0;34m\u001b[0m\u001b[0m\n\u001b[1;32m      4\u001b[0m \u001b[0;31m#Create some fake data\u001b[0m\u001b[0;34m\u001b[0m\u001b[0;34m\u001b[0m\u001b[0m\n\u001b[1;32m      5\u001b[0m \u001b[0mnumpy\u001b[0m\u001b[0;34m.\u001b[0m\u001b[0mrandom\u001b[0m\u001b[0;34m.\u001b[0m\u001b[0mseed\u001b[0m\u001b[0;34m(\u001b[0m\u001b[0;36m0\u001b[0m\u001b[0;34m)\u001b[0m\u001b[0;34m\u001b[0m\u001b[0m\n",
        "\u001b[0;31mImportError\u001b[0m: No module named pyearth"
       ]
      }
     ],
     "prompt_number": 14
    },
    {
     "cell_type": "heading",
     "level": 3,
     "metadata": {},
     "source": [
      "Logistic Regression "
     ]
    },
    {
     "cell_type": "markdown",
     "metadata": {},
     "source": [
      "http://nbviewer.ipython.org/github/justmarkham/gadsdc1/blob/master/logistic_assignment/kevin_logistic_sklearn.ipynb"
     ]
    },
    {
     "cell_type": "markdown",
     "metadata": {},
     "source": [
      "This model is based on https://en.wikipedia.org/wiki/Logistic_regression."
     ]
    },
    {
     "cell_type": "code",
     "collapsed": false,
     "input": [
      "logit_data = {'N': 20,\n",
      "              'Hours':[0.50,0.75,1.00,1.25,1.50,\n",
      "                       1.75,1.75,2.00,2.25,2.50,\n",
      "                       2.75,3.00,3.25,3.50,4.00,\n",
      "                       4.25,4.50,4.75,5.00,5.50],\n",
      "              'Pass':[0,0,0,0,0,0,1,0,1,0,\n",
      "                      1,0,1,0,1,1,1,1,1,1]}\n",
      "logit_code = '''\n",
      "data {\n",
      "      int<lower=0> N;\n",
      "      vector[N] Hours;\n",
      "      int<lower=0,upper=1> Pass[N];\n",
      "}\n",
      "parameters {\n",
      "      real alpha;\n",
      "      real beta;\n",
      "} \n",
      "model {\n",
      "      Pass ~ bernoulli_logit(alpha + beta * Hours);\n",
      "}\n",
      "generated quantities {//Trying to get probability of Pass\n",
      "    vector[5] y;\n",
      "    for (n in 1:5)\n",
      "        y[n] <- inv_logit(alpha + beta * Hours[n]);\n",
      "}\n",
      "'''\n",
      "logit_model = ps.stan(model_code=logit_code,\n",
      "                      data = logit_data,\n",
      "                      iter=1000,\n",
      "                      chains=4)"
     ],
     "language": "python",
     "metadata": {},
     "outputs": []
    },
    {
     "cell_type": "code",
     "collapsed": false,
     "input": [
      "logit_model"
     ],
     "language": "python",
     "metadata": {},
     "outputs": []
    },
    {
     "cell_type": "code",
     "collapsed": false,
     "input": [
      "logit_model.traceplot()"
     ],
     "language": "python",
     "metadata": {},
     "outputs": []
    },
    {
     "cell_type": "code",
     "collapsed": false,
     "input": [
      "lp = logit_model.extract(permuted=True)['lp__']\n",
      "print 'Mean:',lp.mean()\n",
      "plt.hist(lp,normed=True)"
     ],
     "language": "python",
     "metadata": {},
     "outputs": []
    },
    {
     "cell_type": "code",
     "collapsed": false,
     "input": [],
     "language": "python",
     "metadata": {},
     "outputs": []
    }
   ],
   "metadata": {}
  }
 ]
}