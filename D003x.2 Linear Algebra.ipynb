{
 "metadata": {
  "name": "",
  "signature": "sha256:24f3edbcfec7899372a387afaad5c2a536d73972969ea5559e06e635706390d6"
 },
 "nbformat": 3,
 "nbformat_minor": 0,
 "worksheets": [
  {
   "cells": [
    {
     "cell_type": "heading",
     "level": 1,
     "metadata": {},
     "source": [
      "D003x.2 Linear Algebra "
     ]
    },
    {
     "cell_type": "code",
     "collapsed": false,
     "input": [
      "from sympy import init_session\n",
      "init_session()"
     ],
     "language": "python",
     "metadata": {},
     "outputs": [
      {
       "output_type": "stream",
       "stream": "stdout",
       "text": [
        "IPython console for SymPy 0.7.6 (Python 2.7.6-64-bit) (ground types: python)\n",
        "\n",
        "These commands were executed:\n",
        ">>> from __future__ import division\n",
        ">>> from sympy import *\n",
        ">>> x, y, z, t = symbols('x y z t')\n",
        ">>> k, m, n = symbols('k m n', integer=True)\n",
        ">>> f, g, h = symbols('f g h', cls=Function)\n",
        ">>> init_printing()\n",
        "\n",
        "Documentation can be found at http://www.sympy.org\n"
       ]
      }
     ],
     "prompt_number": 1
    },
    {
     "cell_type": "code",
     "collapsed": false,
     "input": [
      "olympicData = Matrix([[1928,\t12.2],[1932,11.9],[1936,\t11.5],[1948,\t12.2],[1952\t,11.67],[1956,\t11.82],[1960,\t11.18],[1964,\t11.49],[1968,\t11.08],[1972\t,11.07],[1976\t,11.08],[1980,\t11.06],[1984,\t10.97],[1988\t,10.54],[1992,\t10.82],[1996,\t10.94],[2004\t,10.93],[2008\t,10.78],[2012,\t10.75]])\n",
      "A = olympicData[:,0].col_insert(1,Matrix(ones(shape(A)[0],1)))\n",
      "#Using M^T*Mx = M^Tb\n",
      "b = olympicData[:,1]\n",
      "S = A.solve_least_squares(b)\n",
      "V = (A.T*A).inv()*A.T*b\n",
      "y = V[0]*x+V[1]\n",
      "E = A*V-b\n",
      "A,b,S,V,y,E.norm()"
     ],
     "language": "python",
     "metadata": {},
     "outputs": [
      {
       "latex": [
        "$$\\left ( \\left[\\begin{matrix}1928 & 1\\\\1932 & 1\\\\1936 & 1\\\\1948 & 1\\\\1952 & 1\\\\1956 & 1\\\\1960 & 1\\\\1964 & 1\\\\1968 & 1\\\\1972 & 1\\\\1976 & 1\\\\1980 & 1\\\\1984 & 1\\\\1988 & 1\\\\1992 & 1\\\\1996 & 1\\\\2004 & 1\\\\2008 & 1\\\\2012 & 1\\end{matrix}\\right], \\quad \\left[\\begin{matrix}12.2\\\\11.9\\\\11.5\\\\12.2\\\\11.67\\\\11.82\\\\11.18\\\\11.49\\\\11.08\\\\11.07\\\\11.08\\\\11.06\\\\10.97\\\\10.54\\\\10.82\\\\10.94\\\\10.93\\\\10.78\\\\10.75\\end{matrix}\\right], \\quad \\left[\\begin{matrix}-0.0169429995665354\\\\44.6629995665341\\end{matrix}\\right], \\quad \\left[\\begin{matrix}-0.0169429995665367\\\\44.6629995665367\\end{matrix}\\right], \\quad - 0.0169429995665367 x + 44.6629995665367, \\quad 1.03342273478215\\right )$$"
       ],
       "metadata": {},
       "output_type": "pyout",
       "png": "[encoded data removed]",
       "prompt_number": 24,
       "text": [
        "\u239b\u23a11928  1\u23a4, \u23a112.2 \u23a4, \u23a1-0.0169429995665354\u23a4, \u23a1-0.0169429995665367\u23a4, -- -0.01694\n",
        "\u239c\u23a2       \u23a5  \u23a2     \u23a5  \u23a2                   \u23a5  \u23a2                   \u23a5             \n",
        "\u239c\u23a21932  1\u23a5  \u23a211.9 \u23a5  \u23a3 44.6629995665341  \u23a6  \u23a3 44.6629995665367  \u23a6             \n",
        "\u239c\u23a2       \u23a5  \u23a2     \u23a5                                                           \n",
        "\u239c\u23a21936  1\u23a5  \u23a211.5 \u23a5                                                           \n",
        "\u239c\u23a2       \u23a5  \u23a2     \u23a5                                                           \n",
        "\u239c\u23a21948  1\u23a5  \u23a212.2 \u23a5                                                           \n",
        "\u239c\u23a2       \u23a5  \u23a2     \u23a5                                                           \n",
        "\u239c\u23a21952  1\u23a5  \u23a211.67\u23a5                                                           \n",
        "\u239c\u23a2       \u23a5  \u23a2     \u23a5                                                           \n",
        "\u239c\u23a21956  1\u23a5  \u23a211.82\u23a5                                                           \n",
        "\u239c\u23a2       \u23a5  \u23a2     \u23a5                                                           \n",
        "\u239c\u23a21960  1\u23a5  \u23a211.18\u23a5                                                           \n",
        "\u239c\u23a2       \u23a5  \u23a2     \u23a5                                                           \n",
        "\u239c\u23a21964  1\u23a5  \u23a211.49\u23a5                                                           \n",
        "\u239c\u23a2       \u23a5  \u23a2     \u23a5                                                           \n",
        "\u239c\u23a21968  1\u23a5  \u23a211.08\u23a5                                                           \n",
        "\u239c\u23a2       \u23a5  \u23a2     \u23a5                                                           \n",
        "\u239c\u23a21972  1\u23a5  \u23a211.07\u23a5                                                           \n",
        "\u239c\u23a2       \u23a5  \u23a2     \u23a5                                                           \n",
        "\u239c\u23a21976  1\u23a5  \u23a211.08\u23a5                                                           \n",
        "\u239c\u23a2       \u23a5  \u23a2     \u23a5                                                           \n",
        "\u239c\u23a21980  1\u23a5  \u23a211.06\u23a5                                                           \n",
        "\u239c\u23a2       \u23a5  \u23a2     \u23a5                                                           \n",
        "\u239c\u23a21984  1\u23a5  \u23a210.97\u23a5                                                           \n",
        "\u239c\u23a2       \u23a5  \u23a2     \u23a5                                                           \n",
        "\u239c\u23a21988  1\u23a5  \u23a210.54\u23a5                                                           \n",
        "\u239c\u23a2       \u23a5  \u23a2     \u23a5                                                           \n",
        "\u239c\u23a21992  1\u23a5  \u23a210.82\u23a5                                                           \n",
        "\u239c\u23a2       \u23a5  \u23a2     \u23a5                                                           \n",
        "\u239c\u23a21996  1\u23a5  \u23a210.94\u23a5                                                           \n",
        "\u239c\u23a2       \u23a5  \u23a2     \u23a5                                                           \n",
        "\u239c\u23a22004  1\u23a5  \u23a210.93\u23a5                                                           \n",
        "\u239c\u23a2       \u23a5  \u23a2     \u23a5                                                           \n",
        "\u239c\u23a22008  1\u23a5  \u23a210.78\u23a5                                                           \n",
        "\u239c\u23a2       \u23a5  \u23a2     \u23a5                                                           \n",
        "\u239d\u23a32012  1\u23a6  \u23a310.75\u23a6                                                           \n",
        "\n",
        "29995665367\u22c5x + 44.6629995665367, 1.03342273478215\u239e\n",
        "                                                  \u239f\n",
        "                                                  \u239f\n",
        "                                                  \u239f\n",
        "                                                  \u239f\n",
        "                                                  \u239f\n",
        "                                                  \u239f\n",
        "                                                  \u239f\n",
        "                                                  \u239f\n",
        "                                                  \u239f\n",
        "                                                  \u239f\n",
        "                                                  \u239f\n",
        "                                                  \u239f\n",
        "                                                  \u239f\n",
        "                                                  \u239f\n",
        "                                                  \u239f\n",
        "                                                  \u239f\n",
        "                                                  \u239f\n",
        "                                                  \u239f\n",
        "                                                  \u239f\n",
        "                                                  \u239f\n",
        "                                                  \u239f\n",
        "                                                  \u239f\n",
        "                                                  \u239f\n",
        "                                                  \u239f\n",
        "                                                  \u239f\n",
        "                                                  \u239f\n",
        "                                                  \u239f\n",
        "                                                  \u239f\n",
        "                                                  \u239f\n",
        "                                                  \u239f\n",
        "                                                  \u239f\n",
        "                                                  \u239f\n",
        "                                                  \u239f\n",
        "                                                  \u239f\n",
        "                                                  \u239f\n",
        "                                                  \u23a0"
       ]
      }
     ],
     "prompt_number": 24
    },
    {
     "cell_type": "code",
     "collapsed": false,
     "input": [
      "%%timeit\n",
      "S = A.solve_least_squares(b)"
     ],
     "language": "python",
     "metadata": {},
     "outputs": [
      {
       "output_type": "stream",
       "stream": "stdout",
       "text": [
        "1000 loops, best of 3: 1.31 ms per loop\n"
       ]
      }
     ],
     "prompt_number": 14
    },
    {
     "cell_type": "code",
     "collapsed": false,
     "input": [
      "%%timeit\n",
      "V = (A.T*A).inv()*A.T*b"
     ],
     "language": "python",
     "metadata": {},
     "outputs": [
      {
       "output_type": "stream",
       "stream": "stdout",
       "text": [
        "100 loops, best of 3: 2.34 ms per loop\n"
       ]
      }
     ],
     "prompt_number": 15
    },
    {
     "cell_type": "code",
     "collapsed": true,
     "input": [
      "solve(V[0]*x+V[1]-9.44)"
     ],
     "language": "python",
     "metadata": {},
     "outputs": [
      {
       "latex": [
        "$$\\left [ 2078.91167252958\\right ]$$"
       ],
       "metadata": {},
       "output_type": "pyout",
       "png": "[encoded data removed]",
       "prompt_number": 20,
       "text": [
        "[2078.91167252958]"
       ]
      }
     ],
     "prompt_number": 20
    },
    {
     "cell_type": "code",
     "collapsed": false,
     "input": [
      "A*V==b+E"
     ],
     "language": "python",
     "metadata": {},
     "outputs": [
      {
       "metadata": {},
       "output_type": "pyout",
       "prompt_number": 26,
       "text": [
        "True"
       ]
      }
     ],
     "prompt_number": 26
    },
    {
     "cell_type": "code",
     "collapsed": false,
     "input": [],
     "language": "python",
     "metadata": {},
     "outputs": []
    }
   ],
   "metadata": {}
  }
 ]
}