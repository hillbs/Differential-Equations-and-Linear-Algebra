{
 "metadata": {
  "name": "",
  "signature": "sha256:f67b600937cb0a7880c7cdcadf22cf3e5c7e0990da8a5c9c9461e75a0363c5c6"
 },
 "nbformat": 3,
 "nbformat_minor": 0,
 "worksheets": [
  {
   "cells": [
    {
     "cell_type": "heading",
     "level": 1,
     "metadata": {},
     "source": [
      "D003x.2 Unit 4 Probability"
     ]
    },
    {
     "cell_type": "code",
     "collapsed": false,
     "input": [
      "import numpy as np\n",
      "import scipy.linalg as la\n",
      "import matplotlib.pyplot as plt\n",
      "from sympy import init_session\n",
      "init_session()"
     ],
     "language": "python",
     "metadata": {},
     "outputs": [
      {
       "output_type": "stream",
       "stream": "stdout",
       "text": [
        "IPython console for SymPy 0.7.6 (Python 2.7.6-64-bit) (ground types: python)\n",
        "\n",
        "These commands were executed:\n",
        ">>> from __future__ import division\n",
        ">>> from sympy import *\n",
        ">>> x, y, z, t = symbols('x y z t')\n",
        ">>> k, m, n = symbols('k m n', integer=True)\n",
        ">>> f, g, h = symbols('f g h', cls=Function)\n",
        ">>> init_printing()\n",
        "\n",
        "Documentation can be found at http://www.sympy.org\n"
       ]
      }
     ],
     "prompt_number": 3
    },
    {
     "cell_type": "code",
     "collapsed": false,
     "input": [
      "%matplotlib inline\n",
      "d1=d2=d3 =1/3\n",
      "T = np.matrix([[d1,d2,d3,0,0,0,0,0,0],\n",
      "               [0,d1+d3,d2,0,0,0,0,0,0],\n",
      "               [0,d2,d1,0,d3,0,0,0,0],\n",
      "               [0,0,0,0,0,0,0,0,0],\n",
      "               [0,0,0,0,d1,0,d3,d2,0],\n",
      "               [0,0,0,0,0,0,0,0,0],\n",
      "               [0,0,0,0,0,0,d1,d2,d3],\n",
      "               [0,0,0,0,0,0,0,d1,d2+d3],\n",
      "               [0,0,0,0,0,0,0,0,1]])\n",
      "V = np.matrix([1,0,0,0,0,0,0,0,0])\n",
      "Vold = G = V\n",
      "for i in range(16):\n",
      "    Vnew = Vold*T\n",
      "    Vold = Vnew\n",
      "    G = np.row_stack((G,Vnew))\n",
      "plt.rcParams['figure.figsize'] = [8, 12]\n",
      "plt.imshow(G, cmap =  cm.Blues, interpolation = 'nearest')"
     ],
     "language": "python",
     "metadata": {},
     "outputs": [
      {
       "metadata": {},
       "output_type": "pyout",
       "prompt_number": 4,
       "text": [
        "<matplotlib.image.AxesImage at 0x10ecdc7d0>"
       ]
      },
      {
       "metadata": {},
       "output_type": "display_data",
       "png": "[encoded data removed]",
       "text": [
        "<matplotlib.figure.Figure at 0x10eca1d10>"
       ]
      }
     ],
     "prompt_number": 4
    },
    {
     "cell_type": "heading",
     "level": 2,
     "metadata": {},
     "source": [
      "Unit 6: Sports Ranking"
     ]
    },
    {
     "cell_type": "heading",
     "level": 4,
     "metadata": {},
     "source": [
      "The Massey system"
     ]
    },
    {
     "cell_type": "code",
     "collapsed": false,
     "input": [
      "#Team x played Team y winning by 1, Team y played TEam  winning by 15, Team x played Team z losing by 10.\n",
      "A = Matrix([[1,-1,0],[0,1,-1],[-1,0,1]])\n",
      "Teams = Matrix([x,y,z])\n",
      "Results = Matrix([1,15,10])\n",
      "A,Teams, A*Teams, Results"
     ],
     "language": "python",
     "metadata": {},
     "outputs": [
      {
       "latex": [
        "$$\\left ( \\left[\\begin{matrix}1 & -1 & 0\\\\0 & 1 & -1\\\\-1 & 0 & 1\\end{matrix}\\right], \\quad \\left[\\begin{matrix}x\\\\y\\\\z\\end{matrix}\\right], \\quad \\left[\\begin{matrix}x - y\\\\y - z\\\\- x + z\\end{matrix}\\right], \\quad \\left[\\begin{matrix}1\\\\15\\\\10\\end{matrix}\\right]\\right )$$"
       ],
       "metadata": {},
       "output_type": "pyout",
       "png": "[encoded data removed]",
       "prompt_number": 5,
       "text": [
        "\u239b\u23a11   -1  0 \u23a4, \u23a1x\u23a4, \u23a1x - y \u23a4, \u23a11 \u23a4\u239e\n",
        "\u239c\u23a2          \u23a5  \u23a2 \u23a5  \u23a2      \u23a5  \u23a2  \u23a5\u239f\n",
        "\u239c\u23a20   1   -1\u23a5  \u23a2y\u23a5  \u23a2y - z \u23a5  \u23a215\u23a5\u239f\n",
        "\u239c\u23a2          \u23a5  \u23a2 \u23a5  \u23a2      \u23a5  \u23a2  \u23a5\u239f\n",
        "\u239d\u23a3-1  0   1 \u23a6  \u23a3z\u23a6  \u23a3-x + z\u23a6  \u23a310\u23a6\u23a0"
       ]
      }
     ],
     "prompt_number": 5
    },
    {
     "cell_type": "code",
     "collapsed": false,
     "input": [
      "import scipy.linalg as la\n",
      "def Massey_Rank(A, Results):\n",
      "    ''' A is the game matrix with diagonals = 1, Results is the \n",
      "    score difference for each game'''\n",
      "    #Now multiply both sides by A.T\n",
      "    M = A.T*A\n",
      "    R = A.T*Results\n",
      "    #Replace Row m with ones and row m in Results with 0\n",
      "    m = M.cols\n",
      "    M[-1*m] = ones(1, m); R[-1] = 0\n",
      "    #lstsq returns the solution, rank and singular values\n",
      "    Solution = la.lstsq(M,R)\n",
      "    return M, R, Solution[0]\n",
      "Massey_Rank(A,Results)"
     ],
     "language": "python",
     "metadata": {},
     "outputs": [
      {
       "metadata": {},
       "output_type": "pyout",
       "prompt_number": 6,
       "text": [
        "(Matrix([\n",
        " [ 2, -1, -1],\n",
        " [-1,  2, -1],\n",
        " [ 1,  1,  1]]), Matrix([\n",
        " [-9],\n",
        " [14],\n",
        " [ 0]]), array([[-3.        ],\n",
        "        [ 4.66666667],\n",
        "        [-1.66666667]]))"
       ]
      }
     ],
     "prompt_number": 6
    },
    {
     "cell_type": "markdown",
     "metadata": {},
     "source": [
      "The Matrix $A$ also can be arrived at directly. This is done by placing the number of games each team (row) played, then $-1 * \\ number \\ of \\ games$ for each Team col."
     ]
    },
    {
     "cell_type": "heading",
     "level": 4,
     "metadata": {},
     "source": [
      "The Colley Method"
     ]
    },
    {
     "cell_type": "markdown",
     "metadata": {},
     "source": [
      "http://www.colleyrankings.com/matrate.pdf; http://www.mathaware.org/mam/2010/essays/PasteurPredictive.pdf"
     ]
    },
    {
     "cell_type": "code",
     "collapsed": false,
     "input": [
      "#Colley Method\n",
      "nw = 1.\n",
      "ntot = 2.\n",
      "nl = ntot - nw\n",
      "rating_j = 1/2.\n",
      "rating_i = (1+nw)/(2+ntot)\n",
      "rating_i\n",
      "#But when group pools or conferences are used, there is no certainty that the ratings between each group compare. \n",
      "#Colley uses a scheme whereb the actual (not 1/2) rating of the other team is added to the index team rating. \n",
      "effective_rating = (nw - (ntot-nw)/2.) + rating_j "
     ],
     "language": "python",
     "metadata": {},
     "outputs": [],
     "prompt_number": 7
    },
    {
     "cell_type": "markdown",
     "metadata": {},
     "source": [
      "This can all be rewritten as a matrix $C \\vec{r} = \\vec{b}$. The vector $\\vec{r}$ is the rating for each team, which could be $1/2$, or a calculated rating from another pool. The vector $\\vec{b_i} = \\frac{1 + (n_{w,i} \u2212 n_{l,i})}{2}$\n",
      "\n",
      "$C = \\begin{bmatrix}2+n_{tot}&-1\\\\-1&2 + n_{tot}&-1\\\\ &-1&.&.\\\\ & &.&.&-1\\\\ & & &-1&2 + n_{tot} \\end{bmatrix}$  $r = \\begin{bmatrix}r_1\\\\r_2\\\\.\\\\.\\\\r_n \\end{bmatrix}$"
     ]
    },
    {
     "cell_type": "code",
     "collapsed": false,
     "input": [
      "C = eye(5)*(2+ntot)\n",
      "#b = 1 + (nw-nl)/2\n",
      "C[0,2] = C[0,3] =C[0,4] = C[1,2] = C[1,4] = C[2,0] = C[2,1] =  C[2,3] = C[2,4] = C[3,0] = C[3,2] = C[4,0] = C[4,1] = C[4,2] = -1\n",
      "C[0,0] = C[4,4] = 5\n",
      "C[3,3] = 6\n",
      "b = Matrix([1/2.,1,1,1,3/2.])\n",
      "C, b"
     ],
     "language": "python",
     "metadata": {},
     "outputs": [
      {
       "latex": [
        "$$\\left ( \\left[\\begin{matrix}5 & 0 & -1 & -1 & -1\\\\0 & 4.0 & -1 & 0 & -1\\\\-1 & -1 & 4.0 & -1 & -1\\\\-1 & 0 & -1 & 6 & 0\\\\-1 & -1 & -1 & 0 & 5\\end{matrix}\\right], \\quad \\left[\\begin{matrix}0.5\\\\1\\\\1\\\\1\\\\1.5\\end{matrix}\\right]\\right )$$"
       ],
       "metadata": {},
       "output_type": "pyout",
       "png": "[encoded data removed]",
       "prompt_number": 8,
       "text": [
        "\u239b\u23a15    0   -1   -1  -1\u23a4, \u23a10.5\u23a4\u239e\n",
        "\u239c\u23a2                    \u23a5  \u23a2   \u23a5\u239f\n",
        "\u239c\u23a20   4.0  -1   0   -1\u23a5  \u23a2 1 \u23a5\u239f\n",
        "\u239c\u23a2                    \u23a5  \u23a2   \u23a5\u239f\n",
        "\u239c\u23a2-1  -1   4.0  -1  -1\u23a5  \u23a2 1 \u23a5\u239f\n",
        "\u239c\u23a2                    \u23a5  \u23a2   \u23a5\u239f\n",
        "\u239c\u23a2-1   0   -1   6   0 \u23a5  \u23a2 1 \u23a5\u239f\n",
        "\u239c\u23a2                    \u23a5  \u23a2   \u23a5\u239f\n",
        "\u239d\u23a3-1  -1   -1   0   5 \u23a6  \u23a31.5\u23a6\u23a0"
       ]
      }
     ],
     "prompt_number": 8
    },
    {
     "cell_type": "code",
     "collapsed": false,
     "input": [
      "r_vec = la.solve(C,b)\n",
      "r_vec"
     ],
     "language": "python",
     "metadata": {},
     "outputs": [
      {
       "metadata": {},
       "output_type": "pyout",
       "prompt_number": 9,
       "text": [
        "array([[ 0.46558704],\n",
        "       [ 0.61336032],\n",
        "       [ 0.78137652],\n",
        "       [ 0.37449393],\n",
        "       [ 0.67206478]])"
       ]
      }
     ],
     "prompt_number": 9
    },
    {
     "cell_type": "heading",
     "level": 2,
     "metadata": {},
     "source": [
      "Super 15 Rankings"
     ]
    },
    {
     "cell_type": "markdown",
     "metadata": {},
     "source": [
      "Reference to the actual Massey system http://www.masseyratings.com/rate.php?s=sr2015"
     ]
    },
    {
     "cell_type": "heading",
     "level": 4,
     "metadata": {},
     "source": [
      "Massey System"
     ]
    },
    {
     "cell_type": "code",
     "collapsed": false,
     "input": [
      "#Adding a logistic function as per  http://www.mathaware.org/mam/2010/essays/PasteurPredictive.pdf\n",
      "#Weight function for time is noted as 0.95^n\n",
      "Week = 1\n",
      "Weight_by_round = 0.95**(Week)\n",
      "#They also add a logistic function with a cap at 21 and 0 in the middle.\n",
      "#Pasteur 'forgot' to provide the function but here it is -- near enough. \n",
      "@vectorize()\n",
      "def Logistic_func(X,L=28,x0=0,k=.3):\n",
      "    #L = 1 #Maximum value\n",
      "    #x0 = 0 #midpoint value\n",
      "    #k = .2 #steepness\n",
      "    r = L/(1+exp(-k*(X-x0)))\n",
      "    return r -14\n",
      "\n",
      "x1 = np.linspace(-40,40,100)\n",
      "plt.grid()\n",
      "plt.plot(x1,Logistic_func(x1))"
     ],
     "language": "python",
     "metadata": {},
     "outputs": [
      {
       "metadata": {},
       "output_type": "pyout",
       "prompt_number": 146,
       "text": [
        "[<matplotlib.lines.Line2D at 0x1131b3d50>]"
       ]
      },
      {
       "metadata": {},
       "output_type": "display_data",
       "png": "[encoded data removed]",
       "text": [
        "<matplotlib.figure.Figure at 0x1131b3d10>"
       ]
      }
     ],
     "prompt_number": 146
    },
    {
     "cell_type": "code",
     "collapsed": false,
     "input": [
      "# To end of Round 9 http://www.superrugby.co.nz/Grandstand\n",
      "S15 = Matrix([[12,-2,0,0,-1,0,-2,-2,-1,-1,-1,0,0,0,-2],#Crus\n",
      "              [-2,10,-2,-1,-1,-1,0,0,0,0,0,0,-2,-1,0],#Reb\n",
      "              [0,-2,10,-2,0,0,-1,-1,0,-1,0,0,-1,-1,-1],#Brum\n",
      "              [0,-1,-2,10,-1,-1,0,0,0,-1,-1,0,-1,-1,-1],#Red\n",
      "              [-1,-1,0,-1,10,-1,-1,0,-2,-1,-1,-1,0,0,0],#Lion\n",
      "              [0,-1,0,-1,-1,9,-1,0,0,0,-1,-1,-1,-1,-1],#Hurr\n",
      "              [-2,0,-1,0,-1,-1,11,-2,0,-1,0,-1,-1,0,-1],#Blues\n",
      "              [-2,0,-1,0,0,0,-2,10,-1,-1,0,-1,0,-1,-1],#Chiefs\n",
      "              [-1,0,0,0,-2,0,0,-1,10,-2,-2,-1,0,-1,0],#Sharks\n",
      "              [-1,0,-1,-1,-1,0,-1,-1,-2,10,-1,0,0,-1,0],#Cheetahs\n",
      "              [-1,0,0,-1,-1,-1,0,0,-2,-1,10,-2,0,-1,0],#Bulls\n",
      "              [0,0,0,0,-1,-1,-1,-1,-1,0,-2,10,-1,-1,-1],#Stormers\n",
      "              [0,-2,-1,-1,0,-1,-1,0,0,0,0,-1,9,-1,-1],#Waratahs\n",
      "              [0,-1,-1,-1,0,-1,0,-1,-1,-1,-1,-1,-1,10,0],#Force\n",
      "              [-2,0,-1,-1,0,-1,-1,-1,0,0,0,-1,-1,0,9],#Highlanders\n",
      "              ])\n",
      "\n",
      "#Create base matrix of score differentials across Teams (row) x Round (col)\n",
      "S15_Base = np.matrix([[-10,6,-24,0,28,43,-12,42,-5,-17,14],#Crus\n",
      "                       [10,-10,-5,0,4,-4,-24,8,0,5,-2],#Reb\n",
      "                       [44,-2,5,12,29,-15,0,17,-2,-5,13],#Brum\n",
      "                       [-44,12,-7,-18,-29,0,-1,-8,-21,1,-16],#Red              \n",
      "                       [-14,-17,-3,3,-28,4,1,4,2,0,5],#Lion              \n",
      "                       [14,4,29,0,7,7,24,5,0,-5,16],#Hurr\n",
      "                       [-5,-11,-1,-3,-7,0,-12,-7,2,-6,-14],#Blues\n",
      "                       [5,2,24,-3,9,-1,10,7,0,17,8],#Chiefs\n",
      "                       [-6,17,-8,-16,17,1,6,-42,-2,-7,0],#Sharks\n",
      "                       [6,0,1,-19,-17,-43,-10,-17,9,-1,-5],#Cheetahs\n",
      "                       [-12,-4,8,19,0,1,12,-4,21,7,-2],#Bulls\n",
      "                       [12,11,3,16,-9,0,-18,-5,14,7,2],#Stormers\n",
      "                       [-12,10,0,18,-7,15,12,0,-14,5,2],#Waratahs\n",
      "                       [12,-12,-29,-12,-4,-1,-6,0,-9,-7,-8],#Force\n",
      "                       [0,-6,7,3,7,-7,18,0,5,6,-13],#Highlanders\n",
      "                       ])\n",
      "#Apply time correction\n",
      "x2 = [0.95**(shape(S15_Base)[1]-1-i) for i in range(shape(S15_Base)[1])]\n",
      "Timebase = np.multiply(S15_Base,x2)\n",
      "\n",
      "#Apply Logistic function to matrix\n",
      "Log_array = np.frompyfunc(Logistic_func,1,1)\n",
      "S15Results = Log_array(Timebase)\n",
      "\n",
      "#Sum the Columns of Scores x Week\n",
      "S15Results= S15Results.sum(axis=1)\n",
      " \n",
      "Cr, Reb, Br, Red,Li,Hu,Bl,Chief,Sh,Cheet,Bull,St,Wa,Fo,Hi = symbols('Crusaders Rebels Brumbies Reds Lions Hurricanes Blues Chiefs Sharks Cheetahs Bulls Stormers Waratahs Force Highlanders')\n",
      "S15_names = Matrix([Cr, Reb, Br, Red,Li,Hu,Bl,Chief,Sh,Cheet,Bull,St,Wa,Fo,Hi])\n",
      "#Massey_Rank(S15,S15Results)\n",
      "S15_M = S15.copy()\n",
      "m = S15_M.cols\n",
      "S15_M[-1*m] = ones(1, m); S15Results[-1] = 0\n",
      "    #lstsq returns the solution, rank and singular values\n",
      "la.lstsq(S15_M,S15Results)"
     ],
     "language": "python",
     "metadata": {},
     "outputs": [
      {
       "metadata": {},
       "output_type": "pyout",
       "prompt_number": 147,
       "text": [
        "(array([[ 0.44201752],\n",
        "        [-0.12917977],\n",
        "        [ 2.60005691],\n",
        "        [-7.03734943],\n",
        "        [-2.17196274],\n",
        "        [ 7.7661935 ],\n",
        "        [-4.36848752],\n",
        "        [ 6.04166836],\n",
        "        [-3.11355604],\n",
        "        [-7.23544532],\n",
        "        [ 2.22629426],\n",
        "        [ 4.4158735 ],\n",
        "        [ 3.2230704 ],\n",
        "        [-6.75784825],\n",
        "        [ 4.09865462]]),\n",
        " array([], dtype=float64),\n",
        " 15,\n",
        " array([ 15.33248541,  13.88999105,  13.0306314 ,  12.48296537,\n",
        "         12.17598848,  11.59412957,  10.85689923,  10.66487217,\n",
        "          9.90029377,   9.15425631,   8.38382004,   7.40122039,\n",
        "          5.83763389,   3.87298335,   2.26059042]))"
       ]
      }
     ],
     "prompt_number": 147
    },
    {
     "cell_type": "code",
     "collapsed": false,
     "input": [
      "S15_rank = Matrix([S15_names.T,la.lstsq(S15_M,S15Results)[0]])\n",
      "Week11_rank = list(np.array(S15_rank.T))\n",
      "Week11_rank.sort(key=lambda row: row[1:], reverse=True)\n",
      "import pprint\n",
      "pprint.pprint(Week11_rank[:])"
     ],
     "language": "python",
     "metadata": {},
     "outputs": [
      {
       "output_type": "stream",
       "stream": "stdout",
       "text": [
        "[array([Hurricanes, 7.76619349900130], dtype=object),\n",
        " array([Chiefs, 6.04166836105637], dtype=object),\n",
        " array([Stormers, 4.41587350372272], dtype=object),\n",
        " array([Highlanders, 4.09865462433926], dtype=object),\n",
        " array([Waratahs, 3.22307039575525], dtype=object),\n",
        " array([Brumbies, 2.60005690855280], dtype=object),\n",
        " array([Bulls, 2.22629426028956], dtype=object),\n",
        " array([Crusaders, 0.442017522400162], dtype=object),\n",
        " array([Rebels, -0.129179766340262], dtype=object),\n",
        " array([Lions, -2.17196273653815], dtype=object),\n",
        " array([Sharks, -3.11355603849159], dtype=object),\n",
        " array([Blues, -4.36848752435049], dtype=object),\n",
        " array([Force, -6.75784825198366], dtype=object),\n",
        " array([Reds, -7.03734943304067], dtype=object),\n",
        " array([Cheetahs, -7.23544532437270], dtype=object)]\n"
       ]
      }
     ],
     "prompt_number": 148
    },
    {
     "cell_type": "code",
     "collapsed": false,
     "input": [],
     "language": "python",
     "metadata": {},
     "outputs": [
      {
       "output_type": "stream",
       "stream": "stdout",
       "text": [
        "Super 15 predictions for Round 11\n",
        "=======================================================\n",
        "Sharks -v- Highlanders :  Highlanders to win by  7.\n",
        "Force -v- Blues :  Blues to win by  2.\n",
        "Chiefs -v- Rebels :  Chiefs to win by  6.\n",
        "Crusaders -v- Hurricanes :  Hurricanes to win by  7.\n",
        "Lions -v- Bulls :  Bulls to win by  4.\n",
        "Stormers -v- Cheetahs :  Stormers to win by  12.\n",
        "=======================================================\n"
       ]
      }
     ],
     "prompt_number": 159
    },
    {
     "cell_type": "code",
     "collapsed": false,
     "input": [
      "#Boltzman function for probability\n",
      "#Look this up as to purpose.\n",
      "p = 1 - 1 / ( 1 + exp ( 0.00583 * (b[Reb]-b[Wa])  - 0.0505) )\n",
      "p"
     ],
     "language": "python",
     "metadata": {},
     "outputs": [
      {
       "latex": [
        "$$0.482496251077915$$"
       ],
       "metadata": {},
       "output_type": "pyout",
       "png": "[encoded data removed]",
       "prompt_number": 150,
       "text": [
        "0.482496251077915"
       ]
      }
     ],
     "prompt_number": 150
    },
    {
     "cell_type": "raw",
     "metadata": {},
     "source": [
      "Official Standings...\n",
      "TEAM\tPOINTS\n",
      "1\tHurricanes\t31\n",
      "2\tBrumbies\t25\n",
      "3\tBulls\t24\n",
      "4\tChiefs\t28\n",
      "5\tHighlanders\t24\n",
      "6\tStormers\t22\n",
      "7\tLions\t21\n",
      "8\tCrusaders\t20\n",
      "9\tSharks\t20\n",
      "10\tWaratahs\t18\n",
      "11\tRebels\t15\n",
      "12\tCheetahs\t13\n",
      "13\tBlues\t9\n",
      "14\tForce\t8\n",
      "15\tReds\t7"
     ]
    },
    {
     "cell_type": "code",
     "collapsed": false,
     "input": [
      "#what about some features of this matrix?\n",
      "S15n = np.array(S15)\n",
      "S15_orth =la.orth(S15n)\n",
      "w,v = la.eig(S15n)\n",
      "S,D,V = la.svd(S15n)\n",
      "Matrix(S.round(2)),Matrix(D.round(2)),Matrix(V.round(2))"
     ],
     "language": "python",
     "metadata": {},
     "outputs": [
      {
       "latex": [
        "$$\\left ( \\left[\\begin{array}{ccccccccccccccc}-0.7 & 0.13 & -0.03 & 0.12 & -0.18 & 0.23 & 0.12 & -0.31 & 0.07 & 0.12 & 0.27 & -0.03 & -0.34 & 0.07 & 0.26\\\\0.42 & 0.12 & 0.28 & 0.11 & 0.1 & 0.08 & -0.05 & -0.45 & 0.07 & 0.38 & 0.32 & -0.21 & 0.15 & -0.34 & 0.26\\\\-0.25 & -0.14 & -0.25 & -0.16 & 0.55 & -0.02 & -0.4 & 0.02 & 0.01 & -0.17 & -0.13 & -0.4 & -0.03 & -0.32 & 0.26\\\\-0.02 & 0.33 & 0.19 & -0.14 & -0.54 & -0.01 & -0.16 & 0.12 & 0.04 & -0.53 & 0.04 & -0.21 & 0.24 & -0.21 & 0.26\\\\-0.01 & -0.41 & -0.15 & 0.15 & -0.14 & -0.46 & -0.23 & 0.19 & 0.02 & 0.06 & 0.56 & 0.01 & 0.16 & 0.25 & 0.26\\\\-0.12 & -0.02 & 0.1 & -0.23 & 0.23 & 0.06 & 0.2 & -0.05 & -0.63 & -0.14 & 0.17 & 0.47 & 0.26 & -0.13 & 0.26\\\\0.32 & 0.41 & -0.44 & 0.17 & -0.05 & 0.21 & -0.2 & 0.34 & -0.26 & 0.14 & 0.08 & 0.1 & -0.36 & -0.01 & 0.26\\\\0.15 & -0.34 & 0.28 & -0.43 & -0.28 & -0.1 & -0.14 & -0.11 & -0.26 & 0.15 & -0.27 & -0.08 & -0.49 & 0.11 & 0.26\\\\0.05 & 0.43 & -0.08 & -0.49 & 0.23 & -0.26 & 0.28 & 0.0 & 0.22 & 0.11 & 0.02 & -0.14 & 0.1 & 0.47 & 0.26\\\\0.04 & -0.14 & 0.39 & 0.38 & 0.2 & 0.24 & 0.34 & 0.37 & -0.14 & -0.13 & -0.03 & -0.4 & -0.04 & 0.26 & 0.26\\\\0.18 & -0.3 & -0.27 & -0.08 & -0.08 & 0.6 & -0.12 & -0.23 & 0.22 & -0.15 & -0.11 & 0.14 & 0.28 & 0.34 & 0.26\\\\-0.15 & 0.21 & 0.42 & 0.26 & 0.16 & -0.11 & -0.46 & 0.07 & 0.21 & 0.12 & -0.31 & 0.43 & 0.07 & 0.16 & 0.26\\\\-0.12 & -0.19 & -0.05 & -0.18 & -0.15 & 0.1 & 0.28 & 0.47 & 0.32 & 0.41 & -0.14 & 0.13 & 0.16 & -0.42 & 0.26\\\\-0.03 & 0.01 & -0.33 & 0.37 & -0.19 & -0.35 & 0.22 & -0.29 & -0.24 & 0.09 & -0.51 & -0.12 & 0.24 & -0.02 & 0.26\\\\0.24 & -0.11 & -0.04 & 0.13 & 0.14 & -0.22 & 0.31 & -0.14 & 0.37 & -0.47 & 0.03 & 0.31 & -0.4 & -0.21 & 0.26\\end{array}\\right], \\quad \\left[\\begin{matrix}15.61\\\\13.94\\\\13.04\\\\12.52\\\\12.23\\\\11.7\\\\11.03\\\\10.74\\\\10.17\\\\9.47\\\\9.15\\\\7.78\\\\6.96\\\\5.66\\\\0.0\\end{matrix}\\right], \\quad \\left[\\begin{array}{ccccccccccccccc}-0.7 & 0.42 & -0.25 & -0.02 & -0.01 & -0.12 & 0.32 & 0.15 & 0.05 & 0.04 & 0.18 & -0.15 & -0.12 & -0.03 & 0.24\\\\0.13 & 0.12 & -0.14 & 0.33 & -0.41 & -0.02 & 0.41 & -0.34 & 0.43 & -0.14 & -0.3 & 0.21 & -0.19 & 0.01 & -0.11\\\\-0.03 & 0.28 & -0.25 & 0.19 & -0.15 & 0.1 & -0.44 & 0.28 & -0.08 & 0.39 & -0.27 & 0.42 & -0.05 & -0.33 & -0.04\\\\0.12 & 0.11 & -0.16 & -0.14 & 0.15 & -0.23 & 0.17 & -0.43 & -0.49 & 0.38 & -0.08 & 0.26 & -0.18 & 0.37 & 0.13\\\\-0.18 & 0.1 & 0.55 & -0.54 & -0.14 & 0.23 & -0.05 & -0.28 & 0.23 & 0.2 & -0.08 & 0.16 & -0.15 & -0.19 & 0.14\\\\0.23 & 0.08 & -0.02 & -0.01 & -0.46 & 0.06 & 0.21 & -0.1 & -0.26 & 0.24 & 0.6 & -0.11 & 0.1 & -0.35 & -0.22\\\\0.12 & -0.05 & -0.4 & -0.16 & -0.23 & 0.2 & -0.2 & -0.14 & 0.28 & 0.34 & -0.12 & -0.46 & 0.28 & 0.22 & 0.31\\\\-0.31 & -0.45 & 0.02 & 0.12 & 0.19 & -0.05 & 0.34 & -0.11 & 0.0 & 0.37 & -0.23 & 0.07 & 0.47 & -0.29 & -0.14\\\\0.07 & 0.07 & 0.01 & 0.04 & 0.02 & -0.63 & -0.26 & -0.26 & 0.22 & -0.14 & 0.22 & 0.21 & 0.32 & -0.24 & 0.37\\\\0.12 & 0.38 & -0.17 & -0.53 & 0.06 & -0.14 & 0.14 & 0.15 & 0.11 & -0.13 & -0.15 & 0.12 & 0.41 & 0.09 & -0.47\\\\0.27 & 0.32 & -0.13 & 0.04 & 0.56 & 0.17 & 0.08 & -0.27 & 0.02 & -0.03 & -0.11 & -0.31 & -0.14 & -0.51 & 0.03\\\\-0.03 & -0.21 & -0.4 & -0.21 & 0.01 & 0.47 & 0.1 & -0.08 & -0.14 & -0.4 & 0.14 & 0.43 & 0.13 & -0.12 & 0.31\\\\-0.34 & 0.15 & -0.03 & 0.24 & 0.16 & 0.26 & -0.36 & -0.49 & 0.1 & -0.04 & 0.28 & 0.07 & 0.16 & 0.24 & -0.4\\\\0.07 & -0.34 & -0.32 & -0.21 & 0.25 & -0.13 & -0.01 & 0.11 & 0.47 & 0.26 & 0.34 & 0.16 & -0.42 & -0.02 & -0.21\\\\-0.26 & -0.26 & -0.26 & -0.26 & -0.26 & -0.26 & -0.26 & -0.26 & -0.26 & -0.26 & -0.26 & -0.26 & -0.26 & -0.26 & -0.26\\end{array}\\right]\\right )$$"
       ],
       "metadata": {},
       "output_type": "pyout",
       "png": "[encoded data removed]",
       "prompt_number": 151,
       "text": [
        "\u239b\u23a1-0.7   0.13   -0.03  0.12   -0.18  0.23   0.12   -0.31  0.07   0.12   0.27  \n",
        "\u239c\u23a2                                                                            \n",
        "\u239c\u23a20.42   0.12   0.28   0.11    0.1   0.08   -0.05  -0.45  0.07   0.38   0.32  \n",
        "\u239c\u23a2                                                                            \n",
        "\u239c\u23a2-0.25  -0.14  -0.25  -0.16  0.55   -0.02  -0.4   0.02   0.01   -0.17  -0.13 \n",
        "\u239c\u23a2                                                                            \n",
        "\u239c\u23a2-0.02  0.33   0.19   -0.14  -0.54  -0.01  -0.16  0.12   0.04   -0.53  0.04  \n",
        "\u239c\u23a2                                                                            \n",
        "\u239c\u23a2-0.01  -0.41  -0.15  0.15   -0.14  -0.46  -0.23  0.19   0.02   0.06   0.56  \n",
        "\u239c\u23a2                                                                            \n",
        "\u239c\u23a2-0.12  -0.02   0.1   -0.23  0.23   0.06    0.2   -0.05  -0.63  -0.14  0.17  \n",
        "\u239c\u23a2                                                                            \n",
        "\u239c\u23a20.32   0.41   -0.44  0.17   -0.05  0.21   -0.2   0.34   -0.26  0.14   0.08  \n",
        "\u239c\u23a2                                                                            \n",
        "\u239c\u23a20.15   -0.34  0.28   -0.43  -0.28  -0.1   -0.14  -0.11  -0.26  0.15   -0.27 \n",
        "\u239c\u23a2                                                                            \n",
        "\u239c\u23a20.05   0.43   -0.08  -0.49  0.23   -0.26  0.28    0.0   0.22   0.11   0.02  \n",
        "\u239c\u23a2                                                                            \n",
        "\u239c\u23a20.04   -0.14  0.39   0.38    0.2   0.24   0.34   0.37   -0.14  -0.13  -0.03 \n",
        "\u239c\u23a2                                                                            \n",
        "\u239c\u23a20.18   -0.3   -0.27  -0.08  -0.08   0.6   -0.12  -0.23  0.22   -0.15  -0.11 \n",
        "\u239c\u23a2                                                                            \n",
        "\u239c\u23a2-0.15  0.21   0.42   0.26   0.16   -0.11  -0.46  0.07   0.21   0.12   -0.31 \n",
        "\u239c\u23a2                                                                            \n",
        "\u239c\u23a2-0.12  -0.19  -0.05  -0.18  -0.15   0.1   0.28   0.47   0.32   0.41   -0.14 \n",
        "\u239c\u23a2                                                                            \n",
        "\u239c\u23a2-0.03  0.01   -0.33  0.37   -0.19  -0.35  0.22   -0.29  -0.24  0.09   -0.51 \n",
        "\u239c\u23a2                                                                            \n",
        "\u239d\u23a30.24   -0.11  -0.04  0.13   0.14   -0.22  0.31   -0.14  0.37   -0.47  0.03  \n",
        "\n",
        " -0.03  -0.34  0.07   0.26\u23a4, \u23a115.61\u23a4, \u23a1-0.7   0.42   -0.25  -0.02  -0.01  -0.1\n",
        "                          \u23a5  \u23a2     \u23a5  \u23a2                                       \n",
        " -0.21  0.15   -0.34  0.26\u23a5  \u23a213.94\u23a5  \u23a20.13   0.12   -0.14  0.33   -0.41  -0.0\n",
        "                          \u23a5  \u23a2     \u23a5  \u23a2                                       \n",
        " -0.4   -0.03  -0.32  0.26\u23a5  \u23a213.04\u23a5  \u23a2-0.03  0.28   -0.25  0.19   -0.15   0.1\n",
        "                          \u23a5  \u23a2     \u23a5  \u23a2                                       \n",
        " -0.21  0.24   -0.21  0.26\u23a5  \u23a212.52\u23a5  \u23a20.12   0.11   -0.16  -0.14  0.15   -0.2\n",
        "                          \u23a5  \u23a2     \u23a5  \u23a2                                       \n",
        " 0.01   0.16   0.25   0.26\u23a5  \u23a212.23\u23a5  \u23a2-0.18   0.1   0.55   -0.54  -0.14  0.23\n",
        "                          \u23a5  \u23a2     \u23a5  \u23a2                                       \n",
        " 0.47   0.26   -0.13  0.26\u23a5  \u23a211.7 \u23a5  \u23a20.23   0.08   -0.02  -0.01  -0.46  0.06\n",
        "                          \u23a5  \u23a2     \u23a5  \u23a2                                       \n",
        "  0.1   -0.36  -0.01  0.26\u23a5  \u23a211.03\u23a5  \u23a20.12   -0.05  -0.4   -0.16  -0.23   0.2\n",
        "                          \u23a5  \u23a2     \u23a5  \u23a2                                       \n",
        " -0.08  -0.49  0.11   0.26\u23a5  \u23a210.74\u23a5  \u23a2-0.31  -0.45  0.02   0.12   0.19   -0.0\n",
        "                          \u23a5  \u23a2     \u23a5  \u23a2                                       \n",
        " -0.14   0.1   0.47   0.26\u23a5  \u23a210.17\u23a5  \u23a20.07   0.07   0.01   0.04   0.02   -0.6\n",
        "                          \u23a5  \u23a2     \u23a5  \u23a2                                       \n",
        " -0.4   -0.04  0.26   0.26\u23a5  \u23a29.47 \u23a5  \u23a20.12   0.38   -0.17  -0.53  0.06   -0.1\n",
        "                          \u23a5  \u23a2     \u23a5  \u23a2                                       \n",
        " 0.14   0.28   0.34   0.26\u23a5  \u23a29.15 \u23a5  \u23a20.27   0.32   -0.13  0.04   0.56   0.17\n",
        "                          \u23a5  \u23a2     \u23a5  \u23a2                                       \n",
        " 0.43   0.07   0.16   0.26\u23a5  \u23a27.78 \u23a5  \u23a2-0.03  -0.21  -0.4   -0.21  0.01   0.47\n",
        "                          \u23a5  \u23a2     \u23a5  \u23a2                                       \n",
        " 0.13   0.16   -0.42  0.26\u23a5  \u23a26.96 \u23a5  \u23a2-0.34  0.15   -0.03  0.24   0.16   0.26\n",
        "                          \u23a5  \u23a2     \u23a5  \u23a2                                       \n",
        " -0.12  0.24   -0.02  0.26\u23a5  \u23a25.66 \u23a5  \u23a20.07   -0.34  -0.32  -0.21  0.25   -0.1\n",
        "                          \u23a5  \u23a2     \u23a5  \u23a2                                       \n",
        " 0.31   -0.4   -0.21  0.26\u23a6  \u23a3 0.0 \u23a6  \u23a3-0.26  -0.26  -0.26  -0.26  -0.26  -0.2\n",
        "\n",
        "2  0.32   0.15   0.05   0.04   0.18   -0.15  -0.12  -0.03  0.24 \u23a4\u239e\n",
        "                                                                \u23a5\u239f\n",
        "2  0.41   -0.34  0.43   -0.14  -0.3   0.21   -0.19  0.01   -0.11\u23a5\u239f\n",
        "                                                                \u23a5\u239f\n",
        "   -0.44  0.28   -0.08  0.39   -0.27  0.42   -0.05  -0.33  -0.04\u23a5\u239f\n",
        "                                                                \u23a5\u239f\n",
        "3  0.17   -0.43  -0.49  0.38   -0.08  0.26   -0.18  0.37   0.13 \u23a5\u239f\n",
        "                                                                \u23a5\u239f\n",
        "   -0.05  -0.28  0.23    0.2   -0.08  0.16   -0.15  -0.19  0.14 \u23a5\u239f\n",
        "                                                                \u23a5\u239f\n",
        "   0.21   -0.1   -0.26  0.24    0.6   -0.11   0.1   -0.35  -0.22\u23a5\u239f\n",
        "                                                                \u23a5\u239f\n",
        "   -0.2   -0.14  0.28   0.34   -0.12  -0.46  0.28   0.22   0.31 \u23a5\u239f\n",
        "                                                                \u23a5\u239f\n",
        "5  0.34   -0.11   0.0   0.37   -0.23  0.07   0.47   -0.29  -0.14\u23a5\u239f\n",
        "                                                                \u23a5\u239f\n",
        "3  -0.26  -0.26  0.22   -0.14  0.22   0.21   0.32   -0.24  0.37 \u23a5\u239f\n",
        "                                                                \u23a5\u239f\n",
        "4  0.14   0.15   0.11   -0.13  -0.15  0.12   0.41   0.09   -0.47\u23a5\u239f\n",
        "                                                                \u23a5\u239f\n",
        "   0.08   -0.27  0.02   -0.03  -0.11  -0.31  -0.14  -0.51  0.03 \u23a5\u239f\n",
        "                                                                \u23a5\u239f\n",
        "    0.1   -0.08  -0.14  -0.4   0.14   0.43   0.13   -0.12  0.31 \u23a5\u239f\n",
        "                                                                \u23a5\u239f\n",
        "   -0.36  -0.49   0.1   -0.04  0.28   0.07   0.16   0.24   -0.4 \u23a5\u239f\n",
        "                                                                \u23a5\u239f\n",
        "3  -0.01  0.11   0.47   0.26   0.34   0.16   -0.42  -0.02  -0.21\u23a5\u239f\n",
        "                                                                \u23a5\u239f\n",
        "6  -0.26  -0.26  -0.26  -0.26  -0.26  -0.26  -0.26  -0.26  -0.26\u23a6\u23a0"
       ]
      }
     ],
     "prompt_number": 151
    },
    {
     "cell_type": "markdown",
     "metadata": {},
     "source": [
      "What type of Matrix is $S15$?\n",
      "1. Laplacian.\n",
      "2. A 15 x 14 orthonormal basis can be constructed.\n",
      "3. Eigenvalues $\\lambda \\in \\mathbb{C}$"
     ]
    },
    {
     "cell_type": "heading",
     "level": 4,
     "metadata": {},
     "source": [
      "Colley System"
     ]
    },
    {
     "cell_type": "code",
     "collapsed": false,
     "input": [
      "#Colley Matrix approach\n",
      "#bi = 1 + 1/2 (wi \u2212 li)\n",
      "#Manual approach\n",
      "#================================================\n",
      "# Results_C = Matrix([[2+4-5],#Crusaders\\n\",\n",
      "#                          [2+4-4],#Rebels\\n\",\n",
      "#                           [2+5-4],#Brumbies\\n\",\n",
      "#                           [2+2-7],#Reds\\n\",\n",
      "#                           [2+5-4],#Lions\\n\",\n",
      "#                           [2+7-1],#Hurr\\n\",\n",
      "#                           [2+1-8],#Blues\\n\",\n",
      "#                           [2+7-2],#Chiefs\\n\",\n",
      "#                           [2+4-6],#Sharks\\n\",\n",
      "#                           [2+3-6],#Cheetahs\\n\",\n",
      "#                           [2+6-3],#Bulls\\n\",\n",
      "#                           [2+6-3],#Stormers\\n\",\n",
      "#                           [2+5-3],#Waratahs\\n\",\n",
      "#                           [2+1-8],#Force\\n\",\n",
      "#                           [2+6-2],#Highlanders\\n\",\n",
      "#                           ])/2\n",
      "# S15_Colley = S15 + 2*eye(15)\n",
      "# shape(S15_Colley), shape(Results_C)\n",
      "#A more elegant way using the Base results...\n",
      "Results_C = ((S15_Base.clip(-1,1)).sum(axis=1)/2.)+1\n",
      "S15_Colley = S15.copy()+eye(15)*2\n",
      "Matrix(S15_Colley),Matrix(Results_C)"
     ],
     "language": "python",
     "metadata": {},
     "outputs": [
      {
       "latex": [
        "$$\\left ( \\left[\\begin{array}{ccccccccccccccc}14 & -2 & 0 & 0 & -1 & 0 & -2 & -2 & -1 & -1 & -1 & 0 & 0 & 0 & -2\\\\-2 & 12 & -2 & -1 & -1 & -1 & 0 & 0 & 0 & 0 & 0 & 0 & -2 & -1 & 0\\\\0 & -2 & 12 & -2 & 0 & 0 & -1 & -1 & 0 & -1 & 0 & 0 & -1 & -1 & -1\\\\0 & -1 & -2 & 12 & -1 & -1 & 0 & 0 & 0 & -1 & -1 & 0 & -1 & -1 & -1\\\\-1 & -1 & 0 & -1 & 12 & -1 & -1 & 0 & -2 & -1 & -1 & -1 & 0 & 0 & 0\\\\0 & -1 & 0 & -1 & -1 & 11 & -1 & 0 & 0 & 0 & -1 & -1 & -1 & -1 & -1\\\\-2 & 0 & -1 & 0 & -1 & -1 & 13 & -2 & 0 & -1 & 0 & -1 & -1 & 0 & -1\\\\-2 & 0 & -1 & 0 & 0 & 0 & -2 & 12 & -1 & -1 & 0 & -1 & 0 & -1 & -1\\\\-1 & 0 & 0 & 0 & -2 & 0 & 0 & -1 & 12 & -2 & -2 & -1 & 0 & -1 & 0\\\\-1 & 0 & -1 & -1 & -1 & 0 & -1 & -1 & -2 & 12 & -1 & 0 & 0 & -1 & 0\\\\-1 & 0 & 0 & -1 & -1 & -1 & 0 & 0 & -2 & -1 & 12 & -2 & 0 & -1 & 0\\\\0 & 0 & 0 & 0 & -1 & -1 & -1 & -1 & -1 & 0 & -2 & 12 & -1 & -1 & -1\\\\0 & -2 & -1 & -1 & 0 & -1 & -1 & 0 & 0 & 0 & 0 & -1 & 11 & -1 & -1\\\\0 & -1 & -1 & -1 & 0 & -1 & 0 & -1 & -1 & -1 & -1 & -1 & -1 & 12 & 0\\\\-2 & 0 & -1 & -1 & 0 & -1 & -1 & -1 & 0 & 0 & 0 & -1 & -1 & 0 & 11\\end{array}\\right], \\quad \\left[\\begin{matrix}1.0\\\\0.5\\\\2.0\\\\-2.0\\\\2.0\\\\4.5\\\\-3.0\\\\4.0\\\\0.0\\\\-1.0\\\\2.0\\\\3.0\\\\2.5\\\\-3.0\\\\2.5\\end{matrix}\\right]\\right )$$"
       ],
       "metadata": {},
       "output_type": "pyout",
       "png": "[encoded data removed]",
       "prompt_number": 152,
       "text": [
        "\u239b\u23a114  -2  0   0   -1  0   -2  -2  -1  -1  -1  0   0   0   -2\u23a4, \u23a11.0 \u23a4\u239e\n",
        "\u239c\u23a2                                                          \u23a5  \u23a2    \u23a5\u239f\n",
        "\u239c\u23a2-2  12  -2  -1  -1  -1  0   0   0   0   0   0   -2  -1  0 \u23a5  \u23a20.5 \u23a5\u239f\n",
        "\u239c\u23a2                                                          \u23a5  \u23a2    \u23a5\u239f\n",
        "\u239c\u23a20   -2  12  -2  0   0   -1  -1  0   -1  0   0   -1  -1  -1\u23a5  \u23a22.0 \u23a5\u239f\n",
        "\u239c\u23a2                                                          \u23a5  \u23a2    \u23a5\u239f\n",
        "\u239c\u23a20   -1  -2  12  -1  -1  0   0   0   -1  -1  0   -1  -1  -1\u23a5  \u23a2-2.0\u23a5\u239f\n",
        "\u239c\u23a2                                                          \u23a5  \u23a2    \u23a5\u239f\n",
        "\u239c\u23a2-1  -1  0   -1  12  -1  -1  0   -2  -1  -1  -1  0   0   0 \u23a5  \u23a22.0 \u23a5\u239f\n",
        "\u239c\u23a2                                                          \u23a5  \u23a2    \u23a5\u239f\n",
        "\u239c\u23a20   -1  0   -1  -1  11  -1  0   0   0   -1  -1  -1  -1  -1\u23a5  \u23a24.5 \u23a5\u239f\n",
        "\u239c\u23a2                                                          \u23a5  \u23a2    \u23a5\u239f\n",
        "\u239c\u23a2-2  0   -1  0   -1  -1  13  -2  0   -1  0   -1  -1  0   -1\u23a5  \u23a2-3.0\u23a5\u239f\n",
        "\u239c\u23a2                                                          \u23a5  \u23a2    \u23a5\u239f\n",
        "\u239c\u23a2-2  0   -1  0   0   0   -2  12  -1  -1  0   -1  0   -1  -1\u23a5  \u23a24.0 \u23a5\u239f\n",
        "\u239c\u23a2                                                          \u23a5  \u23a2    \u23a5\u239f\n",
        "\u239c\u23a2-1  0   0   0   -2  0   0   -1  12  -2  -2  -1  0   -1  0 \u23a5  \u23a20.0 \u23a5\u239f\n",
        "\u239c\u23a2                                                          \u23a5  \u23a2    \u23a5\u239f\n",
        "\u239c\u23a2-1  0   -1  -1  -1  0   -1  -1  -2  12  -1  0   0   -1  0 \u23a5  \u23a2-1.0\u23a5\u239f\n",
        "\u239c\u23a2                                                          \u23a5  \u23a2    \u23a5\u239f\n",
        "\u239c\u23a2-1  0   0   -1  -1  -1  0   0   -2  -1  12  -2  0   -1  0 \u23a5  \u23a22.0 \u23a5\u239f\n",
        "\u239c\u23a2                                                          \u23a5  \u23a2    \u23a5\u239f\n",
        "\u239c\u23a20   0   0   0   -1  -1  -1  -1  -1  0   -2  12  -1  -1  -1\u23a5  \u23a23.0 \u23a5\u239f\n",
        "\u239c\u23a2                                                          \u23a5  \u23a2    \u23a5\u239f\n",
        "\u239c\u23a20   -2  -1  -1  0   -1  -1  0   0   0   0   -1  11  -1  -1\u23a5  \u23a22.5 \u23a5\u239f\n",
        "\u239c\u23a2                                                          \u23a5  \u23a2    \u23a5\u239f\n",
        "\u239c\u23a20   -1  -1  -1  0   -1  0   -1  -1  -1  -1  -1  -1  12  0 \u23a5  \u23a2-3.0\u23a5\u239f\n",
        "\u239c\u23a2                                                          \u23a5  \u23a2    \u23a5\u239f\n",
        "\u239d\u23a3-2  0   -1  -1  0   -1  -1  -1  0   0   0   -1  -1  0   11\u23a6  \u23a32.5 \u23a6\u23a0"
       ]
      }
     ],
     "prompt_number": 152
    },
    {
     "cell_type": "code",
     "collapsed": false,
     "input": [
      "S15_Colley.T-S15_Colley"
     ],
     "language": "python",
     "metadata": {},
     "outputs": [
      {
       "latex": [
        "$$\\left[\\begin{array}{ccccccccccccccc}0 & 0 & 0 & 0 & 0 & 0 & 0 & 0 & 0 & 0 & 0 & 0 & 0 & 0 & 0\\\\0 & 0 & 0 & 0 & 0 & 0 & 0 & 0 & 0 & 0 & 0 & 0 & 0 & 0 & 0\\\\0 & 0 & 0 & 0 & 0 & 0 & 0 & 0 & 0 & 0 & 0 & 0 & 0 & 0 & 0\\\\0 & 0 & 0 & 0 & 0 & 0 & 0 & 0 & 0 & 0 & 0 & 0 & 0 & 0 & 0\\\\0 & 0 & 0 & 0 & 0 & 0 & 0 & 0 & 0 & 0 & 0 & 0 & 0 & 0 & 0\\\\0 & 0 & 0 & 0 & 0 & 0 & 0 & 0 & 0 & 0 & 0 & 0 & 0 & 0 & 0\\\\0 & 0 & 0 & 0 & 0 & 0 & 0 & 0 & 0 & 0 & 0 & 0 & 0 & 0 & 0\\\\0 & 0 & 0 & 0 & 0 & 0 & 0 & 0 & 0 & 0 & 0 & 0 & 0 & 0 & 0\\\\0 & 0 & 0 & 0 & 0 & 0 & 0 & 0 & 0 & 0 & 0 & 0 & 0 & 0 & 0\\\\0 & 0 & 0 & 0 & 0 & 0 & 0 & 0 & 0 & 0 & 0 & 0 & 0 & 0 & 0\\\\0 & 0 & 0 & 0 & 0 & 0 & 0 & 0 & 0 & 0 & 0 & 0 & 0 & 0 & 0\\\\0 & 0 & 0 & 0 & 0 & 0 & 0 & 0 & 0 & 0 & 0 & 0 & 0 & 0 & 0\\\\0 & 0 & 0 & 0 & 0 & 0 & 0 & 0 & 0 & 0 & 0 & 0 & 0 & 0 & 0\\\\0 & 0 & 0 & 0 & 0 & 0 & 0 & 0 & 0 & 0 & 0 & 0 & 0 & 0 & 0\\\\0 & 0 & 0 & 0 & 0 & 0 & 0 & 0 & 0 & 0 & 0 & 0 & 0 & 0 & 0\\end{array}\\right]$$"
       ],
       "metadata": {},
       "output_type": "pyout",
       "png": "[encoded data removed]",
       "prompt_number": 153,
       "text": [
        "\u23a10  0  0  0  0  0  0  0  0  0  0  0  0  0  0\u23a4\n",
        "\u23a2                                           \u23a5\n",
        "\u23a20  0  0  0  0  0  0  0  0  0  0  0  0  0  0\u23a5\n",
        "\u23a2                                           \u23a5\n",
        "\u23a20  0  0  0  0  0  0  0  0  0  0  0  0  0  0\u23a5\n",
        "\u23a2                                           \u23a5\n",
        "\u23a20  0  0  0  0  0  0  0  0  0  0  0  0  0  0\u23a5\n",
        "\u23a2                                           \u23a5\n",
        "\u23a20  0  0  0  0  0  0  0  0  0  0  0  0  0  0\u23a5\n",
        "\u23a2                                           \u23a5\n",
        "\u23a20  0  0  0  0  0  0  0  0  0  0  0  0  0  0\u23a5\n",
        "\u23a2                                           \u23a5\n",
        "\u23a20  0  0  0  0  0  0  0  0  0  0  0  0  0  0\u23a5\n",
        "\u23a2                                           \u23a5\n",
        "\u23a20  0  0  0  0  0  0  0  0  0  0  0  0  0  0\u23a5\n",
        "\u23a2                                           \u23a5\n",
        "\u23a20  0  0  0  0  0  0  0  0  0  0  0  0  0  0\u23a5\n",
        "\u23a2                                           \u23a5\n",
        "\u23a20  0  0  0  0  0  0  0  0  0  0  0  0  0  0\u23a5\n",
        "\u23a2                                           \u23a5\n",
        "\u23a20  0  0  0  0  0  0  0  0  0  0  0  0  0  0\u23a5\n",
        "\u23a2                                           \u23a5\n",
        "\u23a20  0  0  0  0  0  0  0  0  0  0  0  0  0  0\u23a5\n",
        "\u23a2                                           \u23a5\n",
        "\u23a20  0  0  0  0  0  0  0  0  0  0  0  0  0  0\u23a5\n",
        "\u23a2                                           \u23a5\n",
        "\u23a20  0  0  0  0  0  0  0  0  0  0  0  0  0  0\u23a5\n",
        "\u23a2                                           \u23a5\n",
        "\u23a30  0  0  0  0  0  0  0  0  0  0  0  0  0  0\u23a6"
       ]
      }
     ],
     "prompt_number": 153
    },
    {
     "cell_type": "code",
     "collapsed": false,
     "input": [
      "la.lstsq(S15_Colley,Results_C)\n",
      "S15_rank_Colley = Matrix([S15_names.T,la.lstsq(S15_Colley,Results_C)[0]])\n",
      "Week11_rank_C = list(np.array(S15_rank_Colley.T))\n",
      "Week11_rank_C.sort(key=lambda row: row[1:], reverse=True)\n",
      "import pprint\n",
      "pprint.pprint(Week11_rank_C)"
     ],
     "language": "python",
     "metadata": {},
     "outputs": [
      {
       "output_type": "stream",
       "stream": "stdout",
       "text": [
        "[array([Hurricanes, 0.800279192018041], dtype=object),\n",
        " array([Stormers, 0.695229098294493], dtype=object),\n",
        " array([Chiefs, 0.692032880369914], dtype=object),\n",
        " array([Highlanders, 0.669339259857787], dtype=object),\n",
        " array([Waratahs, 0.621948912738270], dtype=object),\n",
        " array([Bulls, 0.566638777158974], dtype=object),\n",
        " array([Lions, 0.555025907290122], dtype=object),\n",
        " array([Brumbies, 0.515877646184164], dtype=object),\n",
        " array([Crusaders, 0.500461308761222], dtype=object),\n",
        " array([Rebels, 0.465823686907673], dtype=object),\n",
        " array([Sharks, 0.407159452564503], dtype=object),\n",
        " array([Cheetahs, 0.281118407903711], dtype=object),\n",
        " array([Blues, 0.271062061734527], dtype=object),\n",
        " array([Reds, 0.265379449573809], dtype=object),\n",
        " array([Force, 0.192623958642796], dtype=object)]\n"
       ]
      }
     ],
     "prompt_number": 154
    },
    {
     "cell_type": "code",
     "collapsed": false,
     "input": [
      "#A key issue is that the mean of the ratings remains at 1/2. Not sure whether rounding error in the calculations occurs....\n",
      "la.lstsq(S15_Colley,Results_C)[0].mean()"
     ],
     "language": "python",
     "metadata": {},
     "outputs": [
      {
       "latex": [
        "$$0.5$$"
       ],
       "metadata": {},
       "output_type": "pyout",
       "png": "[encoded data removed]",
       "prompt_number": 155,
       "text": [
        "0.5"
       ]
      }
     ],
     "prompt_number": 155
    },
    {
     "cell_type": "code",
     "collapsed": false,
     "input": [
      "W9C = Matrix(Week11_rank_C)\n",
      "W9M = Matrix(Week11_rank)\n",
      "W9C[:,0]-W9M[:,0]"
     ],
     "language": "python",
     "metadata": {},
     "outputs": [
      {
       "latex": [
        "$$\\left[\\begin{matrix}0\\\\- Chiefs + Stormers\\\\Chiefs - Stormers\\\\0\\\\0\\\\- Brumbies + Bulls\\\\- Bulls + Lions\\\\Brumbies - Crusaders\\\\Crusaders - Rebels\\\\- Lions + Rebels\\\\0\\\\- Blues + Cheetahs\\\\Blues - Force\\\\0\\\\- Cheetahs + Force\\end{matrix}\\right]$$"
       ],
       "metadata": {},
       "output_type": "pyout",
       "png": "[encoded data removed]",
       "prompt_number": 156,
       "text": [
        "\u23a1         0          \u23a4\n",
        "\u23a2                    \u23a5\n",
        "\u23a2 -Chiefs + Stormers \u23a5\n",
        "\u23a2                    \u23a5\n",
        "\u23a2 Chiefs - Stormers  \u23a5\n",
        "\u23a2                    \u23a5\n",
        "\u23a2         0          \u23a5\n",
        "\u23a2                    \u23a5\n",
        "\u23a2         0          \u23a5\n",
        "\u23a2                    \u23a5\n",
        "\u23a2 -Brumbies + Bulls  \u23a5\n",
        "\u23a2                    \u23a5\n",
        "\u23a2   -Bulls + Lions   \u23a5\n",
        "\u23a2                    \u23a5\n",
        "\u23a2Brumbies - Crusaders\u23a5\n",
        "\u23a2                    \u23a5\n",
        "\u23a2 Crusaders - Rebels \u23a5\n",
        "\u23a2                    \u23a5\n",
        "\u23a2  -Lions + Rebels   \u23a5\n",
        "\u23a2                    \u23a5\n",
        "\u23a2         0          \u23a5\n",
        "\u23a2                    \u23a5\n",
        "\u23a2 -Blues + Cheetahs  \u23a5\n",
        "\u23a2                    \u23a5\n",
        "\u23a2   Blues - Force    \u23a5\n",
        "\u23a2                    \u23a5\n",
        "\u23a2         0          \u23a5\n",
        "\u23a2                    \u23a5\n",
        "\u23a3 -Cheetahs + Force  \u23a6"
       ]
      }
     ],
     "prompt_number": 156
    },
    {
     "cell_type": "code",
     "collapsed": false,
     "input": [
      "import json\n",
      "import urllib\n",
      "results = json.load(urllib.urlopen(\"https://www.kimonolabs.com/api/3srrp9ni?apikey=pGZTlNaGMuOJ1j9BuLJdRuFKosoMF7Fm\"))\n",
      "results[u'results'][u'collection1'][0][u'Ratings'][u'text']"
     ],
     "language": "python",
     "metadata": {},
     "outputs": [
      {
       "metadata": {},
       "output_type": "pyout",
       "prompt_number": 157,
       "text": [
        "u'DateTeamStandingScrPredPwinMarginTotalFri 04.24Highlanders@ Brumbies# 3 (6-2)# 8 (5-4)00201853 %44 %-1.5---38.5---\\nFri 04.24Force@ Chiefs# 15 (1-8)# 2 (7-2)0010269 %90 %----15.536.5---\\nSat 04.25Blues@ Crusaders# 12 (1-8)# 7 (4-5)00192529 %68 %----5.545.5---\\nSat 04.25Bulls@ Stormers# 6 (6-3)# 4 (6-3)00212438 %59 %----2.546.5---\\nSat 04.25Cheetahs@ Lions# 13 (3-6)# 9 (5-4)00192530 %68 %----5.545.5---\\nSat 04.25Rebels@ Waratahs# 10 (4-4)# 5 (5-3)00202723 %75 %----7.545.5---\\nSun 04.26Hurricanes@ Reds# 1 (7-1)# 14 (2-7)00291291 %8 %-17.5---41.5---'"
       ]
      }
     ],
     "prompt_number": 157
    },
    {
     "cell_type": "code",
     "collapsed": false,
     "input": [
      "#Convert rank to a dictionary to query\n",
      "b = {Week11_rank[i][0]:Week11_rank[i][1] for i in range(len(Week11_rank))}\n",
      "r = {Week11_rank_C[i][0]:Week11_rank_C[i][1] for i in range(len(Week11_rank_C))}\n",
      "\n",
      "#Key:Cr, Reb, Br, Red,Li,Hu,Bl,Chief,Sh,Cheet,Bull,St,Wa,Fo,Hi\n",
      "draw = [Hi,Br,Bl,Hu,Reb,Cheet, Bull]\n",
      "draw2 = [Sh,Wa,Fo,Cr,Chief,St,Li]\n",
      "#Print draw and winning margin prediction\n",
      "print 'Super 15 predictions for Round 11 Massey'\n",
      "print '=' * 75\n",
      "for i in range(len(draw)):\n",
      "    print draw[i],'-v-',draw2[i], ': ',\n",
      "    if (b[draw[i]]-b[draw2[i]]) < 0:\n",
      "        print draw2[i], 'to win by ', abs(b[draw[i]]-b[draw2[i]]).round(0)\n",
      "    else:\n",
      "        print draw[i], 'to win by ', abs(b[draw[i]]-b[draw2[i]]).round(0)\n",
      "print '=' * 75\n",
      "print\n",
      "print 'Super 15 predictions for Round 11 Colley'\n",
      "print '=' * 75\n",
      "for i in range(len(draw)):\n",
      "    print draw[i],'-v-',draw2[i], ': ',\n",
      "    if (r[draw[i]]-r[draw2[i]]) < 0:\n",
      "        print draw2[i], 'to win with p =', ((r[draw2[i]]*(1-r[draw[i]])) / (r[draw2[i]]*(1-r[draw[i]])+(1-r[draw2[i]])*r[draw[i]])).round(2)\n",
      "    else:\n",
      "        print draw[i], 'to win with p =', ((r[draw[i]]*(1-r[draw2[i]])) / (r[draw[i]]*(1-r[draw2[i]])+(1-r[draw[i]])*r[draw2[i]])).round(2)\n",
      "print '=' * 75"
     ],
     "language": "python",
     "metadata": {},
     "outputs": [
      {
       "output_type": "stream",
       "stream": "stdout",
       "text": [
        "Super 15 predictions for Round 11 Massey\n",
        "===========================================================================\n",
        "Highlanders -v- Sharks :  Highlanders to win by  7.\n",
        "Brumbies -v- Waratahs :  Waratahs to win by  0.e+0\n",
        "Blues -v- Force :  Blues to win by  2.\n",
        "Hurricanes -v- Crusaders :  Hurricanes to win by  7.\n",
        "Rebels -v- Chiefs :  Chiefs to win by  6.\n",
        "Cheetahs -v- Stormers :  Stormers to win by  12.\n",
        "Bulls -v- Lions :  Bulls to win by  4.\n",
        "===========================================================================\n",
        "\n",
        "Super 15 predictions for Round 11 Colley\n",
        "===========================================================================\n",
        "Highlanders -v- Sharks :  Highlanders to win with p = 0.75\n",
        "Brumbies -v- Waratahs :  Waratahs to win with p = 0.61\n",
        "Blues -v- Force :  Blues to win with p = 0.61\n",
        "Hurricanes -v- Crusaders :  Hurricanes to win with p = 0.80\n",
        "Rebels -v- Chiefs :  Chiefs to win with p = 0.72\n",
        "Cheetahs -v- Stormers :  Stormers to win with p = 0.85\n",
        "Bulls -v- Lions :  Bulls to win with p = 0.51\n",
        "===========================================================================\n"
       ]
      }
     ],
     "prompt_number": 213
    },
    {
     "cell_type": "code",
     "collapsed": false,
     "input": [
      "r[Bl],r[Fo],1/r[Bl], 1/r[Fo]"
     ],
     "language": "python",
     "metadata": {},
     "outputs": [
      {
       "latex": [
        "$$\\left ( 0.271062061734527, \\quad 0.192623958642796, \\quad 3.68919203816646, \\quad 5.19146219943704, \\quad 0.437698028730688\\right )$$"
       ],
       "metadata": {},
       "output_type": "pyout",
       "png": "[encoded data removed]",
       "prompt_number": 204,
       "text": [
        "(0.271062061734527, 0.192623958642796, 3.68919203816646, 5.19146219943704, 0.4\n",
        "37698028730688)"
       ]
      }
     ],
     "prompt_number": 204
    },
    {
     "cell_type": "code",
     "collapsed": false,
     "input": [
      " (r[Hi]*(1-r[Sh])) / (r[Hi]*(1-r[Sh])+(1-r[Hi])*r[Sh]) #(H*(1-A)*F) / (H*(1-A)*F+(1-H)*A*(1-F))"
     ],
     "language": "python",
     "metadata": {},
     "outputs": [
      {
       "latex": [
        "$$0.746667806676074$$"
       ],
       "metadata": {},
       "output_type": "pyout",
       "png": "[encoded data removed]",
       "prompt_number": 207,
       "text": [
        "0.746667806676074"
       ]
      }
     ],
     "prompt_number": 207
    },
    {
     "cell_type": "code",
     "collapsed": false,
     "input": [
      "(r[Sh]*(1-r[Hi])) / (r[Sh]*(1-r[Hi])+(1-r[Sh])*r[Hi])"
     ],
     "language": "python",
     "metadata": {},
     "outputs": [
      {
       "latex": [
        "$$0.253332193323926$$"
       ],
       "metadata": {},
       "output_type": "pyout",
       "png": "[encoded data removed]",
       "prompt_number": 208,
       "text": [
        "0.253332193323926"
       ]
      }
     ],
     "prompt_number": 208
    },
    {
     "cell_type": "code",
     "collapsed": false,
     "input": [
      "b[Br]-b[Wa]"
     ],
     "language": "python",
     "metadata": {},
     "outputs": [
      {
       "latex": [
        "$$-0.623013487202454$$"
       ],
       "metadata": {},
       "output_type": "pyout",
       "png": "[encoded data removed]",
       "prompt_number": 214,
       "text": [
        "-0.623013487202454"
       ]
      }
     ],
     "prompt_number": 214
    },
    {
     "cell_type": "code",
     "collapsed": false,
     "input": [],
     "language": "python",
     "metadata": {},
     "outputs": []
    }
   ],
   "metadata": {}
  }
 ]
}