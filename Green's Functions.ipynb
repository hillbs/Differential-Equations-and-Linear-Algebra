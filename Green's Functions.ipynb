{
 "metadata": {
  "name": "",
  "signature": "sha256:552d1b767754adc178a5ea18dd47648cd52cf1d9e513f793f487c5b170e3cc59"
 },
 "nbformat": 3,
 "nbformat_minor": 0,
 "worksheets": [
  {
   "cells": [
    {
     "cell_type": "heading",
     "level": 1,
     "metadata": {},
     "source": [
      "Green's Functions"
     ]
    },
    {
     "cell_type": "code",
     "collapsed": false,
     "input": [
      "from sympy import init_session, symbols\n",
      "init_session()\n",
      "rho, sigma, delta = symbols(' rho sigma, delta', cls=Function)\n",
      "xi, alpha, beta = symbols('xi alpha beta')"
     ],
     "language": "python",
     "metadata": {},
     "outputs": [
      {
       "output_type": "stream",
       "stream": "stdout",
       "text": [
        "IPython console for SymPy 0.7.6 (Python 2.7.6-64-bit) (ground types: python)\n",
        "\n",
        "These commands were executed:\n",
        ">>> from __future__ import division\n",
        ">>> from sympy import *\n",
        ">>> x, y, z, t = symbols('x y z t')\n",
        ">>> k, m, n = symbols('k m n', integer=True)\n",
        ">>> f, g, h = symbols('f g h', cls=Function)\n",
        ">>> init_printing()\n",
        "\n",
        "Documentation can be found at http://www.sympy.org\n"
       ]
      }
     ],
     "prompt_number": 1
    },
    {
     "cell_type": "code",
     "collapsed": false,
     "input": [
      "F = Eq(f(x), g(x) + beta*sigma(x - xi))\n",
      "d = Eq(diff(sigma(x),x),delta)\n",
      "d_xi = symbols('delta_xi', cls=Function)\n",
      "I = Eq(g(x)*d_xi(x),g(xi)*d_xi(x))\n",
      "print 'There are three important relationships to consider with Greens functions:'\n",
      "I, d, F"
     ],
     "language": "python",
     "metadata": {},
     "outputs": [
      {
       "output_type": "stream",
       "stream": "stdout",
       "text": [
        "There are three important relationships to consider with Greens functions:\n"
       ]
      },
      {
       "latex": [
        "$$\\left ( \\delta_{\\xi}{\\left (x \\right )} g{\\left (x \\right )} = \\delta_{\\xi}{\\left (x \\right )} g{\\left (\\xi \\right )}, \\quad \\frac{d}{d x} \\sigma{\\left (x \\right )} = \\delta, \\quad f{\\left (x \\right )} = \\beta \\sigma{\\left (x - \\xi \\right )} + g{\\left (x \\right )}\\right )$$"
       ],
       "metadata": {},
       "output_type": "pyout",
       "png": "[encoded data removed]",
       "prompt_number": 2,
       "text": [
        "\u239b                           d                                         \u239e\n",
        "\u239c\u03b4\u2093\u1d62(x)\u22c5g(x) = \u03b4\u2093\u1d62(x)\u22c5g(\u03be), \u2500\u2500(\u03c3(x)) = delta, f(x) = \u03b2\u22c5\u03c3(x - \u03be) + g(x)\u239f\n",
        "\u239d                           dx                                        \u23a0"
       ]
      }
     ],
     "prompt_number": 2
    },
    {
     "cell_type": "heading",
     "level": 3,
     "metadata": {},
     "source": [
      "An aside about programming Planar and Scalar functions using grad, div, curl and Laplacian"
     ]
    },
    {
     "cell_type": "code",
     "collapsed": false,
     "input": [
      "#Create a reference frame - -this is just an x,y,z cartesian system.\n",
      "from sympy.physics.vector import *\n",
      "N = ReferenceFrame('N')\n",
      "U = Matrix([N[0],N[1]]) #Creates 2D scalar\n",
      "U"
     ],
     "language": "python",
     "metadata": {},
     "outputs": [
      {
       "latex": [
        "$$\\left[\\begin{matrix}N_{x}\\\\N_{y}\\end{matrix}\\right]$$"
       ],
       "metadata": {},
       "output_type": "pyout",
       "png": "[encoded data removed]",
       "prompt_number": 60,
       "text": [
        "\u23a1N\u2093 \u23a4\n",
        "\u23a2   \u23a5\n",
        "\u23a3N_y\u23a6"
       ]
      }
     ],
     "prompt_number": 60
    },
    {
     "cell_type": "code",
     "collapsed": false,
     "input": [
      "#Create a gradient\n",
      "V = gradient(U,N)\n",
      "V"
     ],
     "language": "python",
     "metadata": {},
     "outputs": [
      {
       "latex": [
        "$$\\frac{\\partial}{\\partial N_{x}} \\left[\\begin{matrix}N_{x}\\\\N_{y}\\end{matrix}\\right]\\mathbf{\\hat{n}_x} + \\frac{\\partial}{\\partial N_{y}} \\left[\\begin{matrix}N_{x}\\\\N_{y}\\end{matrix}\\right]\\mathbf{\\hat{n}_y}$$"
       ],
       "metadata": {},
       "output_type": "pyout",
       "png": "[encoded data removed]",
       "prompt_number": 61,
       "text": [
        " \u2202        \n",
        "\u2500\u2500\u2500\u239b\u23a1N\u2093 \u23a4\u239e\n",
        "\u2202N\u2093\u239c\u23a2   \u23a5\u239f\n",
        "   \u239d\u23a3N_y\u23a6\u23a0 n_x +  \u2202         \n",
        "\u2500\u2500\u2500\u2500\u239b\u23a1N\u2093 \u23a4\u239e\n",
        "\u2202N_y\u239c\u23a2   \u23a5\u239f\n",
        "    \u239d\u23a3N_y\u23a6\u23a0 n_y"
       ]
      }
     ],
     "prompt_number": 61
    },
    {
     "cell_type": "code",
     "collapsed": false,
     "input": [
      "#Create divergence, which also is the Laplacian function.\n",
      "D = divergence(V,N)\n",
      "D"
     ],
     "language": "python",
     "metadata": {},
     "outputs": [
      {
       "latex": [
        "$$\\frac{\\partial^{2}}{\\partial N_{x}^{2}}  \\left[\\begin{matrix}N_{x}\\\\N_{y}\\end{matrix}\\right] + \\frac{\\partial^{2}}{\\partial N_{y}^{2}}  \\left[\\begin{matrix}N_{x}\\\\N_{y}\\end{matrix}\\right]$$"
       ],
       "metadata": {},
       "output_type": "pyout",
       "png": "[encoded data removed]",
       "prompt_number": 62,
       "text": [
        "  2              2        \n",
        " \u2202              \u2202         \n",
        "\u2500\u2500\u2500\u2500\u239b\u23a1N\u2093 \u23a4\u239e + \u2500\u2500\u2500\u2500\u2500\u239b\u23a1N\u2093 \u23a4\u239e\n",
        "   2\u239c\u23a2   \u23a5\u239f       2\u239c\u23a2   \u23a5\u239f\n",
        "\u2202N\u2093 \u239d\u23a3N_y\u23a6\u23a0   \u2202N_y \u239d\u23a3N_y\u23a6\u23a0"
       ]
      }
     ],
     "prompt_number": 62
    },
    {
     "cell_type": "code",
     "collapsed": false,
     "input": [
      "#And create curl, noting that the curl of the gradient = 0.\n",
      "C = curl(V,N)\n",
      "C"
     ],
     "language": "python",
     "metadata": {},
     "outputs": [
      {
       "latex": [
        "$$0$$"
       ],
       "metadata": {},
       "output_type": "pyout",
       "png": "[encoded data removed]",
       "prompt_number": 63,
       "text": [
        "0"
       ]
      }
     ],
     "prompt_number": 63
    },
    {
     "cell_type": "code",
     "collapsed": false,
     "input": [
      "U_perp = Matrix([-N[1],N[0]])\n",
      "V_perp = gradient(U_perp,N)\n",
      "V_perp #Trying to note that the perpendicular vector has curl equal to V's div. "
     ],
     "language": "python",
     "metadata": {},
     "outputs": [
      {
       "latex": [
        "$$\\frac{\\partial}{\\partial N_{x}} \\left[\\begin{matrix}- N_{y}\\\\N_{x}\\end{matrix}\\right]\\mathbf{\\hat{n}_x} + \\frac{\\partial}{\\partial N_{y}} \\left[\\begin{matrix}- N_{y}\\\\N_{x}\\end{matrix}\\right]\\mathbf{\\hat{n}_y}$$"
       ],
       "metadata": {},
       "output_type": "pyout",
       "png": "[encoded data removed]",
       "prompt_number": 70,
       "text": [
        " \u2202         \n",
        "\u2500\u2500\u2500\u239b\u23a1-N_y\u23a4\u239e\n",
        "\u2202N\u2093\u239c\u23a2    \u23a5\u239f\n",
        "   \u239d\u23a3 N\u2093 \u23a6\u23a0 n_x +  \u2202          \n",
        "\u2500\u2500\u2500\u2500\u239b\u23a1-N_y\u23a4\u239e\n",
        "\u2202N_y\u239c\u23a2    \u23a5\u239f\n",
        "    \u239d\u23a3 N\u2093 \u23a6\u23a0 n_y"
       ]
      }
     ],
     "prompt_number": 70
    },
    {
     "cell_type": "code",
     "collapsed": false,
     "input": [
      "#Try it with 0 = X**2 + y**2, or other functions requiring evaluation. \n",
      "S = N[0]*N[0]+N[1]*N[1] #Matrix([N[0]**2,N[1]**2])\n",
      "S"
     ],
     "language": "python",
     "metadata": {},
     "outputs": [
      {
       "latex": [
        "$$N_{x}^{2} + N_{y}^{2}$$"
       ],
       "metadata": {},
       "output_type": "pyout",
       "png": "[encoded data removed]",
       "prompt_number": 42,
       "text": [
        "  2      2\n",
        "N\u2093  + N_y "
       ]
      }
     ],
     "prompt_number": 42
    },
    {
     "cell_type": "code",
     "collapsed": false,
     "input": [
      "divergence(gradient(S,N),N)"
     ],
     "language": "python",
     "metadata": {},
     "outputs": [
      {
       "latex": [
        "$$4$$"
       ],
       "metadata": {},
       "output_type": "pyout",
       "png": "[encoded data removed]",
       "prompt_number": 43,
       "text": [
        "4"
       ]
      }
     ],
     "prompt_number": 43
    },
    {
     "cell_type": "markdown",
     "metadata": {},
     "source": [
      "Reference to Olver, P (2014), page 242 onward. "
     ]
    },
    {
     "cell_type": "code",
     "collapsed": false,
     "input": [
      "integrate(curl(gradient(S,N),N),(N[0]),(N[1]))"
     ],
     "language": "python",
     "metadata": {},
     "outputs": [
      {
       "latex": [
        "$$0$$"
       ],
       "metadata": {},
       "output_type": "pyout",
       "png": "[encoded data removed]",
       "prompt_number": 58,
       "text": [
        "0"
       ]
      }
     ],
     "prompt_number": 58
    },
    {
     "cell_type": "code",
     "collapsed": false,
     "input": [],
     "language": "python",
     "metadata": {},
     "outputs": []
    }
   ],
   "metadata": {}
  }
 ]
}