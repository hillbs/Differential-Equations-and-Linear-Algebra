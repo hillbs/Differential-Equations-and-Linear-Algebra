{
 "metadata": {
  "name": "",
  "signature": "sha256:658b93def41c26e335d5286412d361b793cf8d3c27e6723b004bad5d27c56b9c"
 },
 "nbformat": 3,
 "nbformat_minor": 0,
 "worksheets": [
  {
   "cells": [
    {
     "cell_type": "heading",
     "level": 1,
     "metadata": {},
     "source": [
      "18.06 Chapter 7 $A^TA$ and applied mathematics"
     ]
    },
    {
     "cell_type": "heading",
     "level": 2,
     "metadata": {},
     "source": [
      "Least Squares"
     ]
    },
    {
     "cell_type": "code",
     "collapsed": false,
     "input": [
      "from sympy import init_session\n",
      "import numpy as np\n",
      "init_session()"
     ],
     "language": "python",
     "metadata": {},
     "outputs": [
      {
       "output_type": "stream",
       "stream": "stdout",
       "text": [
        "IPython console for SymPy 0.7.6 (Python 2.7.6-64-bit) (ground types: python)\n",
        "\n",
        "These commands were executed:\n",
        ">>> from __future__ import division\n",
        ">>> from sympy import *\n",
        ">>> x, y, z, t = symbols('x y z t')\n",
        ">>> k, m, n = symbols('k m n', integer=True)\n",
        ">>> f, g, h = symbols('f g h', cls=Function)\n",
        ">>> init_printing()\n",
        "\n",
        "Documentation can be found at http://www.sympy.org\n"
       ]
      }
     ],
     "prompt_number": 4
    },
    {
     "cell_type": "code",
     "collapsed": false,
     "input": [],
     "language": "python",
     "metadata": {},
     "outputs": [],
     "prompt_number": 4
    },
    {
     "cell_type": "heading",
     "level": 2,
     "metadata": {},
     "source": [
      "7.2 Positive Definitie Matrices and the SVD"
     ]
    },
    {
     "cell_type": "code",
     "collapsed": false,
     "input": [
      "A = Matrix([[2,0],[0,1]])\n",
      "#S = Symmetric matrix made from A^TA\n",
      "S = A.T*A\n",
      "A,S"
     ],
     "language": "python",
     "metadata": {},
     "outputs": [
      {
       "latex": [
        "$$\\left ( \\left[\\begin{matrix}2 & 0\\\\0 & 1\\end{matrix}\\right], \\quad \\left[\\begin{matrix}4 & 0\\\\0 & 1\\end{matrix}\\right]\\right )$$"
       ],
       "metadata": {},
       "output_type": "pyout",
       "png": "[encoded data removed]",
       "prompt_number": 7,
       "text": [
        "\u239b\u23a12  0\u23a4, \u23a14  0\u23a4\u239e\n",
        "\u239c\u23a2    \u23a5  \u23a2    \u23a5\u239f\n",
        "\u239d\u23a30  1\u23a6  \u23a30  1\u23a6\u23a0"
       ]
      }
     ],
     "prompt_number": 7
    },
    {
     "cell_type": "code",
     "collapsed": false,
     "input": [
      "#A.T*A = A**2\n",
      "A**2"
     ],
     "language": "python",
     "metadata": {},
     "outputs": [
      {
       "latex": [
        "$$\\left[\\begin{matrix}4 & 0\\\\0 & 1\\end{matrix}\\right]$$"
       ],
       "metadata": {},
       "output_type": "pyout",
       "png": "[encoded data removed]",
       "prompt_number": 10,
       "text": [
        "\u23a14  0\u23a4\n",
        "\u23a2    \u23a5\n",
        "\u23a30  1\u23a6"
       ]
      }
     ],
     "prompt_number": 10
    },
    {
     "cell_type": "code",
     "collapsed": false,
     "input": [
      "S.eigenvects()"
     ],
     "language": "python",
     "metadata": {},
     "outputs": [
      {
       "latex": [
        "$$\\left [ \\left ( 1, \\quad 1, \\quad \\left [ \\left[\\begin{matrix}0\\\\1\\end{matrix}\\right]\\right ]\\right ), \\quad \\left ( 4, \\quad 1, \\quad \\left [ \\left[\\begin{matrix}1\\\\0\\end{matrix}\\right]\\right ]\\right )\\right ]$$"
       ],
       "metadata": {},
       "output_type": "pyout",
       "png": "[encoded data removed]",
       "prompt_number": 11,
       "text": [
        "\u23a1\u239b1, 1, \u23a1\u23a10\u23a4\u23a4\u239e, \u239b4, 1, \u23a1\u23a11\u23a4\u23a4\u239e\u23a4\n",
        "\u23a2\u239c      \u23a2\u23a2 \u23a5\u23a5\u239f  \u239c      \u23a2\u23a2 \u23a5\u23a5\u239f\u23a5\n",
        "\u23a3\u239d      \u23a3\u23a31\u23a6\u23a6\u23a0  \u239d      \u23a3\u23a30\u23a6\u23a6\u23a0\u23a6"
       ]
      }
     ],
     "prompt_number": 11
    },
    {
     "cell_type": "code",
     "collapsed": false,
     "input": [
      "S.det()"
     ],
     "language": "python",
     "metadata": {},
     "outputs": [
      {
       "latex": [
        "$$4$$"
       ],
       "metadata": {},
       "output_type": "pyout",
       "png": "[encoded data removed]",
       "prompt_number": 12,
       "text": [
        "4"
       ]
      }
     ],
     "prompt_number": 12
    },
    {
     "cell_type": "code",
     "collapsed": false,
     "input": [
      "Q = S.diagonalize(sort=True,normalize=True)\n",
      "Qt = Q[0].T\n",
      "Lam = Q[1]\n",
      "S,Q, Qt"
     ],
     "language": "python",
     "metadata": {},
     "outputs": [
      {
       "latex": [
        "$$\\left ( \\left[\\begin{matrix}4 & 0\\\\0 & 1\\end{matrix}\\right], \\quad \\left ( \\left[\\begin{matrix}1 & 0\\\\0 & 1\\end{matrix}\\right], \\quad \\left[\\begin{matrix}4 & 0\\\\0 & 1\\end{matrix}\\right]\\right ), \\quad \\left[\\begin{matrix}1 & 0\\\\0 & 1\\end{matrix}\\right]\\right )$$"
       ],
       "metadata": {},
       "output_type": "pyout",
       "png": "[encoded data removed]",
       "prompt_number": 15,
       "text": [
        "\u239b\u23a14  0\u23a4, \u239b\u23a11  0\u23a4, \u23a14  0\u23a4\u239e, \u23a11  0\u23a4\u239e\n",
        "\u239c\u23a2    \u23a5  \u239c\u23a2    \u23a5  \u23a2    \u23a5\u239f  \u23a2    \u23a5\u239f\n",
        "\u239d\u23a30  1\u23a6  \u239d\u23a30  1\u23a6  \u23a30  1\u23a6\u23a0  \u23a30  1\u23a6\u23a0"
       ]
      }
     ],
     "prompt_number": 15
    },
    {
     "cell_type": "code",
     "collapsed": false,
     "input": [
      "#And the final process is to compute the energy x.T*S*x\n",
      "x1,x2 = symbols('x_1:3')\n",
      "X = Matrix([[x1,x2]])\n",
      "X.T.dot(S.dot(X))"
     ],
     "language": "python",
     "metadata": {},
     "outputs": [
      {
       "latex": [
        "$$4 x_{1}^{2} + x_{2}^{2}$$"
       ],
       "metadata": {},
       "output_type": "pyout",
       "png": "[encoded data removed]",
       "prompt_number": 20,
       "text": [
        "    2     2\n",
        "4\u22c5x\u2081  + x\u2082 "
       ]
      }
     ],
     "prompt_number": 20
    },
    {
     "cell_type": "code",
     "collapsed": false,
     "input": [
      "#Would be useful to write a function to do all the examination of S and/or A. "
     ],
     "language": "python",
     "metadata": {},
     "outputs": []
    }
   ],
   "metadata": {}
  }
 ]
}