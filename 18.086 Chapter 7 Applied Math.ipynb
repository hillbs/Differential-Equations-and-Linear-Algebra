{
 "metadata": {
  "name": "",
  "signature": "sha256:a2da6a205f89c32d3e9457863f95a124735567c61733db134f02cb90130bdbfe"
 },
 "nbformat": 3,
 "nbformat_minor": 0,
 "worksheets": [
  {
   "cells": [
    {
     "cell_type": "heading",
     "level": 1,
     "metadata": {},
     "source": [
      "18.06 Chapter 7 $A^TA$ and applied mathematics"
     ]
    },
    {
     "cell_type": "heading",
     "level": 2,
     "metadata": {},
     "source": [
      "Least Squares"
     ]
    },
    {
     "cell_type": "code",
     "collapsed": false,
     "input": [
      "from sympy import init_session\n",
      "import numpy as np\n",
      "init_session()"
     ],
     "language": "python",
     "metadata": {},
     "outputs": [
      {
       "output_type": "stream",
       "stream": "stdout",
       "text": [
        "IPython console for SymPy 0.7.6 (Python 2.7.6-64-bit) (ground types: python)\n",
        "\n",
        "These commands were executed:\n",
        ">>> from __future__ import division\n",
        ">>> from sympy import *\n",
        ">>> x, y, z, t = symbols('x y z t')\n",
        ">>> k, m, n = symbols('k m n', integer=True)\n",
        ">>> f, g, h = symbols('f g h', cls=Function)\n",
        ">>> init_printing()\n",
        "\n",
        "Documentation can be found at http://www.sympy.org\n"
       ]
      }
     ],
     "prompt_number": 4
    },
    {
     "cell_type": "code",
     "collapsed": false,
     "input": [],
     "language": "python",
     "metadata": {},
     "outputs": [],
     "prompt_number": 4
    },
    {
     "cell_type": "heading",
     "level": 2,
     "metadata": {},
     "source": [
      "7.2 Positive Definitie Matrices and the SVD"
     ]
    },
    {
     "cell_type": "markdown",
     "metadata": {},
     "source": [
      "There are some useful geometric and applied examples that illustrate this important process. \n",
      "\n",
      "http://www.ams.org/samplings/feature-column/fcarc-svd"
     ]
    },
    {
     "cell_type": "code",
     "collapsed": false,
     "input": [
      "A = Matrix([[2,0],[0,1]])\n",
      "#S = Symmetric matrix made from A^TA\n",
      "S = A.T*A\n",
      "A,S"
     ],
     "language": "python",
     "metadata": {},
     "outputs": [
      {
       "latex": [
        "$$\\left ( \\left[\\begin{matrix}2 & 0\\\\0 & 1\\end{matrix}\\right], \\quad \\left[\\begin{matrix}4 & 0\\\\0 & 1\\end{matrix}\\right]\\right )$$"
       ],
       "metadata": {},
       "output_type": "pyout",
       "png": "[encoded data removed]",
       "prompt_number": 113,
       "text": [
        "\u239b\u23a12  0\u23a4, \u23a14  0\u23a4\u239e\n",
        "\u239c\u23a2    \u23a5  \u23a2    \u23a5\u239f\n",
        "\u239d\u23a30  1\u23a6  \u23a30  1\u23a6\u23a0"
       ]
      }
     ],
     "prompt_number": 113
    },
    {
     "cell_type": "code",
     "collapsed": false,
     "input": [
      "#A.T*A = A**2\n",
      "A**2"
     ],
     "language": "python",
     "metadata": {},
     "outputs": [
      {
       "latex": [
        "$$\\left[\\begin{matrix}4 & 0\\\\0 & 1\\end{matrix}\\right]$$"
       ],
       "metadata": {},
       "output_type": "pyout",
       "png": "[encoded data removed]",
       "prompt_number": 114,
       "text": [
        "\u23a14  0\u23a4\n",
        "\u23a2    \u23a5\n",
        "\u23a30  1\u23a6"
       ]
      }
     ],
     "prompt_number": 114
    },
    {
     "cell_type": "code",
     "collapsed": false,
     "input": [
      "S.eigenvects()"
     ],
     "language": "python",
     "metadata": {},
     "outputs": [
      {
       "latex": [
        "$$\\left [ \\left ( 1, \\quad 1, \\quad \\left [ \\left[\\begin{matrix}0\\\\1\\end{matrix}\\right]\\right ]\\right ), \\quad \\left ( 4, \\quad 1, \\quad \\left [ \\left[\\begin{matrix}1\\\\0\\end{matrix}\\right]\\right ]\\right )\\right ]$$"
       ],
       "metadata": {},
       "output_type": "pyout",
       "png": "[encoded data removed]",
       "prompt_number": 115,
       "text": [
        "\u23a1\u239b1, 1, \u23a1\u23a10\u23a4\u23a4\u239e, \u239b4, 1, \u23a1\u23a11\u23a4\u23a4\u239e\u23a4\n",
        "\u23a2\u239c      \u23a2\u23a2 \u23a5\u23a5\u239f  \u239c      \u23a2\u23a2 \u23a5\u23a5\u239f\u23a5\n",
        "\u23a3\u239d      \u23a3\u23a31\u23a6\u23a6\u23a0  \u239d      \u23a3\u23a30\u23a6\u23a6\u23a0\u23a6"
       ]
      }
     ],
     "prompt_number": 115
    },
    {
     "cell_type": "code",
     "collapsed": false,
     "input": [
      "S.det()"
     ],
     "language": "python",
     "metadata": {},
     "outputs": [
      {
       "latex": [
        "$$4$$"
       ],
       "metadata": {},
       "output_type": "pyout",
       "png": "[encoded data removed]",
       "prompt_number": 116,
       "text": [
        "4"
       ]
      }
     ],
     "prompt_number": 116
    },
    {
     "cell_type": "code",
     "collapsed": false,
     "input": [
      "Q = S.diagonalize(sort=True,normalize=True)\n",
      "Qt = Q[0].T\n",
      "Lam = Q[1]\n",
      "S,Q, Qt"
     ],
     "language": "python",
     "metadata": {},
     "outputs": [
      {
       "latex": [
        "$$\\left ( \\left[\\begin{matrix}4 & 0\\\\0 & 1\\end{matrix}\\right], \\quad \\left ( \\left[\\begin{matrix}1 & 0\\\\0 & 1\\end{matrix}\\right], \\quad \\left[\\begin{matrix}4 & 0\\\\0 & 1\\end{matrix}\\right]\\right ), \\quad \\left[\\begin{matrix}1 & 0\\\\0 & 1\\end{matrix}\\right]\\right )$$"
       ],
       "metadata": {},
       "output_type": "pyout",
       "png": "[encoded data removed]",
       "prompt_number": 117,
       "text": [
        "\u239b\u23a14  0\u23a4, \u239b\u23a11  0\u23a4, \u23a14  0\u23a4\u239e, \u23a11  0\u23a4\u239e\n",
        "\u239c\u23a2    \u23a5  \u239c\u23a2    \u23a5  \u23a2    \u23a5\u239f  \u23a2    \u23a5\u239f\n",
        "\u239d\u23a30  1\u23a6  \u239d\u23a30  1\u23a6  \u23a30  1\u23a6\u23a0  \u23a30  1\u23a6\u23a0"
       ]
      }
     ],
     "prompt_number": 117
    },
    {
     "cell_type": "code",
     "collapsed": false,
     "input": [
      "#And the final process is to compute the energy x.T*S*x\n",
      "x1,x2 = symbols('x_1:3')\n",
      "X = Matrix([[x1,x2]])\n",
      "X.T.dot(S.dot(X))"
     ],
     "language": "python",
     "metadata": {},
     "outputs": [
      {
       "latex": [
        "$$4 x_{1}^{2} + x_{2}^{2}$$"
       ],
       "metadata": {},
       "output_type": "pyout",
       "png": "[encoded data removed]",
       "prompt_number": 118,
       "text": [
        "    2     2\n",
        "4\u22c5x\u2081  + x\u2082 "
       ]
      }
     ],
     "prompt_number": 118
    },
    {
     "cell_type": "code",
     "collapsed": false,
     "input": [
      "#SVD example from Lecture 29 MIT 18.06\n",
      "A2 = Matrix([[4,4],[-3,3]])\n",
      "A2, A2.T"
     ],
     "language": "python",
     "metadata": {},
     "outputs": [
      {
       "latex": [
        "$$\\left ( \\left[\\begin{matrix}4 & 4\\\\-3 & 3\\end{matrix}\\right], \\quad \\left[\\begin{matrix}4 & -3\\\\4 & 3\\end{matrix}\\right]\\right )$$"
       ],
       "metadata": {},
       "output_type": "pyout",
       "png": "[encoded data removed]",
       "prompt_number": 119,
       "text": [
        "\u239b\u23a14   4\u23a4, \u23a14  -3\u23a4\u239e\n",
        "\u239c\u23a2     \u23a5  \u23a2     \u23a5\u239f\n",
        "\u239d\u23a3-3  3\u23a6  \u23a34  3 \u23a6\u23a0"
       ]
      }
     ],
     "prompt_number": 119
    },
    {
     "cell_type": "code",
     "collapsed": false,
     "input": [
      "#compute the eigenvectors of A^TA, the basis of U\n",
      "u = (A2.T*A2).eigenvects()\n",
      "u,u[0][2][0].norm()"
     ],
     "language": "python",
     "metadata": {},
     "outputs": [
      {
       "latex": [
        "$$\\left ( \\left [ \\left ( 18, \\quad 1, \\quad \\left [ \\left[\\begin{matrix}-1\\\\1\\end{matrix}\\right]\\right ]\\right ), \\quad \\left ( 32, \\quad 1, \\quad \\left [ \\left[\\begin{matrix}1\\\\1\\end{matrix}\\right]\\right ]\\right )\\right ], \\quad \\sqrt{2}\\right )$$"
       ],
       "metadata": {},
       "output_type": "pyout",
       "png": "[encoded data removed]",
       "prompt_number": 120,
       "text": [
        "\u239b                                     ___\u239e\n",
        "\u239c\u23a1\u239b18, 1, \u23a1\u23a1-1\u23a4\u23a4\u239e, \u239b32, 1, \u23a1\u23a11\u23a4\u23a4\u239e\u23a4, \u2572\u2571 2 \u239f\n",
        "\u239c\u23a2\u239c       \u23a2\u23a2  \u23a5\u23a5\u239f  \u239c       \u23a2\u23a2 \u23a5\u23a5\u239f\u23a5       \u239f\n",
        "\u239d\u23a3\u239d       \u23a3\u23a31 \u23a6\u23a6\u23a0  \u239d       \u23a3\u23a31\u23a6\u23a6\u23a0\u23a6       \u23a0"
       ]
      }
     ],
     "prompt_number": 120
    },
    {
     "cell_type": "code",
     "collapsed": false,
     "input": [
      "v = (A2*A2.T).eigenvects()\n",
      "v, v[0][2][0].norm()#.normalized()"
     ],
     "language": "python",
     "metadata": {},
     "outputs": [
      {
       "latex": [
        "$$\\left ( \\left [ \\left ( 18, \\quad 1, \\quad \\left [ \\left[\\begin{matrix}0\\\\1\\end{matrix}\\right]\\right ]\\right ), \\quad \\left ( 32, \\quad 1, \\quad \\left [ \\left[\\begin{matrix}1\\\\0\\end{matrix}\\right]\\right ]\\right )\\right ], \\quad 1\\right )$$"
       ],
       "metadata": {},
       "output_type": "pyout",
       "png": "[encoded data removed]",
       "prompt_number": 121,
       "text": [
        "\u239b\u23a1\u239b18, 1, \u23a1\u23a10\u23a4\u23a4\u239e, \u239b32, 1, \u23a1\u23a11\u23a4\u23a4\u239e\u23a4, 1\u239e\n",
        "\u239c\u23a2\u239c       \u23a2\u23a2 \u23a5\u23a5\u239f  \u239c       \u23a2\u23a2 \u23a5\u23a5\u239f\u23a5   \u239f\n",
        "\u239d\u23a3\u239d       \u23a3\u23a31\u23a6\u23a6\u23a0  \u239d       \u23a3\u23a30\u23a6\u23a6\u23a0\u23a6   \u23a0"
       ]
      }
     ],
     "prompt_number": 121
    },
    {
     "cell_type": "code",
     "collapsed": false,
     "input": [
      "U = Matrix([ [u[0][2][0][0]/u[0][2][0].norm(),u[0][2][0][1]/u[0][2][0].norm() ], [ u[1][2][0][0]/u[1][2][0].norm(),u[1][2][0][1]/u[1][2][0].norm()] ]) #needs to be divided by the norm\n",
      "V = Matrix([ [v[0][2][0][0]/v[0][2][0].norm(),v[0][2][0][1]/v[0][2][0].norm() ], [ v[1][2][0][0]/v[1][2][0].norm(),v[1][2][0][1]/v[1][2][0].norm()] ])\n",
      "D = Matrix ([[sqrt(v[0][0]),0],[0,sqrt(v[1][0])]])\n",
      "U, V, D"
     ],
     "language": "python",
     "metadata": {},
     "outputs": [
      {
       "latex": [
        "$$\\left ( \\left[\\begin{matrix}- \\frac{\\sqrt{2}}{2} & \\frac{\\sqrt{2}}{2}\\\\\\frac{\\sqrt{2}}{2} & \\frac{\\sqrt{2}}{2}\\end{matrix}\\right], \\quad \\left[\\begin{matrix}0 & 1\\\\1 & 0\\end{matrix}\\right], \\quad \\left[\\begin{matrix}3 \\sqrt{2} & 0\\\\0 & 4 \\sqrt{2}\\end{matrix}\\right]\\right )$$"
       ],
       "metadata": {},
       "output_type": "pyout",
       "png": "[encoded data removed]",
       "prompt_number": 122,
       "text": [
        "\u239b\u23a1   ___     ___\u23a4                            \u239e\n",
        "\u239c\u23a2-\u2572\u2571 2    \u2572\u2571 2 \u23a5          \u23a1    ___         \u23a4\u239f\n",
        "\u239c\u23a2\u2500\u2500\u2500\u2500\u2500\u2500\u2500  \u2500\u2500\u2500\u2500\u2500\u23a5, \u23a10  1\u23a4, \u23a23\u22c5\u2572\u2571 2      0   \u23a5\u239f\n",
        "\u239c\u23a2   2       2  \u23a5  \u23a2    \u23a5  \u23a2                \u23a5\u239f\n",
        "\u239c\u23a2              \u23a5  \u23a31  0\u23a6  \u23a2             ___\u23a5\u239f\n",
        "\u239c\u23a2   ___     ___\u23a5          \u23a3   0     4\u22c5\u2572\u2571 2 \u23a6\u239f\n",
        "\u239c\u23a2 \u2572\u2571 2    \u2572\u2571 2 \u23a5                            \u239f\n",
        "\u239c\u23a2 \u2500\u2500\u2500\u2500\u2500   \u2500\u2500\u2500\u2500\u2500\u23a5                            \u239f\n",
        "\u239d\u23a3   2       2  \u23a6                            \u23a0"
       ]
      }
     ],
     "prompt_number": 122
    },
    {
     "cell_type": "code",
     "collapsed": false,
     "input": [
      "U*D*V.T\n",
      "shape(S)"
     ],
     "language": "python",
     "metadata": {},
     "outputs": [
      {
       "latex": [
        "$$\\left ( 2, \\quad 2\\right )$$"
       ],
       "metadata": {},
       "output_type": "pyout",
       "png": "[encoded data removed]",
       "prompt_number": 133,
       "text": [
        "(2, 2)"
       ]
      }
     ],
     "prompt_number": 133
    },
    {
     "cell_type": "code",
     "collapsed": false,
     "input": [
      "Acheck = np.array(A2)\n",
      "np.linalg.svd(Acheck)"
     ],
     "language": "python",
     "metadata": {},
     "outputs": [
      {
       "metadata": {},
       "output_type": "pyout",
       "prompt_number": 124,
       "text": [
        "(array([[-1.,  0.],\n",
        "        [ 0.,  1.]]),\n",
        " array([ 5.65685425,  4.24264069]),\n",
        " array([[-0.70710678, -0.70710678],\n",
        "        [-0.70710678,  0.70710678]]))"
       ]
      }
     ],
     "prompt_number": 124
    },
    {
     "cell_type": "code",
     "collapsed": false,
     "input": [
      "#A function to do all the examination of S and/or A. \n",
      "def SVD_func(A):\n",
      "    '''This function produces the information for a matrix\n",
      "    Enter a matrix A (2x2)\n",
      "    Returns the SVD U,V and D as matrices.'''\n",
      "    from numpy import matrix\n",
      "    from numpy.linalg import svd\n",
      "    init_printing()\n",
      "    S = A.T*A\n",
      "    \n",
      "    try:\n",
      "        Q = S.diagonalize(sort=True,normalize=True)\n",
      "        Qt = Q[0].T\n",
      "        Lam = Q[1]\n",
      "        print'The symmetric matrix is:',' \\n', S\n",
      "        print\n",
      "        print 'Q is: \\n',Q[0]\n",
      "        print\n",
      "        print 'Q transpose is: \\n',Qt\n",
      "    except MatrixError:\n",
      "        print\"Matrix is not diagonalizable\"\n",
      "    #And the final process is to compute the energy x.T*S*x\n",
      "    E = S.eigenvects()\n",
      "    print'The eigenvalues of S are : ' , E[0][0],' and ',E[1][0]\n",
      "    print\n",
      "    print 'The eigenvectors of S are: \\n ', E[0][2][0],' and ', E[1][2][0]\n",
      "    print\n",
      "    print 'The norms for each eigenvector are: ', E[0][2][0].norm(),' and ', E[1][2][0].norm()\n",
      "    print\n",
      "    print 'The determinant of S is: ', S.det()\n",
      "    print\n",
      "    if shape(S) == (2,2):\n",
      "        x1,x2 = symbols('x_1:3')\n",
      "        X = Matrix([[x1,x2]])\n",
      "        print 'The \"energy\" function is: y = ', X.T.dot(S.dot(X))\n",
      "        print\n",
      "    S = np.matrix(S)\n",
      "    U,D,V = svd(S)\n",
      "    print \"SVD decomposition\"\n",
      "    print '='*60\n",
      "    print 'U is :\\n', U\n",
      "    print\n",
      "    print 'D is: \\n', np.diag(D)\n",
      "    print\n",
      "    print 'V is: \\n', V\n",
      "    print '='*60\n",
      "    \n",
      "    return  U,V,D"
     ],
     "language": "python",
     "metadata": {},
     "outputs": [],
     "prompt_number": 160
    },
    {
     "cell_type": "code",
     "collapsed": false,
     "input": [
      "SVD_func(A)"
     ],
     "language": "python",
     "metadata": {},
     "outputs": [
      {
       "output_type": "stream",
       "stream": "stdout",
       "text": [
        "The symmetric matrix is:  \n",
        "Matrix([[4, 0], [0, 1]])\n",
        "\n",
        "Q is: \n",
        "Matrix([[1, 0], [0, 1]])\n",
        "\n",
        "Q transpose is: \n",
        "Matrix([[1, 0], [0, 1]])\n",
        "The eigenvalues of S are :  1  and  4\n",
        "\n",
        "The eigenvectors of S are: \n",
        "  Matrix([[0], [1]])  and  Matrix([[1], [0]])\n",
        "\n",
        "The norms for each eigenvector are:  1  and  1\n",
        "\n",
        "The determinant of S is:  4\n",
        "\n",
        "The \"energy\" function is: y =  4*x_1**2 + x_2**2\n",
        "\n",
        "SVD decomposition\n",
        "============================================================\n",
        "U is :\n",
        "[[ 1.  0.]\n",
        " [ 0.  1.]]\n",
        "\n",
        "D is: \n",
        "[[ 4.  0.]\n",
        " [ 0.  1.]]\n",
        "\n",
        "V is: \n",
        "[[ 1.  0.]\n",
        " [ 0.  1.]]\n",
        "============================================================\n"
       ]
      },
      {
       "metadata": {},
       "output_type": "pyout",
       "prompt_number": 161,
       "text": [
        "(matrix([[ 1.,  0.],\n",
        "         [ 0.,  1.]]), matrix([[ 1.,  0.],\n",
        "         [ 0.,  1.]]), array([ 4.,  1.]))"
       ]
      }
     ],
     "prompt_number": 161
    },
    {
     "cell_type": "code",
     "collapsed": false,
     "input": [
      "U*D*V"
     ],
     "language": "python",
     "metadata": {},
     "outputs": [
      {
       "latex": [
        "$$\\left[\\begin{matrix}4 & -3\\\\4 & 3\\end{matrix}\\right]$$"
       ],
       "metadata": {},
       "output_type": "pyout",
       "png": "[encoded data removed]",
       "prompt_number": 162,
       "text": [
        "\u23a14  -3\u23a4\n",
        "\u23a2     \u23a5\n",
        "\u23a34  3 \u23a6"
       ]
      }
     ],
     "prompt_number": 162
    },
    {
     "cell_type": "heading",
     "level": 2,
     "metadata": {},
     "source": [
      "Section 7.3: Boundary Condition replace Initial conditions"
     ]
    },
    {
     "cell_type": "markdown",
     "metadata": {},
     "source": [
      "Probably the heart of this material is that differential functions can also be represented by matrices. This opens up the world of calculus to a more meaningful computational science analysis. \n",
      "\n",
      "Previously, it was shown that a matrix $A$ could be combined with a vector $\\overrightarrow{v}$ to approximate the vector \"function\" $f$, giving $Af = \\frac{df}{dx}$. This is an antisymmetric matrix. \n",
      "\n",
      "Multiplying $A^TA = S$ makes the matrix positive, positive definite typically. \n",
      "\n",
      "This leads to the conclusion that $A^TA = \\int^1_0{f(x)g(x)dx} = f(x)g(x) = (\\frac{-df}{dx})(\\frac{df}{dx}) = -\\frac{df^2}{dx^2} = S$.\n",
      "\n",
      "From this integration, one arrives at a second difference matrix, $K = \\begin{bmatrix}2&-1\\\\-1&2&-1\\\\ &-1&.&.\\\\ & &.&.&-1\\\\ & & &-1&2 \\end{bmatrix}$"
     ]
    },
    {
     "cell_type": "code",
     "collapsed": false,
     "input": [
      "hpad = ones(1,0)\n",
      "vpad = ones(0,1)\n",
      "A = diag(hpad, eye(5)*-1,vpad)+eye(6)\n",
      "A.col_del(-1)\n",
      "A"
     ],
     "language": "python",
     "metadata": {},
     "outputs": [
      {
       "latex": [
        "$$\\left[\\begin{matrix}1 & 0 & 0 & 0 & 0\\\\-1 & 1 & 0 & 0 & 0\\\\0 & -1 & 1 & 0 & 0\\\\0 & 0 & -1 & 1 & 0\\\\0 & 0 & 0 & -1 & 1\\\\0 & 0 & 0 & 0 & -1\\end{matrix}\\right]$$"
       ],
       "metadata": {},
       "output_type": "pyout",
       "png": "[encoded data removed]",
       "prompt_number": 177,
       "text": [
        "\u23a11   0   0   0   0 \u23a4\n",
        "\u23a2                  \u23a5\n",
        "\u23a2-1  1   0   0   0 \u23a5\n",
        "\u23a2                  \u23a5\n",
        "\u23a20   -1  1   0   0 \u23a5\n",
        "\u23a2                  \u23a5\n",
        "\u23a20   0   -1  1   0 \u23a5\n",
        "\u23a2                  \u23a5\n",
        "\u23a20   0   0   -1  1 \u23a5\n",
        "\u23a2                  \u23a5\n",
        "\u23a30   0   0   0   -1\u23a6"
       ]
      }
     ],
     "prompt_number": 177
    },
    {
     "cell_type": "code",
     "collapsed": false,
     "input": [
      "K = A.T*A\n",
      "K"
     ],
     "language": "python",
     "metadata": {},
     "outputs": [
      {
       "latex": [
        "$$\\left[\\begin{matrix}2 & -1 & 0 & 0 & 0\\\\-1 & 2 & -1 & 0 & 0\\\\0 & -1 & 2 & -1 & 0\\\\0 & 0 & -1 & 2 & -1\\\\0 & 0 & 0 & -1 & 2\\end{matrix}\\right]$$"
       ],
       "metadata": {},
       "output_type": "pyout",
       "png": "[encoded data removed]",
       "prompt_number": 178,
       "text": [
        "\u23a12   -1  0   0   0 \u23a4\n",
        "\u23a2                  \u23a5\n",
        "\u23a2-1  2   -1  0   0 \u23a5\n",
        "\u23a2                  \u23a5\n",
        "\u23a20   -1  2   -1  0 \u23a5\n",
        "\u23a2                  \u23a5\n",
        "\u23a20   0   -1  2   -1\u23a5\n",
        "\u23a2                  \u23a5\n",
        "\u23a30   0   0   -1  2 \u23a6"
       ]
      }
     ],
     "prompt_number": 178
    },
    {
     "cell_type": "code",
     "collapsed": false,
     "input": [],
     "language": "python",
     "metadata": {},
     "outputs": []
    }
   ],
   "metadata": {}
  }
 ]
}