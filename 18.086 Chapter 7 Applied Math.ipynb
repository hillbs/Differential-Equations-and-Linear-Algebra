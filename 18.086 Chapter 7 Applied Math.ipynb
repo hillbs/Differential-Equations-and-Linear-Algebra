{
 "metadata": {
  "name": "",
  "signature": "sha256:8636e4bd44624fa7583cdc25088c7a29ba9881c7bea9da0b8fb3135b5771e22d"
 },
 "nbformat": 3,
 "nbformat_minor": 0,
 "worksheets": [
  {
   "cells": [
    {
     "cell_type": "heading",
     "level": 1,
     "metadata": {},
     "source": [
      "18.06 Chapter 7 $A^TA$ and applied mathematics"
     ]
    },
    {
     "cell_type": "heading",
     "level": 2,
     "metadata": {},
     "source": [
      "Least Squares"
     ]
    },
    {
     "cell_type": "code",
     "collapsed": false,
     "input": [
      "from sympy import init_session\n",
      "import numpy as np\n",
      "init_session()"
     ],
     "language": "python",
     "metadata": {},
     "outputs": [
      {
       "output_type": "stream",
       "stream": "stdout",
       "text": [
        "IPython console for SymPy 0.7.6 (Python 2.7.6-64-bit) (ground types: python)\n",
        "\n",
        "These commands were executed:\n",
        ">>> from __future__ import division\n",
        ">>> from sympy import *\n",
        ">>> x, y, z, t = symbols('x y z t')\n",
        ">>> k, m, n = symbols('k m n', integer=True)\n",
        ">>> f, g, h = symbols('f g h', cls=Function)\n",
        ">>> init_printing()\n",
        "\n",
        "Documentation can be found at http://www.sympy.org\n"
       ]
      }
     ],
     "prompt_number": 2
    },
    {
     "cell_type": "code",
     "collapsed": false,
     "input": [],
     "language": "python",
     "metadata": {},
     "outputs": [],
     "prompt_number": 2
    },
    {
     "cell_type": "heading",
     "level": 2,
     "metadata": {},
     "source": [
      "7.2 Positive Definitie Matrices and the SVD"
     ]
    },
    {
     "cell_type": "markdown",
     "metadata": {},
     "source": [
      "There are some useful geometric and applied examples that illustrate this important process. \n",
      "\n",
      "http://www.ams.org/samplings/feature-column/fcarc-svd"
     ]
    },
    {
     "cell_type": "code",
     "collapsed": false,
     "input": [
      "A = Matrix([[2,0],[0,1]])\n",
      "#S = Symmetric matrix made from A^TA\n",
      "S = A.T*A\n",
      "A,S"
     ],
     "language": "python",
     "metadata": {},
     "outputs": [
      {
       "latex": [
        "$$\\left ( \\left[\\begin{matrix}2 & 0\\\\0 & 1\\end{matrix}\\right], \\quad \\left[\\begin{matrix}4 & 0\\\\0 & 1\\end{matrix}\\right]\\right )$$"
       ],
       "metadata": {},
       "output_type": "pyout",
       "png": "[encoded data removed]",
       "prompt_number": 3,
       "text": [
        "\u239b\u23a12  0\u23a4, \u23a14  0\u23a4\u239e\n",
        "\u239c\u23a2    \u23a5  \u23a2    \u23a5\u239f\n",
        "\u239d\u23a30  1\u23a6  \u23a30  1\u23a6\u23a0"
       ]
      }
     ],
     "prompt_number": 3
    },
    {
     "cell_type": "code",
     "collapsed": false,
     "input": [
      "#A.T*A = A**2\n",
      "A**2"
     ],
     "language": "python",
     "metadata": {},
     "outputs": [
      {
       "latex": [
        "$$\\left[\\begin{matrix}4 & 0\\\\0 & 1\\end{matrix}\\right]$$"
       ],
       "metadata": {},
       "output_type": "pyout",
       "png": "[encoded data removed]",
       "prompt_number": 4,
       "text": [
        "\u23a14  0\u23a4\n",
        "\u23a2    \u23a5\n",
        "\u23a30  1\u23a6"
       ]
      }
     ],
     "prompt_number": 4
    },
    {
     "cell_type": "code",
     "collapsed": false,
     "input": [
      "S.eigenvects()"
     ],
     "language": "python",
     "metadata": {},
     "outputs": [
      {
       "latex": [
        "$$\\left [ \\left ( 1, \\quad 1, \\quad \\left [ \\left[\\begin{matrix}0\\\\1\\end{matrix}\\right]\\right ]\\right ), \\quad \\left ( 4, \\quad 1, \\quad \\left [ \\left[\\begin{matrix}1\\\\0\\end{matrix}\\right]\\right ]\\right )\\right ]$$"
       ],
       "metadata": {},
       "output_type": "pyout",
       "png": "[encoded data removed]",
       "prompt_number": 5,
       "text": [
        "\u23a1\u239b1, 1, \u23a1\u23a10\u23a4\u23a4\u239e, \u239b4, 1, \u23a1\u23a11\u23a4\u23a4\u239e\u23a4\n",
        "\u23a2\u239c      \u23a2\u23a2 \u23a5\u23a5\u239f  \u239c      \u23a2\u23a2 \u23a5\u23a5\u239f\u23a5\n",
        "\u23a3\u239d      \u23a3\u23a31\u23a6\u23a6\u23a0  \u239d      \u23a3\u23a30\u23a6\u23a6\u23a0\u23a6"
       ]
      }
     ],
     "prompt_number": 5
    },
    {
     "cell_type": "code",
     "collapsed": false,
     "input": [
      "S.det()"
     ],
     "language": "python",
     "metadata": {},
     "outputs": [
      {
       "latex": [
        "$$4$$"
       ],
       "metadata": {},
       "output_type": "pyout",
       "png": "[encoded data removed]",
       "prompt_number": 6,
       "text": [
        "4"
       ]
      }
     ],
     "prompt_number": 6
    },
    {
     "cell_type": "code",
     "collapsed": false,
     "input": [
      "Q = S.diagonalize(sort=True,normalize=True)\n",
      "Qt = Q[0].T\n",
      "Lam = Q[1]\n",
      "S,Q, Qt"
     ],
     "language": "python",
     "metadata": {},
     "outputs": [
      {
       "latex": [
        "$$\\left ( \\left[\\begin{matrix}4 & 0\\\\0 & 1\\end{matrix}\\right], \\quad \\left ( \\left[\\begin{matrix}1 & 0\\\\0 & 1\\end{matrix}\\right], \\quad \\left[\\begin{matrix}4 & 0\\\\0 & 1\\end{matrix}\\right]\\right ), \\quad \\left[\\begin{matrix}1 & 0\\\\0 & 1\\end{matrix}\\right]\\right )$$"
       ],
       "metadata": {},
       "output_type": "pyout",
       "png": "[encoded data removed]",
       "prompt_number": 7,
       "text": [
        "\u239b\u23a14  0\u23a4, \u239b\u23a11  0\u23a4, \u23a14  0\u23a4\u239e, \u23a11  0\u23a4\u239e\n",
        "\u239c\u23a2    \u23a5  \u239c\u23a2    \u23a5  \u23a2    \u23a5\u239f  \u23a2    \u23a5\u239f\n",
        "\u239d\u23a30  1\u23a6  \u239d\u23a30  1\u23a6  \u23a30  1\u23a6\u23a0  \u23a30  1\u23a6\u23a0"
       ]
      }
     ],
     "prompt_number": 7
    },
    {
     "cell_type": "code",
     "collapsed": false,
     "input": [
      "#And the final process is to compute the energy x.T*S*x\n",
      "x1,x2 = symbols('x_1:3')\n",
      "X = Matrix([[x1,x2]])\n",
      "X.T.dot(S.dot(X))"
     ],
     "language": "python",
     "metadata": {},
     "outputs": [
      {
       "latex": [
        "$$4 x_{1}^{2} + x_{2}^{2}$$"
       ],
       "metadata": {},
       "output_type": "pyout",
       "png": "[encoded data removed]",
       "prompt_number": 8,
       "text": [
        "    2     2\n",
        "4\u22c5x\u2081  + x\u2082 "
       ]
      }
     ],
     "prompt_number": 8
    },
    {
     "cell_type": "code",
     "collapsed": false,
     "input": [
      "#SVD example from Lecture 29 MIT 18.06\n",
      "A2 = Matrix([[4,4],[-3,3]])\n",
      "A2, A2.T"
     ],
     "language": "python",
     "metadata": {},
     "outputs": [
      {
       "latex": [
        "$$\\left ( \\left[\\begin{matrix}4 & 4\\\\-3 & 3\\end{matrix}\\right], \\quad \\left[\\begin{matrix}4 & -3\\\\4 & 3\\end{matrix}\\right]\\right )$$"
       ],
       "metadata": {},
       "output_type": "pyout",
       "png": "[encoded data removed]",
       "prompt_number": 9,
       "text": [
        "\u239b\u23a14   4\u23a4, \u23a14  -3\u23a4\u239e\n",
        "\u239c\u23a2     \u23a5  \u23a2     \u23a5\u239f\n",
        "\u239d\u23a3-3  3\u23a6  \u23a34  3 \u23a6\u23a0"
       ]
      }
     ],
     "prompt_number": 9
    },
    {
     "cell_type": "code",
     "collapsed": false,
     "input": [
      "#compute the eigenvectors of A^TA, the basis of U\n",
      "u = (A2.T*A2).eigenvects()\n",
      "u,u[0][2][0].norm()"
     ],
     "language": "python",
     "metadata": {},
     "outputs": [
      {
       "latex": [
        "$$\\left ( \\left [ \\left ( 18, \\quad 1, \\quad \\left [ \\left[\\begin{matrix}-1\\\\1\\end{matrix}\\right]\\right ]\\right ), \\quad \\left ( 32, \\quad 1, \\quad \\left [ \\left[\\begin{matrix}1\\\\1\\end{matrix}\\right]\\right ]\\right )\\right ], \\quad \\sqrt{2}\\right )$$"
       ],
       "metadata": {},
       "output_type": "pyout",
       "png": "[encoded data removed]",
       "prompt_number": 10,
       "text": [
        "\u239b                                     ___\u239e\n",
        "\u239c\u23a1\u239b18, 1, \u23a1\u23a1-1\u23a4\u23a4\u239e, \u239b32, 1, \u23a1\u23a11\u23a4\u23a4\u239e\u23a4, \u2572\u2571 2 \u239f\n",
        "\u239c\u23a2\u239c       \u23a2\u23a2  \u23a5\u23a5\u239f  \u239c       \u23a2\u23a2 \u23a5\u23a5\u239f\u23a5       \u239f\n",
        "\u239d\u23a3\u239d       \u23a3\u23a31 \u23a6\u23a6\u23a0  \u239d       \u23a3\u23a31\u23a6\u23a6\u23a0\u23a6       \u23a0"
       ]
      }
     ],
     "prompt_number": 10
    },
    {
     "cell_type": "code",
     "collapsed": false,
     "input": [
      "v = (A2*A2.T).eigenvects()\n",
      "v, v[0][2][0].norm()#.normalized()"
     ],
     "language": "python",
     "metadata": {},
     "outputs": [
      {
       "latex": [
        "$$\\left ( \\left [ \\left ( 18, \\quad 1, \\quad \\left [ \\left[\\begin{matrix}0\\\\1\\end{matrix}\\right]\\right ]\\right ), \\quad \\left ( 32, \\quad 1, \\quad \\left [ \\left[\\begin{matrix}1\\\\0\\end{matrix}\\right]\\right ]\\right )\\right ], \\quad 1\\right )$$"
       ],
       "metadata": {},
       "output_type": "pyout",
       "png": "[encoded data removed]",
       "prompt_number": 11,
       "text": [
        "\u239b\u23a1\u239b18, 1, \u23a1\u23a10\u23a4\u23a4\u239e, \u239b32, 1, \u23a1\u23a11\u23a4\u23a4\u239e\u23a4, 1\u239e\n",
        "\u239c\u23a2\u239c       \u23a2\u23a2 \u23a5\u23a5\u239f  \u239c       \u23a2\u23a2 \u23a5\u23a5\u239f\u23a5   \u239f\n",
        "\u239d\u23a3\u239d       \u23a3\u23a31\u23a6\u23a6\u23a0  \u239d       \u23a3\u23a30\u23a6\u23a6\u23a0\u23a6   \u23a0"
       ]
      }
     ],
     "prompt_number": 11
    },
    {
     "cell_type": "code",
     "collapsed": false,
     "input": [
      "U = Matrix([ [u[0][2][0][0],u[0][2][0][1] ], [ u[1][2][0][0],u[1][2][0][1]] ]) #needs to be divided by the norm\n",
      "V = Matrix([ [v[0][2][0][0],v[0][2][0][1] ], [ v[1][2][0][0],v[1][2][0][1]] ])\n",
      "D = Matrix ([[sqrt(v[0][0]),0],[0,sqrt(v[1][0])]])\n",
      "U, V, D"
     ],
     "language": "python",
     "metadata": {},
     "outputs": [
      {
       "latex": [
        "$$\\left ( \\left[\\begin{matrix}-1 & 1\\\\1 & 1\\end{matrix}\\right], \\quad \\left[\\begin{matrix}0 & 1\\\\1 & 0\\end{matrix}\\right], \\quad \\left[\\begin{matrix}3 \\sqrt{2} & 0\\\\0 & 4 \\sqrt{2}\\end{matrix}\\right]\\right )$$"
       ],
       "metadata": {},
       "output_type": "pyout",
       "png": "[encoded data removed]",
       "prompt_number": 12,
       "text": [
        "\u239b                 \u23a1    ___         \u23a4\u239e\n",
        "\u239c\u23a1-1  1\u23a4, \u23a10  1\u23a4, \u23a23\u22c5\u2572\u2571 2      0   \u23a5\u239f\n",
        "\u239c\u23a2     \u23a5  \u23a2    \u23a5  \u23a2                \u23a5\u239f\n",
        "\u239c\u23a31   1\u23a6  \u23a31  0\u23a6  \u23a2             ___\u23a5\u239f\n",
        "\u239d                 \u23a3   0     4\u22c5\u2572\u2571 2 \u23a6\u23a0"
       ]
      }
     ],
     "prompt_number": 12
    },
    {
     "cell_type": "code",
     "collapsed": false,
     "input": [
      "U*D*V.T"
     ],
     "language": "python",
     "metadata": {},
     "outputs": [
      {
       "latex": [
        "$$\\left[\\begin{matrix}4 \\sqrt{2} & - 3 \\sqrt{2}\\\\4 \\sqrt{2} & 3 \\sqrt{2}\\end{matrix}\\right]$$"
       ],
       "metadata": {},
       "output_type": "pyout",
       "png": "[encoded data removed]",
       "prompt_number": 14,
       "text": [
        "\u23a1    ___       ___\u23a4\n",
        "\u23a24\u22c5\u2572\u2571 2   -3\u22c5\u2572\u2571 2 \u23a5\n",
        "\u23a2                 \u23a5\n",
        "\u23a2    ___      ___ \u23a5\n",
        "\u23a34\u22c5\u2572\u2571 2   3\u22c5\u2572\u2571 2  \u23a6"
       ]
      }
     ],
     "prompt_number": 14
    },
    {
     "cell_type": "code",
     "collapsed": false,
     "input": [
      "Acheck = np.array(A2)\n",
      "np.linalg.svd(Acheck)"
     ],
     "language": "python",
     "metadata": {},
     "outputs": [
      {
       "metadata": {},
       "output_type": "pyout",
       "prompt_number": 18,
       "text": [
        "(array([[-1.,  0.],\n",
        "        [ 0.,  1.]]),\n",
        " array([ 5.65685425,  4.24264069]),\n",
        " array([[-0.70710678, -0.70710678],\n",
        "        [-0.70710678,  0.70710678]]))"
       ]
      }
     ],
     "prompt_number": 18
    },
    {
     "cell_type": "code",
     "collapsed": false,
     "input": [
      "#Would be useful to write a function to do all the examination of S and/or A. "
     ],
     "language": "python",
     "metadata": {},
     "outputs": []
    }
   ],
   "metadata": {}
  }
 ]
}