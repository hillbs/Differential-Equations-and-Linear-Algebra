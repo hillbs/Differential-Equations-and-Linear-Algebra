{
 "cells": [
  {
   "cell_type": "markdown",
   "metadata": {},
   "source": [
    "# Biplane -v- Glider"
   ]
  },
  {
   "cell_type": "code",
   "execution_count": 8,
   "metadata": {
    "collapsed": false
   },
   "outputs": [],
   "source": [
    "%matplotlib inline\n",
    "import matplotlib.pyplot as plt\n",
    "import numpy as np"
   ]
  },
  {
   "cell_type": "code",
   "execution_count": 9,
   "metadata": {
    "collapsed": false
   },
   "outputs": [],
   "source": [
    "#Data lists\n",
    "Gli_20 = np.array([2,4.5,5.5])\n",
    "Gli_37 = np.array([3.5,4.5,6])\n",
    "Bi_20 = np.array([4,6,8])\n",
    "Bi_37 = np.array([3,7,9])\n",
    "x = [1,2,3]"
   ]
  },
  {
   "cell_type": "code",
   "execution_count": 10,
   "metadata": {
    "collapsed": false
   },
   "outputs": [],
   "source": [
    "#Adjust data to equalise by wing length\n",
    "adjust = 60./80\n",
    "Bi_20 = Bi_20*adjust\n",
    "Bi_37 = Bi_37*adjust\n",
    "#(Bi_20+Gli_37)/2."
   ]
  },
  {
   "cell_type": "code",
   "execution_count": 11,
   "metadata": {
    "collapsed": false
   },
   "outputs": [
    {
     "data": {
      "text/plain": [
       "(array([[ 1.,  1.],\n",
       "        [ 2.,  1.],\n",
       "        [ 3.,  1.]]), 5.7500000000000009)"
      ]
     },
     "execution_count": 11,
     "metadata": {},
     "output_type": "execute_result"
    }
   ],
   "source": [
    "A = np.vstack([x,np.ones(len(x))]).T #x^0 the last row NB\n",
    "slope, intercept = np.linalg.lstsq(A,Gli_20)[0]\n",
    "A,slope, intercept\n",
    "def linfit(x,slope,intercept):\n",
    "    return x*slope + intercept\n",
    "A, linfit(3,slope,intercept)"
   ]
  },
  {
   "cell_type": "code",
   "execution_count": 12,
   "metadata": {
    "collapsed": false
   },
   "outputs": [],
   "source": [
    "z = np.polyfit(x, Gli_20, 1)\n",
    "pG20 = np.poly1d(z)\n",
    "\n",
    "z = np.polyfit(x, Gli_37, 1)\n",
    "pG37 = np.poly1d(z)\n",
    "\n",
    "z = np.polyfit(x, Bi_20, 1)\n",
    "pB20 = np.poly1d(z)\n",
    "\n",
    "z = np.polyfit(x, Bi_37, 1)\n",
    "pB37 = np.poly1d(z)\n",
    "pB37(x)\n",
    "z = np.polyfit(x,(Gli_20+Gli_37)/2.,1)\n",
    "p = np.poly1d(z)"
   ]
  },
  {
   "cell_type": "code",
   "execution_count": 13,
   "metadata": {
    "collapsed": false
   },
   "outputs": [
    {
     "data": {
      "image/png": "[encoded data removed]",
      "text/plain": [
       "<matplotlib.figure.Figure at 0x11c1afe90>"
      ]
     },
     "metadata": {},
     "output_type": "display_data"
    }
   ],
   "source": [
    "fsize = 16\n",
    "fig = plt.figure(figsize=(12,8))\n",
    "fig.suptitle('Lift as a function of wing configuration', fontsize=20, fontweight='bold')\n",
    "ax1 = fig.add_subplot(121, axisbg=\"#F4EAEA\")\n",
    "ax1.set_xlabel('Wind Speed',fontsize=fsize)\n",
    "ax1.set_ylabel('Lift (grams)',fontsize=fsize)\n",
    "ax1.set_title('Biplane',fontsize=fsize)\n",
    "plt.bar(x,Bi_20,width=0.3,color='b',align='edge',alpha=.5,label='20cm from fan')\n",
    "plt.bar(x,Bi_37,width=0.3,color='g',align='center',alpha=.5,label='37cm from fan')\n",
    "#plt.plot(x,pB20(x), color='b', label='Fitted line')\n",
    "#plt.plot(x,pB37(x),color='g')\n",
    "plt.xticks(x, ['One','Two','Three'],fontsize=12)\n",
    "plt.grid()\n",
    "plt.legend(loc=2)\n",
    "\n",
    "ax2 = fig.add_subplot(122,sharey=ax1, axisbg=\"#F4EAEA\")\n",
    "ax2.set_xlabel('Wind Speed',fontsize=fsize)\n",
    "ax2.set_title('Glider',fontsize=fsize)\n",
    "plt.bar(x,Gli_20,width=0.3,color='b',align='edge',alpha=.5,label='20cm from fan')\n",
    "plt.bar(x,Gli_37,width=0.3,color='g',align='center',alpha=.5,label='37cm from fan')\n",
    "#plt.plot(x,pG20(x), color='b', label='Fitted line')\n",
    "#plt.plot(x,pG37(x),color='g')\n",
    "plt.xticks(x, ['One','Two','Three'],fontsize=fsize)\n",
    "plt.grid()\n",
    "plt.legend(loc=2)\n",
    "plt.savefig('Aircraft.jpeg',dpi=400)"
   ]
  },
  {
   "cell_type": "code",
   "execution_count": 14,
   "metadata": {
    "collapsed": false
   },
   "outputs": [
    {
     "data": {
      "text/plain": [
       "(1.6875000000000007, 1.1041666666666667, array([ 2.6875,  4.6875,  6.0625]))"
      ]
     },
     "execution_count": 14,
     "metadata": {},
     "output_type": "execute_result"
    }
   ],
   "source": [
    "#Overall Lift equation\n",
    "Lift = (Gli_20+Gli_37+Bi_20+Bi_37)/4.\n",
    "A = np.vstack([x, np.ones(len(x))]).T\n",
    "m, c = np.linalg.lstsq(A,Lift)[0]\n",
    "m, c ,Lift"
   ]
  },
  {
   "cell_type": "code",
   "execution_count": null,
   "metadata": {
    "collapsed": false
   },
   "outputs": [],
   "source": []
  }
 ],
 "metadata": {
  "kernelspec": {
   "display_name": "Python 2",
   "language": "python",
   "name": "python2"
  },
  "language_info": {
   "codemirror_mode": {
    "name": "ipython",
    "version": 2
   },
   "file_extension": ".py",
   "mimetype": "text/x-python",
   "name": "python",
   "nbconvert_exporter": "python",
   "pygments_lexer": "ipython2",
   "version": "2.7.9"
  }
 },
 "nbformat": 4,
 "nbformat_minor": 0
}
