{
 "metadata": {
  "name": "",
  "signature": "sha256:67b2e6849ce30dcb245554cb549439be4a38c2ef8ccefb172a358cd6606e1dc9"
 },
 "nbformat": 3,
 "nbformat_minor": 0,
 "worksheets": [
  {
   "cells": [
    {
     "cell_type": "code",
     "collapsed": false,
     "input": [
      "from numpy import pi, sin, cos, mgrid\n",
      "dphi, dtheta = pi/250.0, pi/250.0\n",
      "[phi,theta] = mgrid[0:pi+dphi*1.5:dphi,0:2*pi+dtheta*1.5:dtheta]\n",
      "m0 = 4; m1 = 3; m2 = 2; m3 = 3; m4 = 6; m5 = 2; m6 = 6; m7 = 4;\n",
      "r = sin(m0*phi)**m1 + cos(m2*phi)**m3 + sin(m4*theta)**m5 + cos(m6*theta)**m7\n",
      "x = r*sin(phi)*cos(theta)\n",
      "y = r*cos(phi)\n",
      "z = r*sin(phi)*sin(theta)\n",
      "\n",
      "# View it.\n",
      "from mayavi import mlab\n",
      "s = mlab.mesh(x, y, z)\n",
      "mlab.show()"
     ],
     "language": "python",
     "metadata": {},
     "outputs": [],
     "prompt_number": 5
    },
    {
     "cell_type": "code",
     "collapsed": false,
     "input": [],
     "language": "python",
     "metadata": {},
     "outputs": []
    }
   ],
   "metadata": {}
  }
 ]
}