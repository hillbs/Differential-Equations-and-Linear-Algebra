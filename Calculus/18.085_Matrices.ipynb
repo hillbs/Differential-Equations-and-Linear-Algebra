{
 "metadata": {
  "name": "",
  "signature": "sha256:698bf04865eb4ff24e9ca5c846b794d3fbdf19c6292c7c3947b0d7573e003c70"
 },
 "nbformat": 3,
 "nbformat_minor": 0,
 "worksheets": [
  {
   "cells": [
    {
     "cell_type": "code",
     "collapsed": false,
     "input": [
      "import numpy\n",
      "from sympy import init_session\n",
      "init_session()\n",
      "sigma = Symbol('sigma')\n",
      "At = symbols('A__T')\n",
      "c1,c2,c3,c4,c5 = symbols('c_1:6')\n",
      "w1,w2,w3,w4,w5 = symbols('W_1:6')\n",
      "e1,e2,e3,e4,e5 = symbols('e_1:6')"
     ],
     "language": "python",
     "metadata": {},
     "outputs": [
      {
       "output_type": "stream",
       "stream": "stdout",
       "text": [
        "IPython console for SymPy 0.7.6 (Python 2.7.6-64-bit) (ground types: python)\n",
        "\n",
        "These commands were executed:\n",
        ">>> from __future__ import division\n",
        ">>> from sympy import *\n",
        ">>> x, y, z, t = symbols('x y z t')\n",
        ">>> k, m, n = symbols('k m n', integer=True)\n",
        ">>> f, g, h = symbols('f g h', cls=Function)\n",
        ">>> init_printing()\n",
        "\n",
        "Documentation can be found at http://www.sympy.org\n"
       ]
      }
     ],
     "prompt_number": 26
    },
    {
     "cell_type": "heading",
     "level": 1,
     "metadata": {},
     "source": [
      "Using and creating matrices."
     ]
    },
    {
     "cell_type": "markdown",
     "metadata": {},
     "source": [
      "When solving the K matrix, it is important to know its rank, whether it is positive definite, and information about eigenvalues and eigenvectors. "
     ]
    },
    {
     "cell_type": "code",
     "collapsed": false,
     "input": [
      "At = symbols('A__T')\n",
      "A = Matrix([[-1,1,0,0],[-1,0,1,0],[0,-1,1,0],[0,-1,0,1],[0,0,-1,1]])\n",
      "At = A.T\n",
      "A,At"
     ],
     "language": "python",
     "metadata": {},
     "outputs": [
      {
       "latex": [
        "$$\\left ( \\left[\\begin{matrix}-1 & 1 & 0 & 0\\\\-1 & 0 & 1 & 0\\\\0 & -1 & 1 & 0\\\\0 & -1 & 0 & 1\\\\0 & 0 & -1 & 1\\end{matrix}\\right], \\quad \\left[\\begin{matrix}-1 & -1 & 0 & 0 & 0\\\\1 & 0 & -1 & -1 & 0\\\\0 & 1 & 1 & 0 & -1\\\\0 & 0 & 0 & 1 & 1\\end{matrix}\\right]\\right )$$"
       ],
       "metadata": {},
       "output_type": "pyout",
       "prompt_number": 27,
       "text": [
        "\u239b\u23a1-1  1   0   0\u23a4, \u23a1-1  -1  0   0   0 \u23a4\u239e\n",
        "\u239c\u23a2             \u23a5  \u23a2                  \u23a5\u239f\n",
        "\u239c\u23a2-1  0   1   0\u23a5  \u23a21   0   -1  -1  0 \u23a5\u239f\n",
        "\u239c\u23a2             \u23a5  \u23a2                  \u23a5\u239f\n",
        "\u239c\u23a20   -1  1   0\u23a5  \u23a20   1   1   0   -1\u23a5\u239f\n",
        "\u239c\u23a2             \u23a5  \u23a2                  \u23a5\u239f\n",
        "\u239c\u23a20   -1  0   1\u23a5  \u23a30   0   0   1   1 \u23a6\u239f\n",
        "\u239c\u23a2             \u23a5                      \u239f\n",
        "\u239d\u23a30   0   -1  1\u23a6                      \u23a0"
       ]
      }
     ],
     "prompt_number": 27
    },
    {
     "cell_type": "code",
     "collapsed": false,
     "input": [
      "ATA = At*A\n",
      "ATA"
     ],
     "language": "python",
     "metadata": {},
     "outputs": [
      {
       "latex": [
        "$$\\left[\\begin{matrix}2 & -1 & -1 & 0\\\\-1 & 3 & -1 & -1\\\\-1 & -1 & 3 & -1\\\\0 & -1 & -1 & 2\\end{matrix}\\right]$$"
       ],
       "metadata": {},
       "output_type": "pyout",
       "prompt_number": 39,
       "text": [
        "\u23a12   -1  -1  0 \u23a4\n",
        "\u23a2              \u23a5\n",
        "\u23a2-1  3   -1  -1\u23a5\n",
        "\u23a2              \u23a5\n",
        "\u23a2-1  -1  3   -1\u23a5\n",
        "\u23a2              \u23a5\n",
        "\u23a30   -1  -1  2 \u23a6"
       ]
      }
     ],
     "prompt_number": 39
    },
    {
     "cell_type": "code",
     "collapsed": false,
     "input": [
      "#Hmmm -- thought this had rank =3. \n",
      "rank(A)"
     ],
     "language": "python",
     "metadata": {},
     "outputs": [
      {
       "latex": [
        "$$2$$"
       ],
       "metadata": {},
       "output_type": "pyout",
       "png": "[encoded data removed]",
       "prompt_number": 40,
       "text": [
        "2"
       ]
      }
     ],
     "prompt_number": 40
    },
    {
     "cell_type": "code",
     "collapsed": false,
     "input": [],
     "language": "python",
     "metadata": {},
     "outputs": [],
     "prompt_number": 40
    },
    {
     "cell_type": "code",
     "collapsed": false,
     "input": [],
     "language": "python",
     "metadata": {},
     "outputs": []
    }
   ],
   "metadata": {}
  }
 ]
}