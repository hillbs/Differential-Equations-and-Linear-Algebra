{
 "metadata": {
  "name": "",
  "signature": "sha256:ead57a45a0c132478e6f00d7294a7979d23e688290c9c68aebb238eacddc7e40"
 },
 "nbformat": 3,
 "nbformat_minor": 0,
 "worksheets": [
  {
   "cells": [
    {
     "cell_type": "heading",
     "level": 1,
     "metadata": {},
     "source": [
      "PDE solutions and processes"
     ]
    },
    {
     "cell_type": "markdown",
     "metadata": {},
     "source": [
      "From https://www.youtube.com/playlist?list=PLGCj8f6sgswntUil8yzohR_qazOfYZCg_"
     ]
    },
    {
     "cell_type": "code",
     "collapsed": false,
     "input": [
      "from sympy import init_printing\n",
      "init_printing(True) #use_unicode=True)\n",
      "from sympy import *\n",
      "init_session()\n",
      "a,b, h = symbols('a b h ',integer=True)\n",
      "u,v = symbols('u v', cls=Function)"
     ],
     "language": "python",
     "metadata": {},
     "outputs": [
      {
       "output_type": "stream",
       "stream": "stdout",
       "text": [
        "IPython console for SymPy 0.7.6 (Python 2.7.6-32-bit) (ground types: python)\n",
        "\n",
        "These commands were executed:\n",
        ">>> from __future__ import division\n",
        ">>> from sympy import *\n",
        ">>> x, y, z, t = symbols('x y z t')\n",
        ">>> k, m, n = symbols('k m n', integer=True)\n",
        ">>> f, g, h = symbols('f g h', cls=Function)\n",
        ">>> init_printing()\n",
        "\n",
        "Documentation can be found at http://www.sympy.org\n"
       ]
      }
     ],
     "prompt_number": 1
    },
    {
     "cell_type": "code",
     "collapsed": false,
     "input": [
      "from IPython.display import YouTubeVideo\n",
      "# Link to the Dr Tisdell Series\n",
      "YouTubeVideo('www.youtube.com/embed/zt4-hHmOm7I?list=PLGCj8f6sgswntUil8yzohR_qazOfYZCg_',800,600)"
     ],
     "language": "python",
     "metadata": {},
     "outputs": [
      {
       "html": [
        "\n",
        "        <iframe\n",
        "            width=\"800\"\n",
        "            height=600\"\n",
        "            src=\"https://www.youtube.com/embed/www.youtube.com/embed/zt4-hHmOm7I?list=PLGCj8f6sgswntUil8yzohR_qazOfYZCg_\"\n",
        "            frameborder=\"0\"\n",
        "            allowfullscreen\n",
        "        ></iframe>\n",
        "        "
       ],
       "metadata": {},
       "output_type": "pyout",
       "prompt_number": 9,
       "text": [
        "<IPython.lib.display.YouTubeVideo at 0x9aab6d0>"
       ]
      }
     ],
     "prompt_number": 9
    },
    {
     "cell_type": "heading",
     "level": 5,
     "metadata": {},
     "source": [
      "Video 5: "
     ]
    },
    {
     "cell_type": "code",
     "collapsed": false,
     "input": [
      "PDE = Eq(diff(u(x,t),t)+2*x*diff(u(x,t),x),0)\n",
      "PDE"
     ],
     "language": "python",
     "metadata": {},
     "outputs": [
      {
       "latex": [
        "$$2 x \\frac{\\partial}{\\partial x} u{\\left (x,t \\right )} + \\frac{\\partial}{\\partial t} u{\\left (x,t \\right )} = 0$$"
       ],
       "metadata": {},
       "output_type": "pyout",
       "png": "[encoded data removed]",
       "prompt_number": 11,
       "text": [
        "    \u2202             \u2202              \n",
        "2\u22c5x\u22c5\u2500\u2500(u(x, t)) + \u2500\u2500(u(x, t)) = 0\n",
        "    \u2202x            \u2202t             "
       ]
      }
     ],
     "prompt_number": 11
    },
    {
     "cell_type": "code",
     "collapsed": false,
     "input": [
      "classify_pde(PDE)"
     ],
     "language": "python",
     "metadata": {},
     "outputs": [
      {
       "metadata": {},
       "output_type": "pyout",
       "prompt_number": 13,
       "text": [
        "('1st_linear_variable_coeff',)"
       ]
      }
     ],
     "prompt_number": 13
    },
    {
     "cell_type": "code",
     "collapsed": false,
     "input": [
      "PD_solution = pdsolve(PDE, hint='1st_linear_variable_coeff')\n",
      "PD_solution"
     ],
     "language": "python",
     "metadata": {},
     "outputs": [
      {
       "latex": [
        "$$u{\\left (x,t \\right )} = F{\\left (t - \\frac{1}{2} \\log{\\left (x \\right )} \\right )}$$"
       ],
       "metadata": {},
       "output_type": "pyout",
       "png": "[encoded data removed]",
       "prompt_number": 17,
       "text": [
        "           \u239b    log(x)\u239e\n",
        "u(x, t) = F\u239ct - \u2500\u2500\u2500\u2500\u2500\u2500\u239f\n",
        "           \u239d      2   \u23a0"
       ]
      }
     ],
     "prompt_number": 17
    },
    {
     "cell_type": "code",
     "collapsed": false,
     "input": [
      "#Solution from Python\n",
      "checkpdesol(PDE,PD_solution)"
     ],
     "language": "python",
     "metadata": {},
     "outputs": [
      {
       "metadata": {},
       "output_type": "pyout",
       "prompt_number": 20,
       "text": [
        "(True, 0)"
       ]
      }
     ],
     "prompt_number": 20
    },
    {
     "cell_type": "code",
     "collapsed": false,
     "input": [
      "#Solution from video\n",
      "checkpdesol(PDE, f(x*exp(-2*t)))"
     ],
     "language": "python",
     "metadata": {},
     "outputs": [
      {
       "metadata": {},
       "output_type": "pyout",
       "prompt_number": 22,
       "text": [
        "(True, 0)"
       ]
      }
     ],
     "prompt_number": 22
    },
    {
     "cell_type": "heading",
     "level": 5,
     "metadata": {},
     "source": [
      "Video 6:"
     ]
    },
    {
     "cell_type": "code",
     "collapsed": false,
     "input": [
      "PDE6 = Eq(diff(u(x,t),t)+diff(u(x,t),x)+7*u(x,t),0)\n",
      "PDE6"
     ],
     "language": "python",
     "metadata": {},
     "outputs": [
      {
       "latex": [
        "$$7 u{\\left (x,t \\right )} + \\frac{\\partial}{\\partial t} u{\\left (x,t \\right )} + \\frac{\\partial}{\\partial x} u{\\left (x,t \\right )} = 0$$"
       ],
       "metadata": {},
       "output_type": "pyout",
       "png": "[encoded data removed]",
       "prompt_number": 23,
       "text": [
        "            \u2202             \u2202              \n",
        "7\u22c5u(x, t) + \u2500\u2500(u(x, t)) + \u2500\u2500(u(x, t)) = 0\n",
        "            \u2202t            \u2202x             "
       ]
      }
     ],
     "prompt_number": 23
    },
    {
     "cell_type": "code",
     "collapsed": false,
     "input": [
      "classify_pde(PDE6)"
     ],
     "language": "python",
     "metadata": {},
     "outputs": [
      {
       "metadata": {},
       "output_type": "pyout",
       "prompt_number": 24,
       "text": [
        "('1st_linear_constant_coeff_homogeneous',)"
       ]
      }
     ],
     "prompt_number": 24
    },
    {
     "cell_type": "code",
     "collapsed": false,
     "input": [
      "pdsolve(PDE6)"
     ],
     "language": "python",
     "metadata": {},
     "outputs": [
      {
       "latex": [
        "$$u{\\left (x,t \\right )} = F{\\left (- t + x \\right )} e^{- \\frac{7 t}{2} - \\frac{7 x}{2}}$$"
       ],
       "metadata": {},
       "output_type": "pyout",
       "png": "[encoded data removed]",
       "prompt_number": 25,
       "text": [
        "                       7\u22c5t   7\u22c5x\n",
        "                     - \u2500\u2500\u2500 - \u2500\u2500\u2500\n",
        "                        2     2 \n",
        "u(x, t) = F(-t + x)\u22c5\u212f           "
       ]
      }
     ],
     "prompt_number": 25
    },
    {
     "cell_type": "code",
     "collapsed": false,
     "input": [
      "l=f(x-t)*exp(-7*x)\n",
      "checkpdesol(PDE6,l)"
     ],
     "language": "python",
     "metadata": {},
     "outputs": [
      {
       "metadata": {},
       "output_type": "pyout",
       "prompt_number": 32,
       "text": [
        "(True, 0)"
       ]
      }
     ],
     "prompt_number": 32
    },
    {
     "cell_type": "markdown",
     "metadata": {},
     "source": [
      "So the general solution on the video and the Python one equate."
     ]
    },
    {
     "cell_type": "code",
     "collapsed": false,
     "input": [
      "l"
     ],
     "language": "python",
     "metadata": {},
     "outputs": [
      {
       "latex": [
        "$$f{\\left (- t + x \\right )} e^{- 7 x}$$"
       ],
       "metadata": {},
       "output_type": "pyout",
       "png": "[encoded data removed]",
       "prompt_number": 33,
       "text": [
        "           -7\u22c5x\n",
        "f(-t + x)\u22c5\u212f    "
       ]
      }
     ],
     "prompt_number": 33
    },
    {
     "cell_type": "code",
     "collapsed": false,
     "input": [],
     "language": "python",
     "metadata": {},
     "outputs": [
      {
       "metadata": {},
       "output_type": "pyout",
       "prompt_number": 31,
       "text": [
        "sympy.core.mul.Mul"
       ]
      }
     ],
     "prompt_number": 31
    },
    {
     "cell_type": "code",
     "collapsed": false,
     "input": [],
     "language": "python",
     "metadata": {},
     "outputs": []
    }
   ],
   "metadata": {}
  }
 ]
}