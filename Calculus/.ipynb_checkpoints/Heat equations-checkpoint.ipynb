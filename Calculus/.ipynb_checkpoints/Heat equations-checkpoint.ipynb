{
 "metadata": {
  "name": "",
  "signature": "sha256:8704ae08a23ad609dcaf9142cf681ee44985aa8e92d722c733ba666d49579e62"
 },
 "nbformat": 3,
 "nbformat_minor": 0,
 "worksheets": []
}