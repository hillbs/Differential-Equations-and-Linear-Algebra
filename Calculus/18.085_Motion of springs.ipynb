{
 "metadata": {
  "name": "",
  "signature": "sha256:e6b9d0516fa05876fe15e36b65fba8bb2e82fe9f830f79824464e8ae64d9d949"
 },
 "nbformat": 3,
 "nbformat_minor": 0,
 "worksheets": [
  {
   "cells": [
    {
     "cell_type": "heading",
     "level": 1,
     "metadata": {},
     "source": [
      "18.085 Engineering Mathematics: Motion of springs"
     ]
    },
    {
     "cell_type": "code",
     "collapsed": false,
     "input": [
      "from sympy import *\n",
      "from sympy.abc import *\n",
      "init_session()"
     ],
     "language": "python",
     "metadata": {},
     "outputs": [
      {
       "output_type": "stream",
       "stream": "stdout",
       "text": [
        "IPython console for SymPy 0.7.6 (Python 2.7.6-32-bit) (ground types: python)\n",
        "\n",
        "These commands were executed:\n",
        ">>> from __future__ import division\n",
        ">>> from sympy import *\n",
        ">>> x, y, z, t = symbols('x y z t')\n",
        ">>> k, m, n = symbols('k m n', integer=True)\n",
        ">>> f, g, h = symbols('f g h', cls=Function)\n",
        ">>> init_printing()\n",
        "\n",
        "Documentation can be found at http://www.sympy.org\n"
       ]
      }
     ],
     "prompt_number": 70
    },
    {
     "cell_type": "heading",
     "level": 2,
     "metadata": {},
     "source": [
      "Motion of three masses, four springs and fixed boundaries"
     ]
    },
    {
     "cell_type": "code",
     "collapsed": false,
     "input": [
      "e = MatrixSymbol('e',4,1)\n",
      "w = MatrixSymbol('w',4,1)\n",
      "F = MatrixSymbol('F',4,1)\n",
      "c = MatrixSymbol('c',4,4)\n",
      "m = MatrixSymbol('m',3,1)\n",
      "u = MatrixSymbol('u',3,1)"
     ],
     "language": "python",
     "metadata": {},
     "outputs": [],
     "prompt_number": 71
    },
    {
     "cell_type": "code",
     "collapsed": false,
     "input": [
      "#The change in length of the spring, e = a combination,A x displacement values, u\n",
      "A = Matrix([[1,0,0],[-1,1,0],[0,-1,1],[0,0,-1]])\n",
      "C = Matrix([[c[0],0,0,0],[0,c[1],0,0],[0,0,c[2],0],[0,0,0,c[3]]])\n",
      "Matrix(e), MatMul(A,Matrix(u)),C"
     ],
     "language": "python",
     "metadata": {},
     "outputs": [
      {
       "latex": [
        "$$\\left ( \\left[\\begin{array}{c}e_{0, 0}\\\\e_{1, 0}\\\\e_{2, 0}\\\\e_{3, 0}\\end{array}\\right], \\quad \\left[\\begin{matrix}1 & 0 & 0\\\\-1 & 1 & 0\\\\0 & -1 & 1\\\\0 & 0 & -1\\end{matrix}\\right] \\left[\\begin{matrix}u_{0, 0}\\\\u_{1, 0}\\\\u_{2, 0}\\end{matrix}\\right], \\quad \\left[\\begin{matrix}c_{0, 0} & 0 & 0 & 0\\\\0 & c_{0, 1} & 0 & 0\\\\0 & 0 & c_{0, 2} & 0\\\\0 & 0 & 0 & c_{0, 3}\\end{matrix}\\right]\\right )$$"
       ],
       "metadata": {},
       "output_type": "pyout",
       "prompt_number": 119,
       "text": [
        "\u239b\u23a1e\u2080\u2080\u23a4, \u23a11   0   0 \u23a4\u22c5\u23a1u\u2080\u2080\u23a4, \u23a1c\u2080\u2080   0    0    0 \u23a4\u239e\n",
        "\u239c\u23a2   \u23a5  \u23a2          \u23a5 \u23a2   \u23a5  \u23a2                  \u23a5\u239f\n",
        "\u239c\u23a2e\u2081\u2080\u23a5  \u23a2-1  1   0 \u23a5 \u23a2u\u2081\u2080\u23a5  \u23a2 0   c\u2080\u2081   0    0 \u23a5\u239f\n",
        "\u239c\u23a2   \u23a5  \u23a2          \u23a5 \u23a2   \u23a5  \u23a2                  \u23a5\u239f\n",
        "\u239c\u23a2e\u2082\u2080\u23a5  \u23a20   -1  1 \u23a5 \u23a3u\u2082\u2080\u23a6  \u23a2 0    0   c\u2080\u2082   0 \u23a5\u239f\n",
        "\u239c\u23a2   \u23a5  \u23a2          \u23a5        \u23a2                  \u23a5\u239f\n",
        "\u239d\u23a3e\u2083\u2080\u23a6  \u23a30   0   -1\u23a6        \u23a3 0    0    0   c\u2080\u2083\u23a6\u23a0"
       ]
      }
     ],
     "prompt_number": 119
    },
    {
     "cell_type": "code",
     "collapsed": false,
     "input": [
      "#We also know that the force on each spring, w, is a combination of the spring constant, c and the elongation, e.\n",
      "Matrix(w), MatMul(C,Matrix(e))"
     ],
     "language": "python",
     "metadata": {},
     "outputs": [
      {
       "latex": [
        "$$\\left ( \\left[\\begin{array}{c}w_{0, 0}\\\\w_{1, 0}\\\\w_{2, 0}\\\\w_{3, 0}\\end{array}\\right], \\quad \\left[\\begin{matrix}c_{0, 0} & 0 & 0 & 0\\\\0 & c_{0, 1} & 0 & 0\\\\0 & 0 & c_{0, 2} & 0\\\\0 & 0 & 0 & c_{0, 3}\\end{matrix}\\right] \\left[\\begin{matrix}e_{0, 0}\\\\e_{1, 0}\\\\e_{2, 0}\\\\e_{3, 0}\\end{matrix}\\right]\\right )$$"
       ],
       "metadata": {},
       "output_type": "pyout",
       "prompt_number": 120,
       "text": [
        "\u239b\u23a1w\u2080\u2080\u23a4, \u23a1c\u2080\u2080   0    0    0 \u23a4\u22c5\u23a1e\u2080\u2080\u23a4\u239e\n",
        "\u239c\u23a2   \u23a5  \u23a2                  \u23a5 \u23a2   \u23a5\u239f\n",
        "\u239c\u23a2w\u2081\u2080\u23a5  \u23a2 0   c\u2080\u2081   0    0 \u23a5 \u23a2e\u2081\u2080\u23a5\u239f\n",
        "\u239c\u23a2   \u23a5  \u23a2                  \u23a5 \u23a2   \u23a5\u239f\n",
        "\u239c\u23a2w\u2082\u2080\u23a5  \u23a2 0    0   c\u2080\u2082   0 \u23a5 \u23a2e\u2082\u2080\u23a5\u239f\n",
        "\u239c\u23a2   \u23a5  \u23a2                  \u23a5 \u23a2   \u23a5\u239f\n",
        "\u239d\u23a3w\u2083\u2080\u23a6  \u23a3 0    0    0   c\u2080\u2083\u23a6 \u23a3e\u2083\u2080\u23a6\u23a0"
       ]
      }
     ],
     "prompt_number": 120
    },
    {
     "cell_type": "code",
     "collapsed": false,
     "input": [
      "#We also know that each force on eahc spring, w is the sum of forces below of the mass and spring.\n",
      "# w1 = w2 +m1.g <=> w1 - w2 = m1.g\n",
      "#This produces the matrix f = A_transpose x w\n",
      "Matrix(F), MatMul(Transpose(A).doit(),Matrix(w))"
     ],
     "language": "python",
     "metadata": {},
     "outputs": [
      {
       "output_type": "stream",
       "stream": "stderr",
       "text": [
        "/Applications/Canopy.app/appdata/canopy-1.5.1.2730.macosx-x86/Canopy.app/Contents/lib/python2.7/site-packages/IPython/core/formatters.py:239: FormatterWarning: Exception in image/png formatter: \n",
        "\\left ( \\left[\\begin{smallmatrix}2\\\\3\\\\1\\end{smallmatrix}\\right], \\quad \\left[\\begin{smallmatrix}1 & -1 & 0 & 0\\\\0 & 1 & -1 & 0\\\\0 & 0 & 1 & -1\\end{smallmatrix}\\right] \\left[\\begin{smallmatrix}w_{0, 0}\\\\w_{1, 0}\\\\w_{2, 0}\\\\w_{3, 0}\\end{smallmatrix}\\right]\\right )\n",
        "              ^\n",
        "Expected \"\\right\" (at char 14), (line:1, col:15)\n",
        "  FormatterWarning,\n"
       ]
      },
      {
       "latex": [
        "$$\\left ( \\left[\\begin{matrix}2\\\\3\\\\1\\end{matrix}\\right], \\quad \\left[\\begin{matrix}1 & -1 & 0 & 0\\\\0 & 1 & -1 & 0\\\\0 & 0 & 1 & -1\\end{matrix}\\right] \\left[\\begin{matrix}w_{0, 0}\\\\w_{1, 0}\\\\w_{2, 0}\\\\w_{3, 0}\\end{matrix}\\right]\\right )$$"
       ],
       "metadata": {},
       "output_type": "pyout",
       "prompt_number": 121,
       "text": [
        "\u239b\u23a12\u23a4, \u23a11  -1  0   0 \u23a4\u22c5\u23a1w\u2080\u2080\u23a4\u239e\n",
        "\u239c\u23a2 \u23a5  \u23a2             \u23a5 \u23a2   \u23a5\u239f\n",
        "\u239c\u23a23\u23a5  \u23a20  1   -1  0 \u23a5 \u23a2w\u2081\u2080\u23a5\u239f\n",
        "\u239c\u23a2 \u23a5  \u23a2             \u23a5 \u23a2   \u23a5\u239f\n",
        "\u239c\u23a31\u23a6  \u23a30  0   1   -1\u23a6 \u23a2w\u2082\u2080\u23a5\u239f\n",
        "\u239c                     \u23a2   \u23a5\u239f\n",
        "\u239d                     \u23a3w\u2083\u2080\u23a6\u23a0"
       ]
      }
     ],
     "prompt_number": 121
    },
    {
     "cell_type": "code",
     "collapsed": false,
     "input": [
      "#We now have three equations:\n",
      "    #e = Au\n",
      "    #w = Ce\n",
      "    #F = A_transpose.w\n",
      "#Back substituting, this gives a \"Stiffness\" matrix, K = A_transpose.C.A\n",
      "At = Transpose(A).doit()\n",
      "Matrix(F), MatMul(At,Matrix(w))"
     ],
     "language": "python",
     "metadata": {},
     "outputs": [
      {
       "latex": [
        "$$\\left ( \\left[\\begin{matrix}2\\\\3\\\\1\\end{matrix}\\right], \\quad \\left[\\begin{matrix}1 & -1 & 0 & 0\\\\0 & 1 & -1 & 0\\\\0 & 0 & 1 & -1\\end{matrix}\\right] \\left[\\begin{matrix}w_{0, 0}\\\\w_{1, 0}\\\\w_{2, 0}\\\\w_{3, 0}\\end{matrix}\\right]\\right )$$"
       ],
       "metadata": {},
       "output_type": "pyout",
       "prompt_number": 122,
       "text": [
        "\u239b\u23a12\u23a4, \u23a11  -1  0   0 \u23a4\u22c5\u23a1w\u2080\u2080\u23a4\u239e\n",
        "\u239c\u23a2 \u23a5  \u23a2             \u23a5 \u23a2   \u23a5\u239f\n",
        "\u239c\u23a23\u23a5  \u23a20  1   -1  0 \u23a5 \u23a2w\u2081\u2080\u23a5\u239f\n",
        "\u239c\u23a2 \u23a5  \u23a2             \u23a5 \u23a2   \u23a5\u239f\n",
        "\u239c\u23a31\u23a6  \u23a30  0   1   -1\u23a6 \u23a2w\u2082\u2080\u23a5\u239f\n",
        "\u239c                     \u23a2   \u23a5\u239f\n",
        "\u239d                     \u23a3w\u2083\u2080\u23a6\u23a0"
       ]
      }
     ],
     "prompt_number": 122
    },
    {
     "cell_type": "code",
     "collapsed": false,
     "input": [
      "K = MatMul(At,C,A).doit()\n",
      "K"
     ],
     "language": "python",
     "metadata": {},
     "outputs": [
      {
       "latex": [
        "$$\\left[\\begin{matrix}c_{0, 0} + c_{0, 1} & - c_{0, 1} & 0\\\\- c_{0, 1} & c_{0, 1} + c_{0, 2} & - c_{0, 2}\\\\0 & - c_{0, 2} & c_{0, 2} + c_{0, 3}\\end{matrix}\\right]$$"
       ],
       "metadata": {},
       "output_type": "pyout",
       "prompt_number": 123,
       "text": [
        "\u23a1c\u2080\u2080 + c\u2080\u2081    -c\u2080\u2081         0    \u23a4\n",
        "\u23a2                               \u23a5\n",
        "\u23a2  -c\u2080\u2081     c\u2080\u2081 + c\u2080\u2082    -c\u2080\u2082   \u23a5\n",
        "\u23a2                               \u23a5\n",
        "\u23a3    0        -c\u2080\u2082     c\u2080\u2082 + c\u2080\u2083\u23a6"
       ]
      }
     ],
     "prompt_number": 123
    },
    {
     "cell_type": "code",
     "collapsed": false,
     "input": [
      "#Now we have an equation F = Ku, which if we know the values of the spring constants and forces, can be solved.\n",
      "K = K.subs(c[0],1).subs(c[1],2).subs(c[2],2).subs(c[3],1)\n",
      "K"
     ],
     "language": "python",
     "metadata": {},
     "outputs": [
      {
       "latex": [
        "$$\\left[\\begin{matrix}3 & -2 & 0\\\\-2 & 4 & -2\\\\0 & -2 & 3\\end{matrix}\\right]$$"
       ],
       "metadata": {},
       "output_type": "pyout",
       "prompt_number": 130,
       "text": [
        "\u23a13   -2  0 \u23a4\n",
        "\u23a2          \u23a5\n",
        "\u23a2-2  4   -2\u23a5\n",
        "\u23a2          \u23a5\n",
        "\u23a30   -2  3 \u23a6"
       ]
      }
     ],
     "prompt_number": 130
    },
    {
     "cell_type": "code",
     "collapsed": false,
     "input": [
      "F = Matrix([2,3,1]).as_mutable()\n",
      "U = mpmath.lu_solve(K2,F)\n",
      "U"
     ],
     "language": "python",
     "metadata": {},
     "outputs": [
      {
       "metadata": {},
       "output_type": "pyout",
       "prompt_number": 131,
       "text": [
        "matrix(\n",
        "[['3.16666666666667'],\n",
        " ['3.75'],\n",
        " ['2.83333333333333']])"
       ]
      }
     ],
     "prompt_number": 131
    },
    {
     "cell_type": "markdown",
     "metadata": {},
     "source": [
      "So to summarise. The key is in finding a value for A, which then can be transposed and formed into K = A^T.C.A. Once this is done, if the forces are known, it generally becomes possible for the displacement values to be known. If displacement values were known, then the forces could possibly be calculated as K_inverse.u. "
     ]
    },
    {
     "cell_type": "code",
     "collapsed": false,
     "input": [
      "K_inv = Inverse(K).doit()\n",
      "K_inv"
     ],
     "language": "python",
     "metadata": {},
     "outputs": [
      {
       "latex": [
        "$$\\left[\\begin{matrix}\\frac{2}{3} & \\frac{1}{2} & \\frac{1}{3}\\\\\\frac{1}{2} & \\frac{3}{4} & \\frac{1}{2}\\\\\\frac{1}{3} & \\frac{1}{2} & \\frac{2}{3}\\end{matrix}\\right]$$"
       ],
       "metadata": {},
       "output_type": "pyout",
       "prompt_number": 128,
       "text": [
        "\u23a12/3  1/2  1/3\u23a4\n",
        "\u23a2             \u23a5\n",
        "\u23a21/2  3/4  1/2\u23a5\n",
        "\u23a2             \u23a5\n",
        "\u23a31/3  1/2  2/3\u23a6"
       ]
      }
     ],
     "prompt_number": 128
    },
    {
     "cell_type": "heading",
     "level": 2,
     "metadata": {},
     "source": [
      "Oscillating Springs"
     ]
    },
    {
     "cell_type": "code",
     "collapsed": false,
     "input": [],
     "language": "python",
     "metadata": {},
     "outputs": []
    }
   ],
   "metadata": {}
  }
 ]
}