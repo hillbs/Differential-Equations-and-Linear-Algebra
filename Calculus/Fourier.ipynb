{
 "metadata": {
  "name": "Fourier.ipynb"
 },
 "nbformat": 3,
 "nbformat_minor": 0,
 "worksheets": [
  {
   "cells": [
    {
     "cell_type": "heading",
     "level": 1,
     "metadata": {},
     "source": [
      "Fourier Series"
     ]
    },
    {
     "cell_type": "code",
     "collapsed": false,
     "input": [
      "from sympy import init_printing\n",
      "init_printing(True) #use_unicode=True)\n",
      "from sympy import *\n",
      "init_session()\n",
      "s, a, b, i, L, F = symbols('s a b i L F')\n",
      "from sympy.abc import greeks"
     ],
     "language": "python",
     "metadata": {},
     "outputs": [
      {
       "output_type": "stream",
       "stream": "stdout",
       "text": [
        "IPython console for SymPy 0.7.5 (Python 2.7.6-32-bit) (ground types: python)\n",
        "\n",
        "These commands were executed:\n",
        ">>> from __future__ import division\n",
        ">>> from sympy import *\n",
        ">>> x, y, z, t = symbols('x y z t')\n",
        ">>> k, m, n = symbols('k m n', integer=True)\n",
        ">>> f, g, h = symbols('f g h', cls=Function)\n",
        "\n",
        "Documentation can be found at http://www.sympy.org\n"
       ]
      }
     ],
     "prompt_number": 139
    },
    {
     "cell_type": "heading",
     "level": 2,
     "metadata": {},
     "source": [
      "Developing the logic behind a Fourier Series"
     ]
    },
    {
     "cell_type": "markdown",
     "metadata": {},
     "source": [
      "First, the Fourier Series is an expression of an \\begin{eqnarray*}f(t)\\end{eqnarray*} in terms of sines and cosines. This shows that the principle extends to other functions, provided that there is a periodic function related to a period of 2 Pi."
     ]
    },
    {
     "cell_type": "code",
     "collapsed": false,
     "input": [
      "a0 = Symbol('a_0')\n",
      "a = Symbol('a_n')\n",
      "b = Symbol('b_n')\n",
      "q = Eq(a*cos(n*t) + b*sin(n*t),0)\n",
      "Eq(f(t), a0/2 + summation(q.lhs,(n,1,oo)))"
     ],
     "language": "python",
     "metadata": {},
     "outputs": [
      {
       "latex": [
        "$$f{\\left (t \\right )} = \\frac{a_{0}}{2} + \\sum_{n=1}^{\\infty} \\left(a_{n} \\cos{\\left (n t \\right )} + b_{n} \\sin{\\left (n t \\right )}\\right)$$"
       ],
       "metadata": {},
       "output_type": "pyout",
       "png": "[encoded data removed]",
       "prompt_number": 140,
       "text": [
        "              \u221e                                \n",
        "             ___                               \n",
        "             \u2572                                 \n",
        "       a\u2080     \u2572   (a_n\u22c5cos(n\u22c5t) + b_n\u22c5sin(n\u22c5t))\n",
        "f(t) = \u2500\u2500 +   \u2571                                \n",
        "       2     \u2571                                 \n",
        "             \u203e\u203e\u203e                               \n",
        "            n = 1                              "
       ]
      }
     ],
     "prompt_number": 140
    },
    {
     "cell_type": "heading",
     "level": 2,
     "metadata": {},
     "source": [
      "Orthongonality of relations"
     ]
    },
    {
     "cell_type": "markdown",
     "metadata": {},
     "source": [
      "For two functions u(t) and v(t), over a period [-pi,pi], finding the coefficients depends on the orthogonality of u and v to each other when integrated. "
     ]
    },
    {
     "cell_type": "code",
     "collapsed": false,
     "input": [
      "u,v = symbols('u v', cls=Function)\n",
      "I1 = Integral(u(t)*v(t), (t,-pi,pi))\n",
      "I1"
     ],
     "language": "python",
     "metadata": {},
     "outputs": [
      {
       "latex": [
        "$$\\int_{- \\pi}^{\\pi} u{\\left (t \\right )} v{\\left (t \\right )}\\, dt$$"
       ],
       "metadata": {},
       "output_type": "pyout",
       "png": "[encoded data removed]",
       "prompt_number": 141,
       "text": [
        "\u03c0              \n",
        "\u2320              \n",
        "\u23ae  u(t)\u22c5v(t) dt\n",
        "\u2321              \n",
        "-\u03c0             "
       ]
      }
     ],
     "prompt_number": 141
    },
    {
     "cell_type": "code",
     "collapsed": false,
     "input": [
      "I1.subs(u(t), sin(t)).subs(v(t),cos(t))"
     ],
     "language": "python",
     "metadata": {},
     "outputs": [
      {
       "latex": [
        "$$\\int_{- \\pi}^{\\pi} \\sin{\\left (t \\right )} \\cos{\\left (t \\right )}\\, dt$$"
       ],
       "metadata": {},
       "output_type": "pyout",
       "png": "[encoded data removed]",
       "prompt_number": 142,
       "text": [
        "\u03c0                  \n",
        "\u2320                  \n",
        "\u23ae  sin(t)\u22c5cos(t) dt\n",
        "\u2321                  \n",
        "-\u03c0                 "
       ]
      }
     ],
     "prompt_number": 142
    },
    {
     "cell_type": "code",
     "collapsed": false,
     "input": [
      "Eq(I1.subs(u(t), sin(t)).subs(v(t),cos(t)), I1.subs(u(t), sin(t)).subs(v(t),cos(t)).doit())"
     ],
     "language": "python",
     "metadata": {},
     "outputs": [
      {
       "latex": [
        "$$\\int_{- \\pi}^{\\pi} \\sin{\\left (t \\right )} \\cos{\\left (t \\right )}\\, dt = 0$$"
       ],
       "metadata": {},
       "output_type": "pyout",
       "png": "[encoded data removed]",
       "prompt_number": 143,
       "text": [
        "\u03c0                      \n",
        "\u2320                      \n",
        "\u23ae  sin(t)\u22c5cos(t) dt = 0\n",
        "\u2321                      \n",
        "-\u03c0                     "
       ]
      }
     ],
     "prompt_number": 143
    },
    {
     "cell_type": "markdown",
     "metadata": {},
     "source": [
      "So, because the integral of the product of these functions = 0, they are orthogonal. And so these functions all have in common that they satisfy the following differential equation. n, in the equation, is the frequency, which is allowed to vary. "
     ]
    },
    {
     "cell_type": "code",
     "collapsed": false,
     "input": [
      "Eq(diff(u(t),t,2) + n**2*u(t),0)"
     ],
     "language": "python",
     "metadata": {},
     "outputs": [
      {
       "latex": [
        "$$n^{2} u{\\left (t \\right )} + \\frac{d^{2}}{d t^{2}}  u{\\left (t \\right )} = 0$$"
       ],
       "metadata": {},
       "output_type": "pyout",
       "png": "[encoded data removed]",
       "prompt_number": 144,
       "text": [
        "            2          \n",
        " 2         d           \n",
        "n \u22c5u(t) + \u2500\u2500\u2500(u(t)) = 0\n",
        "            2          \n",
        "          dt           "
       ]
      }
     ],
     "prompt_number": 144
    },
    {
     "cell_type": "markdown",
     "metadata": {},
     "source": [
      "The n**2 is the omega 0 squared in resonant frequency analysis. Hence, the solution to this differential equation will by definition select terms in the summation that weight the resonant elements. "
     ]
    },
    {
     "cell_type": "heading",
     "level": 2,
     "metadata": {},
     "source": [
      "Extending the Fourier Series beyond the initial period [-pi,pi]."
     ]
    },
    {
     "cell_type": "markdown",
     "metadata": {},
     "source": [
      "This formula also extends to any period L on a line u. The relationship to pi on the line t is that u = pi.t/L"
     ]
    },
    {
     "cell_type": "code",
     "collapsed": false,
     "input": [
      "q = Eq(a*cos(n*(pi/L)*t) + b*sin(n*pi/L*t),0)\n",
      "Eq(f(t), a0/2 + summation(q.lhs,(n,1,oo)))"
     ],
     "language": "python",
     "metadata": {},
     "outputs": [
      {
       "latex": [
        "$$f{\\left (t \\right )} = \\frac{a_{0}}{2} + \\sum_{n=1}^{\\infty} \\left(a_{n} \\cos{\\left (\\frac{\\pi t}{L} n \\right )} + b_{n} \\sin{\\left (\\frac{\\pi t}{L} n \\right )}\\right)$$"
       ],
       "metadata": {},
       "output_type": "pyout",
       "png": "[encoded data removed]",
       "prompt_number": 145,
       "text": [
        "              \u221e                                    \n",
        "             ____                                  \n",
        "             \u2572                                     \n",
        "              \u2572   \u239b       \u239b\u03c0\u22c5n\u22c5t\u239e          \u239b\u03c0\u22c5n\u22c5t\u239e\u239e\n",
        "       a\u2080      \u2572  \u239ca_n\u22c5cos\u239c\u2500\u2500\u2500\u2500\u2500\u239f + b_n\u22c5sin\u239c\u2500\u2500\u2500\u2500\u2500\u239f\u239f\n",
        "f(t) = \u2500\u2500 +    \u2571  \u239d       \u239d  L  \u23a0          \u239d  L  \u23a0\u23a0\n",
        "       2      \u2571                                    \n",
        "             \u2571                                     \n",
        "             \u203e\u203e\u203e\u203e                                  \n",
        "            n = 1                                  "
       ]
      }
     ],
     "prompt_number": 145
    },
    {
     "cell_type": "markdown",
     "metadata": {},
     "source": [
      "The solution to a_n and b_n then is as below."
     ]
    },
    {
     "cell_type": "code",
     "collapsed": false,
     "input": [
      "Eq(a, 1/L*Integral(f(t)*cos(n*pi*t/L),(t,-L,L)))"
     ],
     "language": "python",
     "metadata": {},
     "outputs": [
      {
       "latex": [
        "$$a_{n} = \\frac{1}{L} \\int_{- L}^{L} f{\\left (t \\right )} \\cos{\\left (\\frac{\\pi t}{L} n \\right )}\\, dt$$"
       ],
       "metadata": {},
       "output_type": "pyout",
       "png": "[encoded data removed]",
       "prompt_number": 146,
       "text": [
        "      L                    \n",
        "      \u2320                    \n",
        "      \u23ae          \u239b\u03c0\u22c5n\u22c5t\u239e   \n",
        "      \u23ae  f(t)\u22c5cos\u239c\u2500\u2500\u2500\u2500\u2500\u239f dt\n",
        "      \u23ae          \u239d  L  \u23a0   \n",
        "      \u2321                    \n",
        "      -L                   \n",
        "a_n = \u2500\u2500\u2500\u2500\u2500\u2500\u2500\u2500\u2500\u2500\u2500\u2500\u2500\u2500\u2500\u2500\u2500\u2500\u2500\u2500\u2500\n",
        "                L          "
       ]
      }
     ],
     "prompt_number": 146
    },
    {
     "cell_type": "code",
     "collapsed": false,
     "input": [
      "Eq(b, 1/L*Integral(f(t)*sin(n*pi*t/L),(t,-L,L)))"
     ],
     "language": "python",
     "metadata": {},
     "outputs": [
      {
       "latex": [
        "$$b_{n} = \\frac{1}{L} \\int_{- L}^{L} f{\\left (t \\right )} \\sin{\\left (\\frac{\\pi t}{L} n \\right )}\\, dt$$"
       ],
       "metadata": {},
       "output_type": "pyout",
       "png": "[encoded data removed]",
       "prompt_number": 147,
       "text": [
        "      L                    \n",
        "      \u2320                    \n",
        "      \u23ae          \u239b\u03c0\u22c5n\u22c5t\u239e   \n",
        "      \u23ae  f(t)\u22c5sin\u239c\u2500\u2500\u2500\u2500\u2500\u239f dt\n",
        "      \u23ae          \u239d  L  \u23a0   \n",
        "      \u2321                    \n",
        "      -L                   \n",
        "b_n = \u2500\u2500\u2500\u2500\u2500\u2500\u2500\u2500\u2500\u2500\u2500\u2500\u2500\u2500\u2500\u2500\u2500\u2500\u2500\u2500\u2500\n",
        "                L          "
       ]
      }
     ],
     "prompt_number": 147
    },
    {
     "cell_type": "markdown",
     "metadata": {},
     "source": [
      "Example 1. This function is odd, so uses b_n only."
     ]
    },
    {
     "cell_type": "code",
     "collapsed": false,
     "input": [
      "Eq(f(t),t)"
     ],
     "language": "python",
     "metadata": {},
     "outputs": [
      {
       "latex": [
        "$$f{\\left (t \\right )} = t$$"
       ],
       "metadata": {},
       "output_type": "pyout",
       "png": "[encoded data removed]",
       "prompt_number": 148,
       "text": [
        "f(t) = t"
       ]
      }
     ],
     "prompt_number": 148
    },
    {
     "cell_type": "code",
     "collapsed": false,
     "input": [
      "Eq(b, 1/L*Integral(t*sin(n*pi/L*t),(t,-pi,pi)))"
     ],
     "language": "python",
     "metadata": {},
     "outputs": [
      {
       "latex": [
        "$$b_{n} = \\frac{1}{\\pi} \\int_{- \\pi}^{\\pi} t \\sin{\\left (n t \\right )}\\, dt$$"
       ],
       "metadata": {},
       "output_type": "pyout",
       "png": "[encoded data removed]",
       "prompt_number": 149,
       "text": [
        "      \u03c0               \n",
        "      \u2320               \n",
        "      \u23ae  t\u22c5sin(n\u22c5t) dt\n",
        "      \u2321               \n",
        "      -\u03c0              \n",
        "b_n = \u2500\u2500\u2500\u2500\u2500\u2500\u2500\u2500\u2500\u2500\u2500\u2500\u2500\u2500\u2500\u2500\n",
        "             \u03c0        "
       ]
      }
     ],
     "prompt_number": 149
    },
    {
     "cell_type": "code",
     "collapsed": false,
     "input": [
      "Ex_1_result = Eq(b, 1/L*Integral(t*sin(n*pi/L*t),(t,-pi,pi))).doit()\n",
      "Ex_1_result"
     ],
     "language": "python",
     "metadata": {},
     "outputs": [
      {
       "latex": [
        "$$b_{n} = \\frac{1}{\\pi} \\begin{cases} 0 & \\text{for}\\: n = 0 \\\\- \\frac{2 \\pi}{n} \\left(-1\\right)^{n} & \\text{otherwise} \\end{cases}$$"
       ],
       "metadata": {},
       "output_type": "pyout",
       "prompt_number": 150,
       "text": [
        "      \u23a7     0       for n = 0\n",
        "      \u23aa                      \n",
        "      \u23aa       n              \n",
        "      \u23a8-2\u22c5(-1) \u22c5\u03c0            \n",
        "      \u23aa\u2500\u2500\u2500\u2500\u2500\u2500\u2500\u2500\u2500\u2500\u2500  otherwise\n",
        "      \u23aa     n                \n",
        "      \u23a9                      \n",
        "b_n = \u2500\u2500\u2500\u2500\u2500\u2500\u2500\u2500\u2500\u2500\u2500\u2500\u2500\u2500\u2500\u2500\u2500\u2500\u2500\u2500\u2500\u2500\u2500\n",
        "                 \u03c0           "
       ]
      }
     ],
     "prompt_number": 150
    },
    {
     "cell_type": "code",
     "collapsed": false,
     "input": [
      "print 'Let us check the size of the coefficients for bn.'\n",
      "for i in range(10):\n",
      "    l = Ex_1_result.subs(n,i).doit().evalf()\n",
      "    print l"
     ],
     "language": "python",
     "metadata": {},
     "outputs": [
      {
       "output_type": "stream",
       "stream": "stdout",
       "text": [
        "Let us check the size of the coefficients for bn.\n",
        "b_n == 0\n",
        "b_n == 2.0\n",
        "b_n == -1.0\n",
        "b_n == 0.666666666666667\n",
        "b_n == -0.5\n",
        "b_n == 0.4\n",
        "b_n == -0.333333333333333\n",
        "b_n == 0.285714285714286\n",
        "b_n == -0.25\n",
        "b_n == 0.222222222222222\n"
       ]
      }
     ],
     "prompt_number": 161
    },
    {
     "cell_type": "code",
     "collapsed": false,
     "input": [
      "Eq(b, 1/L*Integral(t*sin(n*pi/L*t),(t,-pi,pi))).subs(n,(3)).doit().evalf()"
     ],
     "language": "python",
     "metadata": {},
     "outputs": [
      {
       "latex": [
        "$$b_{n} = 0.666666666666667$$"
       ],
       "metadata": {},
       "output_type": "pyout",
       "png": "[encoded data removed]",
       "prompt_number": 162,
       "text": [
        "b_n = 0.666666666666667"
       ]
      }
     ],
     "prompt_number": 162
    },
    {
     "cell_type": "markdown",
     "metadata": {},
     "source": [
      "Now this result need to be incorporated back into the original F(s)"
     ]
    },
    {
     "cell_type": "code",
     "collapsed": false,
     "input": [
      "Ex_1 = Eq(b*sin(n*pi/L*t),0)\n",
      "Eq(F, 0 + summation(Ex_1_result.rhs*sin(n*pi/L*t),(n,1,oo)))"
     ],
     "language": "python",
     "metadata": {},
     "outputs": [
      {
       "latex": [
        "$$F = \\sum_{n=1}^{\\infty} \\begin{cases} 0 & \\text{for}\\: n = 0 \\\\- \\frac{2 \\left(-1\\right)^{n}}{n} \\sin{\\left (n t \\right )} & \\text{otherwise} \\end{cases}$$"
       ],
       "metadata": {},
       "output_type": "pyout",
       "prompt_number": 152,
       "text": [
        "      \u221e                                  \n",
        "    ______                               \n",
        "    \u2572                                    \n",
        "     \u2572     \u23a7        0           for n = 0\n",
        "      \u2572    \u23aa                             \n",
        "       \u2572   \u23aa       n                     \n",
        "        \u2572  \u23a8-2\u22c5(-1) \u22c5sin(n\u22c5t)            \n",
        "F =     \u2571  \u23aa\u2500\u2500\u2500\u2500\u2500\u2500\u2500\u2500\u2500\u2500\u2500\u2500\u2500\u2500\u2500\u2500\u2500\u2500  otherwise\n",
        "       \u2571   \u23aa        n                    \n",
        "      \u2571    \u23a9                             \n",
        "     \u2571                                   \n",
        "    \u2571                                    \n",
        "    \u203e\u203e\u203e\u203e\u203e\u203e                               \n",
        "    n = 1                                "
       ]
      }
     ],
     "prompt_number": 152
    },
    {
     "cell_type": "code",
     "collapsed": false,
     "input": [
      "Ex_1_result.rhs.subs(n,3).subs(L,pi)*sin(n*pi/L*t).subs(n,3).subs(L,pi)"
     ],
     "language": "python",
     "metadata": {},
     "outputs": [
      {
       "latex": [
        "$$- \\frac{4}{9} \\sin{\\left (3 t \\right )}$$"
       ],
       "metadata": {},
       "output_type": "pyout",
       "png": "[encoded data removed]",
       "prompt_number": 208,
       "text": [
        "-4\u22c5sin(3\u22c5t) \n",
        "\u2500\u2500\u2500\u2500\u2500\u2500\u2500\u2500\u2500\u2500\u2500\u2500\n",
        "     9      "
       ]
      }
     ],
     "prompt_number": 208
    },
    {
     "cell_type": "markdown",
     "metadata": {},
     "source": [
      "Example 2. "
     ]
    },
    {
     "cell_type": "code",
     "collapsed": false,
     "input": [
      "Eq(g(t),t**2)"
     ],
     "language": "python",
     "metadata": {},
     "outputs": [
      {
       "latex": [
        "$$g{\\left (t \\right )} = t^{2}$$"
       ],
       "metadata": {},
       "output_type": "pyout",
       "png": "[encoded data removed]",
       "prompt_number": 172,
       "text": [
        "        2\n",
        "g(t) = t "
       ]
      }
     ],
     "prompt_number": 172
    },
    {
     "cell_type": "code",
     "collapsed": false,
     "input": [
      "Ex_2 = Eq(a, 1/L*Integral(t**2*cos(n*pi/L*t),(t,0,L)))\n",
      "Ex_2"
     ],
     "language": "python",
     "metadata": {},
     "outputs": [
      {
       "latex": [
        "$$a_{n} = \\frac{1}{L} \\int_{0}^{L} t^{2} \\cos{\\left (\\frac{\\pi t}{L} n \\right )}\\, dt$$"
       ],
       "metadata": {},
       "output_type": "pyout",
       "png": "[encoded data removed]",
       "prompt_number": 183,
       "text": [
        "      L                 \n",
        "      \u2320                 \n",
        "      \u23ae  2    \u239b\u03c0\u22c5n\u22c5t\u239e   \n",
        "      \u23ae t \u22c5cos\u239c\u2500\u2500\u2500\u2500\u2500\u239f dt\n",
        "      \u23ae       \u239d  L  \u23a0   \n",
        "      \u2321                 \n",
        "      0                 \n",
        "a_n = \u2500\u2500\u2500\u2500\u2500\u2500\u2500\u2500\u2500\u2500\u2500\u2500\u2500\u2500\u2500\u2500\u2500\u2500\n",
        "              L         "
       ]
      }
     ],
     "prompt_number": 183
    },
    {
     "cell_type": "code",
     "collapsed": false,
     "input": [
      "Ex_2_result = Eq(a, 1/L*Integral(t**2*cos(n*pi/L*t),(t,-L,L))).doit()\n",
      "Ex_2_result"
     ],
     "language": "python",
     "metadata": {},
     "outputs": [
      {
       "latex": [
        "$$a_{n} = \\frac{1}{L} \\begin{cases} \\frac{2 L^{3}}{3} & \\text{for}\\: n = 0 \\\\\\frac{4 \\left(-1\\right)^{n} L^{3}}{\\pi^{2} n^{2}} & \\text{otherwise} \\end{cases}$$"
       ],
       "metadata": {},
       "output_type": "pyout",
       "prompt_number": 184,
       "text": [
        "      \u23a7      3              \n",
        "      \u23aa   2\u22c5L               \n",
        "      \u23aa   \u2500\u2500\u2500\u2500     for n = 0\n",
        "      \u23aa    3                \n",
        "      \u23aa                     \n",
        "      \u23a8      n  3           \n",
        "      \u23aa4\u22c5(-1) \u22c5L            \n",
        "      \u23aa\u2500\u2500\u2500\u2500\u2500\u2500\u2500\u2500\u2500\u2500  otherwise\n",
        "      \u23aa   2  2              \n",
        "      \u23aa  \u03c0 \u22c5n               \n",
        "      \u23a9                     \n",
        "a_n = \u2500\u2500\u2500\u2500\u2500\u2500\u2500\u2500\u2500\u2500\u2500\u2500\u2500\u2500\u2500\u2500\u2500\u2500\u2500\u2500\u2500\u2500\n",
        "                L           "
       ]
      }
     ],
     "prompt_number": 184
    },
    {
     "cell_type": "code",
     "collapsed": false,
     "input": [
      "Ex_2_final = Eq(F, a + summation(4*(-1)**n*L**2/(pi**2*n**2)*cos(n*pi/L*t),(n,1,oo)))\n",
      "Ex_2_final"
     ],
     "language": "python",
     "metadata": {},
     "outputs": [
      {
       "latex": [
        "$$F = a_{n} + \\sum_{n=1}^{\\infty} \\frac{4 \\left(-1\\right)^{n} L^{2}}{\\pi^{2} n^{2}} \\cos{\\left (\\frac{\\pi t}{L} n \\right )}$$"
       ],
       "metadata": {},
       "output_type": "pyout",
       "png": "[encoded data removed]",
       "prompt_number": 209,
       "text": [
        "            \u221e                        \n",
        "          _____                      \n",
        "          \u2572                          \n",
        "           \u2572          n  2    \u239b\u03c0\u22c5n\u22c5t\u239e\n",
        "            \u2572   4\u22c5(-1) \u22c5L \u22c5cos\u239c\u2500\u2500\u2500\u2500\u2500\u239f\n",
        "             \u2572                \u239d  L  \u23a0\n",
        "F = a_n +    \u2571  \u2500\u2500\u2500\u2500\u2500\u2500\u2500\u2500\u2500\u2500\u2500\u2500\u2500\u2500\u2500\u2500\u2500\u2500\u2500\u2500\u2500\n",
        "            \u2571            2  2        \n",
        "           \u2571            \u03c0 \u22c5n         \n",
        "          \u2571                          \n",
        "          \u203e\u203e\u203e\u203e\u203e                      \n",
        "          n = 1                      "
       ]
      }
     ],
     "prompt_number": 209
    },
    {
     "cell_type": "markdown",
     "metadata": {},
     "source": [
      "Only the summation of the cosine part as the function is even."
     ]
    },
    {
     "cell_type": "code",
     "collapsed": false,
     "input": [
      "Ex_2_result.rhs.subs(L,pi).subs(n,0) + Ex_2_result.rhs.subs(n,1).subs(L,pi)*cos(n*pi*t/L).subs(n,1).subs(L,pi).doit()"
     ],
     "language": "python",
     "metadata": {},
     "outputs": [
      {
       "latex": [
        "$$- 4 \\cos{\\left (t \\right )} + \\frac{2 \\pi^{2}}{3}$$"
       ],
       "metadata": {},
       "output_type": "pyout",
       "png": "[encoded data removed]",
       "prompt_number": 217,
       "text": [
        "               2\n",
        "            2\u22c5\u03c0 \n",
        "-4\u22c5cos(t) + \u2500\u2500\u2500\u2500\n",
        "             3  "
       ]
      }
     ],
     "prompt_number": 217
    },
    {
     "cell_type": "code",
     "collapsed": false,
     "input": [],
     "language": "python",
     "metadata": {},
     "outputs": []
    }
   ],
   "metadata": {}
  }
 ]
}