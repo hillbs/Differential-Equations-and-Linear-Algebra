{
 "metadata": {
  "name": "",
  "signature": "sha256:fa74061ac948edc1ca91b52e328fcf81a0628ac557ca84b3717dfc2cba91bfb0"
 },
 "nbformat": 3,
 "nbformat_minor": 0,
 "worksheets": [
  {
   "cells": [
    {
     "cell_type": "heading",
     "level": 1,
     "metadata": {},
     "source": [
      "D003x.2 Unit 4 Probability"
     ]
    },
    {
     "cell_type": "code",
     "collapsed": false,
     "input": [
      "import numpy as np\n",
      "import scipy.linalg as la\n",
      "import matplotlib.pyplot as plt\n",
      "from sympy import init_session\n",
      "init_session()"
     ],
     "language": "python",
     "metadata": {},
     "outputs": [
      {
       "output_type": "stream",
       "stream": "stdout",
       "text": [
        "IPython console for SymPy 0.7.6 (Python 2.7.6-64-bit) (ground types: python)\n",
        "\n",
        "These commands were executed:\n",
        ">>> from __future__ import division\n",
        ">>> from sympy import *\n",
        ">>> x, y, z, t = symbols('x y z t')\n",
        ">>> k, m, n = symbols('k m n', integer=True)\n",
        ">>> f, g, h = symbols('f g h', cls=Function)\n",
        ">>> init_printing()\n",
        "\n",
        "Documentation can be found at http://www.sympy.org\n"
       ]
      }
     ],
     "prompt_number": 3
    },
    {
     "cell_type": "code",
     "collapsed": false,
     "input": [
      "%matplotlib inline\n",
      "d1=d2=d3 =1/3\n",
      "T = np.matrix([[d1,d2,d3,0,0,0,0,0,0],\n",
      "               [0,d1+d3,d2,0,0,0,0,0,0],\n",
      "               [0,d2,d1,0,d3,0,0,0,0],\n",
      "               [0,0,0,0,0,0,0,0,0],\n",
      "               [0,0,0,0,d1,0,d3,d2,0],\n",
      "               [0,0,0,0,0,0,0,0,0],\n",
      "               [0,0,0,0,0,0,d1,d2,d3],\n",
      "               [0,0,0,0,0,0,0,d1,d2+d3],\n",
      "               [0,0,0,0,0,0,0,0,1]])\n",
      "V = np.matrix([1,0,0,0,0,0,0,0,0])\n",
      "Vold = G = V\n",
      "for i in range(16):\n",
      "    Vnew = Vold*T\n",
      "    Vold = Vnew\n",
      "    G = np.row_stack((G,Vnew))\n",
      "plt.rcParams['figure.figsize'] = [8, 12]\n",
      "plt.imshow(G, cmap =  cm.Blues, interpolation = 'nearest')"
     ],
     "language": "python",
     "metadata": {},
     "outputs": [
      {
       "metadata": {},
       "output_type": "pyout",
       "prompt_number": 4,
       "text": [
        "<matplotlib.image.AxesImage at 0x10ecdc7d0>"
       ]
      },
      {
       "metadata": {},
       "output_type": "display_data",
       "png": "[encoded data removed]",
       "text": [
        "<matplotlib.figure.Figure at 0x10eca1d10>"
       ]
      }
     ],
     "prompt_number": 4
    },
    {
     "cell_type": "heading",
     "level": 2,
     "metadata": {},
     "source": [
      "Unit 6: Sports Ranking"
     ]
    },
    {
     "cell_type": "heading",
     "level": 4,
     "metadata": {},
     "source": [
      "The Massey system"
     ]
    },
    {
     "cell_type": "code",
     "collapsed": false,
     "input": [
      "#Team x played Team y winning by 1, Team y played TEam  winning by 15, Team x played Team z losing by 10.\n",
      "A = Matrix([[1,-1,0],[0,1,-1],[-1,0,1]])\n",
      "Teams = Matrix([x,y,z])\n",
      "Results = Matrix([1,15,10])\n",
      "A,Teams, A*Teams, Results"
     ],
     "language": "python",
     "metadata": {},
     "outputs": [
      {
       "latex": [
        "$$\\left ( \\left[\\begin{matrix}1 & -1 & 0\\\\0 & 1 & -1\\\\-1 & 0 & 1\\end{matrix}\\right], \\quad \\left[\\begin{matrix}x\\\\y\\\\z\\end{matrix}\\right], \\quad \\left[\\begin{matrix}x - y\\\\y - z\\\\- x + z\\end{matrix}\\right], \\quad \\left[\\begin{matrix}1\\\\15\\\\10\\end{matrix}\\right]\\right )$$"
       ],
       "metadata": {},
       "output_type": "pyout",
       "png": "[encoded data removed]",
       "prompt_number": 5,
       "text": [
        "\u239b\u23a11   -1  0 \u23a4, \u23a1x\u23a4, \u23a1x - y \u23a4, \u23a11 \u23a4\u239e\n",
        "\u239c\u23a2          \u23a5  \u23a2 \u23a5  \u23a2      \u23a5  \u23a2  \u23a5\u239f\n",
        "\u239c\u23a20   1   -1\u23a5  \u23a2y\u23a5  \u23a2y - z \u23a5  \u23a215\u23a5\u239f\n",
        "\u239c\u23a2          \u23a5  \u23a2 \u23a5  \u23a2      \u23a5  \u23a2  \u23a5\u239f\n",
        "\u239d\u23a3-1  0   1 \u23a6  \u23a3z\u23a6  \u23a3-x + z\u23a6  \u23a310\u23a6\u23a0"
       ]
      }
     ],
     "prompt_number": 5
    },
    {
     "cell_type": "code",
     "collapsed": false,
     "input": [
      "import scipy.linalg as la\n",
      "def Massey_Rank(A, Results):\n",
      "    ''' A is the game matrix with diagonals = 1, Results is the \n",
      "    score difference for each game'''\n",
      "    #Now multiply both sides by A.T\n",
      "    M = A.T*A\n",
      "    R = A.T*Results\n",
      "    #Replace Row m with ones and row m in Results with 0\n",
      "    m = M.cols\n",
      "    M[-1*m] = ones(1, m); R[-1] = 0\n",
      "    #lstsq returns the solution, rank and singular values\n",
      "    Solution = la.lstsq(M,R)\n",
      "    return M, R, Solution[0]\n",
      "Massey_Rank(A,Results)"
     ],
     "language": "python",
     "metadata": {},
     "outputs": [
      {
       "metadata": {},
       "output_type": "pyout",
       "prompt_number": 6,
       "text": [
        "(Matrix([\n",
        " [ 2, -1, -1],\n",
        " [-1,  2, -1],\n",
        " [ 1,  1,  1]]), Matrix([\n",
        " [-9],\n",
        " [14],\n",
        " [ 0]]), array([[-3.        ],\n",
        "        [ 4.66666667],\n",
        "        [-1.66666667]]))"
       ]
      }
     ],
     "prompt_number": 6
    },
    {
     "cell_type": "markdown",
     "metadata": {},
     "source": [
      "The Matrix $A$ also can be arrived at directly. This is done by placing the number of games each team (row) played, then $-1 * \\ number \\ of \\ games$ for each Team col."
     ]
    },
    {
     "cell_type": "heading",
     "level": 4,
     "metadata": {},
     "source": [
      "The Colley Method"
     ]
    },
    {
     "cell_type": "markdown",
     "metadata": {},
     "source": [
      "http://www.colleyrankings.com/matrate.pdf; http://www.mathaware.org/mam/2010/essays/PasteurPredictive.pdf"
     ]
    },
    {
     "cell_type": "code",
     "collapsed": false,
     "input": [
      "#Colley Method\n",
      "nw = 1.\n",
      "ntot = 2.\n",
      "nl = ntot - nw\n",
      "rating_j = 1/2.\n",
      "rating_i = (1+nw)/(2+ntot)\n",
      "rating_i\n",
      "#But when group pools or conferences are used, there is no certainty that the ratings between each group compare. \n",
      "#Colley uses a scheme whereb the actual (not 1/2) rating of the other team is added to the index team rating. \n",
      "effective_rating = (nw - (ntot-nw)/2.) + rating_j "
     ],
     "language": "python",
     "metadata": {},
     "outputs": [],
     "prompt_number": 7
    },
    {
     "cell_type": "markdown",
     "metadata": {},
     "source": [
      "This can all be rewritten as a matrix $C \\vec{r} = \\vec{b}$. The vector $\\vec{r}$ is the rating for each team, which could be $1/2$, or a calculated rating from another pool. The vector $\\vec{b_i} = \\frac{1 + (n_{w,i} \u2212 n_{l,i})}{2}$\n",
      "\n",
      "$C = \\begin{bmatrix}2+n_{tot}&-1\\\\-1&2 + n_{tot}&-1\\\\ &-1&.&.\\\\ & &.&.&-1\\\\ & & &-1&2 + n_{tot} \\end{bmatrix}$  $r = \\begin{bmatrix}r_1\\\\r_2\\\\.\\\\.\\\\r_n \\end{bmatrix}$"
     ]
    },
    {
     "cell_type": "code",
     "collapsed": false,
     "input": [
      "C = eye(5)*(2+ntot)\n",
      "#b = 1 + (nw-nl)/2\n",
      "C[0,2] = C[0,3] =C[0,4] = C[1,2] = C[1,4] = C[2,0] = C[2,1] =  C[2,3] = C[2,4] = C[3,0] = C[3,2] = C[4,0] = C[4,1] = C[4,2] = -1\n",
      "C[0,0] = C[4,4] = 5\n",
      "C[3,3] = 6\n",
      "b = Matrix([1/2.,1,1,1,3/2.])\n",
      "C, b"
     ],
     "language": "python",
     "metadata": {},
     "outputs": [
      {
       "latex": [
        "$$\\left ( \\left[\\begin{matrix}5 & 0 & -1 & -1 & -1\\\\0 & 4.0 & -1 & 0 & -1\\\\-1 & -1 & 4.0 & -1 & -1\\\\-1 & 0 & -1 & 6 & 0\\\\-1 & -1 & -1 & 0 & 5\\end{matrix}\\right], \\quad \\left[\\begin{matrix}0.5\\\\1\\\\1\\\\1\\\\1.5\\end{matrix}\\right]\\right )$$"
       ],
       "metadata": {},
       "output_type": "pyout",
       "png": "[encoded data removed]",
       "prompt_number": 8,
       "text": [
        "\u239b\u23a15    0   -1   -1  -1\u23a4, \u23a10.5\u23a4\u239e\n",
        "\u239c\u23a2                    \u23a5  \u23a2   \u23a5\u239f\n",
        "\u239c\u23a20   4.0  -1   0   -1\u23a5  \u23a2 1 \u23a5\u239f\n",
        "\u239c\u23a2                    \u23a5  \u23a2   \u23a5\u239f\n",
        "\u239c\u23a2-1  -1   4.0  -1  -1\u23a5  \u23a2 1 \u23a5\u239f\n",
        "\u239c\u23a2                    \u23a5  \u23a2   \u23a5\u239f\n",
        "\u239c\u23a2-1   0   -1   6   0 \u23a5  \u23a2 1 \u23a5\u239f\n",
        "\u239c\u23a2                    \u23a5  \u23a2   \u23a5\u239f\n",
        "\u239d\u23a3-1  -1   -1   0   5 \u23a6  \u23a31.5\u23a6\u23a0"
       ]
      }
     ],
     "prompt_number": 8
    },
    {
     "cell_type": "code",
     "collapsed": false,
     "input": [
      "r_vec = la.solve(C,b)\n",
      "r_vec"
     ],
     "language": "python",
     "metadata": {},
     "outputs": [
      {
       "metadata": {},
       "output_type": "pyout",
       "prompt_number": 9,
       "text": [
        "array([[ 0.46558704],\n",
        "       [ 0.61336032],\n",
        "       [ 0.78137652],\n",
        "       [ 0.37449393],\n",
        "       [ 0.67206478]])"
       ]
      }
     ],
     "prompt_number": 9
    },
    {
     "cell_type": "heading",
     "level": 2,
     "metadata": {},
     "source": [
      "Super 15 Rankings"
     ]
    },
    {
     "cell_type": "markdown",
     "metadata": {},
     "source": [
      "Reference to the actual Massey system http://www.masseyratings.com/rate.php?s=sr2015"
     ]
    },
    {
     "cell_type": "heading",
     "level": 4,
     "metadata": {},
     "source": [
      "Massey System"
     ]
    },
    {
     "cell_type": "code",
     "collapsed": false,
     "input": [
      "#Adding a logistic function as per  http://www.mathaware.org/mam/2010/essays/PasteurPredictive.pdf\n",
      "#Weight function for time is noted as 0.95^n\n",
      "Week = 1\n",
      "Weight_by_round = 0.95**(Week)\n",
      "#They also add a logistic function with a cap at 21 and 0 in the middle.\n",
      "#Pasteur 'forgot' to provide the function but here it is -- near enough. \n",
      "@vectorize()\n",
      "def Logistic_func(X,L=28,x0=0,k=.3):\n",
      "    #L = 1 #Maximum value\n",
      "    #x0 = 0 #midpoint value\n",
      "    #k = .2 #steepness\n",
      "    r = L/(1+exp(-k*(X-x0)))\n",
      "    return r -14\n",
      "\n",
      "x1 = np.linspace(-40,40,100)\n",
      "plt.grid()\n",
      "plt.plot(x1,Logistic_func(x1))"
     ],
     "language": "python",
     "metadata": {},
     "outputs": [
      {
       "metadata": {},
       "output_type": "pyout",
       "prompt_number": 45,
       "text": [
        "[<matplotlib.lines.Line2D at 0x1109b2450>]"
       ]
      },
      {
       "metadata": {},
       "output_type": "display_data",
       "png": "[encoded data removed]",
       "text": [
        "<matplotlib.figure.Figure at 0x1109b2410>"
       ]
      }
     ],
     "prompt_number": 45
    },
    {
     "cell_type": "code",
     "collapsed": false,
     "input": [
      "# To end of Round 9 http://www.superrugby.co.nz/Grandstand\n",
      "S15 = Matrix([[11,-2,0,0,-1,0,-2,-2,-1,-1,0,0,0,0,-2],#Crus\n",
      "              [-2,9,-1,-1,-1,-1,0,0,0,0,0,0,-2,-1,0],#Reb\n",
      "              [0,-2,10,-2,0,0,-1,-1,0,-1,0,0,-1,-1,-1],#Brum\n",
      "              [0,-1,-2,10,-1,-1,0,0,0,-1,-1,0,-1,-1,-1],#Red\n",
      "              [-1,-1,0,-1,10,-1,-1,0,-2,-1,-1,-1,0,0,0],#Lion\n",
      "              [0,-1,0,-1,-1,8,-1,0,0,0,-1,-1,-1,0,-1],#Hurr\n",
      "              [-1,0,-1,0,-1,-1,10,-2,0,-1,0,-1,-1,0,-1],#Blues\n",
      "              [-2,0,-1,0,0,0,-2,10,-1,-1,0,-1,0,-1,-1],#Chiefs\n",
      "              [-1,0,0,0,-2,0,0,-1,10,-2,-2,-1,0,-1,0],#Sharks\n",
      "              [-1,0,-1,-1,-1,0,-1,-1,-2,11,-1,0,0,-2,0],#Cheetahs\n",
      "              [-1,0,0,-1,-1,-1,0,0,-2,-1,10,-2,0,-1,0],#Bulls\n",
      "              [0,0,0,0,-1,-1,-1,-1,-1,0,-2,10,-1,-1,-1],#Stormers\n",
      "              [0,-2,-1,-1,0,-1,-1,0,0,0,0,-1,9,-1,-1],#Waratahs\n",
      "              [0,-1,-1,-1,0,-1,0,-1,0,-1,-2,-1,-1,10,0],#Force\n",
      "              [-2,0,-1,-1,0,-1,-1,-1,0,0,0,-1,-1,0,9],#Highlanders\n",
      "              ])\n",
      "\n",
      "#Create base matrix of score differentials across Teams (row) x Round (col)\n",
      "S15_Base = np.matrix([[-10,6,-24,0,28,43,-12,42,-5,-17,14],#Crus\n",
      "                       [10,-10,-5,0,4,-4,-24,8,0,5,-2],#Reb\n",
      "                       [44,-2,5,12,29,-15,0,17,-2,-5,13],#Brum\n",
      "                       [-44,12,-7,-18,-29,0,-1,-8,-21,1,-16],#Red              \n",
      "                       [-14,-17,-2,3,-28,4,1,4,2,0,5],#Lion              \n",
      "                       [14,4,29,0,7,7,24,5,0,-5,16],#Hurr\n",
      "                       [-5,-11,-1,-3,-7,0,-12,-7,2,-6,-14],#Blues\n",
      "                       [5,2,24,-3,9,-1,10,7,0,17,8],#Chiefs\n",
      "                       [-6,17,-8,-16,17,1,6,-42,-2,-7,0],#Sharks\n",
      "                       [6,0,1,-19,-17,-43,-10,-17,9,-1,-5],#Cheetahs\n",
      "                       [-12,-4,8,19,0,1,12,-4,21,7,-2],#Bulls\n",
      "                       [12,11,2,16,-9,0,-18,-5,14,7,2],#Stormers\n",
      "                       [-12,10,0,18,-7,15,12,0,-14,5,2],#Waratahs\n",
      "                       [12,-12,-29,-12,-4,-1,-6,0,-9,-7,-8],#Force\n",
      "                       [0,-6,7,3,7,-7,18,0,5,6,-13],#Highlanders\n",
      "                       ])\n",
      "#Apply time correction\n",
      "x2 = [0.95**(shape(S15_Base)[1]-1-i) for i in range(shape(S15_Base)[1])]\n",
      "Timebase = np.multiply(S15_Base,x2)\n",
      "\n",
      "#Apply Logistic function to matrix\n",
      "Log_array = np.frompyfunc(Logistic_func,1,1)\n",
      "S15Results = Log_array(Timebase)\n",
      "\n",
      "#Sum the Columns of Scores x Week\n",
      "S15Results= S15_Base.sum(axis=1)\n",
      " \n",
      "Cr, Reb, Br, Red,Li,Hu,Bl,Chief,Sh,Cheet,Bull,St,Wa,Fo,Hi = symbols('Crusaders Rebels Brumbies Reds Lions Hurricanes Blues Chiefs Sharks Cheetahs Bulls Stormers Waratahs Force Highlanders')\n",
      "S15_names = Matrix([Cr, Reb, Br, Red,Li,Hu,Bl,Chief,Sh,Cheet,Bull,St,Wa,Fo,Hi])\n",
      "#Massey_Rank(S15,S15Results)\n",
      "S15_M = S15.copy()\n",
      "m = S15_M.cols\n",
      "S15_M[-1*m] = ones(1, m); S15Results[-1] = 0\n",
      "    #lstsq returns the solution, rank and singular values\n",
      "la.lstsq(S15_M,S15Results)"
     ],
     "language": "python",
     "metadata": {},
     "outputs": [
      {
       "metadata": {},
       "output_type": "pyout",
       "prompt_number": 46,
       "text": [
        "(array([[  5.13634687],\n",
        "        [ -0.70421023],\n",
        "        [  6.4696155 ],\n",
        "        [-12.03118606],\n",
        "        [ -5.66831065],\n",
        "        [ 11.6403895 ],\n",
        "        [ -3.14203008],\n",
        "        [  7.33582378],\n",
        "        [ -5.74186714],\n",
        "        [-10.83095677],\n",
        "        [  2.50788585],\n",
        "        [  4.22438878],\n",
        "        [  3.55568678],\n",
        "        [ -6.1324677 ],\n",
        "        [  3.38089159]]),\n",
        " array([], dtype=float64),\n",
        " 15,\n",
        " array([ 14.1822748 ,  13.87976369,  13.22589672,  12.25770441,\n",
        "         12.02817993,  11.9191342 ,  11.11639117,  10.31368491,\n",
        "          9.38363635,   8.65260185,   7.99109928,   7.0783838 ,\n",
        "          5.84370058,   3.87298335,   2.3065746 ]))"
       ]
      }
     ],
     "prompt_number": 46
    },
    {
     "cell_type": "code",
     "collapsed": false,
     "input": [
      "S15_rank = Matrix([S15_names.T,la.lstsq(S15_M,S15Results)[0]])\n",
      "Week11_rank = list(np.array(S15_rank.T))\n",
      "Week11_rank.sort(key=lambda row: row[1:], reverse=True)\n",
      "import pprint\n",
      "pprint.pprint(Week11_rank[:])"
     ],
     "language": "python",
     "metadata": {},
     "outputs": [
      {
       "output_type": "stream",
       "stream": "stdout",
       "text": [
        "[array([Hurricanes, 11.6403894963155], dtype=object),\n",
        " array([Chiefs, 7.33582378226207], dtype=object),\n",
        " array([Brumbies, 6.46961550012938], dtype=object),\n",
        " array([Crusaders, 5.13634686864693], dtype=object),\n",
        " array([Stormers, 4.22438877696774], dtype=object),\n",
        " array([Waratahs, 3.55568678279903], dtype=object),\n",
        " array([Highlanders, 3.38089159299045], dtype=object),\n",
        " array([Bulls, 2.50788584500970], dtype=object),\n",
        " array([Rebels, -0.704210234865656], dtype=object),\n",
        " array([Blues, -3.14203008344144], dtype=object),\n",
        " array([Lions, -5.66831064508874], dtype=object),\n",
        " array([Sharks, -5.74186714198710], dtype=object),\n",
        " array([Force, -6.13246770419185], dtype=object),\n",
        " array([Cheetahs, -10.8309567716988], dtype=object),\n",
        " array([Reds, -12.0311860638472], dtype=object)]\n"
       ]
      }
     ],
     "prompt_number": 47
    },
    {
     "cell_type": "code",
     "collapsed": false,
     "input": [
      "#Convert rank to a dictionary to query\n",
      "b = {Week11_rank[i][0]:Week11_rank[i][1] for i in range(len(Week11_rank))}\n",
      "#Key:Cr, Reb, Br, Red,Li,Hu,Bl,Chief,Sh,Cheet,Bull,St,Wa,Fo,Hi\n",
      "draw = [Fo,Reb,Bl,Cheet,Hu]\n",
      "draw2 = [Chief,Wa,Cr,Li,Red]\n",
      "#Print draw and winning margin prediction\n",
      "print 'Super 15 predictions for Round 11'\n",
      "print '=' * 55\n",
      "for i in range(len(draw)):\n",
      "    print draw[i],'-v-',draw2[i], ': ',\n",
      "    if (b[draw[i]]-b[draw2[i]]) < 0:\n",
      "        print draw2[i], 'to win by ', abs(b[draw[i]]-b[draw2[i]]).round(0)\n",
      "    else:\n",
      "        print draw[i], 'to win by ', abs(b[draw[i]]-b[draw2[i]]).round(0)\n",
      "print '=' * 55"
     ],
     "language": "python",
     "metadata": {},
     "outputs": [
      {
       "output_type": "stream",
       "stream": "stdout",
       "text": [
        "Super 15 predictions for Round 11\n",
        "=======================================================\n",
        "Force -v- Chiefs :  Chiefs to win by  13.\n",
        "Rebels -v- Waratahs :  Waratahs to win by  4.\n",
        "Blues -v- Crusaders :  Crusaders to win by  8.\n",
        "Cheetahs -v- Lions :  Lions to win by  5.\n",
        "Hurricanes -v- Reds :  Hurricanes to win by  24.\n",
        "=======================================================\n"
       ]
      }
     ],
     "prompt_number": 48
    },
    {
     "cell_type": "code",
     "collapsed": false,
     "input": [
      "#Boltzman function for probability\n",
      "p = 1 - 1 / ( 1 + exp ( 0.00583 * (b[Reb]-b[Wa])  - 0.0505) )\n",
      "p"
     ],
     "language": "python",
     "metadata": {},
     "outputs": [
      {
       "latex": [
        "$$0.481175102477918$$"
       ],
       "metadata": {},
       "output_type": "pyout",
       "png": "[encoded data removed]",
       "prompt_number": 49,
       "text": [
        "0.481175102477918"
       ]
      }
     ],
     "prompt_number": 49
    },
    {
     "cell_type": "raw",
     "metadata": {},
     "source": [
      "Official Standings...\n",
      "TEAM\tPOINTS\n",
      "1\tHurricanes\t31\n",
      "2\tBrumbies\t25\n",
      "3\tBulls\t24\n",
      "4\tChiefs\t28\n",
      "5\tHighlanders\t24\n",
      "6\tStormers\t22\n",
      "7\tLions\t21\n",
      "8\tCrusaders\t20\n",
      "9\tSharks\t20\n",
      "10\tWaratahs\t18\n",
      "11\tRebels\t15\n",
      "12\tCheetahs\t13\n",
      "13\tBlues\t9\n",
      "14\tForce\t8\n",
      "15\tReds\t7"
     ]
    },
    {
     "cell_type": "code",
     "collapsed": false,
     "input": [
      "#what about some features of this matrix?\n",
      "S15n = np.array(S15)\n",
      "S15_orth =la.orth(S15n)\n",
      "w,v = la.eig(S15n)\n",
      "S,D,V = la.svd(S15n)\n",
      "Matrix(S.round(2)),Matrix(D.round(2)),Matrix(V.round(2))"
     ],
     "language": "python",
     "metadata": {},
     "outputs": [
      {
       "latex": [
        "$$\\left ( \\left[\\begin{array}{ccccccccccccccc}-0.68 & 0.12 & -0.04 & 0.09 & -0.2 & 0.19 & -0.03 & -0.29 & 0.19 & 0.03 & 0.35 & -0.04 & -0.35 & -0.06 & 0.26\\\\0.38 & -0.16 & -0.17 & -0.08 & -0.07 & -0.1 & 0.24 & -0.27 & 0.07 & 0.26 & 0.51 & -0.27 & 0.15 & 0.37 & 0.29\\\\-0.25 & 0.18 & 0.18 & -0.35 & -0.12 & -0.49 & 0.27 & 0.18 & -0.11 & -0.25 & -0.24 & -0.36 & -0.07 & 0.26 & 0.23\\\\-0.07 & -0.28 & -0.19 & 0.56 & 0.03 & 0.22 & 0.11 & 0.14 & 0.1 & -0.51 & -0.15 & -0.21 & 0.22 & 0.18 & 0.26\\\\0.05 & 0.31 & 0.3 & -0.09 & 0.44 & 0.21 & 0.2 & 0.38 & -0.01 & -0.16 & 0.45 & 0.04 & 0.14 & -0.25 & 0.26\\\\-0.11 & 0.04 & -0.02 & -0.02 & 0.03 & -0.22 & -0.19 & -0.32 & -0.4 & -0.25 & 0.09 & 0.59 & 0.32 & 0.16 & 0.3\\\\0.11 & -0.42 & 0.08 & -0.16 & -0.33 & 0.32 & 0.1 & 0.32 & -0.44 & 0.06 & 0.0 & 0.18 & -0.38 & 0.01 & 0.28\\\\0.27 & 0.23 & 0.12 & 0.54 & 0.22 & -0.24 & 0.08 & -0.21 & -0.25 & 0.13 & -0.15 & -0.06 & -0.47 & -0.13 & 0.25\\\\-0.05 & -0.5 & 0.08 & 0.03 & 0.03 & -0.5 & -0.35 & 0.14 & 0.16 & 0.03 & 0.17 & -0.12 & 0.06 & -0.48 & 0.22\\\\0.18 & 0.34 & -0.6 & -0.23 & -0.06 & 0.13 & -0.39 & 0.04 & -0.19 & -0.17 & -0.04 & -0.29 & -0.04 & -0.25 & 0.23\\\\0.21 & 0.24 & 0.3 & 0.07 & -0.61 & 0.11 & 0.15 & -0.15 & 0.2 & 0.03 & -0.19 & 0.03 & 0.33 & -0.36 & 0.25\\\\-0.17 & -0.03 & -0.5 & -0.06 & 0.18 & -0.1 & 0.47 & 0.14 & 0.17 & 0.35 & -0.28 & 0.31 & 0.09 & -0.19 & 0.26\\\\-0.09 & 0.22 & 0.11 & 0.2 & -0.05 & 0.02 & -0.46 & 0.43 & 0.1 & 0.47 & -0.09 & 0.03 & 0.14 & 0.41 & 0.27\\\\-0.13 & -0.21 & 0.26 & -0.25 & 0.39 & 0.34 & -0.11 & -0.38 & -0.13 & 0.21 & -0.36 & -0.29 & 0.19 & -0.05 & 0.25\\\\0.3 & -0.03 & 0.07 & -0.26 & 0.14 & 0.04 & -0.16 & -0.09 & 0.6 & -0.28 & -0.16 & 0.29 & -0.36 & 0.19 & 0.26\\end{array}\\right], \\quad \\left[\\begin{matrix}14.53\\\\13.89\\\\13.24\\\\12.4\\\\12.16\\\\11.93\\\\11.19\\\\10.32\\\\9.82\\\\9.27\\\\8.55\\\\7.51\\\\6.66\\\\5.71\\\\0.0\\end{matrix}\\right], \\quad \\left[\\begin{array}{ccccccccccccccc}-0.68 & 0.4 & -0.24 & -0.07 & 0.05 & -0.1 & 0.14 & 0.27 & -0.05 & 0.18 & 0.19 & -0.17 & -0.09 & -0.13 & 0.3\\\\0.09 & -0.17 & 0.17 & -0.28 & 0.3 & 0.05 & -0.43 & 0.23 & -0.51 & 0.33 & 0.25 & -0.03 & 0.22 & -0.2 & -0.03\\\\-0.05 & -0.18 & 0.17 & -0.19 & 0.3 & -0.03 & 0.09 & 0.13 & 0.09 & -0.59 & 0.29 & -0.5 & 0.11 & 0.29 & 0.07\\\\0.08 & -0.07 & -0.35 & 0.56 & -0.09 & -0.01 & -0.17 & 0.53 & 0.02 & -0.24 & 0.08 & -0.06 & 0.2 & -0.24 & -0.26\\\\-0.18 & -0.06 & -0.13 & 0.03 & 0.45 & 0.01 & -0.32 & 0.22 & 0.04 & -0.05 & -0.64 & 0.18 & -0.05 & 0.37 & 0.14\\\\0.2 & -0.07 & -0.49 & 0.23 & 0.21 & -0.24 & 0.31 & -0.24 & -0.48 & 0.15 & 0.11 & -0.1 & 0.02 & 0.36 & 0.04\\\\-0.03 & 0.23 & 0.29 & 0.12 & 0.2 & -0.19 & 0.1 & 0.09 & -0.35 & -0.39 & 0.15 & 0.47 & -0.45 & -0.07 & -0.16\\\\-0.27 & -0.28 & 0.16 & 0.14 & 0.38 & -0.3 & 0.34 & -0.21 & 0.11 & 0.02 & -0.15 & 0.14 & 0.42 & -0.42 & -0.09\\\\0.16 & 0.07 & -0.11 & 0.1 & -0.01 & -0.39 & -0.45 & -0.26 & 0.15 & -0.2 & 0.21 & 0.17 & 0.1 & -0.13 & 0.6\\\\0.04 & 0.28 & -0.23 & -0.51 & -0.16 & -0.26 & 0.06 & 0.14 & 0.04 & -0.15 & 0.02 & 0.35 & 0.47 & 0.21 & -0.28\\\\0.36 & 0.53 & -0.21 & -0.14 & 0.45 & 0.11 & -0.01 & -0.15 & 0.15 & -0.06 & -0.15 & -0.27 & -0.09 & -0.37 & -0.16\\\\-0.03 & -0.24 & -0.37 & -0.21 & 0.05 & 0.62 & 0.18 & -0.06 & -0.13 & -0.3 & 0.05 & 0.32 & 0.04 & -0.23 & 0.29\\\\-0.38 & 0.15 & -0.06 & 0.23 & 0.14 & 0.31 & -0.36 & -0.47 & 0.07 & -0.03 & 0.3 & 0.09 & 0.15 & 0.22 & -0.36\\\\-0.03 & 0.36 & 0.28 & 0.19 & -0.24 & 0.17 & 0.02 & -0.12 & -0.47 & -0.24 & -0.35 & -0.18 & 0.41 & -0.01 & 0.2\\\\0.26 & 0.26 & 0.26 & 0.26 & 0.26 & 0.26 & 0.26 & 0.26 & 0.26 & 0.26 & 0.26 & 0.26 & 0.26 & 0.26 & 0.26\\end{array}\\right]\\right )$$"
       ],
       "metadata": {},
       "output_type": "pyout",
       "png": "[encoded data removed]",
       "prompt_number": 50,
       "text": [
        "\u239b\u23a1-0.68  0.12   -0.04  0.09   -0.2   0.19   -0.03  -0.29  0.19   0.03   0.35  \n",
        "\u239c\u23a2                                                                            \n",
        "\u239c\u23a20.38   -0.16  -0.17  -0.08  -0.07  -0.1   0.24   -0.27  0.07   0.26   0.51  \n",
        "\u239c\u23a2                                                                            \n",
        "\u239c\u23a2-0.25  0.18   0.18   -0.35  -0.12  -0.49  0.27   0.18   -0.11  -0.25  -0.24 \n",
        "\u239c\u23a2                                                                            \n",
        "\u239c\u23a2-0.07  -0.28  -0.19  0.56   0.03   0.22   0.11   0.14    0.1   -0.51  -0.15 \n",
        "\u239c\u23a2                                                                            \n",
        "\u239c\u23a20.05   0.31    0.3   -0.09  0.44   0.21    0.2   0.38   -0.01  -0.16  0.45  \n",
        "\u239c\u23a2                                                                            \n",
        "\u239c\u23a2-0.11  0.04   -0.02  -0.02  0.03   -0.22  -0.19  -0.32  -0.4   -0.25  0.09  \n",
        "\u239c\u23a2                                                                            \n",
        "\u239c\u23a20.11   -0.42  0.08   -0.16  -0.33  0.32    0.1   0.32   -0.44  0.06    0.0  \n",
        "\u239c\u23a2                                                                            \n",
        "\u239c\u23a20.27   0.23   0.12   0.54   0.22   -0.24  0.08   -0.21  -0.25  0.13   -0.15 \n",
        "\u239c\u23a2                                                                            \n",
        "\u239c\u23a2-0.05  -0.5   0.08   0.03   0.03   -0.5   -0.35  0.14   0.16   0.03   0.17  \n",
        "\u239c\u23a2                                                                            \n",
        "\u239c\u23a20.18   0.34   -0.6   -0.23  -0.06  0.13   -0.39  0.04   -0.19  -0.17  -0.04 \n",
        "\u239c\u23a2                                                                            \n",
        "\u239c\u23a20.21   0.24    0.3   0.07   -0.61  0.11   0.15   -0.15   0.2   0.03   -0.19 \n",
        "\u239c\u23a2                                                                            \n",
        "\u239c\u23a2-0.17  -0.03  -0.5   -0.06  0.18   -0.1   0.47   0.14   0.17   0.35   -0.28 \n",
        "\u239c\u23a2                                                                            \n",
        "\u239c\u23a2-0.09  0.22   0.11    0.2   -0.05  0.02   -0.46  0.43    0.1   0.47   -0.09 \n",
        "\u239c\u23a2                                                                            \n",
        "\u239c\u23a2-0.13  -0.21  0.26   -0.25  0.39   0.34   -0.11  -0.38  -0.13  0.21   -0.36 \n",
        "\u239c\u23a2                                                                            \n",
        "\u239d\u23a3 0.3   -0.03  0.07   -0.26  0.14   0.04   -0.16  -0.09   0.6   -0.28  -0.16 \n",
        "\n",
        " -0.04  -0.35  -0.06  0.26\u23a4, \u23a114.53\u23a4, \u23a1-0.68   0.4   -0.24  -0.07  0.05   -0.1\n",
        "                          \u23a5  \u23a2     \u23a5  \u23a2                                       \n",
        " -0.27  0.15   0.37   0.29\u23a5  \u23a213.89\u23a5  \u23a20.09   -0.17  0.17   -0.28   0.3   0.05\n",
        "                          \u23a5  \u23a2     \u23a5  \u23a2                                       \n",
        " -0.36  -0.07  0.26   0.23\u23a5  \u23a213.24\u23a5  \u23a2-0.05  -0.18  0.17   -0.19   0.3   -0.0\n",
        "                          \u23a5  \u23a2     \u23a5  \u23a2                                       \n",
        " -0.21  0.22   0.18   0.26\u23a5  \u23a212.4 \u23a5  \u23a20.08   -0.07  -0.35  0.56   -0.09  -0.0\n",
        "                          \u23a5  \u23a2     \u23a5  \u23a2                                       \n",
        " 0.04   0.14   -0.25  0.26\u23a5  \u23a212.16\u23a5  \u23a2-0.18  -0.06  -0.13  0.03   0.45   0.01\n",
        "                          \u23a5  \u23a2     \u23a5  \u23a2                                       \n",
        " 0.59   0.32   0.16   0.3 \u23a5  \u23a211.93\u23a5  \u23a2 0.2   -0.07  -0.49  0.23   0.21   -0.2\n",
        "                          \u23a5  \u23a2     \u23a5  \u23a2                                       \n",
        " 0.18   -0.38  0.01   0.28\u23a5  \u23a211.19\u23a5  \u23a2-0.03  0.23   0.29   0.12    0.2   -0.1\n",
        "                          \u23a5  \u23a2     \u23a5  \u23a2                                       \n",
        " -0.06  -0.47  -0.13  0.25\u23a5  \u23a210.32\u23a5  \u23a2-0.27  -0.28  0.16   0.14   0.38   -0.3\n",
        "                          \u23a5  \u23a2     \u23a5  \u23a2                                       \n",
        " -0.12  0.06   -0.48  0.22\u23a5  \u23a29.82 \u23a5  \u23a20.16   0.07   -0.11   0.1   -0.01  -0.3\n",
        "                          \u23a5  \u23a2     \u23a5  \u23a2                                       \n",
        " -0.29  -0.04  -0.25  0.23\u23a5  \u23a29.27 \u23a5  \u23a20.04   0.28   -0.23  -0.51  -0.16  -0.2\n",
        "                          \u23a5  \u23a2     \u23a5  \u23a2                                       \n",
        " 0.03   0.33   -0.36  0.25\u23a5  \u23a28.55 \u23a5  \u23a20.36   0.53   -0.21  -0.14  0.45   0.11\n",
        "                          \u23a5  \u23a2     \u23a5  \u23a2                                       \n",
        " 0.31   0.09   -0.19  0.26\u23a5  \u23a27.51 \u23a5  \u23a2-0.03  -0.24  -0.37  -0.21  0.05   0.62\n",
        "                          \u23a5  \u23a2     \u23a5  \u23a2                                       \n",
        " 0.03   0.14   0.41   0.27\u23a5  \u23a26.66 \u23a5  \u23a2-0.38  0.15   -0.06  0.23   0.14   0.31\n",
        "                          \u23a5  \u23a2     \u23a5  \u23a2                                       \n",
        " -0.29  0.19   -0.05  0.25\u23a5  \u23a25.71 \u23a5  \u23a2-0.03  0.36   0.28   0.19   -0.24  0.17\n",
        "                          \u23a5  \u23a2     \u23a5  \u23a2                                       \n",
        " 0.29   -0.36  0.19   0.26\u23a6  \u23a3 0.0 \u23a6  \u23a30.26   0.26   0.26   0.26   0.26   0.26\n",
        "\n",
        "   0.14   0.27   -0.05  0.18   0.19   -0.17  -0.09  -0.13   0.3 \u23a4\u239e\n",
        "                                                                \u23a5\u239f\n",
        "   -0.43  0.23   -0.51  0.33   0.25   -0.03  0.22   -0.2   -0.03\u23a5\u239f\n",
        "                                                                \u23a5\u239f\n",
        "3  0.09   0.13   0.09   -0.59  0.29   -0.5   0.11   0.29   0.07 \u23a5\u239f\n",
        "                                                                \u23a5\u239f\n",
        "1  -0.17  0.53   0.02   -0.24  0.08   -0.06   0.2   -0.24  -0.26\u23a5\u239f\n",
        "                                                                \u23a5\u239f\n",
        "   -0.32  0.22   0.04   -0.05  -0.64  0.18   -0.05  0.37   0.14 \u23a5\u239f\n",
        "                                                                \u23a5\u239f\n",
        "4  0.31   -0.24  -0.48  0.15   0.11   -0.1   0.02   0.36   0.04 \u23a5\u239f\n",
        "                                                                \u23a5\u239f\n",
        "9   0.1   0.09   -0.35  -0.39  0.15   0.47   -0.45  -0.07  -0.16\u23a5\u239f\n",
        "                                                                \u23a5\u239f\n",
        "   0.34   -0.21  0.11   0.02   -0.15  0.14   0.42   -0.42  -0.09\u23a5\u239f\n",
        "                                                                \u23a5\u239f\n",
        "9  -0.45  -0.26  0.15   -0.2   0.21   0.17    0.1   -0.13   0.6 \u23a5\u239f\n",
        "                                                                \u23a5\u239f\n",
        "6  0.06   0.14   0.04   -0.15  0.02   0.35   0.47   0.21   -0.28\u23a5\u239f\n",
        "                                                                \u23a5\u239f\n",
        "   -0.01  -0.15  0.15   -0.06  -0.15  -0.27  -0.09  -0.37  -0.16\u23a5\u239f\n",
        "                                                                \u23a5\u239f\n",
        "   0.18   -0.06  -0.13  -0.3   0.05   0.32   0.04   -0.23  0.29 \u23a5\u239f\n",
        "                                                                \u23a5\u239f\n",
        "   -0.36  -0.47  0.07   -0.03   0.3   0.09   0.15   0.22   -0.36\u23a5\u239f\n",
        "                                                                \u23a5\u239f\n",
        "   0.02   -0.12  -0.47  -0.24  -0.35  -0.18  0.41   -0.01   0.2 \u23a5\u239f\n",
        "                                                                \u23a5\u239f\n",
        "   0.26   0.26   0.26   0.26   0.26   0.26   0.26   0.26   0.26 \u23a6\u23a0"
       ]
      }
     ],
     "prompt_number": 50
    },
    {
     "cell_type": "markdown",
     "metadata": {},
     "source": [
      "What type of Matrix is $S15$?\n",
      "1. Laplacian.\n",
      "2. A 15 x 14 orthonormal basis can be constructed.\n",
      "3. Eigenvalues $\\lambda \\in \\mathbb{C}$"
     ]
    },
    {
     "cell_type": "heading",
     "level": 4,
     "metadata": {},
     "source": [
      "Colley System"
     ]
    },
    {
     "cell_type": "code",
     "collapsed": false,
     "input": [
      "#Colley Matrix approach\n",
      "#bi = 1 + 1/2 (wi \u2212 li)\n",
      "#Manual approach\n",
      "#================================================\n",
      "# Results_C = Matrix([[2+4-5],#Crusaders\\n\",\n",
      "#                          [2+4-4],#Rebels\\n\",\n",
      "#                           [2+5-4],#Brumbies\\n\",\n",
      "#                           [2+2-7],#Reds\\n\",\n",
      "#                           [2+5-4],#Lions\\n\",\n",
      "#                           [2+7-1],#Hurr\\n\",\n",
      "#                           [2+1-8],#Blues\\n\",\n",
      "#                           [2+7-2],#Chiefs\\n\",\n",
      "#                           [2+4-6],#Sharks\\n\",\n",
      "#                           [2+3-6],#Cheetahs\\n\",\n",
      "#                           [2+6-3],#Bulls\\n\",\n",
      "#                           [2+6-3],#Stormers\\n\",\n",
      "#                           [2+5-3],#Waratahs\\n\",\n",
      "#                           [2+1-8],#Force\\n\",\n",
      "#                           [2+6-2],#Highlanders\\n\",\n",
      "#                           ])/2\n",
      "# S15_Colley = S15 + 2*eye(15)\n",
      "# shape(S15_Colley), shape(Results_C)\n",
      "#A more elegant way using the Base results...\n",
      "Results_C = ((S15_Base.clip(-1,1)).sum(axis=1)/2.)+1\n",
      "S15_Colley = S15.copy()+eye(15)*2\n",
      "Matrix(S15_Colley),Matrix(Results_C)"
     ],
     "language": "python",
     "metadata": {},
     "outputs": [
      {
       "latex": [
        "$$\\left ( \\left[\\begin{array}{ccccccccccccccc}13 & -2 & 0 & 0 & -1 & 0 & -2 & -2 & -1 & -1 & 0 & 0 & 0 & 0 & -2\\\\-2 & 11 & -1 & -1 & -1 & -1 & 0 & 0 & 0 & 0 & 0 & 0 & -2 & -1 & 0\\\\0 & -2 & 12 & -2 & 0 & 0 & -1 & -1 & 0 & -1 & 0 & 0 & -1 & -1 & -1\\\\0 & -1 & -2 & 12 & -1 & -1 & 0 & 0 & 0 & -1 & -1 & 0 & -1 & -1 & -1\\\\-1 & -1 & 0 & -1 & 12 & -1 & -1 & 0 & -2 & -1 & -1 & -1 & 0 & 0 & 0\\\\0 & -1 & 0 & -1 & -1 & 10 & -1 & 0 & 0 & 0 & -1 & -1 & -1 & 0 & -1\\\\-1 & 0 & -1 & 0 & -1 & -1 & 12 & -2 & 0 & -1 & 0 & -1 & -1 & 0 & -1\\\\-2 & 0 & -1 & 0 & 0 & 0 & -2 & 12 & -1 & -1 & 0 & -1 & 0 & -1 & -1\\\\-1 & 0 & 0 & 0 & -2 & 0 & 0 & -1 & 12 & -2 & -2 & -1 & 0 & -1 & 0\\\\-1 & 0 & -1 & -1 & -1 & 0 & -1 & -1 & -2 & 13 & -1 & 0 & 0 & -2 & 0\\\\-1 & 0 & 0 & -1 & -1 & -1 & 0 & 0 & -2 & -1 & 12 & -2 & 0 & -1 & 0\\\\0 & 0 & 0 & 0 & -1 & -1 & -1 & -1 & -1 & 0 & -2 & 12 & -1 & -1 & -1\\\\0 & -2 & -1 & -1 & 0 & -1 & -1 & 0 & 0 & 0 & 0 & -1 & 11 & -1 & -1\\\\0 & -1 & -1 & -1 & 0 & -1 & 0 & -1 & 0 & -1 & -2 & -1 & -1 & 12 & 0\\\\-2 & 0 & -1 & -1 & 0 & -1 & -1 & -1 & 0 & 0 & 0 & -1 & -1 & 0 & 11\\end{array}\\right], \\quad \\left[\\begin{matrix}1.0\\\\0.5\\\\2.0\\\\-2.0\\\\2.0\\\\4.5\\\\-3.0\\\\4.0\\\\0.0\\\\-1.0\\\\2.0\\\\3.0\\\\2.5\\\\-3.0\\\\2.5\\end{matrix}\\right]\\right )$$"
       ],
       "metadata": {},
       "output_type": "pyout",
       "png": "[encoded data removed]",
       "prompt_number": 51,
       "text": [
        "\u239b\u23a113  -2  0   0   -1  0   -2  -2  -1  -1  0   0   0   0   -2\u23a4, \u23a11.0 \u23a4\u239e\n",
        "\u239c\u23a2                                                          \u23a5  \u23a2    \u23a5\u239f\n",
        "\u239c\u23a2-2  11  -1  -1  -1  -1  0   0   0   0   0   0   -2  -1  0 \u23a5  \u23a20.5 \u23a5\u239f\n",
        "\u239c\u23a2                                                          \u23a5  \u23a2    \u23a5\u239f\n",
        "\u239c\u23a20   -2  12  -2  0   0   -1  -1  0   -1  0   0   -1  -1  -1\u23a5  \u23a22.0 \u23a5\u239f\n",
        "\u239c\u23a2                                                          \u23a5  \u23a2    \u23a5\u239f\n",
        "\u239c\u23a20   -1  -2  12  -1  -1  0   0   0   -1  -1  0   -1  -1  -1\u23a5  \u23a2-2.0\u23a5\u239f\n",
        "\u239c\u23a2                                                          \u23a5  \u23a2    \u23a5\u239f\n",
        "\u239c\u23a2-1  -1  0   -1  12  -1  -1  0   -2  -1  -1  -1  0   0   0 \u23a5  \u23a22.0 \u23a5\u239f\n",
        "\u239c\u23a2                                                          \u23a5  \u23a2    \u23a5\u239f\n",
        "\u239c\u23a20   -1  0   -1  -1  10  -1  0   0   0   -1  -1  -1  0   -1\u23a5  \u23a24.5 \u23a5\u239f\n",
        "\u239c\u23a2                                                          \u23a5  \u23a2    \u23a5\u239f\n",
        "\u239c\u23a2-1  0   -1  0   -1  -1  12  -2  0   -1  0   -1  -1  0   -1\u23a5  \u23a2-3.0\u23a5\u239f\n",
        "\u239c\u23a2                                                          \u23a5  \u23a2    \u23a5\u239f\n",
        "\u239c\u23a2-2  0   -1  0   0   0   -2  12  -1  -1  0   -1  0   -1  -1\u23a5  \u23a24.0 \u23a5\u239f\n",
        "\u239c\u23a2                                                          \u23a5  \u23a2    \u23a5\u239f\n",
        "\u239c\u23a2-1  0   0   0   -2  0   0   -1  12  -2  -2  -1  0   -1  0 \u23a5  \u23a20.0 \u23a5\u239f\n",
        "\u239c\u23a2                                                          \u23a5  \u23a2    \u23a5\u239f\n",
        "\u239c\u23a2-1  0   -1  -1  -1  0   -1  -1  -2  13  -1  0   0   -2  0 \u23a5  \u23a2-1.0\u23a5\u239f\n",
        "\u239c\u23a2                                                          \u23a5  \u23a2    \u23a5\u239f\n",
        "\u239c\u23a2-1  0   0   -1  -1  -1  0   0   -2  -1  12  -2  0   -1  0 \u23a5  \u23a22.0 \u23a5\u239f\n",
        "\u239c\u23a2                                                          \u23a5  \u23a2    \u23a5\u239f\n",
        "\u239c\u23a20   0   0   0   -1  -1  -1  -1  -1  0   -2  12  -1  -1  -1\u23a5  \u23a23.0 \u23a5\u239f\n",
        "\u239c\u23a2                                                          \u23a5  \u23a2    \u23a5\u239f\n",
        "\u239c\u23a20   -2  -1  -1  0   -1  -1  0   0   0   0   -1  11  -1  -1\u23a5  \u23a22.5 \u23a5\u239f\n",
        "\u239c\u23a2                                                          \u23a5  \u23a2    \u23a5\u239f\n",
        "\u239c\u23a20   -1  -1  -1  0   -1  0   -1  0   -1  -2  -1  -1  12  0 \u23a5  \u23a2-3.0\u23a5\u239f\n",
        "\u239c\u23a2                                                          \u23a5  \u23a2    \u23a5\u239f\n",
        "\u239d\u23a3-2  0   -1  -1  0   -1  -1  -1  0   0   0   -1  -1  0   11\u23a6  \u23a32.5 \u23a6\u23a0"
       ]
      }
     ],
     "prompt_number": 51
    },
    {
     "cell_type": "code",
     "collapsed": false,
     "input": [
      "la.lstsq(S15_Colley,Results_C)\n",
      "S15_rank_Colley = Matrix([S15_names.T,la.lstsq(S15_Colley,Results_C)[0]])\n",
      "Week11_rank_C = list(np.array(S15_rank_Colley.T))\n",
      "Week11_rank_C.sort(key=lambda row: row[1:], reverse=True)\n",
      "import pprint\n",
      "pprint.pprint(Week11_rank_C)"
     ],
     "language": "python",
     "metadata": {},
     "outputs": [
      {
       "output_type": "stream",
       "stream": "stdout",
       "text": [
        "[array([Hurricanes, 0.868748520380282], dtype=object),\n",
        " array([Stormers, 0.708628175410988], dtype=object),\n",
        " array([Chiefs, 0.696148353962299], dtype=object),\n",
        " array([Highlanders, 0.679483966836695], dtype=object),\n",
        " array([Waratahs, 0.635721015099935], dtype=object),\n",
        " array([Bulls, 0.580224437957828], dtype=object),\n",
        " array([Lions, 0.565635764304700], dtype=object),\n",
        " array([Brumbies, 0.523829453939831], dtype=object),\n",
        " array([Crusaders, 0.499324559474559], dtype=object),\n",
        " array([Rebels, 0.475192846731469], dtype=object),\n",
        " array([Sharks, 0.415056320028771], dtype=object),\n",
        " array([Cheetahs, 0.282798994182511], dtype=object),\n",
        " array([Reds, 0.279560067665034], dtype=object),\n",
        " array([Blues, 0.263038929796175], dtype=object),\n",
        " array([Force, 0.219256358607333], dtype=object)]\n"
       ]
      }
     ],
     "prompt_number": 52
    },
    {
     "cell_type": "code",
     "collapsed": false,
     "input": [
      "#A key issue is that the mean of the ratings remains at 1/2. Not sure whether rounding error in the calculations occurs....\n",
      "la.lstsq(S15_Colley,Results_C)[0].mean()"
     ],
     "language": "python",
     "metadata": {},
     "outputs": [
      {
       "latex": [
        "$$0.512843184292$$"
       ],
       "metadata": {},
       "output_type": "pyout",
       "png": "[encoded data removed]",
       "prompt_number": 53,
       "text": [
        "0.512843184292"
       ]
      }
     ],
     "prompt_number": 53
    },
    {
     "cell_type": "code",
     "collapsed": false,
     "input": [
      "W9C = Matrix(Week11_rank_C)\n",
      "W9M = Matrix(Week11_rank)\n",
      "W9C[:,0]-W9M[:,0]"
     ],
     "language": "python",
     "metadata": {},
     "outputs": [
      {
       "latex": [
        "$$\\left[\\begin{matrix}0\\\\- Chiefs + Stormers\\\\- Brumbies + Chiefs\\\\- Crusaders + Highlanders\\\\- Stormers + Waratahs\\\\Bulls - Waratahs\\\\- Highlanders + Lions\\\\Brumbies - Bulls\\\\Crusaders - Rebels\\\\- Blues + Rebels\\\\- Lions + Sharks\\\\Cheetahs - Sharks\\\\- Force + Reds\\\\Blues - Cheetahs\\\\Force - Reds\\end{matrix}\\right]$$"
       ],
       "metadata": {},
       "output_type": "pyout",
       "png": "[encoded data removed]",
       "prompt_number": 54,
       "text": [
        "\u23a1           0            \u23a4\n",
        "\u23a2                        \u23a5\n",
        "\u23a2   -Chiefs + Stormers   \u23a5\n",
        "\u23a2                        \u23a5\n",
        "\u23a2   -Brumbies + Chiefs   \u23a5\n",
        "\u23a2                        \u23a5\n",
        "\u23a2-Crusaders + Highlanders\u23a5\n",
        "\u23a2                        \u23a5\n",
        "\u23a2  -Stormers + Waratahs  \u23a5\n",
        "\u23a2                        \u23a5\n",
        "\u23a2    Bulls - Waratahs    \u23a5\n",
        "\u23a2                        \u23a5\n",
        "\u23a2  -Highlanders + Lions  \u23a5\n",
        "\u23a2                        \u23a5\n",
        "\u23a2    Brumbies - Bulls    \u23a5\n",
        "\u23a2                        \u23a5\n",
        "\u23a2   Crusaders - Rebels   \u23a5\n",
        "\u23a2                        \u23a5\n",
        "\u23a2    -Blues + Rebels     \u23a5\n",
        "\u23a2                        \u23a5\n",
        "\u23a2    -Lions + Sharks     \u23a5\n",
        "\u23a2                        \u23a5\n",
        "\u23a2   Cheetahs - Sharks    \u23a5\n",
        "\u23a2                        \u23a5\n",
        "\u23a2     -Force + Reds      \u23a5\n",
        "\u23a2                        \u23a5\n",
        "\u23a2    Blues - Cheetahs    \u23a5\n",
        "\u23a2                        \u23a5\n",
        "\u23a3      Force - Reds      \u23a6"
       ]
      }
     ],
     "prompt_number": 54
    },
    {
     "cell_type": "code",
     "collapsed": false,
     "input": [
      "import json\n",
      "import urllib\n",
      "import json\n",
      "import urllib\n",
      "\n",
      "results = json.load(urllib.urlopen(\"https://www.kimonolabs.com/api/3srrp9ni?apikey=pGZTlNaGMuOJ1j9BuLJdRuFKosoMF7Fm\"))\n",
      "# results = json.load(urllib.urlopen(\"https://www.kimonolabs.com/api/3srrp9ni?apikey=pGZTlNaGMuOJ1j9BuLJdRuFKosoMF7Fm{API_ID}?apikey={pGZTlNaGMuOJ1j9BuLJdRuFKosoMF7Fm}\")),\n",
      "# pGZTlNaGMuOJ1j9BuLJdRuFKosoMF7Fm #key\n",
      "# ma17sL7MCd0jLhtH2qFsnmhq9olIvNVM #token\n",
      "results[u'results'][u'collection1'][0][u'Ratings'][u'text']"
     ],
     "language": "python",
     "metadata": {},
     "outputs": [
      {
       "metadata": {},
       "output_type": "pyout",
       "prompt_number": 55,
       "text": [
        "u'DateTeamStandingScrPredPwinMarginTotalFri 04.24Highlanders@ Brumbies# 3 (6-2)# 8 (5-4)00201853 %44 %-1.5---38.5---\\nFri 04.24Force@ Chiefs# 15 (1-8)# 2 (7-2)0010269 %90 %----15.536.5---\\nSat 04.25Blues@ Crusaders# 12 (1-8)# 7 (4-5)00192529 %68 %----5.545.5---\\nSat 04.25Bulls@ Stormers# 6 (6-3)# 4 (6-3)00212438 %59 %----2.546.5---\\nSat 04.25Cheetahs@ Lions# 13 (3-6)# 9 (5-4)00192530 %68 %----5.545.5---\\nSat 04.25Rebels@ Waratahs# 10 (4-4)# 5 (5-3)00202723 %75 %----7.545.5---\\nSun 04.26Hurricanes@ Reds# 1 (7-1)# 14 (2-7)00291291 %8 %-17.5---41.5---'"
       ]
      }
     ],
     "prompt_number": 55
    },
    {
     "cell_type": "code",
     "collapsed": false,
     "input": [
      "#Just a quick way to convert matrix of score differentials to a Colley win-lose matrix\n",
      "# S15_Colley_C = S15_Base.copy()\n",
      "# S15_Colley_C[S15_Colley_C > 0] = 1 \n",
      "# S15_Colley_C[S15_Colley_C < 0] = -1\n",
      "# S15_Colley_C.sum(axis=1)+2\n",
      "#And an even quicker way...\n",
      "S15_Colley = (S15_Base.clip(-1,1)).sum(axis=1)+2\n",
      "S15_Colley"
     ],
     "language": "python",
     "metadata": {},
     "outputs": [
      {
       "metadata": {},
       "output_type": "pyout",
       "prompt_number": 56,
       "text": [
        "matrix([[ 2],\n",
        "        [ 1],\n",
        "        [ 4],\n",
        "        [-4],\n",
        "        [ 4],\n",
        "        [ 9],\n",
        "        [-6],\n",
        "        [ 8],\n",
        "        [ 0],\n",
        "        [-2],\n",
        "        [ 4],\n",
        "        [ 6],\n",
        "        [ 5],\n",
        "        [-6],\n",
        "        [ 5]])"
       ]
      }
     ],
     "prompt_number": 56
    },
    {
     "cell_type": "code",
     "collapsed": false,
     "input": [
      "!ipython nbconvert --to html D003x.2.ipynb"
     ],
     "language": "python",
     "metadata": {},
     "outputs": [
      {
       "output_type": "stream",
       "stream": "stdout",
       "text": [
        "[NbConvertApp] WARNING | pattern u'D003x.2.ipynb' matched no files\r\n",
        "This application is used to convert notebook files (*.ipynb) to various other\r\n",
        "formats.\r\n",
        "\r\n",
        "WARNING: THE COMMANDLINE INTERFACE MAY CHANGE IN FUTURE RELEASES.\r\n",
        "\r\n",
        "Options\r\n",
        "-------\r\n",
        "\r\n",
        "Arguments that take values are actually convenience aliases to full\r\n",
        "Configurables, whose aliases are listed on the help line. For more information\r\n",
        "on full configurables, see '--help-all'.\r\n",
        "\r\n",
        "--init\r\n",
        "    Initialize profile with default config files.  This is equivalent\r\n",
        "    to running `ipython profile create <profile>` prior to startup.\r\n",
        "--execute\r\n",
        "    Execute the notebook prior to export.\r\n",
        "--stdout\r\n",
        "    Write notebook output to stdout instead of files.\r\n",
        "--debug\r\n",
        "    set log level to logging.DEBUG (maximize logging output)\r\n",
        "--quiet\r\n",
        "    set log level to logging.CRITICAL (minimize logging output)\r\n",
        "--inplace\r\n",
        "    Run nbconvert in place, overwriting the existing notebook (only \r\n",
        "    relevant when converting to notebook format)\r\n",
        "--profile=<Unicode> (BaseIPythonApplication.profile)\r\n",
        "    Default: u'default'\r\n",
        "    The IPython profile to use.\r\n",
        "--reveal-prefix=<Unicode> (RevealHelpPreprocessor.url_prefix)\r\n",
        "    Default: 'reveal.js'\r\n",
        "    The URL prefix for reveal.js. This can be a a relative URL for a local copy\r\n",
        "    of reveal.js, or point to a CDN.\r\n",
        "    For speaker notes to work, a local reveal.js prefix must be used.\r\n",
        "--ipython-dir=<Unicode> (BaseIPythonApplication.ipython_dir)\r\n",
        "    Default: u''\r\n",
        "    The name of the IPython directory. This directory is used for logging\r\n",
        "    configuration (through profiles), history storage, etc. The default is\r\n",
        "    usually $HOME/.ipython. This option can also be specified through the\r\n",
        "    environment variable IPYTHONDIR.\r\n",
        "--nbformat=<Enum> (NotebookExporter.nbformat_version)\r\n",
        "    Default: 4\r\n",
        "    Choices: [1, 2, 3, 4]\r\n",
        "    The nbformat version to write. Use this to downgrade notebooks.\r\n",
        "--writer=<DottedObjectName> (NbConvertApp.writer_class)\r\n",
        "    Default: 'FilesWriter'\r\n",
        "    Writer class used to write the  results of the conversion\r\n",
        "--log-level=<Enum> (Application.log_level)\r\n",
        "    Default: 30\r\n",
        "    Choices: (0, 10, 20, 30, 40, 50, 'DEBUG', 'INFO', 'WARN', 'ERROR', 'CRITICAL')\r\n",
        "    Set the log level by value or name.\r\n",
        "--to=<CaselessStrEnum> (NbConvertApp.export_format)\r\n",
        "    Default: 'html'\r\n",
        "    Choices: ['custom', 'html', 'latex', 'markdown', 'notebook', 'pdf', 'python', 'rst', 'script', 'slides']\r\n",
        "    The export format to be used.\r\n",
        "--template=<Unicode> (TemplateExporter.template_file)\r\n",
        "    Default: u'default'\r\n",
        "    Name of the template file to use\r\n",
        "--output=<Unicode> (NbConvertApp.output_base)\r\n",
        "    Default: ''\r\n",
        "    overwrite base name use for output files. can only be used when converting\r\n",
        "    one notebook at a time.\r\n",
        "--post=<DottedOrNone> (NbConvertApp.postprocessor_class)\r\n",
        "    Default: u''\r\n",
        "    PostProcessor class used to write the  results of the conversion\r\n",
        "--config=<Unicode> (BaseIPythonApplication.extra_config_file)\r\n",
        "    Default: u''\r\n",
        "    Path to an extra config file to load.\r\n",
        "    If specified, load this config file in addition to any other IPython config.\r\n",
        "--profile-dir=<Unicode> (ProfileDir.location)\r\n",
        "    Default: u''\r\n",
        "    Set the profile location directly. This overrides the logic used by the\r\n",
        "    `profile` option.\r\n",
        "\r\n",
        "To see all available configurables, use `--help-all`\r\n",
        "\r\n",
        "Examples\r\n",
        "--------\r\n",
        "\r\n",
        "    The simplest way to use nbconvert is\r\n",
        "    \r\n",
        "    > ipython nbconvert mynotebook.ipynb\r\n",
        "    \r\n",
        "    which will convert mynotebook.ipynb to the default format (probably HTML).\r\n",
        "    \r\n",
        "    You can specify the export format with `--to`.\r\n",
        "    Options include ['custom', 'html', 'latex', 'markdown', 'notebook', 'pdf', 'python', 'rst', 'script', 'slides']\r\n",
        "    \r\n",
        "    > ipython nbconvert --to latex mynotebook.ipynb\r\n",
        "    \r\n",
        "    Both HTML and LaTeX support multiple output templates. LaTeX includes\r\n",
        "    'base', 'article' and 'report'.  HTML includes 'basic' and 'full'. You\r\n",
        "    can specify the flavor of the format used.\r\n",
        "    \r\n",
        "    > ipython nbconvert --to html --template basic mynotebook.ipynb\r\n",
        "    \r\n",
        "    You can also pipe the output to stdout, rather than a file\r\n",
        "    \r\n",
        "    > ipython nbconvert mynotebook.ipynb --stdout\r\n",
        "    \r\n",
        "    PDF is generated via latex\r\n",
        "    \r\n",
        "    > ipython nbconvert mynotebook.ipynb --to pdf\r\n",
        "    \r\n",
        "    You can get (and serve) a Reveal.js-powered slideshow\r\n",
        "    \r\n",
        "    > ipython nbconvert myslides.ipynb --to slides --post serve\r\n",
        "    \r\n",
        "    Multiple notebooks can be given at the command line in a couple of \r\n",
        "    different ways:\r\n",
        "    \r\n",
        "    > ipython nbconvert notebook*.ipynb\r\n",
        "    > ipython nbconvert notebook1.ipynb notebook2.ipynb\r\n",
        "    \r\n",
        "    or you can specify the notebooks list in a config file, containing::\r\n",
        "    \r\n",
        "        c.NbConvertApp.notebooks = [\"my_notebook.ipynb\"]\r\n",
        "    \r\n",
        "    > ipython nbconvert --config mycfg.py\r\n",
        "\r\n"
       ]
      }
     ],
     "prompt_number": 57
    },
    {
     "cell_type": "code",
     "collapsed": false,
     "input": [],
     "language": "python",
     "metadata": {},
     "outputs": [],
     "prompt_number": 57
    }
   ],
   "metadata": {}
  }
 ]
}