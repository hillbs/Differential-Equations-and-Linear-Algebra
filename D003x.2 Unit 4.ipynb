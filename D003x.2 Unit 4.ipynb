{
 "metadata": {
  "name": "",
  "signature": "sha256:f05d38caf1e7f48d72457c694ed7b079aa9ef16e664ca45a07a30c09d793c90b"
 },
 "nbformat": 3,
 "nbformat_minor": 0,
 "worksheets": [
  {
   "cells": [
    {
     "cell_type": "heading",
     "level": 1,
     "metadata": {},
     "source": [
      "D003x.2 Unit 4 Probability"
     ]
    },
    {
     "cell_type": "code",
     "collapsed": false,
     "input": [
      "import numpy as np\n",
      "import scipy.linalg as la\n",
      "import matplotlib.pyplot as plt\n",
      "from sympy import init_session\n",
      "init_session()"
     ],
     "language": "python",
     "metadata": {},
     "outputs": [
      {
       "output_type": "stream",
       "stream": "stdout",
       "text": [
        "IPython console for SymPy 0.7.6 (Python 2.7.6-64-bit) (ground types: python)\n",
        "\n",
        "These commands were executed:\n",
        ">>> from __future__ import division\n",
        ">>> from sympy import *\n",
        ">>> x, y, z, t = symbols('x y z t')\n",
        ">>> k, m, n = symbols('k m n', integer=True)\n",
        ">>> f, g, h = symbols('f g h', cls=Function)\n",
        ">>> init_printing()\n",
        "\n",
        "Documentation can be found at http://www.sympy.org\n"
       ]
      }
     ],
     "prompt_number": 2
    },
    {
     "cell_type": "code",
     "collapsed": false,
     "input": [
      "%matplotlib inline\n",
      "d1=d2=d3 =1/3\n",
      "T = np.matrix([[d1,d2,d3,0,0,0,0,0,0],\n",
      "               [0,d1+d3,d2,0,0,0,0,0,0],\n",
      "               [0,d2,d1,0,d3,0,0,0,0],\n",
      "               [0,0,0,0,0,0,0,0,0],\n",
      "               [0,0,0,0,d1,0,d3,d2,0],\n",
      "               [0,0,0,0,0,0,0,0,0],\n",
      "               [0,0,0,0,0,0,d1,d2,d3],\n",
      "               [0,0,0,0,0,0,0,d1,d2+d3],\n",
      "               [0,0,0,0,0,0,0,0,1]])\n",
      "V = np.matrix([1,0,0,0,0,0,0,0,0])\n",
      "Vold = G = V\n",
      "for i in range(16):\n",
      "    Vnew = Vold*T\n",
      "    Vold = Vnew\n",
      "    G = np.row_stack((G,Vnew))\n",
      "plt.rcParams['figure.figsize'] = [8, 12]\n",
      "plt.imshow(G, cmap =  cm.Blues, interpolation = 'nearest')"
     ],
     "language": "python",
     "metadata": {},
     "outputs": [
      {
       "metadata": {},
       "output_type": "pyout",
       "prompt_number": 3,
       "text": [
        "<matplotlib.image.AxesImage at 0x10ecc1e50>"
       ]
      },
      {
       "metadata": {},
       "output_type": "display_data",
       "png": "[encoded data removed]",
       "text": [
        "<matplotlib.figure.Figure at 0x10eb8ad10>"
       ]
      }
     ],
     "prompt_number": 3
    },
    {
     "cell_type": "heading",
     "level": 2,
     "metadata": {},
     "source": [
      "Unit 6: Sports Ranking"
     ]
    },
    {
     "cell_type": "heading",
     "level": 4,
     "metadata": {},
     "source": [
      "The Massey system"
     ]
    },
    {
     "cell_type": "code",
     "collapsed": false,
     "input": [
      "#Team x played Team y winning by 1, Team y played TEam  winning by 15, Team x played Team z losing by 10.\n",
      "A = Matrix([[1,-1,0],[0,1,-1],[-1,0,1]])\n",
      "Teams = Matrix([x,y,z])\n",
      "Results = Matrix([1,15,10])\n",
      "A,Teams, A*Teams, Results"
     ],
     "language": "python",
     "metadata": {},
     "outputs": [
      {
       "latex": [
        "$$\\left ( \\left[\\begin{matrix}1 & -1 & 0\\\\0 & 1 & -1\\\\-1 & 0 & 1\\end{matrix}\\right], \\quad \\left[\\begin{matrix}x\\\\y\\\\z\\end{matrix}\\right], \\quad \\left[\\begin{matrix}x - y\\\\y - z\\\\- x + z\\end{matrix}\\right], \\quad \\left[\\begin{matrix}1\\\\15\\\\10\\end{matrix}\\right]\\right )$$"
       ],
       "metadata": {},
       "output_type": "pyout",
       "png": "[encoded data removed]",
       "prompt_number": 52,
       "text": [
        "\u239b\u23a11   -1  0 \u23a4, \u23a1x\u23a4, \u23a1x - y \u23a4, \u23a11 \u23a4\u239e\n",
        "\u239c\u23a2          \u23a5  \u23a2 \u23a5  \u23a2      \u23a5  \u23a2  \u23a5\u239f\n",
        "\u239c\u23a20   1   -1\u23a5  \u23a2y\u23a5  \u23a2y - z \u23a5  \u23a215\u23a5\u239f\n",
        "\u239c\u23a2          \u23a5  \u23a2 \u23a5  \u23a2      \u23a5  \u23a2  \u23a5\u239f\n",
        "\u239d\u23a3-1  0   1 \u23a6  \u23a3z\u23a6  \u23a3-x + z\u23a6  \u23a310\u23a6\u23a0"
       ]
      }
     ],
     "prompt_number": 52
    },
    {
     "cell_type": "code",
     "collapsed": false,
     "input": [
      "import scipy.linalg as la\n",
      "def Massey_Rank(A, Results):\n",
      "    ''' A is the game matrix with diagonals = 1, Results is the \n",
      "    score difference for each game'''\n",
      "    #Now multiply both sides by A.T\n",
      "    M = A.T*A\n",
      "    R = A.T*Results\n",
      "    #Replace Row m with ones and row m in Results with 0\n",
      "    m = M.cols\n",
      "    M[-1*m] = ones(1, m); R[-1] = 0\n",
      "    #lstsq returns the solution, rank and singular values\n",
      "    Solution = la.lstsq(M,R)\n",
      "    return M, R, Solution[0]\n",
      "Massey_Rank(A,Results)"
     ],
     "language": "python",
     "metadata": {},
     "outputs": [
      {
       "metadata": {},
       "output_type": "pyout",
       "prompt_number": 68,
       "text": [
        "(Matrix([\n",
        " [ 2, -1, -1],\n",
        " [-1,  2, -1],\n",
        " [ 1,  1,  1]]), Matrix([\n",
        " [-9],\n",
        " [14],\n",
        " [ 0]]), array([[-3.        ],\n",
        "        [ 4.66666667],\n",
        "        [-1.66666667]]))"
       ]
      }
     ],
     "prompt_number": 68
    },
    {
     "cell_type": "markdown",
     "metadata": {},
     "source": [
      "The Matrix $A$ also can be arrived at directly. This is done by placing the number of games each team (row) played, then $-1 * \\ number \\ of \\ games$ for each Team col."
     ]
    },
    {
     "cell_type": "heading",
     "level": 4,
     "metadata": {},
     "source": [
      "The Colley Method"
     ]
    },
    {
     "cell_type": "markdown",
     "metadata": {},
     "source": [
      "http://www.colleyrankings.com/matrate.pdf; http://www.mathaware.org/mam/2010/essays/PasteurPredictive.pdf"
     ]
    },
    {
     "cell_type": "code",
     "collapsed": false,
     "input": [
      "#Colley Method\n",
      "nw = 1.\n",
      "ntot = 2.\n",
      "nl = ntot - nw\n",
      "rating_j = 1/2.\n",
      "rating_i = (1+nw)/(2+ntot)\n",
      "rating_i\n",
      "#But when group pools or conferences are used, there is no certainty that the ratings between each group compare. \n",
      "#Colley uses a scheme whereb the actual (not 1/2) rating of the other team is added to the index team rating. \n",
      "effective_rating = (nw - (ntot-nw)/2.) + rating_j "
     ],
     "language": "python",
     "metadata": {},
     "outputs": [],
     "prompt_number": 90
    },
    {
     "cell_type": "markdown",
     "metadata": {},
     "source": [
      "This can all be rewritten as a matrix $C \\vec{r} = \\vec{b}$. The vector $\\vec{r}$ is the rating for each team, which could be $1/2$, or a calculated rating from another pool. The vector $\\vec{b_i} = \\frac{1 + (n_{w,i} \u2212 n_{l,i})}{2}$\n",
      "\n",
      "$C = \\begin{bmatrix}2+n_{tot}&-1\\\\-1&2 + n_{tot}&-1\\\\ &-1&.&.\\\\ & &.&.&-1\\\\ & & &-1&2 + n_{tot} \\end{bmatrix}$  $r = \\begin{bmatrix}r_1\\\\r_2\\\\.\\\\.\\\\r_n \\end{bmatrix}$"
     ]
    },
    {
     "cell_type": "code",
     "collapsed": false,
     "input": [
      "C = eye(5)*(2+ntot)\n",
      "#b = 1 + (nw-nl)/2\n",
      "C[0,2] = C[0,3] =C[0,4] = C[1,2] = C[1,4] = C[2,0] = C[2,1] =  C[2,3] = C[2,4] = C[3,0] = C[3,2] = C[4,0] = C[4,1] = C[4,2] = -1\n",
      "C[0,0] = C[4,4] = 5\n",
      "C[3,3] = 6\n",
      "b = Matrix([1/2.,1,1,1,3/2.])\n",
      "C, b"
     ],
     "language": "python",
     "metadata": {},
     "outputs": [
      {
       "latex": [
        "$$\\left ( \\left[\\begin{matrix}5 & 0 & -1 & -1 & -1\\\\0 & 4.0 & -1 & 0 & -1\\\\-1 & -1 & 4.0 & -1 & -1\\\\-1 & 0 & -1 & 6 & 0\\\\-1 & -1 & -1 & 0 & 5\\end{matrix}\\right], \\quad \\left[\\begin{matrix}0.5\\\\1\\\\1\\\\1\\\\1.5\\end{matrix}\\right]\\right )$$"
       ],
       "metadata": {},
       "output_type": "pyout",
       "png": "[encoded data removed]",
       "prompt_number": 91,
       "text": [
        "\u239b\u23a15    0   -1   -1  -1\u23a4, \u23a10.5\u23a4\u239e\n",
        "\u239c\u23a2                    \u23a5  \u23a2   \u23a5\u239f\n",
        "\u239c\u23a20   4.0  -1   0   -1\u23a5  \u23a2 1 \u23a5\u239f\n",
        "\u239c\u23a2                    \u23a5  \u23a2   \u23a5\u239f\n",
        "\u239c\u23a2-1  -1   4.0  -1  -1\u23a5  \u23a2 1 \u23a5\u239f\n",
        "\u239c\u23a2                    \u23a5  \u23a2   \u23a5\u239f\n",
        "\u239c\u23a2-1   0   -1   6   0 \u23a5  \u23a2 1 \u23a5\u239f\n",
        "\u239c\u23a2                    \u23a5  \u23a2   \u23a5\u239f\n",
        "\u239d\u23a3-1  -1   -1   0   5 \u23a6  \u23a31.5\u23a6\u23a0"
       ]
      }
     ],
     "prompt_number": 91
    },
    {
     "cell_type": "code",
     "collapsed": false,
     "input": [
      "r_vec = la.solve(C,b)\n",
      "r_vec"
     ],
     "language": "python",
     "metadata": {},
     "outputs": [
      {
       "metadata": {},
       "output_type": "pyout",
       "prompt_number": 92,
       "text": [
        "array([[ 0.46558704],\n",
        "       [ 0.61336032],\n",
        "       [ 0.78137652],\n",
        "       [ 0.37449393],\n",
        "       [ 0.67206478]])"
       ]
      }
     ],
     "prompt_number": 92
    },
    {
     "cell_type": "heading",
     "level": 2,
     "metadata": {},
     "source": [
      "Super 15 Rankings"
     ]
    },
    {
     "cell_type": "code",
     "collapsed": false,
     "input": [
      "# To end of Round 9 http://www.superrugby.co.nz/Grandstand\n",
      "S15 = Matrix([[9,-2,0,0,-1,0,-1,-1,-1,-1,0,0,0,0,-2],#Crus\n",
      "              [-2,8,-1,-1,-1,-1,0,0,0,0,0,0,-1,-1,0],#Reb\n",
      "              [0,-1,8,-2,0,0,-1,-1,0,-1,0,0,-1,-1,0],#Brum\n",
      "              [0,-1,-2,8,-1,0,0,0,0,0,-1,0,-1,-1,-1],#Red\n",
      "              [-1,-1,0,-1,9,-1,-1,0,-2,0,-1,-1,0,0,0],#Lion\n",
      "              [0,-1,0,0,-1,6,-1,0,0,0,-1,-1,0,0,-1],#Hurr\n",
      "              [0,0,-1,0,-1,-1,8,-2,0,-1,0,-1,-1,0,0],#Blues\n",
      "              [-1,0,-1,0,0,0,-2,8,-1,-1,0,-1,0,0,-1],#Chiefs\n",
      "              [-1,0,0,0,-2,0,0,-1,9,-2,-1,-1,0,-1,0],#Sharks\n",
      "              [-1,0,-1,0,0,0,-1,-1,-2,9,-1,0,0,-2,0],#Cheetahs\n",
      "              [-1,0,0,-1,-1,-1,0,0,-1,-1,8,-1,0,-1,0],#Bulls\n",
      "              [0,0,0,0,-1,-1,-1,-1,-1,0,-1,8,-1,0,-1],#Stormers\n",
      "              [0,-1,-1,-1,0,0,-1,0,0,0,0,-1,7,-1,-1],#Waratahs\n",
      "              [0,-1,-1,-1,0,-1,0,0,0,-1,-2,0,-1,8,0],#Force\n",
      "              [-2,0,0,-1,0,-1,0,-1,0,0,0,-1,-1,0,7],#Highlanders\n",
      "              ])\n",
      "S15Results=Matrix([[-11+28-12-24+42+33+6-5],\n",
      "                   [11-5+8-1-24-10+4],\n",
      "                   [5+44+29-2-2+17-15+12],\n",
      "                   [-8-44-29-1-21-18+12-7],\n",
      "                   [-28+1+1-14+3-17+2+4-3],\n",
      "                   [24+14+7+4+5+7],\n",
      "                   [2-3-7-25-7-1-11-12],\n",
      "                   [24+2+15+7-1+10+9-3],\n",
      "                   [-42+17-2+1-6+17-8-16+6],\n",
      "                   [-33-17+1-10-17+6-19+9],\n",
      "                   [12+21-4-4+8+19-12+1],\n",
      "                   [3-5+11-9+16+12+14-18],\n",
      "                   [10+15+18+12-14-12-7],\n",
      "                   [-4-12-12-29-6-1+12],\n",
      "                   [-6+5+7-7+3+18+7]\n",
      "                  ])\n",
      "Cr, Reb, Br, Red,Li,Hu,Bl,Chief,Sh,Cheet,Bull,St,Wa,Fo,Hi = symbols('Crusaders Rebels Brumbies Reds Lions Hurricanes Blues Chiefs Sharks Cheetahs Bulls Stormers Waratahs Force Highlanders')\n",
      "S15_names = Matrix([Cr, Reb, Br, Red,Li,Hu,Bl,Chief,Sh,Cheet,Bull,St,Wa,Fo,Hi])\n",
      "S15_rank = Matrix([S15_names.T,Massey_Rank(S15,S15Results)[2]])\n",
      "Week9_rank = list(np.array(S15_rank.T))\n",
      "Week9_rank.sort(key=lambda row: row[1:], reverse=True)\n",
      "import pprint\n",
      "pprint.pprint(Week9_rank[:])"
     ],
     "language": "python",
     "metadata": {},
     "outputs": [
      {
       "output_type": "stream",
       "stream": "stdout",
       "text": [
        "[array([Hurricanes, 10.6296133068006], dtype=object),\n",
        " array([Chiefs, 7.83314241624077], dtype=object),\n",
        " array([Highlanders, 7.31623523057755], dtype=object),\n",
        " array([Brumbies, 6.25052743658223], dtype=object),\n",
        " array([Crusaders, 5.63669826897928], dtype=object),\n",
        " array([Stormers, 4.80750448318140], dtype=object),\n",
        " array([Bulls, 2.72267474131692], dtype=object),\n",
        " array([Waratahs, 2.15077139591785], dtype=object),\n",
        " array([Rebels, -1.49023281884242], dtype=object),\n",
        " array([Blues, -4.95982494233897], dtype=object),\n",
        " array([Sharks, -5.51369096004183], dtype=object),\n",
        " array([Lions, -6.35291232347168], dtype=object),\n",
        " array([Force, -6.38429136249362], dtype=object),\n",
        " array([Cheetahs, -9.53120279309782], dtype=object),\n",
        " array([Reds, -13.1150120793102], dtype=object)]\n"
       ]
      }
     ],
     "prompt_number": 299
    },
    {
     "cell_type": "raw",
     "metadata": {},
     "source": [
      "Official Standings...\n",
      "TEAM\tPOINTS\n",
      "1\tHurricanes\t31\n",
      "2\tBrumbies\t25\n",
      "3\tBulls\t24\n",
      "4\tChiefs\t28\n",
      "5\tHighlanders\t24\n",
      "6\tStormers\t22\n",
      "7\tLions\t21\n",
      "8\tCrusaders\t20\n",
      "9\tSharks\t20\n",
      "10\tWaratahs\t18\n",
      "11\tRebels\t15\n",
      "12\tCheetahs\t13\n",
      "13\tBlues\t9\n",
      "14\tForce\t8\n",
      "15\tReds\t7"
     ]
    },
    {
     "cell_type": "code",
     "collapsed": false,
     "input": [
      "#what about some features of this matrix?\n",
      "S15n = np.array(S15)\n",
      "S15_orth =la.orth(S15n)\n",
      "Matrix(la.eig(S15n)[0].round(2))"
     ],
     "language": "python",
     "metadata": {},
     "outputs": [
      {
       "latex": [
        "$$\\left[\\begin{matrix}0\\\\12.04\\\\12.25\\\\4.77\\\\5.35 + 0.09 i\\\\5.35 - 0.09 i\\\\6.4\\\\7.03\\\\7.64\\\\7.95\\\\10.94\\\\10.5\\\\9.43 + 0.09 i\\\\9.43 - 0.09 i\\\\9.9\\end{matrix}\\right]$$"
       ],
       "metadata": {},
       "output_type": "pyout",
       "png": "[encoded data removed]",
       "prompt_number": 248,
       "text": [
        "\u23a1       0        \u23a4\n",
        "\u23a2                \u23a5\n",
        "\u23a2     12.04      \u23a5\n",
        "\u23a2                \u23a5\n",
        "\u23a2     12.25      \u23a5\n",
        "\u23a2                \u23a5\n",
        "\u23a2      4.77      \u23a5\n",
        "\u23a2                \u23a5\n",
        "\u23a2 5.35 + 0.09\u22c5\u2148  \u23a5\n",
        "\u23a2                \u23a5\n",
        "\u23a25.35 - - -0.09\u22c5\u2148\u23a5\n",
        "\u23a2                \u23a5\n",
        "\u23a2      6.4       \u23a5\n",
        "\u23a2                \u23a5\n",
        "\u23a2      7.03      \u23a5\n",
        "\u23a2                \u23a5\n",
        "\u23a2      7.64      \u23a5\n",
        "\u23a2                \u23a5\n",
        "\u23a2      7.95      \u23a5\n",
        "\u23a2                \u23a5\n",
        "\u23a2     10.94      \u23a5\n",
        "\u23a2                \u23a5\n",
        "\u23a2      10.5      \u23a5\n",
        "\u23a2                \u23a5\n",
        "\u23a2 9.43 + 0.09\u22c5\u2148  \u23a5\n",
        "\u23a2                \u23a5\n",
        "\u23a29.43 - - -0.09\u22c5\u2148\u23a5\n",
        "\u23a2                \u23a5\n",
        "\u23a3      9.9       \u23a6"
       ]
      }
     ],
     "prompt_number": 248
    },
    {
     "cell_type": "markdown",
     "metadata": {},
     "source": [
      "What type of Matrix is $S15$?\n",
      "1. Laplacian.\n",
      "2. A 15 x 14 orthonormal basis can be constructed.\n",
      "3. Eigenvalues $\\lambda \\in \\mathbb{C}$"
     ]
    },
    {
     "cell_type": "code",
     "collapsed": false,
     "input": [
      "#Colley Matrix approach\n",
      "Results_C = Matrix([[2+4-5],#Crusaders\n",
      "                    [2+4-4],#Rebels\n",
      "                    [2+5-3],#Brumbies\n",
      "                    [2+1-7],#Reds\n",
      "                    [2+5-4],#Lions\n",
      "                    [2+6],#Hurr\n",
      "                    [2+1-7],#Blues\n",
      "                    [2+6-2],#Chiefs\n",
      "                    [2+4-5],#Sharks\n",
      "                    [2+4-5],#Cheetahs\n",
      "                    [2+5-3],#Bulls\n",
      "                    [2+5-3],#Stormers\n",
      "                    [2+4-3],#Waratahs\n",
      "                    [2+1-7],#Force\n",
      "                    [2+5-2],#Highlanders\n",
      "                    ])/2\n",
      "S15_Colley = S15 + 2*eye(15)\n",
      "shape(S15_Colley), shape(Results_C)"
     ],
     "language": "python",
     "metadata": {},
     "outputs": [
      {
       "latex": [
        "$$\\left ( \\left ( 15, \\quad 15\\right ), \\quad \\left ( 15, \\quad 1\\right )\\right )$$"
       ],
       "metadata": {},
       "output_type": "pyout",
       "png": "[encoded data removed]",
       "prompt_number": 256,
       "text": [
        "((15, 15), (15, 1))"
       ]
      }
     ],
     "prompt_number": 256
    },
    {
     "cell_type": "code",
     "collapsed": false,
     "input": [
      "la.lstsq(S15_Colley,Results_C)\n",
      "S15_rank_Colley = Matrix([S15_names.T,la.lstsq(S15_Colley,Results_C)[0]])\n",
      "Week9_rank_C = list(np.array(S15_rank_Colley.T))\n",
      "Week9_rank_C.sort(key=lambda row: row[1:], reverse=True)\n",
      "import pprint\n",
      "pprint.pprint(Week9_rank_C)"
     ],
     "language": "python",
     "metadata": {},
     "outputs": [
      {
       "output_type": "stream",
       "stream": "stdout",
       "text": [
        "[array([Hurricanes, 0.916204822531159], dtype=object),\n",
        " array([Highlanders, 0.719236619964363], dtype=object),\n",
        " array([Chiefs, 0.686523592626921], dtype=object),\n",
        " array([Stormers, 0.674699870668631], dtype=object),\n",
        " array([Bulls, 0.595501662100505], dtype=object),\n",
        " array([Lions, 0.554527967797639], dtype=object),\n",
        " array([Waratahs, 0.513424072975173], dtype=object),\n",
        " array([Brumbies, 0.505471028952652], dtype=object),\n",
        " array([Rebels, 0.489681897643774], dtype=object),\n",
        " array([Crusaders, 0.485727203354169], dtype=object),\n",
        " array([Sharks, 0.465589406616198], dtype=object),\n",
        " array([Cheetahs, 0.422530672564473], dtype=object),\n",
        " array([Blues, 0.295990562074358], dtype=object),\n",
        " array([Force, 0.224913863303728], dtype=object),\n",
        " array([Reds, 0.210822814169048], dtype=object)]\n"
       ]
      }
     ],
     "prompt_number": 267
    },
    {
     "cell_type": "code",
     "collapsed": false,
     "input": [
      "W9C = Matrix(Week9_rank_C)\n",
      "W9M = Matrix(Week9_rank)\n",
      "W9C[:,0]-W9M[:,0]"
     ],
     "language": "python",
     "metadata": {},
     "outputs": [
      {
       "latex": [
        "$$\\left[\\begin{matrix}0\\\\- Chiefs + Highlanders\\\\Chiefs - Highlanders\\\\- Brumbies + Stormers\\\\Bulls - Crusaders\\\\Lions - Stormers\\\\- Bulls + Waratahs\\\\Brumbies - Waratahs\\\\0\\\\- Blues + Crusaders\\\\0\\\\Cheetahs - Lions\\\\Blues - Force\\\\- Cheetahs + Force\\\\0\\end{matrix}\\right]$$"
       ],
       "metadata": {},
       "output_type": "pyout",
       "png": "[encoded data removed]",
       "prompt_number": 309,
       "text": [
        "\u23a1          0          \u23a4\n",
        "\u23a2                     \u23a5\n",
        "\u23a2-Chiefs + Highlanders\u23a5\n",
        "\u23a2                     \u23a5\n",
        "\u23a2Chiefs - Highlanders \u23a5\n",
        "\u23a2                     \u23a5\n",
        "\u23a2-Brumbies + Stormers \u23a5\n",
        "\u23a2                     \u23a5\n",
        "\u23a2  Bulls - Crusaders  \u23a5\n",
        "\u23a2                     \u23a5\n",
        "\u23a2  Lions - Stormers   \u23a5\n",
        "\u23a2                     \u23a5\n",
        "\u23a2  -Bulls + Waratahs  \u23a5\n",
        "\u23a2                     \u23a5\n",
        "\u23a2 Brumbies - Waratahs \u23a5\n",
        "\u23a2                     \u23a5\n",
        "\u23a2          0          \u23a5\n",
        "\u23a2                     \u23a5\n",
        "\u23a2 -Blues + Crusaders  \u23a5\n",
        "\u23a2                     \u23a5\n",
        "\u23a2          0          \u23a5\n",
        "\u23a2                     \u23a5\n",
        "\u23a2  Cheetahs - Lions   \u23a5\n",
        "\u23a2                     \u23a5\n",
        "\u23a2    Blues - Force    \u23a5\n",
        "\u23a2                     \u23a5\n",
        "\u23a2  -Cheetahs + Force  \u23a5\n",
        "\u23a2                     \u23a5\n",
        "\u23a3          0          \u23a6"
       ]
      }
     ],
     "prompt_number": 309
    },
    {
     "cell_type": "code",
     "collapsed": false,
     "input": [
      "#Adding a logistic function as per  http://www.mathaware.org/mam/2010/essays/PasteurPredictive.pdf\n",
      "#Weight function for time is noted as 0.95^n\n",
      "Week = 1\n",
      "Weight_by_round = 0.95**(Week)\n",
      "#They also add a logistic function with a cap at 21 and 0 in the middle.\n",
      "#Pasteur 'forgot' to provide the function but here it is -- near enough. \n",
      "@vectorize()\n",
      "def Logistic_func(X,L=1,x0=0,k=.2):\n",
      "    #L = 1 #Maximum value\n",
      "    #x0 = 0 #midpoint value\n",
      "    #k = 1 #steepness\n",
      "    r = L/(1+exp(-k*X-x0))\n",
      "    return r-1./2\n",
      "\n",
      "x1 = np.linspace(-40,40,100)\n",
      "plt.grid()\n",
      "plt.plot(x1,Logistic_func(x1))\n"
     ],
     "language": "python",
     "metadata": {},
     "outputs": [
      {
       "metadata": {},
       "output_type": "pyout",
       "prompt_number": 337,
       "text": [
        "[<matplotlib.lines.Line2D at 0x11286c750>]"
       ]
      },
      {
       "metadata": {},
       "output_type": "display_data",
       "png": "[encoded data removed]",
       "text": [
        "<matplotlib.figure.Figure at 0x112870550>"
       ]
      }
     ],
     "prompt_number": 337
    },
    {
     "cell_type": "code",
     "collapsed": false,
     "input": [],
     "language": "python",
     "metadata": {},
     "outputs": []
    }
   ],
   "metadata": {}
  }
 ]
}