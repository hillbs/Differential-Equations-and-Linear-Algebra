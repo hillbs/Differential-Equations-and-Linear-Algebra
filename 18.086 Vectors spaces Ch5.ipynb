{
 "metadata": {
  "name": "",
  "signature": "sha256:9d40656a8e93ed6b37f56ed5f4d7ff29df9b937ca614a287e02bbd58f5f8b15c"
 },
 "nbformat": 3,
 "nbformat_minor": 0,
 "worksheets": [
  {
   "cells": [
    {
     "cell_type": "heading",
     "level": 1,
     "metadata": {},
     "source": [
      "Chapter 5. Vector spaces and subspaces"
     ]
    },
    {
     "cell_type": "code",
     "collapsed": false,
     "input": [
      "from sympy import init_session\n",
      "from scipy.sparse import csgraph\n",
      "import numpy as np\n",
      "init_session()\n",
      "A = Matrix([[1,0,3],[2,1,5],[1,0,3]])\n",
      "A\n"
     ],
     "language": "python",
     "metadata": {},
     "outputs": [
      {
       "output_type": "stream",
       "stream": "stdout",
       "text": [
        "IPython console for SymPy 0.7.6 (Python 2.7.6-64-bit) (ground types: python)\n",
        "\n",
        "These commands were executed:\n",
        ">>> from __future__ import division\n",
        ">>> from sympy import *\n",
        ">>> x, y, z, t = symbols('x y z t')\n",
        ">>> k, m, n = symbols('k m n', integer=True)\n",
        ">>> f, g, h = symbols('f g h', cls=Function)\n",
        ">>> init_printing()\n",
        "\n",
        "Documentation can be found at http://www.sympy.org\n"
       ]
      },
      {
       "latex": [
        "$$\\left[\\begin{matrix}1 & 0 & 3\\\\2 & 1 & 5\\\\1 & 0 & 3\\end{matrix}\\right]$$"
       ],
       "metadata": {},
       "output_type": "pyout",
       "png": "[encoded data removed]",
       "prompt_number": 5,
       "text": [
        "\u23a11  0  3\u23a4\n",
        "\u23a2       \u23a5\n",
        "\u23a22  1  5\u23a5\n",
        "\u23a2       \u23a5\n",
        "\u23a31  0  3\u23a6"
       ]
      }
     ],
     "prompt_number": 5
    },
    {
     "cell_type": "code",
     "collapsed": false,
     "input": [
      "# Columns of A are linearly independent when the only solution to Av = 0 is v=0. A is not independent.\n",
      "A.nullspace()[0], A.rank(), A.norm(), A.det()"
     ],
     "language": "python",
     "metadata": {},
     "outputs": [
      {
       "latex": [
        "$$\\left ( \\left[\\begin{matrix}-3\\\\1\\\\1\\end{matrix}\\right], \\quad 2, \\quad 5 \\sqrt{2}, \\quad 0\\right )$$"
       ],
       "metadata": {},
       "output_type": "pyout",
       "png": "[encoded data removed]",
       "prompt_number": 20,
       "text": [
        "\u239b             ___   \u239e\n",
        "\u239c\u23a1-3\u23a4, 2, 5\u22c5\u2572\u2571 2 , 0\u239f\n",
        "\u239c\u23a2  \u23a5               \u239f\n",
        "\u239c\u23a21 \u23a5               \u239f\n",
        "\u239c\u23a2  \u23a5               \u239f\n",
        "\u239d\u23a31 \u23a6               \u23a0"
       ]
      }
     ],
     "prompt_number": 20
    },
    {
     "cell_type": "code",
     "collapsed": false,
     "input": [
      "A*A.nullspace()[0]"
     ],
     "language": "python",
     "metadata": {},
     "outputs": [
      {
       "latex": [
        "$$\\left[\\begin{matrix}0\\\\0\\\\0\\end{matrix}\\right]$$"
       ],
       "metadata": {},
       "output_type": "pyout",
       "png": "[encoded data removed]",
       "prompt_number": 21,
       "text": [
        "\u23a10\u23a4\n",
        "\u23a2 \u23a5\n",
        "\u23a20\u23a5\n",
        "\u23a2 \u23a5\n",
        "\u23a30\u23a6"
       ]
      }
     ],
     "prompt_number": 21
    },
    {
     "cell_type": "code",
     "collapsed": false,
     "input": [
      "#Identify basis columns\n",
      "A_basis = A.rref()\n",
      "A_basis"
     ],
     "language": "python",
     "metadata": {},
     "outputs": [
      {
       "latex": [
        "$$\\left ( \\left[\\begin{matrix}1 & 0 & 3\\\\0 & 1 & -1\\\\0 & 0 & 0\\end{matrix}\\right], \\quad \\left [ 0, \\quad 1\\right ]\\right )$$"
       ],
       "metadata": {},
       "output_type": "pyout",
       "png": "[encoded data removed]",
       "prompt_number": 78,
       "text": [
        "\u239b\u23a11  0  3 \u23a4, [0, 1]\u239e\n",
        "\u239c\u23a2        \u23a5        \u239f\n",
        "\u239c\u23a20  1  -1\u23a5        \u239f\n",
        "\u239c\u23a2        \u23a5        \u239f\n",
        "\u239d\u23a30  0  0 \u23a6        \u23a0"
       ]
      }
     ],
     "prompt_number": 78
    },
    {
     "cell_type": "code",
     "collapsed": false,
     "input": [
      "A.col(A_basis[1])"
     ],
     "language": "python",
     "metadata": {},
     "outputs": [
      {
       "latex": [
        "$$\\left[\\begin{matrix}1 & 0\\\\2 & 1\\\\1 & 0\\end{matrix}\\right]$$"
       ],
       "metadata": {},
       "output_type": "pyout",
       "png": "[encoded data removed]",
       "prompt_number": 79,
       "text": [
        "\u23a11  0\u23a4\n",
        "\u23a2    \u23a5\n",
        "\u23a22  1\u23a5\n",
        "\u23a2    \u23a5\n",
        "\u23a31  0\u23a6"
       ]
      }
     ],
     "prompt_number": 79
    },
    {
     "cell_type": "markdown",
     "metadata": {},
     "source": [
      "Sympy can calculate the permutation, lower and upper matrix decompositions. As a note, while in the Ipython interactive you can calculate Q,R = qr(A), it seems not to work in the ipynb. A useful resource is http://nbviewer.ipython.org/github/oseledets/NLA/blob/master/lecture-6.ipynb."
     ]
    },
    {
     "cell_type": "code",
     "collapsed": false,
     "input": [
      "Q,R = qr(A)\n",
      "around(R,decimals=0) #This shows where row pivots are -- cols 1 and two, as above. "
     ],
     "language": "python",
     "metadata": {},
     "outputs": [
      {
       "metadata": {},
       "output_type": "pyout",
       "prompt_number": 87,
       "text": [
        "array([[-2., -1., -7.],\n",
        "       [ 0., -1.,  1.],\n",
        "       [ 0., -0., -0.]])"
       ]
      }
     ],
     "prompt_number": 87
    },
    {
     "cell_type": "markdown",
     "metadata": {},
     "source": [
      "If using numeric matrices, it is probably preferable to use scipy.linalg, or the lower level BLAS or LAPACK wrappers. "
     ]
    },
    {
     "cell_type": "code",
     "collapsed": false,
     "input": [
      "from scipy.linalg import *"
     ],
     "language": "python",
     "metadata": {},
     "outputs": [],
     "prompt_number": 28
    },
    {
     "cell_type": "code",
     "collapsed": false,
     "input": [
      "P,L,U = lu(A)\n",
      "pprint(P[:]), pprint(L[:]), pprint(U)"
     ],
     "language": "python",
     "metadata": {},
     "outputs": [
      {
       "output_type": "stream",
       "stream": "stdout",
       "text": [
        " [[ 0.  1.  0.]\n",
        "  [ 1.  0.  0.]\n",
        " [ 0.  0.  1.]]\n",
        "[[ 1.   0.   0. ] \n",
        " [ 0.5  1.   0. ] \n",
        " [ 0.5  1.   1. ]]\n",
        "[[ 2.   1.   5. ] \n",
        " [ 0.  -0.5  0.5] \n",
        " [ 0.   0.   0. ]]\n"
       ]
      },
      {
       "metadata": {},
       "output_type": "pyout",
       "prompt_number": 41,
       "text": [
        "(None, None, None)"
       ]
      }
     ],
     "prompt_number": 41
    },
    {
     "cell_type": "code",
     "collapsed": false,
     "input": [
      "P.dot(L.dot(U))"
     ],
     "language": "python",
     "metadata": {},
     "outputs": [
      {
       "metadata": {},
       "output_type": "pyout",
       "prompt_number": 71,
       "text": [
        "array([[ 1.,  0.,  3.],\n",
        "       [ 2.,  1.,  5.],\n",
        "       [ 1.,  0.,  3.]])"
       ]
      }
     ],
     "prompt_number": 71
    },
    {
     "cell_type": "code",
     "collapsed": false,
     "input": [
      "#to get the sympy operations, convert back to sympy object. Then U = np.array(U)!!!\n",
      "U = Matrix(U)\n",
      "U.nullspace(), U.rank()"
     ],
     "language": "python",
     "metadata": {},
     "outputs": [
      {
       "latex": [
        "$$\\left [ \\left[\\begin{matrix}-3.0\\\\1.0\\\\1\\end{matrix}\\right]\\right ]$$"
       ],
       "metadata": {},
       "output_type": "pyout",
       "png": "[encoded data removed]",
       "prompt_number": 74,
       "text": [
        "\u23a1\u23a1-3.0\u23a4\u23a4\n",
        "\u23a2\u23a2    \u23a5\u23a5\n",
        "\u23a2\u23a21.0 \u23a5\u23a5\n",
        "\u23a2\u23a2    \u23a5\u23a5\n",
        "\u23a3\u23a3 1  \u23a6\u23a6"
       ]
      }
     ],
     "prompt_number": 74
    },
    {
     "cell_type": "code",
     "collapsed": false,
     "input": [
      "# http://au.mathworks.com/help/matlab/ref/lu.html\n",
      "#comparing with MATLAB \n",
      "B = np.array([[1,2,3],[4,5,6],[7,8,0]])\n",
      "B"
     ],
     "language": "python",
     "metadata": {},
     "outputs": [
      {
       "metadata": {},
       "output_type": "pyout",
       "prompt_number": 75,
       "text": [
        "array([[1, 2, 3],\n",
        "       [4, 5, 6],\n",
        "       [7, 8, 0]])"
       ]
      }
     ],
     "prompt_number": 75
    },
    {
     "cell_type": "code",
     "collapsed": false,
     "input": [
      "P1, L1,U1 = lu(B,permute_l=False)\n",
      "pprint(P1)\n",
      "pprint(L1)\n",
      "pprint(U1)"
     ],
     "language": "python",
     "metadata": {},
     "outputs": [
      {
       "output_type": "stream",
       "stream": "stdout",
       "text": [
        " [[ 0.  1.  0.]\n",
        "  [ 0.  0.  1.]\n",
        " [ 1.  0.  0.]]\n",
        " [[ 1.          0.          0.        ]\n",
        "  [ 0.14285714  1.          0.        ]\n",
        " [ 0.57142857  0.5         1.        ]]\n",
        " [[ 7.          8.          0.        ]\n",
        "  [ 0.          0.85714286  3.        ]\n",
        " [ 0.          0.          4.5       ]]\n"
       ]
      }
     ],
     "prompt_number": 67
    },
    {
     "cell_type": "code",
     "collapsed": false,
     "input": [
      "P1.dot(L1.dot(U1))"
     ],
     "language": "python",
     "metadata": {},
     "outputs": [
      {
       "metadata": {},
       "output_type": "pyout",
       "prompt_number": 70,
       "text": [
        "array([[ 1.,  2.,  3.],\n",
        "       [ 4.,  5.,  6.],\n",
        "       [ 7.,  8.,  0.]])"
       ]
      }
     ],
     "prompt_number": 70
    },
    {
     "cell_type": "markdown",
     "metadata": {},
     "source": [
      "So, looking at the example 5.5A (p307), one can find the four spaces for a matrix thus. $A = E^{-1}R$."
     ]
    },
    {
     "cell_type": "code",
     "collapsed": false,
     "input": [
      "E_1 = Matrix([[1,0,0],[2,1,0],[5,0,1]])\n",
      "R = Matrix([[1,3,0,5],[0,0,1,6],[0,0,0,0]])\n",
      "E_1, R"
     ],
     "language": "python",
     "metadata": {},
     "outputs": [
      {
       "latex": [
        "$$\\left ( \\left[\\begin{matrix}1 & 0 & 0\\\\2 & 1 & 0\\\\5 & 0 & 1\\end{matrix}\\right], \\quad \\left[\\begin{matrix}1 & 3 & 0 & 5\\\\0 & 0 & 1 & 6\\\\0 & 0 & 0 & 0\\end{matrix}\\right]\\right )$$"
       ],
       "metadata": {},
       "output_type": "pyout",
       "png": "[encoded data removed]",
       "prompt_number": 88,
       "text": [
        "\u239b\u23a11  0  0\u23a4, \u23a11  3  0  5\u23a4\u239e\n",
        "\u239c\u23a2       \u23a5  \u23a2          \u23a5\u239f\n",
        "\u239c\u23a22  1  0\u23a5  \u23a20  0  1  6\u23a5\u239f\n",
        "\u239c\u23a2       \u23a5  \u23a2          \u23a5\u239f\n",
        "\u239d\u23a35  0  1\u23a6  \u23a30  0  0  0\u23a6\u23a0"
       ]
      }
     ],
     "prompt_number": 88
    },
    {
     "cell_type": "code",
     "collapsed": false,
     "input": [
      "A = E_1*R\n",
      "A"
     ],
     "language": "python",
     "metadata": {},
     "outputs": [
      {
       "latex": [
        "$$\\left[\\begin{matrix}1 & 3 & 0 & 5\\\\2 & 6 & 1 & 16\\\\5 & 15 & 0 & 25\\end{matrix}\\right]$$"
       ],
       "metadata": {},
       "output_type": "pyout",
       "png": "[encoded data removed]",
       "prompt_number": 90,
       "text": [
        "\u23a11  3   0  5 \u23a4\n",
        "\u23a2            \u23a5\n",
        "\u23a22  6   1  16\u23a5\n",
        "\u23a2            \u23a5\n",
        "\u23a35  15  0  25\u23a6"
       ]
      }
     ],
     "prompt_number": 90
    },
    {
     "cell_type": "code",
     "collapsed": false,
     "input": [
      "A.rank()"
     ],
     "language": "python",
     "metadata": {},
     "outputs": [
      {
       "latex": [
        "$$2$$"
       ],
       "metadata": {},
       "output_type": "pyout",
       "png": "[encoded data removed]",
       "prompt_number": 91,
       "text": [
        "2"
       ]
      }
     ],
     "prompt_number": 91
    },
    {
     "cell_type": "code",
     "collapsed": false,
     "input": [
      "#From R, the basis rows are...\n",
      "R[0,:], R[1,:]"
     ],
     "language": "python",
     "metadata": {},
     "outputs": [
      {
       "latex": [
        "$$\\left ( \\left[\\begin{matrix}1 & 3 & 0 & 5\\end{matrix}\\right], \\quad \\left[\\begin{matrix}0 & 0 & 1 & 6\\end{matrix}\\right]\\right )$$"
       ],
       "metadata": {},
       "output_type": "pyout",
       "png": "[encoded data removed]",
       "prompt_number": 92,
       "text": [
        "([1  3  0  5], [0  0  1  6])"
       ]
      }
     ],
     "prompt_number": 92
    },
    {
     "cell_type": "code",
     "collapsed": false,
     "input": [
      "#Column space basis\n",
      "A[:,0],A[:,2]"
     ],
     "language": "python",
     "metadata": {},
     "outputs": [
      {
       "latex": [
        "$$\\left ( \\left[\\begin{matrix}1\\\\2\\\\5\\end{matrix}\\right], \\quad \\left[\\begin{matrix}0\\\\1\\\\0\\end{matrix}\\right]\\right )$$"
       ],
       "metadata": {},
       "output_type": "pyout",
       "png": "[encoded data removed]",
       "prompt_number": 94,
       "text": [
        "\u239b\u23a11\u23a4, \u23a10\u23a4\u239e\n",
        "\u239c\u23a2 \u23a5  \u23a2 \u23a5\u239f\n",
        "\u239c\u23a22\u23a5  \u23a21\u23a5\u239f\n",
        "\u239c\u23a2 \u23a5  \u23a2 \u23a5\u239f\n",
        "\u239d\u23a35\u23a6  \u23a30\u23a6\u23a0"
       ]
      }
     ],
     "prompt_number": 94
    },
    {
     "cell_type": "code",
     "collapsed": false,
     "input": [
      "#Nullspace of rows (R)\n",
      "A.nullspace()"
     ],
     "language": "python",
     "metadata": {},
     "outputs": [
      {
       "latex": [
        "$$\\left [ \\left[\\begin{matrix}-3\\\\1\\\\0\\\\0\\end{matrix}\\right], \\quad \\left[\\begin{matrix}-5\\\\0\\\\-6\\\\1\\end{matrix}\\right]\\right ]$$"
       ],
       "metadata": {},
       "output_type": "pyout",
       "png": "[encoded data removed]",
       "prompt_number": 97,
       "text": [
        "\u23a1\u23a1-3\u23a4, \u23a1-5\u23a4\u23a4\n",
        "\u23a2\u23a2  \u23a5  \u23a2  \u23a5\u23a5\n",
        "\u23a2\u23a21 \u23a5  \u23a20 \u23a5\u23a5\n",
        "\u23a2\u23a2  \u23a5  \u23a2  \u23a5\u23a5\n",
        "\u23a2\u23a20 \u23a5  \u23a2-6\u23a5\u23a5\n",
        "\u23a2\u23a2  \u23a5  \u23a2  \u23a5\u23a5\n",
        "\u23a3\u23a30 \u23a6  \u23a31 \u23a6\u23a6"
       ]
      }
     ],
     "prompt_number": 97
    },
    {
     "cell_type": "code",
     "collapsed": false,
     "input": [
      "#Nullspace of columns \n",
      "At = A.T\n",
      "At.nullspace()"
     ],
     "language": "python",
     "metadata": {},
     "outputs": [
      {
       "latex": [
        "$$\\left [ \\left[\\begin{matrix}-5\\\\0\\\\1\\end{matrix}\\right]\\right ]$$"
       ],
       "metadata": {},
       "output_type": "pyout",
       "png": "[encoded data removed]",
       "prompt_number": 99,
       "text": [
        "\u23a1\u23a1-5\u23a4\u23a4\n",
        "\u23a2\u23a2  \u23a5\u23a5\n",
        "\u23a2\u23a20 \u23a5\u23a5\n",
        "\u23a2\u23a2  \u23a5\u23a5\n",
        "\u23a3\u23a31 \u23a6\u23a6"
       ]
      }
     ],
     "prompt_number": 99
    },
    {
     "cell_type": "heading",
     "level": 2,
     "metadata": {},
     "source": [
      "5.6 Graphs and Incidence Matrices"
     ]
    },
    {
     "cell_type": "code",
     "collapsed": false,
     "input": [
      "#see page 313 for the picture of this matrix\n",
      "A = Matrix([[-1,1,0,0],[-1,0,1,0],[0,-1,1,0],[-1,0,0,1],[0,-1,0,1],[0,0,-1,1]])\n",
      "A, A.rank()"
     ],
     "language": "python",
     "metadata": {},
     "outputs": [
      {
       "latex": [
        "$$\\left ( \\left[\\begin{matrix}-1 & 1 & 0 & 0\\\\-1 & 0 & 1 & 0\\\\0 & -1 & 1 & 0\\\\-1 & 0 & 0 & 1\\\\0 & -1 & 0 & 1\\\\0 & 0 & -1 & 1\\end{matrix}\\right], \\quad 3\\right )$$"
       ],
       "metadata": {},
       "output_type": "pyout",
       "png": "[encoded data removed]",
       "prompt_number": 8,
       "text": [
        "\u239b\u23a1-1  1   0   0\u23a4, 3\u239e\n",
        "\u239c\u23a2             \u23a5   \u239f\n",
        "\u239c\u23a2-1  0   1   0\u23a5   \u239f\n",
        "\u239c\u23a2             \u23a5   \u239f\n",
        "\u239c\u23a20   -1  1   0\u23a5   \u239f\n",
        "\u239c\u23a2             \u23a5   \u239f\n",
        "\u239c\u23a2-1  0   0   1\u23a5   \u239f\n",
        "\u239c\u23a2             \u23a5   \u239f\n",
        "\u239c\u23a20   -1  0   1\u23a5   \u239f\n",
        "\u239c\u23a2             \u23a5   \u239f\n",
        "\u239d\u23a30   0   -1  1\u23a6   \u23a0"
       ]
      }
     ],
     "prompt_number": 8
    },
    {
     "cell_type": "code",
     "collapsed": false,
     "input": [
      "A.nullspace()"
     ],
     "language": "python",
     "metadata": {},
     "outputs": [
      {
       "latex": [
        "$$\\left [ \\left[\\begin{matrix}1\\\\1\\\\1\\\\1\\end{matrix}\\right]\\right ]$$"
       ],
       "metadata": {},
       "output_type": "pyout",
       "png": "[encoded data removed]",
       "prompt_number": 101,
       "text": [
        "\u23a1\u23a11\u23a4\u23a4\n",
        "\u23a2\u23a2 \u23a5\u23a5\n",
        "\u23a2\u23a21\u23a5\u23a5\n",
        "\u23a2\u23a2 \u23a5\u23a5\n",
        "\u23a2\u23a21\u23a5\u23a5\n",
        "\u23a2\u23a2 \u23a5\u23a5\n",
        "\u23a3\u23a31\u23a6\u23a6"
       ]
      }
     ],
     "prompt_number": 101
    },
    {
     "cell_type": "code",
     "collapsed": false,
     "input": [
      "A_trans = A.T\n",
      "A_trans, A_trans.nullspace()"
     ],
     "language": "python",
     "metadata": {},
     "outputs": [
      {
       "latex": [
        "$$\\left ( \\left[\\begin{matrix}-1 & -1 & 0 & -1 & 0 & 0\\\\1 & 0 & -1 & 0 & -1 & 0\\\\0 & 1 & 1 & 0 & 0 & -1\\\\0 & 0 & 0 & 1 & 1 & 1\\end{matrix}\\right], \\quad \\left [ \\left[\\begin{matrix}1\\\\-1\\\\1\\\\0\\\\0\\\\0\\end{matrix}\\right], \\quad \\left[\\begin{matrix}1\\\\0\\\\0\\\\-1\\\\1\\\\0\\end{matrix}\\right], \\quad \\left[\\begin{matrix}0\\\\1\\\\0\\\\-1\\\\0\\\\1\\end{matrix}\\right]\\right ]\\right )$$"
       ],
       "metadata": {},
       "output_type": "pyout",
       "png": "[encoded data removed]",
       "prompt_number": 111,
       "text": [
        "\u239b\u23a1-1  -1  0   -1  0   0 \u23a4, \u23a1\u23a11 \u23a4, \u23a11 \u23a4, \u23a10 \u23a4\u23a4\u239e\n",
        "\u239c\u23a2                      \u23a5  \u23a2\u23a2  \u23a5  \u23a2  \u23a5  \u23a2  \u23a5\u23a5\u239f\n",
        "\u239c\u23a21   0   -1  0   -1  0 \u23a5  \u23a2\u23a2-1\u23a5  \u23a20 \u23a5  \u23a21 \u23a5\u23a5\u239f\n",
        "\u239c\u23a2                      \u23a5  \u23a2\u23a2  \u23a5  \u23a2  \u23a5  \u23a2  \u23a5\u23a5\u239f\n",
        "\u239c\u23a20   1   1   0   0   -1\u23a5  \u23a2\u23a21 \u23a5  \u23a20 \u23a5  \u23a20 \u23a5\u23a5\u239f\n",
        "\u239c\u23a2                      \u23a5  \u23a2\u23a2  \u23a5  \u23a2  \u23a5  \u23a2  \u23a5\u23a5\u239f\n",
        "\u239c\u23a30   0   0   1   1   1 \u23a6  \u23a2\u23a20 \u23a5  \u23a2-1\u23a5  \u23a2-1\u23a5\u23a5\u239f\n",
        "\u239c                          \u23a2\u23a2  \u23a5  \u23a2  \u23a5  \u23a2  \u23a5\u23a5\u239f\n",
        "\u239c                          \u23a2\u23a20 \u23a5  \u23a21 \u23a5  \u23a20 \u23a5\u23a5\u239f\n",
        "\u239c                          \u23a2\u23a2  \u23a5  \u23a2  \u23a5  \u23a2  \u23a5\u23a5\u239f\n",
        "\u239d                          \u23a3\u23a30 \u23a6  \u23a30 \u23a6  \u23a31 \u23a6\u23a6\u23a0"
       ]
      }
     ],
     "prompt_number": 111
    },
    {
     "cell_type": "code",
     "collapsed": false,
     "input": [
      "A.rref(), A.col(A.rref()[1])"
     ],
     "language": "python",
     "metadata": {},
     "outputs": [
      {
       "latex": [
        "$$\\left ( \\left ( \\left[\\begin{matrix}1 & 0 & 0 & -1\\\\0 & 1 & 0 & -1\\\\0 & 0 & 1 & -1\\\\0 & 0 & 0 & 0\\\\0 & 0 & 0 & 0\\\\0 & 0 & 0 & 0\\end{matrix}\\right], \\quad \\left [ 0, \\quad 1, \\quad 2\\right ]\\right ), \\quad \\left[\\begin{matrix}-1 & 1 & 0\\\\-1 & 0 & 1\\\\0 & -1 & 1\\\\-1 & 0 & 0\\\\0 & -1 & 0\\\\0 & 0 & -1\\end{matrix}\\right]\\right )$$"
       ],
       "metadata": {},
       "output_type": "pyout",
       "png": "[encoded data removed]",
       "prompt_number": 108,
       "text": [
        "\u239b\u239b\u23a11  0  0  -1\u23a4, [0, 1, 2]\u239e, \u23a1-1  1   0 \u23a4\u239e\n",
        "\u239c\u239c\u23a2           \u23a5           \u239f  \u23a2          \u23a5\u239f\n",
        "\u239c\u239c\u23a20  1  0  -1\u23a5           \u239f  \u23a2-1  0   1 \u23a5\u239f\n",
        "\u239c\u239c\u23a2           \u23a5           \u239f  \u23a2          \u23a5\u239f\n",
        "\u239c\u239c\u23a20  0  1  -1\u23a5           \u239f  \u23a20   -1  1 \u23a5\u239f\n",
        "\u239c\u239c\u23a2           \u23a5           \u239f  \u23a2          \u23a5\u239f\n",
        "\u239c\u239c\u23a20  0  0  0 \u23a5           \u239f  \u23a2-1  0   0 \u23a5\u239f\n",
        "\u239c\u239c\u23a2           \u23a5           \u239f  \u23a2          \u23a5\u239f\n",
        "\u239c\u239c\u23a20  0  0  0 \u23a5           \u239f  \u23a20   -1  0 \u23a5\u239f\n",
        "\u239c\u239c\u23a2           \u23a5           \u239f  \u23a2          \u23a5\u239f\n",
        "\u239d\u239d\u23a30  0  0  0 \u23a6           \u23a0  \u23a30   0   -1\u23a6\u23a0"
       ]
      }
     ],
     "prompt_number": 108
    },
    {
     "cell_type": "code",
     "collapsed": false,
     "input": [
      "A_trans.rref(), A_trans.col(A_trans.rref()[1])"
     ],
     "language": "python",
     "metadata": {},
     "outputs": [
      {
       "latex": [
        "$$\\left ( \\left ( \\left[\\begin{matrix}1 & 0 & -1 & 0 & -1 & 0\\\\0 & 1 & 1 & 0 & 0 & -1\\\\0 & 0 & 0 & 1 & 1 & 1\\\\0 & 0 & 0 & 0 & 0 & 0\\end{matrix}\\right], \\quad \\left [ 0, \\quad 1, \\quad 3\\right ]\\right ), \\quad \\left[\\begin{matrix}-1 & -1 & -1\\\\1 & 0 & 0\\\\0 & 1 & 0\\\\0 & 0 & 1\\end{matrix}\\right]\\right )$$"
       ],
       "metadata": {},
       "output_type": "pyout",
       "png": "[encoded data removed]",
       "prompt_number": 109,
       "text": [
        "\u239b\u239b\u23a11  0  -1  0  -1  0 \u23a4, [0, 1, 3]\u239e, \u23a1-1  -1  -1\u23a4\u239e\n",
        "\u239c\u239c\u23a2                   \u23a5           \u239f  \u23a2          \u23a5\u239f\n",
        "\u239c\u239c\u23a20  1  1   0  0   -1\u23a5           \u239f  \u23a21   0   0 \u23a5\u239f\n",
        "\u239c\u239c\u23a2                   \u23a5           \u239f  \u23a2          \u23a5\u239f\n",
        "\u239c\u239c\u23a20  0  0   1  1   1 \u23a5           \u239f  \u23a20   1   0 \u23a5\u239f\n",
        "\u239c\u239c\u23a2                   \u23a5           \u239f  \u23a2          \u23a5\u239f\n",
        "\u239d\u239d\u23a30  0  0   0  0   0 \u23a6           \u23a0  \u23a30   0   1 \u23a6\u23a0"
       ]
      }
     ],
     "prompt_number": 109
    },
    {
     "cell_type": "markdown",
     "metadata": {},
     "source": [
      "Page 318 (Strang, 2014) notes the important $A^TA = Degree\\ matrix - Adjacency \\ matrix$ Laplacian. While of course one can comPute this symbolically, probably the better approach is to convert to an array and use the scipy laplacian function. The matrix must be square. http://docs.scipy.org/doc/scipy/reference/generated/scipy.sparse.csgraph.laplacian.html#scipy.sparse.csgraph.laplacian"
     ]
    },
    {
     "cell_type": "code",
     "collapsed": false,
     "input": [
      "B = Matrix([[1,0,0,-1],[0,-1,1,0],[0,0,-1,1],[1,-1,0,0]])\n",
      "B_ = np.array(B)\n",
      "B, csgraph.laplacian(B_, normed=False)"
     ],
     "language": "python",
     "metadata": {},
     "outputs": [
      {
       "metadata": {},
       "output_type": "pyout",
       "prompt_number": 13,
       "text": [
        "(Matrix([\n",
        " [1,  0,  0, -1],\n",
        " [0, -1,  1,  0],\n",
        " [0,  0, -1,  1],\n",
        " [1, -1,  0,  0]]), array([[1, 0, 0, 1],\n",
        "        [0, -1, -1, 0],\n",
        "        [0, 0, 1, -1],\n",
        "        [-1, 1, 0, 0]], dtype=object))"
       ]
      }
     ],
     "prompt_number": 13
    },
    {
     "cell_type": "code",
     "collapsed": false,
     "input": [
      "B.T*B"
     ],
     "language": "python",
     "metadata": {},
     "outputs": [
      {
       "latex": [
        "$$\\left[\\begin{matrix}2 & -1 & 0 & -1\\\\-1 & 2 & -1 & 0\\\\0 & -1 & 2 & -1\\\\-1 & 0 & -1 & 2\\end{matrix}\\right]$$"
       ],
       "metadata": {},
       "output_type": "pyout",
       "png": "[encoded data removed]",
       "prompt_number": 14,
       "text": [
        "\u23a12   -1  0   -1\u23a4\n",
        "\u23a2              \u23a5\n",
        "\u23a2-1  2   -1  0 \u23a5\n",
        "\u23a2              \u23a5\n",
        "\u23a20   -1  2   -1\u23a5\n",
        "\u23a2              \u23a5\n",
        "\u23a3-1  0   -1  2 \u23a6"
       ]
      }
     ],
     "prompt_number": 14
    },
    {
     "cell_type": "code",
     "collapsed": false,
     "input": [],
     "language": "python",
     "metadata": {},
     "outputs": []
    }
   ],
   "metadata": {}
  }
 ]
}