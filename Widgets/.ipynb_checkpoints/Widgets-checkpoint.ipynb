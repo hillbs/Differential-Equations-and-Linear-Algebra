{
 "metadata": {
  "name": "",
  "signature": "sha256:a0e18443ea85159a18078f7dfa0ccfd1a184f44da1930740cf594926690d9b7c"
 },
 "nbformat": 3,
 "nbformat_minor": 0,
 "worksheets": []
}